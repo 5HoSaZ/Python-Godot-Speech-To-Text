{
 "cells": [
  {
   "cell_type": "markdown",
   "metadata": {},
   "source": [
    "# Wav2vec model using mozilla commonvoice [EN] dataset"
   ]
  },
  {
   "cell_type": "markdown",
   "metadata": {},
   "source": [
    "### Loading data"
   ]
  },
  {
   "cell_type": "code",
   "execution_count": 1,
   "metadata": {},
   "outputs": [],
   "source": [
    "import os\n",
    "import re\n",
    "import random\n",
    "import json\n",
    "import pandas as pd\n",
    "from datasets import load_dataset\n",
    "import IPython.display as ipd\n",
    "from IPython.display import HTML"
   ]
  },
  {
   "cell_type": "markdown",
   "metadata": {},
   "source": [
    "#### Load audio dataset"
   ]
  },
  {
   "cell_type": "code",
   "execution_count": 2,
   "metadata": {},
   "outputs": [],
   "source": [
    "cv_corpus_dataset = load_dataset(\"csv\", data_files=\"../../data/cv-corpus-17.0-2024-03-15/vi/validated.tsv\", sep=\"\\t\", header=0)\n",
    "ds_train_test = cv_corpus_dataset[\"train\"].train_test_split(test_size=0.2)\n",
    "ds_train_test = ds_train_test.remove_columns(\n",
    "    [\"client_id\" ,\"up_votes\", \"down_votes\", \"age\",\n",
    "     \"gender\", \"accents\", \"variant\", \"locale\", \"segment\",\n",
    "     \"sentence_id\", \"sentence_domain\"])"
   ]
  },
  {
   "cell_type": "code",
   "execution_count": 3,
   "metadata": {},
   "outputs": [
    {
     "data": {
      "text/plain": [
       "DatasetDict({\n",
       "    train: Dataset({\n",
       "        features: ['path', 'sentence'],\n",
       "        num_rows: 4108\n",
       "    })\n",
       "    test: Dataset({\n",
       "        features: ['path', 'sentence'],\n",
       "        num_rows: 1027\n",
       "    })\n",
       "})"
      ]
     },
     "execution_count": 3,
     "metadata": {},
     "output_type": "execute_result"
    }
   ],
   "source": [
    "ds_train_test"
   ]
  },
  {
   "cell_type": "markdown",
   "metadata": {},
   "source": [
    "#### Convert text to lowercase"
   ]
  },
  {
   "cell_type": "code",
   "execution_count": 4,
   "metadata": {},
   "outputs": [
    {
     "data": {
      "text/html": [
       "<table border=\"1\" class=\"dataframe\">\n",
       "  <thead>\n",
       "    <tr style=\"text-align: right;\">\n",
       "      <th></th>\n",
       "      <th>sentence</th>\n",
       "    </tr>\n",
       "  </thead>\n",
       "  <tbody>\n",
       "    <tr>\n",
       "      <th>0</th>\n",
       "      <td>quân khốn đáng ghét</td>\n",
       "    </tr>\n",
       "    <tr>\n",
       "      <th>1</th>\n",
       "      <td>Tháng mười một lòng chợt thấy chênh chao</td>\n",
       "    </tr>\n",
       "    <tr>\n",
       "      <th>2</th>\n",
       "      <td>Sau khi tất cả những căn nhà sàn được dựng lên</td>\n",
       "    </tr>\n",
       "    <tr>\n",
       "      <th>3</th>\n",
       "      <td>mà con bé nó lại khỏe mạnh, đi lại bình thường</td>\n",
       "    </tr>\n",
       "    <tr>\n",
       "      <th>4</th>\n",
       "      <td>Để cho anh tới xóa buồn buồn đi</td>\n",
       "    </tr>\n",
       "    <tr>\n",
       "      <th>5</th>\n",
       "      <td>Tháng mười một đẹp lại duyên</td>\n",
       "    </tr>\n",
       "    <tr>\n",
       "      <th>6</th>\n",
       "      <td>Có hai hang cây</td>\n",
       "    </tr>\n",
       "    <tr>\n",
       "      <th>7</th>\n",
       "      <td>Đi lấy hàng mấy hôm cho nên đâu có biết đâu</td>\n",
       "    </tr>\n",
       "    <tr>\n",
       "      <th>8</th>\n",
       "      <td>cháu còn đến nhà chép bài vở cho thảo</td>\n",
       "    </tr>\n",
       "    <tr>\n",
       "      <th>9</th>\n",
       "      <td>Hương thơm mát rượi</td>\n",
       "    </tr>\n",
       "  </tbody>\n",
       "</table>"
      ],
      "text/plain": [
       "<IPython.core.display.HTML object>"
      ]
     },
     "metadata": {},
     "output_type": "display_data"
    }
   ],
   "source": [
    "def show_random_elements(dataset, num_examples=10):\n",
    "    assert num_examples <= len(dataset), \"Can't pick more elements than there are in the dataset.\"\n",
    "    picks = []\n",
    "    for _ in range(num_examples):\n",
    "        pick = random.randint(0, len(dataset)-1)\n",
    "        while pick in picks:\n",
    "            pick = random.randint(0, len(dataset)-1)\n",
    "        picks.append(pick)\n",
    "    \n",
    "    df = pd.DataFrame(dataset[picks])\n",
    "    ipd.display(HTML(df.to_html()))\n",
    "\n",
    "show_random_elements(ds_train_test[\"train\"].remove_columns([\"path\"]))"
   ]
  },
  {
   "cell_type": "markdown",
   "metadata": {},
   "source": [
    "#### Remove special characters"
   ]
  },
  {
   "cell_type": "code",
   "execution_count": 5,
   "metadata": {},
   "outputs": [
    {
     "data": {
      "application/vnd.jupyter.widget-view+json": {
       "model_id": "94ee436e7db84417918304fa470730c3",
       "version_major": 2,
       "version_minor": 0
      },
      "text/plain": [
       "Map:   0%|          | 0/4108 [00:00<?, ? examples/s]"
      ]
     },
     "metadata": {},
     "output_type": "display_data"
    },
    {
     "data": {
      "application/vnd.jupyter.widget-view+json": {
       "model_id": "758a4c60ad27491da55c219cbb275cfa",
       "version_major": 2,
       "version_minor": 0
      },
      "text/plain": [
       "Map:   0%|          | 0/1027 [00:00<?, ? examples/s]"
      ]
     },
     "metadata": {},
     "output_type": "display_data"
    }
   ],
   "source": [
    "chars_to_ignore_regex = r'[()“”‘’\",.;:?!‑–—_\\-\\t\\n]'\n",
    "\n",
    "def remove_special_characters(batch):\n",
    "    batch[\"sentence\"] = re.sub(chars_to_ignore_regex, '', batch[\"sentence\"]).lower()\n",
    "    return batch\n",
    "\n",
    "ds_train_test = ds_train_test.map(remove_special_characters)"
   ]
  },
  {
   "cell_type": "code",
   "execution_count": 6,
   "metadata": {},
   "outputs": [
    {
     "data": {
      "text/html": [
       "<table border=\"1\" class=\"dataframe\">\n",
       "  <thead>\n",
       "    <tr style=\"text-align: right;\">\n",
       "      <th></th>\n",
       "      <th>sentence</th>\n",
       "    </tr>\n",
       "  </thead>\n",
       "  <tbody>\n",
       "    <tr>\n",
       "      <th>0</th>\n",
       "      <td>ngày nay người người nhà nhà đem kuman về thờ</td>\n",
       "    </tr>\n",
       "    <tr>\n",
       "      <th>1</th>\n",
       "      <td>ngoài con tất cả</td>\n",
       "    </tr>\n",
       "    <tr>\n",
       "      <th>2</th>\n",
       "      <td>dứt lời quân vào trong xe rồi lái đi mất</td>\n",
       "    </tr>\n",
       "    <tr>\n",
       "      <th>3</th>\n",
       "      <td>đưa tình về cuối sông</td>\n",
       "    </tr>\n",
       "    <tr>\n",
       "      <th>4</th>\n",
       "      <td>vẫn thấy thật vui</td>\n",
       "    </tr>\n",
       "    <tr>\n",
       "      <th>5</th>\n",
       "      <td>đèn nến và tất cả mọi thứ</td>\n",
       "    </tr>\n",
       "    <tr>\n",
       "      <th>6</th>\n",
       "      <td>con đã thêm cao</td>\n",
       "    </tr>\n",
       "    <tr>\n",
       "      <th>7</th>\n",
       "      <td>tất cả đánh xe vào trong làng</td>\n",
       "    </tr>\n",
       "    <tr>\n",
       "      <th>8</th>\n",
       "      <td>mong con lớn khôn</td>\n",
       "    </tr>\n",
       "    <tr>\n",
       "      <th>9</th>\n",
       "      <td>mòn mỏi hao gầy</td>\n",
       "    </tr>\n",
       "  </tbody>\n",
       "</table>"
      ],
      "text/plain": [
       "<IPython.core.display.HTML object>"
      ]
     },
     "metadata": {},
     "output_type": "display_data"
    }
   ],
   "source": [
    "show_random_elements(ds_train_test[\"train\"].remove_columns([\"path\"]))"
   ]
  },
  {
   "cell_type": "markdown",
   "metadata": {},
   "source": [
    "#### Extract all characters"
   ]
  },
  {
   "cell_type": "code",
   "execution_count": 7,
   "metadata": {},
   "outputs": [
    {
     "data": {
      "application/vnd.jupyter.widget-view+json": {
       "model_id": "44e9c64644a748f5845e18f31f1eacb9",
       "version_major": 2,
       "version_minor": 0
      },
      "text/plain": [
       "Map:   0%|          | 0/4108 [00:00<?, ? examples/s]"
      ]
     },
     "metadata": {},
     "output_type": "display_data"
    },
    {
     "data": {
      "application/vnd.jupyter.widget-view+json": {
       "model_id": "7483241fe904422490545a7c3fde4e9b",
       "version_major": 2,
       "version_minor": 0
      },
      "text/plain": [
       "Map:   0%|          | 0/1027 [00:00<?, ? examples/s]"
      ]
     },
     "metadata": {},
     "output_type": "display_data"
    },
    {
     "name": "stdout",
     "output_type": "stream",
     "text": [
      "Number of characters: 97\n",
      "Characters: dict_keys([\"'\", 'a', 'b', 'c', 'd', 'e', 'f', 'g', 'h', 'i', 'j', 'k', 'l', 'm', 'n', 'o', 'p', 'q', 'r', 's', 't', 'u', 'v', 'w', 'x', 'y', 'z', 'à', 'á', 'â', 'ã', 'è', 'é', 'ê', 'ì', 'í', 'ò', 'ó', 'ô', 'õ', 'ù', 'ú', 'ý', 'ă', 'đ', 'ĩ', 'ũ', 'ơ', 'ư', 'ạ', 'ả', 'ấ', 'ầ', 'ẩ', 'ẫ', 'ậ', 'ắ', 'ằ', 'ẳ', 'ẵ', 'ặ', 'ẹ', 'ẻ', 'ẽ', 'ế', 'ề', 'ể', 'ễ', 'ệ', 'ỉ', 'ị', 'ọ', 'ỏ', 'ố', 'ồ', 'ổ', 'ỗ', 'ộ', 'ớ', 'ờ', 'ở', 'ỡ', 'ợ', 'ụ', 'ủ', 'ứ', 'ừ', 'ử', 'ữ', 'ự', 'ỳ', 'ỵ', 'ỷ', 'ỹ', '|', '[UNK]', '[PAD]'])\n"
     ]
    }
   ],
   "source": [
    "def extract_all_chars(batch):\n",
    "    all_text = \" \".join(batch[\"sentence\"])\n",
    "    vocab = list(set(all_text))\n",
    "    return {\"vocab\": [vocab], \"all_text\": [all_text]}\n",
    "\n",
    "\n",
    "def extract_all_chars_to_json(dataset):\n",
    "    vocabs = dataset.map(extract_all_chars, batched=True, batch_size=-1, keep_in_memory=True, remove_columns=dataset.column_names[\"train\"])\n",
    "    vocab_list = list(set(vocabs[\"train\"][\"vocab\"][0]) | set(vocabs[\"test\"][\"vocab\"][0]))\n",
    "    vocab_list.sort()\n",
    "    vocab_dict = {v: k for k, v in enumerate(vocab_list)}\n",
    "    vocab_dict[\"|\"] = vocab_dict[\" \"]\n",
    "    del vocab_dict[\" \"]\n",
    "    vocab_dict[\"[UNK]\"] = len(vocab_dict)\n",
    "    vocab_dict[\"[PAD]\"] = len(vocab_dict)\n",
    "    print(\"Number of characters:\", len(vocab_dict))\n",
    "    print(\"Characters:\", vocab_dict.keys())\n",
    "    with open(\"../../modules/models/vocabs/wav2vec_cvcorpus_vn.json\", 'w') as vocab_file:\n",
    "        json.dump(vocab_dict, vocab_file)\n",
    "\n",
    "extract_all_chars_to_json(ds_train_test)"
   ]
  },
  {
   "cell_type": "markdown",
   "metadata": {},
   "source": [
    "#### Convert file path to local absolute path"
   ]
  },
  {
   "cell_type": "code",
   "execution_count": 8,
   "metadata": {},
   "outputs": [
    {
     "data": {
      "application/vnd.jupyter.widget-view+json": {
       "model_id": "110bb0e80ce8490496f1067cbb7aadaf",
       "version_major": 2,
       "version_minor": 0
      },
      "text/plain": [
       "Map:   0%|          | 0/4108 [00:00<?, ? examples/s]"
      ]
     },
     "metadata": {},
     "output_type": "display_data"
    },
    {
     "data": {
      "application/vnd.jupyter.widget-view+json": {
       "model_id": "3b62ef40a5cf42d9bbc7780cd8ece3f7",
       "version_major": 2,
       "version_minor": 0
      },
      "text/plain": [
       "Map:   0%|          | 0/1027 [00:00<?, ? examples/s]"
      ]
     },
     "metadata": {},
     "output_type": "display_data"
    }
   ],
   "source": [
    "path_to_audio = os.path.abspath(\"../../data/cv-corpus-17.0-2024-03-15/vi/clips\")\n",
    "def abs_path_to_file(batch):\n",
    "    batch[\"path\"] = os.path.join(path_to_audio,batch[\"path\"])\n",
    "    return batch\n",
    "\n",
    "ds_train_test = ds_train_test.map(abs_path_to_file)"
   ]
  },
  {
   "cell_type": "markdown",
   "metadata": {},
   "source": [
    "### Set up processor"
   ]
  },
  {
   "cell_type": "code",
   "execution_count": 9,
   "metadata": {},
   "outputs": [],
   "source": [
    "from transformers import Wav2Vec2CTCTokenizer\n",
    "from transformers import Wav2Vec2FeatureExtractor\n",
    "from transformers import Wav2Vec2Processor"
   ]
  },
  {
   "cell_type": "markdown",
   "metadata": {},
   "source": [
    "#### Tokenizer"
   ]
  },
  {
   "cell_type": "code",
   "execution_count": 10,
   "metadata": {},
   "outputs": [],
   "source": [
    "tokenizer = Wav2Vec2CTCTokenizer(\n",
    "    \"../../modules/models/vocabs/wav2vec_cvcorpus_vn.json\",\n",
    "    unk_token=\"[UNK]\", pad_token=\"[PAD]\", word_delimiter_token=\"|\")"
   ]
  },
  {
   "cell_type": "markdown",
   "metadata": {},
   "source": [
    "#### Feature extractor"
   ]
  },
  {
   "cell_type": "code",
   "execution_count": 11,
   "metadata": {},
   "outputs": [],
   "source": [
    "feature_extractor = Wav2Vec2FeatureExtractor(\n",
    "    feature_size=1, sampling_rate=16_000, \n",
    "    padding_value=0.0, do_normalize=True, \n",
    "    return_attention_mask=False)"
   ]
  },
  {
   "cell_type": "markdown",
   "metadata": {},
   "source": [
    "#### Processor"
   ]
  },
  {
   "cell_type": "code",
   "execution_count": 12,
   "metadata": {},
   "outputs": [],
   "source": [
    "processor = Wav2Vec2Processor(\n",
    "    feature_extractor=feature_extractor, \n",
    "    tokenizer=tokenizer)"
   ]
  },
  {
   "cell_type": "markdown",
   "metadata": {},
   "source": [
    "### Audio preview"
   ]
  },
  {
   "cell_type": "code",
   "execution_count": 13,
   "metadata": {},
   "outputs": [],
   "source": [
    "import torch\n",
    "import torchaudio\n",
    "from torchaudio.functional import resample\n",
    "\n",
    "device = torch.device(\"cuda\" if torch.cuda.is_available() else \"cpu\")\n",
    "model_sample_rate = 16_000"
   ]
  },
  {
   "cell_type": "markdown",
   "metadata": {},
   "source": [
    "#### Load random audio file from dataset"
   ]
  },
  {
   "cell_type": "code",
   "execution_count": 14,
   "metadata": {},
   "outputs": [
    {
     "name": "stdout",
     "output_type": "stream",
     "text": [
      "Sentence: quân mở mắt ra mới biết mình vừa nằm mơ\n"
     ]
    },
    {
     "data": {
      "text/html": [
       "\n",
       "                <audio  controls=\"controls\" >\n",
       "                    <source src=\"data:audio/mpeg;base64,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\" type=\"audio/mpeg\" />\n",
       "                    Your browser does not support the audio element.\n",
       "                </audio>\n",
       "              "
      ],
      "text/plain": [
       "<IPython.lib.display.Audio object>"
      ]
     },
     "execution_count": 14,
     "metadata": {},
     "output_type": "execute_result"
    }
   ],
   "source": [
    "random_index = random.randint(0, len(ds_train_test[\"train\"]) - 1)\n",
    "speech_file = ds_train_test[\"train\"][\"path\"][random_index]\n",
    "print(\"Sentence:\", ds_train_test[\"train\"][\"sentence\"][random_index])\n",
    "ipd.Audio(speech_file)"
   ]
  },
  {
   "cell_type": "markdown",
   "metadata": {},
   "source": [
    "#### Resampling to match model sample rate"
   ]
  },
  {
   "cell_type": "code",
   "execution_count": 15,
   "metadata": {},
   "outputs": [
    {
     "data": {
      "text/html": [
       "\n",
       "                <audio  controls=\"controls\" >\n",
       "                    <source src=\"data:audio/wav;base64,UklGRqTPAQBXQVZFZm10IBAAAAABAAEAgD4AAAB9AAACABAAZGF0YYDPAQAAAAAAAAAAAAAAAAAAAAAAAAAAAAAAAAAAAAAAAAAAAAAAAAAAAAAAAAAAAAAAAAAAAAAAAAAAAAAAAAAAAAAAAAAAAAAAAAAAAAAAAAAAAAAAAAAAAAAAAAAAAAAAAAAAAAAAAAAAAAAAAAAAAAAAAAAAAAAAAAAAAAAAAAAAAAAAAAAAAAAAAAAAAAAAAAAAAAAAAAAAAAAAAAAAAAAAAAAAAAAAAAAAAAAAAAAAAAAAAAAAAAAAAAAAAAAAAAAAAAAAAAAAAAAAAAAAAAAAAAAAAAAAAAAAAAAAAAAAAAAAAAAAAAAAAAAAAAAAAAAAAAAAAAAAAAAAAAAAAAAAAAAAAAAAAAAAAAAAAAAAAAAAAAAAAAAAAAAAAAAAAAAAAAAAAAAAAAAAAAAAAAAAAAAAAAAAAAAAAAAAAAAAAAAAAAAAAAAAAAAAAAAAAAAAAAAAAAAAAAAAAAAAAAAAAAAAAAAAAAAAAAAAAAAAAAAAAAAAAAAAAAAAAAAAAAAAAAAAAAAAAAAAAAAAAAAAAAAAAAAAAAAAAAAAAAAAAAAAAAAAAAAAAAAAAAAAAAAAAAAAAAAAAAAAAAAAAAAAAAAAAAAAAAAAAAAAAAAAAAAAAAAAAAAAAAAAAAAAAAAAAAAAAAAAAAAAAAAAAAAAAAAAAAAAAAAAAAAAAAAAAAAAAAAAAAAAAAAAAAAAAAAAAAAAAAAAAAAAAAAAAAAAAAAAAAAAAAAAAAAAAAAAAAAAAAAAAAAAAAAAAAAAAAAAAAAAAAAAAAAAAAAAAAAAAAAAAAAAAAAAAAAAAAAAAAAAAAAAAAAAAAAAAAAAAAAAAAAAAAAAAAAAAAAAAAAAAAAAAAAAAAAAAAAAAAAAAAAAAAAAAAAAAAAAAAAAAAAAAAAAAAAAAAAAAAAAAAAAAAAAAAAAAAAAAAAAAAAAAAAAAAAAAAAAAAAAAAAAAAAAAAAAAAAAAAAAAAAAAAAAAAAAAAAAAAAAAAAAAAAAAAAAAAAAAAAAAAAAAAAAAAAAAAAAAAAAAAAAAAAAAAAAAAAAAAAAAAAAAAAAAAAAAAAAAAAAAAAAAAAAAAAAAAAAAAAAAAAAAAAAAAAAAAAAAAAAAAAAAAAAAAAAAAAAAAAAAAAAAAAAAAAAAAAAAAAAAAAAAAAAAAAAAAAAAAAAAAAAAAAAAAAAAAAAAAAAAAAAAAAAAAAAAAAAAAAAAAAAAAAAAAAAAAAAAAAAAAAAAAAAAAAAAAAAAAAAAAAAAAAAAAAAAAAAAAAAAAAAAAAAAAAAAAAAAAAAAAAAAAAAAAAAAAAAAAAAAAAAAAAAAAAAAAAAAAAAAAAAAAAAAAAAAAAAAAAAAAAAAAAAAAAAAAAAAAAAAAAAAAAAAAAAAAAAAAAAAAAAAAAAAAAAAAAAAAAAAAAAAAAAAAAAAAAAAAAAAAAAAAAAAAAAAAAAAAAAAAAAAAAAAAAAAAAAAAAAAAAAAAAAAAAAAAAAAAAAAAAAAAAAAAAAAAAAAAAAAAAAAAAAAAAAAAAAAAAAAAAAAAAAAAAAAAAAAAAAAAAAAAAAAAAAAAAAAAAAAAAAAAAAAAAAAAAAAAAAAAAAAAAAAAAAAAAAAAAAAAAAAAAAAAAAAAAAAAAAAAAAAAAAAAAAAAAAAAAAAAAAAAAAAAAAAAAAAAAAAAAAAAAAAAAAAAAAAAAAAAAAAAAAAAAAAAAAAAAAAAAAAAAAAAAAAAAAAAAAAAAAAAAAAAAAAAAAAAAAAAAAAAAAAAAAAAAAAAAAAAAAAAAAAAAAAAAAAAAAAAAAAAAAAAAAAAAAAAAAAAAAAAAAAAAAAAAAAAAAAAAAAAAAAAAAAAAAAAAAAAAAAAAAAAAAAAAAAAAAAAAAAAAAAAAAAAAAAAAAAAAAAAAAAAAAAAAAAAAAAAAAAAAAAAAAAAAAAAAAAAAAAAAAAAAAAAAAAAAAAAAAAAAAAAAAAAAAAAAAAAAAAAAAAAAAAAAAAAAAAAAAAAAAAAAAAAAAAAAAAAAAAAAAAAAAAAAAAAAAAAAAAAAAAAAAAAAAAAAAAAAAAAAAAAAAAAAAAAAAAAAAAAAAAAAAAAAAAAAAAAAAAAAAAAAAAAAAAAAAAAAAAAAAAAAAAAAAAAAAAAAAAAAAAAAAAAAAAAAAAAAAAAAAAAAAAAAAAAAAAAAAAAAAAAAAAAAAAAAAAAAAAAAAAAAAAAAAAAAAAAAAAAAAAAAAAAAAAAAAAAAAAAAAAAAAAAAAAAAAAAAAAAAAAAAAAAAAAAAAAAAAAAAAAAAAAAAAAAAAAAAAAAAAAAAAAAAAAAAAAAAAAAAAAAAAAAAAAAAAAAAAAAAAAAAAAAAAAAAAAAAAAAAAAAAAAAAAAAAAAAAAAAAAAAAAAAAAAAAAAAAAAAAAAAAAAAAAAAAAAAAAAAAAAAAAAAAAAAAAAAAAAAAAAAAAAAAAAAAAAAAAAAAAAAAAAAAAAAAAAAAAAAAAAAAAAAAAAAAAAAAAAAAAAAAAAAAAAAAAAAAAAAAAAAAAAAAAAAAAAAAAAAAAAAAAAAAAAAAAAAAAAAAAAAAAAAAAAAAAAAAAAAAAAAAAAAAAAAAAAAAAAAAAAAAAAAAAAAAAAAAAAAAAAAAAAAAAAAAAAAAAAAAAAAAAAAAAAAAAAAAAAAAAAAAAAAAAAAAAAAAAAAAAAAAAAAAAAAAAAAAAAAAAAAAAAAAAAAAAAAAAAAAAAAAAAAAAAAAAAAAAAAAAAAAAAAAAAAAAAAAAAAAAAAAAAAAAAAAAAAAAAAAAAAAAAAAAAAAAAAAAAAAAAAAAAAAAAAAAAAAAAAAAAAAAAAAAAAAAAAAAAAAAAAAAAAAAAAAAAAAAAAAAAAAAAAAAAAAAAAAAAAAAAAAAAAAAAAAAAAAAAAAAAAAAAAAAAAAAAAAAAAAAAAAAAAAAAAAAAAAAAAAAAAAAAAAAAAAAAAAAAAAAAAAAAAAAAAAAAAAAAAAAAAAAAAAAAAAAAAAAAAAAAAAAAAAAAAAAAAAAAAAAAAAAAAAAAAAAAAAAAAAAAAAAAAAAAAAAAAAAAAAAAAAAAAAAAAAAAAAAAAAAAAAAAAAAAAAAAAAAAAAAAAAAAAAAAAAAAAAAAAAAAAAAAAAAAAAAAAAAAAAAAAAAAAAAAAAAAAAAAAAAAAAAAAAAAAAAAAAAAAAAAAAAAAAAAAAAAAAAAAAAAAAAAAAAAAAAAAAAAAAAAAAAAAAAAAAAAAAAAAAAAAAAAAAAAAAAAAAAAAAAAAAAAAAAAAAAAAAAAAAAAAAAAAAAAAAAAAAAAAAAAAAAAAAAAAAAAAAAAAAAAAAAAAAAAAAAAAAAAAAAAAAAAAAAAAAAAAAAAAAAAAAAAAAAAAAAAAAAAAAAAAAAAAAAAAAAAAAAAAAAAAAAAAAAAAAAAAAAAAAAAAAAAAAAAAAAAAAAAAAAAAAAAAAAAAAAAAAAAAAAAAAAAAAAAAAAAAAAAAAAAAAAAAAAAAAAAAAAAAAAAAAAAAAAAAAAAAAAAAAAAAAAAAAAAAAAAAAAAAAAAAAAAAAAAAAAAAAAAAAAAAAAAAAAAAAAAAAAAAAAAAAAAAAAAAAAAAAAAAAAAAAAAAAAAAAAAAAAAAAAAAAAAAAAAAAAAAAAAAAAAAAAAAAAAAAAAAAAAAAAAAAAAAAAAAAAAAAAAAAAAAAAAAAAAAAAAAAAAAAAAAAAAAAAAAAAAAAAAAAAAAAAAAAAAAAAAAAAAAAAAAAAAAAAAAAAAAAAAAAAAAAAAAAAAAAAAAAAAAAAAAAAAAAAAAAAAAAAAAAAAAAAAAAAAAAAAAAAAAAAAAAAAAAAAAAAAAAAAAAAAAAAAAAAAAAAAAAAAAAAAAAAAAAAAAAAAAAAAAAAAAAAAAAAAAAAAAAAAAAAAAAAAAAAAAAAAAAAAAAAAAAAAAAAAAAAAAAAAAAAAAAAAAAAAAAAAAAAAAAAAAAAAAAAAAAAAAAAAAAAAAAAAAAAAAAAAAAAAAAAAAAAAAAAAAAAAAAAAAAAAAAAAAAAAAAAAAAAAAAAAAAAAAAAAAAAAAAAAAAAAAAAAAAAAAAAAAAAAAAAAAAAAAAAAAAAAAAAAAAAAAAAAAAAAAAAAAAAAAAAAAAAAAAAAAAAAAAAAAAAAAAAAAAAAAAAAAAAAAAAAAAAAAAAAAAAAAAAAAAAAAAAAAAAAAAAAAAAAAAAAAAAAAAAAAAAAAAAAAAAAAAAAAAAAAAAAAAAAAAAAAAAAAAAAAAAAAAAAAAAAAAAAAAAAAAAAAAAAAAAAAAAAAAAAAAAAAAAAAAAAAAAAAAAAAAAAAAAAAAAAAAAAAAAAAAAAAAAAAAAAAAAAAAAAAAAAAAAAAAAAAAAAAAAAAAAAAAAAAAAAAAAAAAAAAAAAAAAAAAAAAAAAAAAAAAAAAAAAAAAAAAAAAAAAAAAAAAAAAAAAAAAAAAAAAAAAAAAAAAAAAAAAAAAAAAAAAAAAAAAAAAAAAAAAAAAAAAAAAAAAAAAAAAAAAAAAAAAAAAAAAAAAAAAAAAAAAAAAAAAAAAAAAAAAAAAAAAAAAAAAAAAAAAAAAAAAAAAAAAAAAAAAAAAAAAAAAAAAAAAAAAAAAAAAAAAAAAAAAAAAAAAAAAAAAAAAAAAAAAAAAAAAAAAAAAAAAAAAAAAAAAAAAAAAAAAAAAAAAAAAAAAAAAAAAAAAAAAAAAAAAAAAAAAAAAAAAAAAAAAAAAAAAAAAAAAAAAAAAAAAAAAAAAAAAAAAAAAAAAAAAAAAAAAAAAAAAAAAAAAAAAAAAAAAAAAAAAAAAAAAAAAAAAAAAAAAAAAAAAAAAAAAAAAAAAAAAAAAAAAAAAAAAAAAAAAAAAAAAAAAAAAAAAAAAAAAAAAAAAAAAAAAAAAAAAAAAAAAAAAAAAAAAAAAAAAAAAAAAAAAAAAAAAAAAAAAAAAAAAAAAAAAAAAAAAAAAAAAAAAAAAAAAAAAAAAAAAAAAAAAAAAAAAAAAAAAAAAAAAAAAAAAAAAAAAAAAAAAAAAAAAAAAAAAAAAAAAAAAAAAAAAAAAAAAAAAAAAAAAAAAAAAAAAAAAAAAAAAAAAAAAAAAAAAAAAAAAAAAAAAAAAAAAAAAAAAAAAAAAAAAAAAAAAAAAAAAAAAAAAAAAAAAAAAAAAAAAAAAAAAAAAAAAAAAAAAAAAAAAAAAAAAAAAAAAAAAAAAAAAAAAAAAAAAAAAAAAAAAAAAAAAAAAAAAAAAAAAAAAAAAAAAAAAAAAAAAAAAAAAAAAAAAAAAAAAAAAAAAAAAAAAAAAAAAAAAAAAAAAAAAAAAAAAAAAAAAAAAAAAAAAAAAAAAAAAAAAAAAAAAAAAAAAAAAAAAAAAAAAAAAAAAAAAAAAAAAAAAAAAAAAAAAAAAAAAAAAAAAAAAAAAAAAAAAAAAAAAAAAAAAAAAAAAAAAAAAAAAAAAAAAAAAAAAAAAAAAAAAAAAAAAAAAAAAAAAAAAAAAAAAAAAAAAAAAAAAAAAAAAAAAAAAAAAAAAAAAAAAAAAAAAAAAAAAAAAAAAAAAAAAAAAAAAAAAAAAAAAAAAAAAAAAAAAAAAAAAAAAAAAAAAAAAAAAAAAAAAAAAAAAAAAAAAAAAAAAAAAAAAAAAAAAAAAAAAAAAAAAAAAAAAAAAAAAAAAAAAAAAAAAAAAAAAAAAAAAAAAAAAAAAAAAAAAAAAAAAAAAAAAAAAAAAAAAAAAAAAAAAAAAAAAAAAAAAAAAAAAAAAAAAAAAAAAAAAAAAAAAAAAAAAAAAAAAAAAAAAAAAAAAAAAAAAAAAAAAAAAAAAAAAAAAAAAAAAAAAAAAAAAAAAAAAAAAAAAAAAAAAAAAAAAAAAAAAAAAAAAAAAAAAAAAAAAAAAAAAAAAAAAAAAAAAAAAAAAAAAAAAAAAAAAAAAAAAAAAAAAAAAAAAAAAAAAAAAAAAAAAAAAAAAAAAAAAAAAAAAAAAAAAAAAAAAAAAAAAAAAAAAAAAAAAAAAAAAAAAAAAAAAAAAAAAAAAAAAAAAAAAAAAAAAAAAAAAAAAAAAAAAAAAAAAAAAAAAAAAAAAAAAAAAAAAAAAAAAAAAAAAAAAAAAAAAAAAAAAAAAAAAAAAAAAAAAAAAAAAAAAAAAAAAAAAAAAAAAAAAAAAAAAAAAAAAAAAAAAAAAAAAAAAAAAAAAAAAAAAAAAAAAAAAAAAAAAAAAAAAAAAAAAAAAAAAAAAAAAAAAAAAAAAAAAAAAAAAAAAAAAAAAAAAAAAAAAAAAAAAAAAAAAAAAAAAAAAAAAAAAAAAAAAAAAAAAAAAAAAAAAAAAAAAAAAAAAAAAAAAAAAAAAAAAAAAAAAAAAAAAAAAAAAAAAAAAAAAAAAAAAAAAAAAAAAAAAAAAAAAAAAAAAAAAAAAAAAAAAAAAAAAAAAAAAAAAAAAAAAAAAAAAAAAAAAAAAAAAAAAAAAAAAAAAAAAAAAAAAAAAAAAAAAAAAAAAAAAAAAAAAAAAAAAAAAAAAAAAAAAAAAAAAAAAAAAAAAAAAAAAAAAAAAAAAAAAAAAAAAAAAAAAAAAAAAAAAAAAAAAAAAAAAAAAAAAAAAAAAAAAAAAAAAAAAAAAAAAAAAAAAAAAAAAAAAAAAAAAAAAAAAAAAAAAAAAAAAAAAAAAAAAAAAAAAAAAAAAAAAAAAAAAAAAAAAAAAAAAAAAAAAAAAAAAAAAAAAAAAAAAAAAAAAAAAAAAAAAAAAAAAAAAAAAAAAAAAAAAAAAAAAAAAAAAAAAAAAAAAAAAAAAAAAAAAAAAAAAAAAAAAAAAAAAAAAAAAAAAAAAAAAAAAAAAAAAAAAAAAAAAAAAAAAAAAAAAAAAAAAAAAAAAAAAAAAAAAAAAAAAAAAAAAAAAAAAAAAAAAAAAAAAAAAAAAAAAAAAAAAAAAAAAAAAAAAAAAAAAAAAAAAAAAAAAAAAAAAAAAAAAAAAAAAAAAAAAAAAAAAAAAAAAAAAAAAAAAAAAAAAAAAAAAAAAAAAAAAAAAAAAAAAAAAAAAAAAAAAAAAAAAAAAAAAAAAAAAAAAAAAAAAAAAAAAAAAAAAAAAAAAAAAAAAAAAAAAAAAAAAAAAAAAAAAAAAAAAAAAAAAAAAAAAAAAAAAAAAAAAAAAAAAAAAAAAAAAAAAAAAAAAAAAAAAAAAAAAAAAAAAAAAAAAAAAAAAAAAAAAAAAAAAAAAAAAAAAAAAAAAAAAAAAAAAAAAAAAAAAAAAAAAAAAAAAAAAAAAAAAAAAAAAAAAAAAAAAAAAAAAAAAAAAAAAAAAAAAAAAAAAAAAAAAAAAAAAAAAAAAAAAAAAAAAAAAAAAAAAAAAAAAAAAAAAAAAAAAAAAAAAAAAAAAAAAAAAAAAAAAAAAAAAAAAAAAAAAAAAAAAAAAAAAAAAAAAAAAAAAAAAAAAAAAAAAAAAAAAAAAAAAAAAAAAAAAAAAAAAAAAAAAAAAAAAAAAAAAAAAAAAAAAAAAAAAAAAAAAAAAAAAAAAAAAAAAAAAAAAAAAAAAAAAAAAAAAAAAAAAAAAAAAAAAAAAAAAAAAAAAAAAAAAAAAAAAAAAAAAAAAAAAAAAAAAAAAAAAAAAAAAAAAAAAAAAAAAAAAAAAAAAAAAAAAAAAAAAAAAAAAAAAAAAAAAAAAAAAAAAAAAAAAAAAAAAAAAAAAAAAAAAAAAAAAAAAAAAAAAAAAAAAAAAAAAAAAAAAAAAAAAAAAAAAAAAAAAAAAAAAAAAAAAAAAAAAAAAAAAAAAAAAAAAAAAAAAAAAAAAAAAAAAAAAAAAAAAAAAAAAAAAAAAAAAAAAAAAAAAAAAAAAAAAAAAAAAAAAAAAAAAAAAAAAAAAAAAAAAAAAAAAAAAAAAAAAAAAAAAAAAAAAAAAAAAAAAAAAAAAAAAAAAAAAAAAAAAAAAAAAAAAAAAAAAAAAAAAAAAAAAAAAAAAAAAAAAAAAAAAAAAAAAAAAAAAAAAAAAAAAAAAAAAAAAAAAAAAAAAAAAAAAAAAAAAAAAAAAAAAAAAAAAAAAAAAAAAAAAAAAAAAAAAAAAAAAAAAAAAAAAAAAAAAAAAAAAAAAAAAAAAAAAAAAAAAAAAAAAAAAAAAAAAAAAAAAAAAAAAAAAAAAAAAAAAAAAAAAAAAAAAAAAAAAAAAAAAAAAAAAAAAAAAAAAAAAAAAAAAAAAAAAAAAAAAAAAAAAAAAAAAAAAAAAAAAAAAAAAAAAAAAAAAAAAAAAAAAAAAAAAAAAAAAAAAAAAAAAAAAAAAAAAAAAAAAAAAAAAAAAAAAAAAAAAAAAAAAAAAAAAAAAAAAAAAAAAAAAAAAAAAAAAAAAAAAAAAAAAAAAAAAAAAAAAAAAAAAAAAAAAAAAAAAAAAAAAAAAAAAAAAAAAAAAAAAAAAAAAAAAAAAAAAAAAAAAAAAAAAAAAAAAAAAAAAAAAAAAAAAAAAAAAAAAAAAAAAAAAAAAAAAAAAAAAAAAAAAAAAAAAAAAAAAAAAAAAAAAAAAAAAAAAAAAAAAAAAAAAAAAAAAAAAAAAAAAAAAAAAAAAAAAAAAAAAAAAAAAAAAAAAAAAAAAAAAAAAAAAAAAAAAAAAAAAAAAAAAAAAAAAAAAAAAAAAAAAAAAAAAAAAAAAAAAAAAAAAAAAAAAAAAAAAAAAAAAAAAAAAAAAAAAAAAAAAAAAAAAAAAAAAAAAAAAAAAAAAAAAAAAAAAAAAAAAAAAAAAAAAAAAAAAAAAAAAAAAAAAAAAAAAAAAAAAAAAAAAAAAAAAAAAAAAAAAAAAAAAAAAAAAAAAAAAAAAAAAAAAAAAAAAAAAAAAAAAAAAAAAAAAAAAAAAAAAAAAAAAAAAAAAAAAAAAAAAAAAAAAAAAAAAAAAAAAAAAAAAAAAAAAAAAAAAAAAAAAAAAAAAAAAAAAAAAAAAAAAAAAAAAAAAAAAAAAAAAAAAAAAAAAAAAAAAAAAAAAAAAAAAAAAAAAAAAAAAAAAAAAAAAAAAAAAAAAAAAAAAAAAAAAAAAAAAAAAAAAAAAAAAAAAAAAAAAAAAAAAAAAAAAAAAAAAAAAAAAAAAAAAAAAAAAAAAAAAAAAAAAAAAAAAAAAAAAAAAAAAAAAAAAAAAAAAAAAAAAAAAAAAAAAAAAAAAAAAAAAAAAAAAAAAAAAAAAAAAAAAAAAAAAAAAAAAAAAAAAAAAAAAAAAAAAAAAAAAAAAAAAAAAAAAAAAAAAAAAAAAAAAAAAAAAAAAAAAAAAAAAAAAAAAAAAAAAAAAAAAAAAAAAAAAAAAAAAAAAAAAAAAAAAAAAAAAAAAAAAAAAAAAAAAAAAAAAAAAAAAAAAAAAAAAAAAAAAAAAAAAAAAAAAAAAAAAAAAAAAAAAAAAAAAAAAAAAAAAAAAAAAAAAAAAAAAAAAAAAAAAAAAAAAAAAAAAAAAAAAAAAAAAAAAAAAAAAAAAAAAAAAAAAAAAAAAAAAAAAAAAAAAAAAAAAAAAAAAAAAAAAAAAAAAAAAAAAAAAAAAAAAAAAAAAAAAAAAAAAAAAAAAAAAAAAAAAAAAAAAAAAAAAAAAAAAAAAAAAAAAAAAAAAAAAAAAAAAAAAAAAAAAAAAAAAAAAAAAAAAAAAAAAAAAAAAAAAAAAAAAAAAAAAAAAAAAAAAAAAAAAAAAAAAAAAAAAAAAAAAAAAAAAAAAAAAAAAAAAAAAAAAAAAAAAAAAAAAAAAAAAAAAAAAAAAAAAAAAAAAAAAAAAAAAAAAAAAAAAAAAAAAAAAAAAAAAAAAAAAAAAAAAAAAAAAAAAAAAAAAAAAAAAAAAAAAAAAAAAAAAAAAAAAAAAAAAAAAAAAAAAAAAAAAAAAAAAAAAAAAAAAAAAAAAAAAAAAAAAAAAAAAAAAAAAAAAAAAAAAAAAAAAAAAAAAAAAAAAAAAAAAAAAAAAAAAAAAAAAAAAAAAAAAAAAAAAAAAAAAAAAAAAAAAAAAAAAAAAAAAAAAAAAAAAAAAAAAAAAAAAAAAAAAAAAAAAAAAAAAAAAAAAAAAAAAAAAAAAAAAAAAAAAAAAAAAAAAAAAAAAAAAAAAAAAAAAAAAAAAAAAAAAAAAAAAAAAAAAAAAAAAAAAAAAAAAAAAAAAAAAAAAAAAAAAAAAAAAAAAAAAAAAAAAAAAAAAAAAAAAAAAAAAAAAAAAAAAAAAAAAAAAAAAAAAAAAAAAAAAAAAAAAAAAAAAAAAAAAAAAAAAAAAAAAAAAAAAAAAAAAAAAAAAAAAAAAAAAAAAAAAAAAAAAAAAAAAAAAAAAAAAAAAAAAAAAAAAAAAAAAAAAAAAAAAAAAAAAAAAAAAAAAAAAAAAAAAAAAAAAAAAAAAAAAAAAAAAAAAAAAAAAAAAAAAAAAAAAAAAAAAAAAAAAAAAAAAAAAAAAAAAAAAAAAAAAAAAAAAAAAAAAAAAAAAAAAAAAAAAAAAAAAAAAAAAAAAAAAAAAAAAAAAAAAAAAAAAAAAAAAAAAAAAAAAAAAAAAAAAAAAAAAAAAAAAAAAAAAAAAAAAAAAAAAAAAAAAAAAAAAAAAAAAAAAAAAAAAAAAAAAAAAAAAAAAAAAAAAAAAAAAAAAAAAAAAAAAAAAAAAAAAAAAAAAAAAAAAAAAAAAAAAAAAAAAAAAAAAAAAAAAAAAAAAAAAAAAAAAAAAAAAAAAAAAAAAAAAAAAAAAAAAAAAAAAAAAAAAAAAAAAAAAAAAAAAAAAAAAAAAAAAAAAAAAAAAAAAAAAAAAAAAAAAAAAAAAAAAAAAAAAAAAAAAAAAAAAAAAAAAAAAAAAAAAAAAAAAAAAAAAAAAAAAAAAAAAAAAAAAAAAAAAAAAAAAAAAAAAAAAAAAAAAAAAAAAAAAAAAAAAAAAAAAAAAAAAAAAAAAAAAAAAAAAAAAAAAAAAAAAAAAAAAAAAAAAAAAAAAAAAAAAAAAAAAAAAAAAAAAAAAAAAAAAAAAAAAAAAAAAAAAAAAAAAAAAAAAAAAAAAAAAAAAAAAAAAAAAAAAAAAAAAAAAAAAAAAAAAAAAAAAAAAAAAAAAAAAAAAAAAAAAAAAAAAAAAAAAAAAAAAAAAAAAAAAAAAAAAAAAAAAAAAAAAAAAAAAAAAAAAAAAAAAAAAAAAAAAAAAAAAAAAAAAAAAAAAAAAAAAAAAAAAAAAAAAAAAAAAAAAAAAAAAAAAAAAAAAAAAAAAAAAAAAAAAAAAAAAAAAAAAAAAAAAAAAAAAAAAAAAAAAAAAAAAAAAAAAAAAAAAAAAAAAAAAAAAAAAAAAAAAAAAAAAAAAAAAAAAAAAAAAAAAAAAAAAAAAAAAAAAAAAAAAAAAAAAAAAAAAAAAAAAAAAAAAAAAAAAAAAAAAAAAAAAAAAAAAAAAAAAAAAAAAAAAAAAAAAAAAAAAAAAAAAAAAAAAAAAAAAAAAAAAAAAAAAAAAAAAAAAAAAAAAAAAAAAAAAAAAAAAAAAAAAAAAAAAAAAAAAAAAAAAAAAAAAAAAAAAAAAAAAAAAAAAAAAAAAAAAAAAAAAAAAAAAAAAAAAAAAAAAAAAAAAAAAAAAAAAAAAAAAAAAAAAAAAAAAAAAAAAAAAAAAAAAAAAAAAAAAAAAAAAAAAAAAAAAAAAAAAAAAAAAAAAAAAAAAAAAAAAAAAAAAAAAAAAAAAAAAAAAAAAAAAAAAAAAAAAAAAAAAAAAAAAAAAAAAAAAAAAAAAAAAAAAAAAAAAAAAAAAAAAAAAAAAAAAAAAAAAAAAAAAAAAAAAAAAAAAAAAAAAAAAAAAAAAAAAAAAAAAAAAAAAAAAAAAAAAAAAAAAAAAAAAAAAAAAAAAAAAAAAAAAAAAAAAAAAAAAAAAAAAAAAAAAAAAAAAAAAAAAAAAAAAAAAAAAAAAAAAAAAAAAAAAAAAAAAAAAAAAAAAAAAAAAAAAAAAAAAAAAAAAAAAAAAAAAAAAAAAAAAAAAAAAAAAAAAAAAAAAAAAAAAAAAAAAAAAAAAAAAAAAAAAAAAAAAAAAAAAAAAAAAAAAAAAAAAAAAAAAAAAAAAAAAAAAAAAAAAAAAAAAAAAAAAAAAAAAAAAAAAAAAAAAAAAAAAAAAAAAAAAAAAAAAAAAAAAAAAAAAAAAAAAAAAAAAAAAAAAAAAAAAAAAAAAAAAAAAAAAAAAAAAAAAAAAAAAAAAAAAAAAAAAAAAAAAAAAAAAAAAAAAAAAAAAAAAAAAAAAAAAAAAAAAAAAAAAAAAAAAAAAAAAAAAAAAAAAAAAAAAAAAAAAAAAAAAAAAAAAAAAAAAAAAAAAAAAAAAAAAAAAAAAAAAAAAAAAAAAAAAAAAAAAAAAAAAAAAAAAAAAAAAAAAAAAAAAAAAAAAAAAAAAAAAAAAAAAAAAAAAAAAAAAAAAAAAAAAAAAAAAAAAAAAAAAAAAAAAAAAAAAAAAAAAAAAAAAAAAAAAAAAAAAAAAAAAAAAAAAAAAAAAAAAAAAAAAAAAAAAAAAAAAAAAAAAAAAAAAAAAAAAAAAAAAAAAAAAAAAAAAAAAAAAAAAAAAAAAAAAAAAAAAAAAAAAAAAAAAAAAAAAAAAAAAAAAAAAAAAAAAAAAAAAAAAAAAAAAAAAAAAAAAAAAAAAAAAAAAAAAAAAAAAAAAAAAAAAAAAAAAAAAAAAAAAAAAAAAAAAAAAAAAAAAAAAAAAAAAAAAAAAAAAAAAAAAAAAAAAAAAAAAAAAAAAAAAAAAAAAAAAAAAAAAAAAAAAAAAAAAAAAAAAAAAAAAAAAAAAAAAAAAAAAAAAAAAAAAAAAAAAAAAAAAAAAAAAAAAAAAAAAAAAAAAAAAAAAAAAAAAAAAAAAAAAAAAAAAAAAAAAAAAAAAAAAAAAAAAAAAAAAAAAAAAAAAAAAAAAAAAAAAAAAAAAAAAAAAAAAAAAAAAAAAAAAAAAAAAAAAAAAAAAAAAAAAAAAAAAAAAAAAAAAAAAAAAAAAAAAAAAAAAAAAAAAAAAAAAAAAAAAAAAAAAAAAAAAAAAAAAAAAAAAAAAAAAAAAAAAAAAAAAAAAAAAAAAAAAAAAAAAAAAAAAAAAAAAAAAAAAAAAAAAAAAAAAAAAAAAAAAAAAAAAAAAAAAAAAAAAAAAAAAAAAAAAAAAAAAAAAAAAAAAAAAAAAAAAAAAAAAAAAAAAAAAAAAAAAAAAAAAAAAAAAAAAAAAAAAAAAAAAAAAAAAAAAAAAAAAAAAAAAAAAAAAAAAAAAAAAAAAAAAAAAAAAAAAAAAAAAAAAAAAAAAAAAAAAAAAAAAAAAAAAAAAAAAAAAAAAAAAAAAAAAAAAAAAAAAAAAAAAAAAAAAAAAAAAAAAAAAAAAAAAAAAAAAAAAAAAAAAAAAAAAAAAAAAAAAAAAAAAAAAAAAAAAAAAAAAAAAAAAAAAAAAAAAAAAAAAAAAAAAAAAAAAAAAAAAAAAAAAAAAAAAAAAAAAAAAAAAAAAAAAAAAAAAAAAAAAAAAAAAAAAAAAAAAAAAAAAAAAAAAAAAAAAAAAAAAAAAAAAAAAAAAAAAAAAAAAAAAAAAAAAAAAAAAAAAAAAAAAAAAAAAAAAAAAAAAAAAAAAAAAAAAAAAAAAAAAAAAAAAAAAAAAAAAAAAAAAAAAAAAAAAAAAAAAAAAAAAAAAAAAAAAAAAAAAAAAAAAAAAAAAAAAAAAAAAAAAAAAAAAAAAAAAAAAAAAAAAAAAAAAAAAAAAAAAAAAAAAAAAAAAAAAAAAAAAAAAAAAAAAAAAAAAAAAAAAAAAAAAAAAAAAAAAAAAAAAAAAAAAAAAAAAAAAAAAAAAAAAAAAAAAAAAAAAAAAAAAAAAAAAAAAAAAAAAAAAAAAAAAAAAAAAAAAAAAAAAAAAAAAAAAAAAAAAAAAAAAAAAAAAAAAAAAAAAAAAAAAAAAAAAAAAAAAAAAAAAAAAAAAAAAAAAAAAAAAAAAAAAAAAAAAAAAAAAAAAAAAAAAAAAAAAAAAAAAAAAAAAAAAAAAAAAAAAAAAAAAAAAAAAAAAAAAAAAAAAAAAAAAAAAAAAAAAAAAAAAAAAAAAAAAAAAAAAAAAAAAAAAAAAAAAAAAAAAAAAAAAAAAAAAAAAAAAAAAAAAAAAAAAAAAAAAAAAAAAAAAAAAAAAAAAAAAAAAAAAAAAAAAAAAAAAAAAAAAAAAAAAAAAAAAAAAAAAAAAAAAAAAAAAAAAAAAAAAAAAAAAAAAAAAAAAAAAAAAAAAAAAAAAAAAAAAAAAAAAAAAAAAAAAAAAAAAAAAAAAAAAAAAAAAAAAAAAAAAAAAAAAAAAAAAAAAAAAAAAAAAAAAAAAAAAAAAAAAAAAAAAAAAAAAAAAAAAAAAAAAAAAAAAAAAAAAAAAAAAAAAAAAAAAAAAAAAAAAAAAAAAAAAAAAAAAAAAAAAAAAAAAAAAAAAAAAAAAAAAAAAAAAAAAAAAAAAAAAAAAAAAAAAAAAAAAAAAAAAAAAAAAAAAAAAAAAAAAAAAAAAAAAAAAAAAAAAAAAAAAAAAAAAAAAAAAAAAAAAAAAAAAAAAAAAAAAAAAAAAAAAAAAAAAAAAAAAAAAAAAAAAAAAAAAAAAAAAAAAAAAAAAAAAAAAAAAAAAAAAAAAAAAAAAAAAAAAAAAAAAAAAAAAAAAAAAAAAAAAAAAAAAAAAAAAAAAAAAAAAAAAAAAAAAAAAAAAAAAAAAAAAAAAAAAAAAAAAAAAAAAAAAAAAAAAAAAAAAAAAAAAAAAAAAAAAAAAAAAAAAAAAAAAAAAAAAAAAAAAAAAAAAAAAAAAAAAAAAAAAAAAAAAAAAAAAAAAAAAAAAAAAAAAAAAAAAAAAAAAAAAAAAAAAAAAAAAAAAAAAAAAAAAAAAAAAAAAAAAAAAAAAAAAAAAAAAAAAAAAAAAAAAAAAAAAAAAAAAAAAAAAAAAAAAAAAAAAAAAAAAAAAAAAAAAAAAAAAAAAAAAAAAAAAAAAAAAAAAAAAAAAAAAAAAAAAAAAAAAAAAAAAAAAAAAAAAAAAAAAAAAAAAAAAAAAAAAAAAAAAAAAAAAAAAAAAAAAAAAAAAAAAAAAAAAAAAAAAAAAAAAAAAAAAAAAAAAAAAAAAAAAAAAAAAAAAAAAAAAAAAAAAAAAAAAAAAAAAAAAAAAAAAAAAAAAAAAAAAAAAAAAAAAAAAAAAAAAAAAAAAAAAAAAAAAAAAAAAAAAAAAAAAAAAAAAAAAAAAAAAAAAAAAAAAAAAAAAAAAAAAAAAAAAAAAAAAAAAAAAAAAAAAAAAAAAAAAAAAAAAAAAAAAAAAAAAAAAAAAAAAAAAAAAAAAAAAAAAAAAAAAAAAAAAAAAAAAAAAAAAAAAAAAAAAAAAAAAAAAAAAAAAAAAAAAAAAAAAAAAAAAAAAAAAAAAAAAAAAAAAAAAAAAAAAAAAAAAAAAAAAAAAAAAAAAAAAAAAAAAAAAAAAAAAAAAAAAAAAAAAAAAAAAAAAAAAAAAAAAAAAAAAAAAAAAAAAAAAAAAAAAAAAAAAAAAAAAAAAAAAAAAAAAAAAAAAAAAAAAAAAAAAAAAAAAAAAAAAAAAAAAAAAAAAAAAAAAAAAAAAAAAAAAAAAAAAAAAAAAAAAAAAAAAAAAAAAAAAAAAAAAAAAAAAAAAAAAAAAAAAAAAAAAAAAAAAAAAAAAAAAAAAAAAAAAAAAAAAAAAAAAAAAAAAAAAAAAAAAAAAAAAAAAAAAAAAAAAAAAAAAAAAAAAAAAAAAAAAAAAAAAAAAAAAAAAAAAAAAAAAAAAAAAAAAAAAAAAAAAAAAAAAAAAAAAAAAAAAAAAAAAAAAAAAAAAAAAAAAAAAAAAAAAAAAAAAAAAAAAAAAAAAAAAAAAAAAAAAAAAAAAAAAAAAAAAAAAAAAAAAAAAAAAAAAAAAAAAAAAAAAAAAAAAAAAAAAAAAAAAAAAAAAAAAAAAAAAAAAAAAAAAAAAAAAAAAAAAAAAAAAAAAAAAAAAAAAAAAAAAAAAAAAAAAAAAAAAAAAAAAAAAAAAAAAAAAAAAAAAAAAAAAAAAAAAAAAAAAAAAAAAAAAAAAAAAAAAAAAAAAAAAAAAAAAAAAAAAAAAAAAAAAAAAAAAAAAAAAAAAAAAAAAAAAAAAAAAAAAAAAAAAAAAAAAAAAAAAAAAAAAAAAAAAAAAAAAAAAAAAAAAAAAAAAAAAAAAAAAAAAAAAAAAAAAAAAAAAAAAAAAAAAAAAAAAAAAAAAAAAAAAAAAAAAAAAAAAAAAAAAAAAAAAAAAAAAAAAAAAAAAAAAAAAAAAAAAAAAAAAAAAAAAAAAAAAAAAAAAAAAAAAAAAAAAAAAAAAAAAAAAAAAAAAAAAAAAAAAAAAAAAAAAAAAAAAAAAAAAAAAAAAAAAAAAAAAAAAAAAAAAAAAAAAAAAAAAAAAAAAAAAAAAAAAAAAAAAAAAAAAAAAAAAAAAAAAAAAAAAAAAAAAAAAAAAAAAAAAAAAAAAAAAAAAAAAAAAAAAAAAAAAAAAAAAAAAAAAAAAAAAAAAAAAAAAAAAAAAAAAAAAAAAAAAAAAAAAAAAAAAAAAAAAAAAAAAAAAAAAAAAAAAAAAAAAAAAAAAAAAAAAAAAAAAAAAAAAAAAAAAAAAAAAAAAAAAAAAAAAAAAAAAAAAAAAAAAAAAAAAAAAAAAAAAAAAAAAAAAAAAAAAAAAAAAAAAAAAAAAAAAAAAAAAAAAAAAAAAAAAAAAAAAAAAAAAAAAAAAAAAAAAAAAAAAAAAAAAAAAAAAAAAAAAAAAAAAAAAAAAAAAAAAAAAAAAAAAAAAAAAAAAAAAAAAAAAAAAAAAAAAAAAAAAAAAAAAAAAAAAAAAAAAAAAAAAAAAAAAAAAAAAAAAAAAAAAAAAAAAAAAAAAAAAAAAAAAAAAAAAAAAAAAAAAAAAAAAAAAAAAAAAAAAAAAAAAAAAAAAAAAAAAAAAAAAAAAAAAAAAAAAAAAAAAAAAAAAAAAAAAAAAAAAAAAAAAAAAAAAAAAAAAAAAAAAAAAAAAAAAAAAAAAAAAAAAAAAAAAAAAAAAAAAAAAAAAAAAAAAAAAAAAAAAAAAAAAAAAAAAAAAAAAAAAAAAAAAAAAAAAAAAAAAAAAAAAAAAAAAAAAAAAAAAAAAAAAAAAAAAAAAAAAAAAAAAAAAAAAAAAAAAAAAAAAAAAAAAAAAAAAAAAAAAAAAAAAAAAAAAAAAAAAAAAAAAAAAAAAAAAAAAAAAAAAAAAAAAAAAAAAAAAAAAAAAAAAAAAAAAAAAAAAAAAAAAAAAAAAAAAAAAAAAAAAAAAAAAAAAAAAAAAAAAAAAAAAAAAAAAAAAAAAAAAAAAAAAAAAAAAAAAAAAAAAAAAAAAAAAAAAAAAAAAAAAAAAAAAAAAAAAAAAAAAAAAAAAAAAAAAAAAAAAAAAAAAAAAAAAAAAAAAAAAAAAAAAAAAAAAAAAAAAAAAAAAAAAAAAAAAAAAAAAAAAAAAAAAAAAAAAAAAAAAAAAAAAAAAAAAAAAAAAAAAAAAAAAAAAAAAAAAAAAAAAAAAAAAAAAAAAAAAAAAAAAAAAAAAAAAAAAAAAAAAAAAAAAAAAAAAAAAAAAAAAAAAAAAAAAAAAAAAAAAAAAAAAAAAAAAAAAAAAAAAAAAAAAAAAAAAAAAAAAAAAAAAAAAAAAAAAAAAAAAAAAAAAAAAAAAAAAAAAAAAAAAAAAAAAAAAAAAAAAAAAAAAAAAAAAAAAAAAAAAAAAAAAAAAAAAAAAAAAAAAAAAAAAAAAAAAAAAAAAAAAAAAAAAAAAAAAAAAAAAAAAAAAAAAAAAAAAAAAAAAAAAAAAAAAAAAAAAAAAAAAAAAAAAAAAAAAAAAAAAAAAAAAAAAAAAAAAAAAAAAAAAAAAAAAAAAAAAAAAAAAAAAAAAAAAAAAAAAAAAAAAAAAAAAAAAAAAAAAAAAAAAAAAAAAAAAAAAAAAAAAAAAAAAAAAAAAAAAAAAAAAAAAAAAAAAAAAAAAAAAAAAAAAAAAAAAAAAAAAAAAAAAAAAAAAAAAAAAAAAAAAAAAAAAAAAAAAAAAAAAAAAAAAAAAAAAAAAAAAAAAAAAAAAAAAAAAAAAAAAAAAAAAAAAAAAAAAAAAAAAAAAAAAAAAAAAAAAAAAAAAAAAAAAAAAAAAAAAAAAAAAAAAAAAAAAAAAAAAAAAAAAAAAAAAAAAAAAAAAAAAAAAAAAAAAAAAAAAAAAAAAAAAAAAAAAAAAAAAAAAAAAAAAAAAAAAAAAAAAAAAAAAAAAAAAAAAAAAAAAAAAAAAAAAAAAAAAAAAAAAAAAAAAAAAAAAAAAAAAAAAAAAAAAAAAAAAAAAAAAAAAAAAAAAAAAAAAAAAAAAAAAAAAAAAAAAAAAAAAAAAAAAAAAAAAAAAAAAAAAAAAAAAAAAAAAAAAAAAAAAAAAAAAAAAAAAAAAAAAAAAAAAAAAAAAAAAAAAAAAAAAAAAAAAAAAAAAAAAAAAAAAAAAAAAAAAAAAAAAAAAAAAAAAAAAAAAAAAAAAAAAAAAAAAAAAAAAAAAAAAAAAAAAAAAAAAAAAAAAAAAAAAAAAAAAAAAAAAAAAAAAAAAAAAAAAAAAAAAAAAAAAAAAAAAAAAAAAAAAAAAAAAAAAAAAAAAAAAAAAAAAAAAAAAAAAAAAAAAAAAAAAAAAAAAAAAAAAAAAAAAAAAAAAAAAAAAAAAAAAAAAAAAAAAAAAAAAAAAAAAAAAAAAAAAAAAAAAAAAAAAAAAAAAAAAAAAAAAAAAAAAAAAAAAAAAAAAAAAAAAAAAAAAAAAAAAAAAAAAAAAAAAAAAAAAAAAAAAAAAAAAAAAAAAAAAAAAAAAAAAAAAAAAAAAAAAAAAAAAAAAAAAAAAAAAAAAAAAAAAAAAAAAAAAAAAAAAAAAAAAAAAAAAAAAAAAAAAAAAAAAAAAAAAAAAAAAAAAAAAAAAAAAAAAAAAAAAAAAAAAAAAAAAAAAAAAAAAAAAAAAAAAAAAAAAAAAAAAAAAAAAAAAAAAAAAAAAAAAAAAAAAAAAAAAAAAAAAAAAAAAAAAAAAAAAAAAAAAAAAAAAAAAAAAAAAAAAAAAAAAAAAAAAAAAAAAAAAAAAAAAAAAAAAAAAAAAAAAAAAAAAAAAAAAAAAAAAAAAAAAA/////wAAAAAAAAAAAAAAAAAAAAAAAAAAAAAAAAAAAAAAAAAAAAAAAAAAAAAAAAAAAAAAAAAAAAAAAAAAAAAAAAAAAAAAAAAAAAAAAAAAAAAAAAAAAAAAAAAAAAAAAAAAAAAAAAAAAAAAAAAAAAAAAAAAAAAAAAAAAAAAAAAAAAAAAAAAAAAAAAAAAAAAAAAAAAAAAAAAAAAAAAAAAAAAAAAAAAAAAAAAAAAAAAAAAAAAAAAAAAAAAAAAAAAAAAAAAAAAAAAAAAAAAAAAAAAAAAAAAAAAAAAAAAAAAAAAAAAAAAAAAAAAAAAAAAAAAAAAAAAAAAAAAAAAAAAAAAAAAAAAAAAAAAAAAAAAAAAAAAAAAAAAAAAAAAAAAAAAAAAAAAAAAAAAAAAAAAAAAAAAAAAAAAAAAAAAAAAAAAAAAAAAAAAAAAAAAAAAAAAAAAAAAAAAAAAAAAAAAAAAAAAAAAAAAAAAAAAAAAAAAAAAAAAAAAAAAAAAAAAAAAAAAAAAAAAAAAAAAAAAAAAAAAAAAAAAAAAAAAAAAAAAAAAAAAAAAAAAAAAAAAAAAAAAAAAAAAAAAAAAAAAAAAAAAAAAAAAAAAAAAAAAAAAAAAAAAAAAAAAAAAAAAAAAAAAAAAAAAAAAAAAAAAAAAAAAAAAAAAAAAAAAAAAAAAAAAAAAAAAAAAAAAAAAAAAAAAAAAAAAAAAAAAAAAAAAAAAAAAAAAAAAAAAAAAAAAAAAAAAAAAAAAAAAAAAAAAAAAAAAAAAAAAAAAAAAAAAAAAAAAAAAAAAAAAAAAAAAAAAAAAAAAAAAAAAAAAAAAAAAAAAAAAAAAAAAAAAAAAAAAAAAAAAAAAAAAAAAAAAAAAAAAAAAAAAAAAAAAAAAAAAAAAAAAAAAAAAAAAAAAAAAAAAAAAAAAAAAAAAAAAAAAAAAAAAAAAAAAAAAAAAAAAAAAAAAAAAAAAAAAAAAAAAAAAAAAAAAAAAAAAAAAAAAAAAAAAAAAAAAAAAAAAAAAAAAAAAAAAAAAAAAAAAAAAAAAAAAAAAAAAAAAAAAAAAAAAAAAAAAAAAAAAAAAAAAAAAAAAAAAAAAAAAAAAAAAAAAAAAAAAAAAAAAAAAAAAAAAAAAAAAAAAAAAAAAAAAAAAAAAAAAAAAAAAAAAAAAAAAAAAAAAAAAAAAAAAAAAAAAAAAAAAAAAAAAAAAAAAAAAAAAAAAAAAAAAAAAAAAAAAAAAAAAAAAAAAAAAAAAAAAAAAAAAAAAAAAAAP//AAAAAAAAAAAAAAAAAAAAAAAAAAAAAAAAAAAAAAAAAAAAAAAAAAAAAAAAAAAAAAAAAAAAAAAAAAAAAAAAAAAAAAAAAAAAAAAAAAAAAAAAAAAAAAAAAAAAAAAAAAAAAAAAAAAAAAAAAAAAAAAAAAAAAAAAAAAAAAAAAAAAAAAAAAAAAAAAAAAAAAAAAAAAAAAAAAAAAAAAAAAAAAAAAAAAAAAAAAAAAAAAAAAAAAAAAAAAAAAAAAAAAAAAAAAAAAAAAAAAAAAAAAAAAAAAAAAAAAAAAAAAAAAAAAAAAAAAAAAAAAAAAAAAAAAAAAAAAAAAAAAAAAAAAAAAAAAAAAAAAAAAAAAAAAAAAAAAAAAAAAAAAAAAAAAAAAAAAAAAAAAAAAAAAAAAAAAAAAAAAAAAAAAAAAAAAAAAAAAAAAAAAAAAAAAAAAAAAAAAAAAAAAAAAAAAAAAAAAAAAAAAAAAAAAAAAAAAAAAAAAAAAAAAAAAAAAAAAAAAAAAAAAAAAAAAAAAAAAAAAAAAAAAAAAAAAAAAAAAAAAAAAAAAAAAAAAAAAAAAAAAAAAAAAAAAAAAAAAAAAAAAAAAAAAAAAAAAAAAAAAAAAAAAAAAAAAAAAAAAAAAAAAAAAAAAAAAAAAAAAAAAAAAAAAAAAAAAAAAAAAAAAAAAAAAAAAAAAAAAAAAAAAAAAAAAAAAAAAAAAAAAAAAAAAAAAAAAAAAAAAAAAAAAAAAAAAAAAAAAAAAAAAAAAAAAAAAAAAAAAAAAAAAAAAAAAAAAAAAAAAAAAAAAAAAAAAAAAAAAAAAAAAAAAAAAAAAAAAAAAAAAAAAAAAAAAAAAAAAAAAAAAAAAAAAAAAAAAAAAAAAAAAAAAAAAAAAAAAAAAAAAAAAAAAAAAAAAAAAAAAAAAAAAAAAAAAAAAAAAAAAAAAAAAAAAAAAAAAAAAAAAAAAAAAAAAAAAAAAAAAAAAAAAAAAAAAAAAAAAAAAAAAAAAAAAAAAAAAAAAAAAAAAAAAAAAAAAAAAAAAAAAAAAAAAAAAAAAAAAAAAAAAAAAAAAAAAAAAAAAAAAAAAAAAAAAAAAAAAAAAAAAAAAAAAAAAAAAAAAAAAAAAAAAAAAAAAAAAAAAAAAAAAAAAAAAAAAAAAAAAAAAAAAAAAAAAAAAAAAAAAAAAAAAAAAAAAAAAAAAAAAAAAAAAAAAAAAAAAAAAAAAAAAAAAAAAAAAAAAAAAAAAAAAAAAAAAAAAAAAAAAAAAAAAAAAAAAAAAAAAAAAAAAAAAAAAAAAAAAAAAAAAAAAAAAAAAAAAAAAAAAAAAAAAAAAAAAAAAAAAAAAAAAAAAAAAAAAAAAAAAAAAAAAAAAAAAAAAAAAAAAAAAAAAAAAAAAAAAAAAAAAAAAAAAAAAAAAAAAAAAAAAAAAAAAAAAAAAAAAAAAAAAAAAAAAAAAAAAAAAAAAAAAAAAAAAAAAAAAAAAAAAAAAAAAAAAAAAAAAAAAAAAAAAAAAAAAAAAAAAAAAAAAAAAAAAAAAAAAAAAAAAAAAAAAAAAAAAAAAAAAAAAAAAAAAAAAAAAAAAAAAAAAAAAAAAAAAAAAAAAAAAAAAAAAAAAAAAAAAAAAAAAAAAAAAAAAAAAAAAAAAAAAAAAAAAAAAAAAAAAAAAAAAAAAAAAAAAAAAAAAAAAAAAAAAAAAAAAAAAAAAAAAAAAAAAAAAAAAAAAAAAAAAAAAAAAAAAAAAAAAAAAAAAAAAAAAAAAAAAAAAAAAAAAAAAAAAAAAAAAAAAAAAAAAAAAAAAAAAAAAAAAAAAAAAAAAAAAAAAAAAAAAAAAAAAAAAAABAAEAAAAAAAAAAAAAAAAAAAAAAAAAAAAAAAAAAAAAAAAAAAAAAAAAAAAAAAAAAAAAAAAAAAAAAAAAAAAAAAAAAAAAAAAAAAAAAAAAAAAAAAAAAAAAAAAAAAAAAAAAAAAAAAAAAAAAAAAAAAAAAAAAAAAAAAAAAAAAAAAAAAAAAAAAAAAAAAAAAAAAAAAAAAAAAAAAAAAAAAAAAAAAAAAAAAAAAAAAAAAAAAAAAAAAAAAAAAAAAAAAAAAAAAAAAAAAAAAAAAAAAAAAAAAAAAAAAAAAAAAAAAAAAAAAAAAAAAAAAAAAAAAAAAAAAAAAAAAAAAAAAAAAAAAAAAAAAAAAAAAAAAAAAAAAAAAAAAAAAAAAAAAAAAAAAAAAAAAAAAAAAAAAAAAAAAAAAAAAAAAAAAAAAAAAAAAAAAAAAAAAAAAAAAAAAAAAAAAAAAAAAAAAAAAAAAAAAAAAAAAAAAAAAAAAAAAAAAAAAAAAAAAAAAAAAAAAAAAAAAAAAAAAAAAAAAAAAAAAAAAAAAAAAAAAAAAAAAAAAAAAAAAAAAAAAAAAAAAAAAAAAAAAAAAAAAAAAAAAAAAAAAAAAAAAAAAAAAAAAAAAAAAAAAAAAAAAAAAAAAAAAAAAAAAAAAAAAAAAAAAAAAAAAAAAAAAAAAAAAAAAAAAAAAAAAAAAAAAAAAAAAAAAAAAAAAAAAAAAAAAAAAAAAAAAAAAAAAAAAAAAAAAAAAAAAAAAAAAAAAAAAAAAAAAAAAAAAAAAAAAAAAAAAAAAAAAAAAAAAAAAAAAAAAAAAAAAAAAAAAAAAAAAAAAAAAAAAAAAAAAAAAAAAAAAAAAAAAAAAAAAAAAAAAAAAAAAAAAAAAAAAAAAAAAAAAAAAAAAAAAAAAAAAAAAAAAAAAAAAAAAAAAAAAAAAAAAAAAAAAAAAAAAAAAAAAAAAAAAAAAAAAAAAAAAAAAAAAAAAAAAAAAAAAAAAAAAAAAAAAAAAAAAAAAAAAAAAAAAAAAAAAAAAAAAAAAAAAAAAAAAAAAAAAAAAAAAAAAAAAAAAAAAAAAAAAAAAAAAAAAAAAAAAAAAAAAAAAAAAAAAAAAAAAAAAAAAAAAAAAAAAAAAAAAAAAAAAAAAAAAAAAAAAAAAAAAAAAAAAAAAAAAAAAAAAAAAAAAAAAAAAAAAAAAAAAAAAAAAAAAAAAAAAAAAAAAAAAAAAAAAAAAAAAAAAAAAAAAAAAAAAAAAAAAAAAAAAAAAAAAAAAAAAAAAAAAAAAAAAAAAAAAAAAAAAAAAAAAAAAAAAAAAAAAAAAAAAAAAAAAAAAAAAAAAAAAAAAAAAAAAAAAAAAAAAAAAAAAAAAAAAAAAAAAAAAAAAAAAAAAAAAAAAAAAAAAAAAAAAAAAAAAAAAAAAAAAAAAAAAAAAAAAAAAAAAAAAAAAAAAAAAAAAAAAAAAAAAAAAAAAAAAAAAAAAAAAAAAAAAAAAAAAAAAAAAAAAAAAAAAAAAAAAAAAAAAAAAAAAAAAAAAAAAAAAAAAAAAAAAAAAAAAAAAAAAAAAAAAAAAAAAAAAAAAAAAAAAAAAAAAAAAAAAAAAAAAAAAAAAAAAAAAAAAAAAAAAAAAAAAAAAAAAAAAAAAAAAAAAAAAAAAAAAAAAAAAAAAAAAAAAAAAAAAAAAAAAAAAAQACAAEAAAABAAAA//8AAAAAAAAAAAAAAAAAAAAAAAAAAAAAAAAAAAAAAAAAAAAAAAAAAAAAAAAAAAAAAAAAAAAAAAAAAAAAAAAAAAAAAAAAAAAAAAAAAAAAAAAAAAAAAAAAAAAAAAAAAAAAAAAAAAAAAAAAAAAAAAAAAAAAAAAAAAAAAAAAAAAAAAAAAAAAAAAAAAAAAAAAAAAAAAAAAAAAAAAAAAAAAAAAAAAAAAAAAAAAAAAAAAAAAAAAAAAAAAAAAAAAAAAAAAAAAAAAAAAAAAAAAAAAAAAAAAAAAAAAAAAAAAAAAAAAAAAAAAAAAAAAAAAAAAAAAAAAAAAAAAAAAAAAAAAAAAAAAAAAAAAAAAAAAAAAAAAAAAAAAAAAAAAAAAAAAAAAAAAAAAAAAAAAAAAAAAAAAAAAAAAAAAAAAAAAAAAAAAAAAAAAAAAAAAAAAAAAAAAAAAAAAAAAAAAAAAAAAAAAAAAAAAAAAAAAAAAAAAAAAAAAAAAAAAAAAAAAAAAAAAAAAAAAAAAAAAAAAAAAAAAAAAAAAAAAAAAAAAAAAAAAAAAAAAAAAAAAAAAAAAAAAAAAAAAAAAAAAAAAAAAAAAAAAAAAAAAAAAAAAAAAAAAAAAAAAAAAAAAAAAAAAAAAAAAAAAAAAAAAAAAAAAAAAAAAAAAAAAAAAAAAAAAAAAAAAAAAAAAAAAAAAAAAAAAAAAAAAAAAAAAAAAAAAAAAAAAAAAAAAAAAAAAAAAAAAAAAAAAAAAAAAAAAAAAAAAAAAAAAAAAAAAAAAAAAAAAAAAAAAAAAAAAAAAAAAAAAAAAAAAAAAAAAAAAAAAAAAAAAAAAAAAAAAAAAAAAAAAAAAAAAAAAAAAAAAAAAAAAAAAAAAAAAAAAAAAAAAAAAAAAAAAAAAAAAAAAAAAAAAAAAAAAAAAAAAAAAAAAAAAAAAAAAAAAAAAAAAAAAAAAAAAAAAAAAAAAAAAAAAAAAAAAAAAAAAAAAAAAAAAAAAAAAAAAAAAAAAAAAAAAAAAAAAAAAAAAAAAAAAAAAAAAAAAAAAAAAAAAAAAAAAAAAAAAAAAAAAAAAAAAAAAAAAAAAAAAAAAAAAAAAAAAAAAAAAAAAAAAAAAAAAAAAAAAAAAAAAAAAAAAAAAAAAAAAAAAAAAAAAAAAAAAAAAAAAAAAAAAAAAAAAAAAAAAAAAAAAAAAAAAAAAAAAAAAAAAAAAAAAAAAAAAAAAAAAAAAAAAAAAAAAAAAAAAAAAAAAAAAAAAAAAAAAAAAAAAAAAAAAAAAAAAAAAAAAAAAAAAAAAAAAAAAAAAAAAAAAAAAAAAAAAAAAAAAAAAAAAAAAAAAAAAAAAAAAAAAAAAAAAAAAAAAAAAAAAAAAAAAAAAAAAAAAAAAAAAAAAAAAAAAAAAAAAAAAAAAAAAAAAAAAAAAAAAAAAAAAAAAAAAAAAAAAAAAAAAAAAAAAAAAAAAAAAAAAAAAAAAAAAAAAAAAAAAAAAAAAAAAAAAAAAAAAAAAAAAAAAAAAAAAAAAAAAAAAAAAAAAAAAAAAAAAAAAAAAAAAAAAAAAAAAAAAAAAAAAAAAAAAAAAAAAAAAAAAAAAAAAAAAAAAAAAAAAAAAAAAAAAAAAAAAAAAAAAAAAAAAAAAAAAAAAAAAAAAAAAAAAAAAAAAAAAAAAAAAAAAAAAAAAAAAAAAAAAAAAAAAAAAAAAAAAAAAAAAAAAAAAAAAAAAAAAAAAAAAAAAAAAAAAAAAAAAAAAAAAAAAAAAAAAAAAAAAAAAAAAAAAAAAAAAAAAAAAAAAAAAAAAAAAAAAAAAAAAAAAAAAAAAAAAAAAAAAAAAAAAAAAAAAAAAAAAAAAAAAAAAAAAAAAAAAAAAAAAAAAAAAAAAAAAAAAAAAAAAAAAAAAAAAAAAAAAAAAAAAAAAAAAAAAAAAAAAAAAAAAAAAAAAAAAAAAAAAAAAAAAAAAAAAAAAAAAAAAAAAAAAAAAAAAAAAAAAAAAAAAAAAAAAAAAAAAAAAAAAAAAAAAAAAAAAAAAAAAAAAAAAAAAAAAAAAAAAAAAAAAAAAAAAAAAAAAAAAAAAAAAAAAAAAAAAAAAAAAAAAAAAAAAAAAAAAAAAAAAAAAAAAAAAAAAAAAAAAAAAAAAAAAAAAAAAAAAAAAAAAAAAAAAAAAAAAAAAAAAAAAAAAAAAAAAAAAAAAAAAAAAAAAAAAAAAAAAAAAAAAAAAAAAAAAAAAAAAAAAAAAAAAAAAAAAAAAAAAAAAAAAAAAAAAAAAAAAAAAAAAAAAAAAAAAAAAAAAAAAAAAAAAAAAAAAAAAAAAAAAAAAAAAAAAAAAAAAAAAAAAAAAAAAAAAAAAAAAAAAAAAAAAAAAAAAAAAAAAAAAAAAAAAAAAAAAAAAAAAAAAAAAAAAAAAAAAAAAAAAAAAAAAAAAAAAAAAAAAAAAAAAAAAAAAAAAAAAAAAAAAAAAAAAAAAAAAAAAAAAAAAAAAAAAAAAAAAAAAAAAAAAAAAAAAAAAAAAAAAAAAAAAAAAAAAAAAAAAAAAAAAAAAAAAAAAAAAAAAAAAAAAAAAAAAAAAAAAAAAAAAAAAAAAAAAAAAAAAAAAAAAAAAAAAAAAAAAAAAAAAAAAAAAAAAAAAAAAAAAAAAAAAAAAAAAAAAAAAAAAAAAAAAAAAAAAAAAAAAAAAAAAAAAAAAAAAAAAAAAAAAAAAAAAAAAAAAAAAAAAAAAAAAAAAAAAAAAAAAAAAAAAAAAAAAAAAAAAAAAAAAAAAAAAAAAAAAAAAAAAAAAAAAAAAAAAAAAAAAAAAAAAAAAAAAAAAAAAAAAAAAAAAAAAAAAAAAAAAAAAAAAAAAAAAAAAAAAAAAAAAAAAAAAAAAAAAAAAAAAAAAAAAAAAAAAAAAAAAAAAAAAAAAAAAAAAAAAAAAAAAAAAAAAAAAAAAAAAAAAAAAAAAAAAAAAAAAAAAAAAAAAAAAAAAAAAAAAAAAAAAAAAAAAAAAAAAAAAAAAAAAAAAAAAAAAAAAAAAAAAAAAAAAAAAAAAAAAAAAAAAAAAAAAAAAAAAAAAAAAAAAAAAAAAAAAAAAAAAAAAAAAAAAAAAAAAAAAAAAAAAAAAAAAAAAAAAAAAAAAAAAAAAAAAAAAAAAAAAAAAAAAAAAAAAAAAAAAAAAAAAAAAAAAAAAAAAAAAAAAAAAAAAAAAAAAAAAAAAAAAAAAAAAAAAAAAAAAAAAAAAAAAAAAAAAAAAAAAAAAAAAAAAAAAAAAAAAAAAAAAAAAAAAAAAAAAAAAAAAAAAAAAAAAAAAAAAAAAAAAAAAAAAAAAAAAAAAAAAAAAAAAAAAAAAAAAAAAAAAAAAAAAAAAAAAAAAAAAAAAAAAAAAAAAAAAAAAAAAAAAAAAAAAAAAAAAAAAAAAAAAAAAAAAAAAAAAAAAAAAAAAAAAAAAAAAAAAAAAAAAAAAAAAAAAAAAAAAAAAAAAAAAAAAAAAAAAAAAAAAAAAAAAAAAAAAAAAAAAAAAAAAAAAAAAAAAAAAAAAAAAAAAAAAAAAAAAAAAAAAAAAAAAAAAAAAAAAAAAAAAAAAAAAAAAAAAAAAAAAAAAAAAAAAAAAAAAAAAAAAAAAAAAAAAAAAAAAAAAAAAAAAAAAAAAAAAAAAAAAAAAAAAAAAAAAAAAAAAAAAAAAAAAAAAAAAAAAAAAAAAAAAAAAAAAAAAAAAAAAAAAAAAAAAAAAAAAAAAAAAAAAAAAAAAAAAAAAAAAAAAAAAAAAAAAAAAAAAAAAAAAAAAAAAAAAAAAAAAAAAAAAAAAAAAAAAAAAAAAAAAAAAAAAAAAAAAAAAAAAAAAAAAAAAAAAAAAAAAAAAAAAAAAAAAAAAAAAAAAAAAAAAAAAAAAAAAAAAAAAAAAAAAAAAAAAAAAAAAAAAAAAAAAAAAAAAAAAAAAAAAAAAAAAAAAAAAAAAAAAAAAAAAAAAAAAAAAAAAAAAAAAAAAAAAAAAAAAAAAAAAAAAAAAAAAAAAAAAAAAAAAAAAAAAAAAAAAAAAAAAAAAAAAAAAAAAAAAAAAAAAAAAAAAAAAAAAAAAAAAAAAAAAAAAAAAAAAAAAAAAAAAAAAAAAAAAAAAAAAAAAAAAAAAAAAAAAAAAAAAAAAAAAAAAAAAAAAAAAAAAAAAAAAAAAAAAAAAAAAAAAAAAAAAAAAAAAAAAAAAAAAAAAAAAAAAAAAAAAAAAAAAAAAAAAAAAAAAAAAAAAAAAAAAAAAAAAAAAAAAAAAAAAAAAAAAAAAAAAAAAAAAAAAAAAAAAAAAAAAAAAAAAAAAAAAAAAAAAAAAAAAAAAAAAAAAAAAAAAAAAAAAAAAAAAAAAAAAAAAAAAAAAAAAAAAAAAAAAAAAAAAAAAAAAAAAAAAAAAAAAAAAAAAAAAAAAAAAAAAAAAAAAAAAAAAAAAAAAAAAAAAAAAAAAAAAAAAAAAAAAAAAAAAAAAAAAAAAAAAAAAAAAAAAAAAAAAAAAAAAAAAAAAAAAAAAAAAAAAAAAAAAAAAAAAAAAAAAAAAAAAAAAAAAAAAAAAAAAAAAAAAAAAAAAAAAAAAAAAAAAAAAAAAAAAAAAAAAAAAAAAAAAAAAAAAAAAAAAAAAAAAAAAAAAAAAAAAAAAAAAAAAAAAAAAAAAAAAAAAAAAAAAAAAAAAAAAAAAAAAAAAAAAAAAAAAAAAAAAAAAAAAAAAAAAAAAAAAAAAAAAAAAAAAAAAAAAAAAAAAAAAAAAAAAAAAAAAAAAAAAAAAAAAAAAAAAAAAAAAAAAAAAAAAAAAAAAAAAAAAAAAAAAAAAAAAAAAAAAAAAAAAAAAAAAAAAAAAAAAAAAAAAAAAAAAAAAAAAAAAAAAAAAAAAAAAAAAAAAAAAAAAAAAAAAAAAAAAAAAAAAAAAAAAAAAAAAAAAAAAAAAAAAAAAAAAAAAAAAAAAAAAAAAAAAAAAAAAAAAAAAAAAAAAAAAAAAAAAAAAAAAAAAAAAAAAAAAAAAAAAAAAAAAAAAAAAAAAAAAAAAAAAAAAAAAAAAAAAAAAAAAAAAAAAAAAAAAAAAAAAAAAAAAAAAAAAAAAAAAAAAAAAAAAAAAAAAAAAAAAAAAAAAAAAAAAAAAAAAAAAAAAAAAAAAAAAAAAAAAAAAAAAAAAAAAAAAAAAAAAAAAAAAAAAAAAAAAAAAAAAAAAAAAAAAAAAAAAAAAAAAAAAAAAAAAAAAAAAAAAAAAAAAAAAAAAAAAAAAAAAAAAAAAAAAAAAAAAAAAAAAAAAAAAAAAAAAAAAAAAAAAAAAAAAAAAAAAAAAAAAAAAAAAAAAAAAAAAAAAAAAAAAAAAAAAAAAAAAAAAAAAAAAAAAAAAAAAAAAAAAAAAAAAAAAAAAAAAAAAAAAAAAAAAAAAAAAAAAAAAAAAAAAAAAAAAAAAAAAAAAAAAAAAAAAAAAAAAAAAAAAAAAAAAAAAAAAAAAAAAAAAAAAAAAAAAAAAAAAAAAAAAAAAAAAAAAAAAAAAAAAAAAAAAAAAAAAAAAAAAAAAAAAAAAAAAAAAAAAAAAAAAAAAAAAAAAAAAAAAAAAAAAAAAAAAAAAAAAAAAAAAAAAAAAAAAAAAAAAAAAAAAAAAAAAAAAAAAAAAAAAAAAAAAAAAAAAAAAAAAAAAAAAAAAAAAAAAAAAAAAAAAAAAAAAAAAAAAAAAAAAAAAAAAAAAAAAAAAAAAAAAAAAAAAAAAAAAAAAAAAAAAAAAAAAAAAAAAAAAAAAAAAAAAAAAAAAAAAAAAAAAAAAAAAAAAAAAAAAAAAAAAAAAAAAAAAAAAAAAAAAAAAAAAAAAAAAAAAAAAAAAAAAAAAAAAAAAAAAAAAAAAAAAAAAAAAAAAAAAAAAAAAAAAAAAAAAAAAAAAAAAAAAAAAAAAAAAAAAAAAAAAAAAAAAAAAAAAAAAAAAAAAAAAAAAAAAAAAAAAAAAAAAAAAAAAAAAAAAAAAAAAAAAAAAAAAAAAAAAAAAAAAAAAAAAAAAAAAAAAAAAAAAAAAAAAAAAAAAAAAAAAAAAAAAAAAAAAAAAAAAAAAAAAAAAAAAAAAAAAAAAAAAAAAAAAAAAAAAAAAAAAAAAAAAAAAAAAAAAAAAAAAAAAAAAAAAAAAAAAAAAAAAAAAAAAAAAAAAAAAAAAAAAAAAAAAAAAAAAAAAAAAAAAAAAAAAAAAAAAAAAAAAAAAAAAAAAAAAAAAAAAAAAAAAAAAAAAAAAAAAAAAAAAAAAAAAAAAAAAAAAAAAAAAAAAAAAAAAAAAAAAAAAAAAAAAAAAAAAAAAAAAAAAAAAAAAAAAAAAAAAAAAAAAAAAAAAAAAAAAAAAAAAAAAAAAAAAAAAAAAAAAAAAAAAAAAAAAAAAAAAAAAAAAAAAAAAAAAAAAAAAAAAAAAAAAAAAAAAAAAAAAAAAAAAAAAAAAAAAAAAAAAAAAAAAAAAAAAAAAAAAAAAAAAAAAAAAAAAAAAAAAAAAAAAAAAAAAAAAAAAAAAAAAAAAAAAAAAAAAAAAAAAAAAAAAAAAAAAAAAAAAAAAAAAAAAAAAAAAAAAAAAAAAAAAAAAAAAAAAAAAAAAAAAAAAAAAAAAAAAAAAAAAAAAAAAAAAAAAAAAAAAAAAAAAAAAAAAAAAAAAAAAAAAAAAAAAAAAAAAAAAAAAAAAAAAAAAAAAAAAAAAAAAAAAAAAAAAAAAAAAAAAAAAAAAAAAAAAAAAAAAAAAAAAAAAAAAAAAAAAAAAAAAAAAAAAAAAAAAAAAAAAAAAAAAAAAAAAAAAAAAAAAAAAAAAAAAAAAAAAAAAAAAAAAAAAAAAAAAAAAAAAAAAAAAAAAAAAAAAAAAAAAAAAAAAAAAAAAAAAAAAAAAAAAAAAAAAAAAAAAAAAAAAAAAAAAAAAAAAAAAAAAAAAAAAAAAAAAAAAAAAAAAAAAAAAAAAAAAAAAAAAAAAAAAAAAAAAAAAAAAAAAAAAAAAAAAAAAAAAAAAAAAAAAAAAAAAAAAAAAAAAAAAAAAAAAAAAAAAAAAAAAAAAAAAAAAAAAAAAAAAAAAAAAAAAAAAAAAAAAAAAAAAAAAAAAAAAAAAAAAAAAAAAAAAAAAAAAAAAAAAAAAAAAAAAAAAAAAAAAAAAAAAAAAAAAAAAAAAAAAAAAAAAAAAAAAAAAAAAAAAAAAAAAAAAAAAAAAAAAAAAAAAAAAAAAAAAAAAAAAAAAAAAAAAAAAAAAAAAAAAAAAAAAAAAAAAAAAAAAAAAAAAAAAAAAAAAAAAAAAAAAAAAAAAAAAAAAAAAAAAAAAAAAAAAAAAAAAAAAAAAAAAAAAAAAAAAAAAAAAAAAAAAAAAAAAAAAAAAAAAAAAAAAAAAAAAAAAAAAAAAAAAAAAAAAAAAAAAAAAAAAAAAAAAAAAAAAAAAAAAAAAAAAAAAAAAAAAAAAAAAAAAAAAAAAAAAAAAAAAAAAAAAAAAAAAAAAAAAAAAAAAAAAAAAAAAAAAAAAAAAAAAAAAAAAAAAAAAAAAAAAAAAAAAAAAAAAAAAAAAAAAAAAAAAAAAAAAAAAAAAAAAAAAAAAAAAAAAAAAAAAAAAAAAAAAAAAAAAAAAAAAAAAAAAAAAAAAAAAAAAAAAAAAAAAAAAAAAAAAAAAAAAAAAAAAAAAAAAAAAAAAAAAAAAAAAAAAAAAAAAAAAAAAAAAAAAAAAAAAAAAAAAAAAAAAAAAAAAAAAAAAAAAAAAAAAAAAAAAAAAAAAAAAAAAAAAAAAAAAAAAAAAAAAAAAAAAAAAAAAAAAAAAAAAAAAAAAAAAAAAAAAAAAAAAAAAAAAAAAAAAAAAAAAAAAAAAAAAAAAAAAAAAAAAAAAAAAAAAAAAAAAAAAAAAAAAAAAAAAAAAAAAAAAAAAAAAAAAAAAAAAAAAAAAAAAAAAAAAAAAAAAAAAAAAAAAAAAAAAAAAAAAAAAAAAAAAAAAAAAAAAAAAAAAAAAAAAAAAAAAAAAAAAAAAAAAAAAAAAAAAAAAAAAAAAAAAAAAAAAAAAAAAAAAAAAAAAAAAAAAAAAAAAAAAAAAAAAAAAAAAAAAAAAAAAAAAAAAAAAAAAAAAAAAAAAAAAAAAAAAAAAAAAAAAAAAAAAAAAAAAAAAAAAAAAAAAAAAAAAAAAAAAAAAAAAAAAAAAAAAAAAAAAAAAAAAAAAAAAAAAAAAAAAAAAAAAAAAAAAAAAAAAAAAAAAAAAAAAAAAAAAAAAAAAAAAAAAAAAAAAAAAAAAAAAAAAAAAAAAAAAAAAAAAAAAAAAAAAAAAAAAAAAAAAAAAAAAAAAAAAAAAAAAAAAAAAAAAAAAAAAAAAAAAAAAAAAAAAAAAAAAAAAAAAAAAAAAAAAAAAAAAAAAAAAAAAAAAAAAAAAAAAAAAAAAAAAAAAAAAAAAAAAAAAAAAAAAAAAAAAAAAAAAAAAAAAAAAAAAAAAAAAAAAAAAAAAAAAAAAAAAAAAAAAAAAAAAAAAAAAAAAAAAAAAAAAAAAAAAAAAAAAAAAAAAAAAAAAAAAAAAAAAAAAAAAAAAAAAAAAAAAAAAAAAAAAAAAAAAAAAAAAAAAAAAAAAAAAAAAAAAAAAAAAAAAAAAAAAAAAAAAAAAAAAAAAAAAAAAAAAAAAAAAAAAAAAAAAAAAAAAAAAAAAAAAAAAAAAAAAAAAAAAAAAAAAAAAAAAAAAAAAAAAAAAAAAAAAAAAAAAAAAAAAAAAAAAAAAAAAAAAAAAAAAAAAAAAAAAAAAAAAAAAAAAAAAAAAAAAAAAAAAAAAAAAAAAAAAAAAAAAAAAAAAAAAAAAAAAAAAAAAAAAAAAAAAAAAAAAAAAAAAAAAAAAAAAAAAAAAAAAAAAAAAAAAAAAAAAAAAAAAAAAAAAAAAAAAAAAAAAAAAAAAAAAAAAAAAAAAAAAAAAAAAAAAAAAAAAAAAAAAAAAAAAAAAAAAAAAAAAAAAAAAAAAAAAAAAAAAAAAAAAAAAAAAAAAAAAAAAAAAAAAAAAAAAAAAAAAAAAAAAAAAAAAAAAAAAAAAAAAAAAAAAAAAAAAAAAAAAAAAAAAAAAAAAAAAAAAAAAAAAAAAAAAAAAAAAAAAAAAAAAAAAAAAAAAAAAAAAAAAAAAAAAAAAAAAAAAAAAAAAAAAAAAAAAAAAAAAAAAAAAAAAAAAAAAAAAAAAAAAAAAAAAAAAAAAAAAAAAAAAAAAAAAAAAAAAAAAAAAAAAAAAAAAAAAAAAAAAAAAAAAAAAAAAAAAAAAAAAAAAAAAAAAAAAAAAAAAAAAAAAAAAAAAAAAAAAAAAAAAAAAAAAAAAAAAAAAAAAAAAAAAAAAAAAAAAAAAAAAAAAAAAAAAAAAAAAAAAAAAAAAAAAAAAAAAAAAAAAAAAAAAAAAAAAAAAAAAAAAAAAAAAAAAAAAAAAAAAAAAAAAAAAAAAAAAAAAAAAAAAAAAAAAAAAAAAAAAAAAAAAAAAAAAAAAAAAAAAAAAAAAAAAAAAAAAAAAAAAAAAAAAAAAAAAAAAAAAAAAAAAAAAAAAAAAAAAAAAAAAAAAAAAAAAAAAAAAAAAAAAAAAAAAAAAAAAAAAAAAAAAAAAAAAAAAAAAAAAAAAAAAAAAAAAAAAAAAAAAAAAAAAAAAAAAAAAAAAAAAAAAAAAAAAAAAAAAAAAAAAAAAAAAAAAAAAAAAAAAAAAAAAAAAAAAAAAAAAAAAAAAAAAAAAAAAAAAAAAAAAAAAAAAAAAAAAAAAAAAAAAAAAAAAAAAAAAAAAAAAAAAAAAAAAAAAAAAAAAAAAAAAAAAAAAAAAAAAAAAAAAAAAAAAAAAAAAAAAAAAAAAAAAAAAAAAAAAAAAAAAAAAAAAAAAAAAAAAAAAAAAAAAAAAAAAAAAAAAAAAAAAAAAAAAAAAAAAAAAAAAEAAAAAAAEAAQABAAAAAQABAAIAAQAAAAEAAQABAAAAAQABAAEAAAAAAAAAAAABAAAAAAAAAP///v/+//7//v/+////AAAAAAIAAgAAAAAA//////7//P/7//v//f/8//7//v///wEABAACAAEAAgD///3//f/8//3/AAAKABcAIwA2AEgAVwBZAGEAVQBAACYAAgDl/5//y/8SAAIAEgAUACAAKwAgACYAIgAUAAkACgD//+//7//q/9//0P/P/97/5//r//T/AAD9//3/AgAJAA0ACwANAAgAAQD9//3//P/4//f/6v/m/+T/3P/b/+L/8P/0//X//f8BAAAABQAPAAwACAAKAAwACAAKAAcABgAJAAUAAQD1//H/9v/0//b/+f8GAA4ACQALABoAMgA8AEEATABKADQAKQAeAPz/5v/Q/6r/kv99/3D/dv+A/5L/pf/C//T/DgAkAFEAcwCGAJQAnAClAJoAhAB9AG0ATAAwAA8A+v/w/9T/y//R/8H/tf+2/6v/m/+a/6T/p/+h/6P/r/+4/8n/3//m//T/DQAcACYAPgBhAHsAgACIAJgAlgCGAHIAUQAxAAkA2f/B/7D/ff9b/1j/Sf88/0j/Yf94/43/tP/a/+7/EwA0ADcASABfAFsAVgBRAEYAPgAwACUAFwAAAP7/BQACAAMABwAOABYAEQAIAAIA+//9////7f/V/8f/sf+W/5X/pP+k/6b/sv/C/9v/9f8MACwAOgA8AE0AWgBWAFQAUABRAE8APAAxAC8AHAAOAA0AEAAWABAABwALAAwACQAKAAsACQD///P/9/////r/8//1//j/9f/z//X/9f/3//7/AAD7/wAAFQAeACEALgA2ADcAMgArACsAFwD+//3/7//d/+D/2P/I/73/rv+p/6j/of+t/7//yf/V/+b/9f8CAAgACwAOABAAGwAfABEACwAPAA0ADQAQABAADgALAA0ADAAGAAwAEAADAPf/9//2/+//8f/v/+r/+f/5/+3/AgAPAAcACwAIAAQABwAIAA4ACwAHAA4ADAAJAA0ACwAJAAoACQAGAP//AAD9//b/+f/6//n/+v/6//7/AAD+/wAAAgAAAAIACAAGAAMABAAAAP7/AAD/////AQACAAkAEgAUABYAFAAGAP7/AAD5/+z/6f/d/9L/0//O/9r/6//o//f/EAATABMAGgAqADkAOgA9ADYAIAAPAAEA9//v/+T/3//d/9T/z//Y/+X/7v/6/wMA/f/2//r/9//3/wAABAADAAoAFAAcACYANAA/AEYAUQBaAFgAUgBJAC4AEwAIAPX/2P/E/7L/nf+T/5D/i/+Q/5v/q//L/+f//P8XACwANgBBAE8AUwBEADYAMwAnABQAFAAZAA4ADAASABEACAAAAAIA/P/x/+7/5//a/8n/wP/C/8P/zv/d//L/DQAhADMARgBaAGQAZABkAF4AVABIADkALgAaAAMA8v/k/8j/lf9p/0L/G//7/uv+8v7u/vP+Fv8q/zj/TP9d/2X/X/9i/2r/bP+G/6r/u//L/+7/FQAuADsATABrAIEAjQCWAJAAlwCVAIsAlQCeALwA6AAJASoBPwFIAUQBKAH/AMsAegAnAOz/uf+U/4T/gv+H/47/iv+U/5L/fP9a/yT/CP/i/p3+Xf4m/u/9v/2i/Zr9j/2Y/bL90f3z/Rv+Tv5//rT+3/4K/yL/J/8y/yz/J/86/1b/pv8fAMAAmQGyAvgDTAXABiwIgAmfCmoLyAuoCyQLMArWCC0HPQU8AykBJ/9n/dH7j/py+YX41vdO9/32uvaR9pz2yvYW94j3Avh6+PP4Z/nI+Q36M/ol+h/6K/oV+vz59/nq+Qv6WvrA+qb7UP2d/94COwdbDCkSUxg9HoIjYieBKYwpKyf8InEclBTuC68CK/qZ8oTsr+f75Ijjb+PX5ILms+js6jvtLe9t8WrzKPWD9wT6yvzM//YCowVoCG4KRgtWC+8JMAcnAzX+MPi88f7ql+Rs3+Tb1do93DrhMOlT9PgBqhDHH4stvDkMQgRHmkeSQ9s8dDIWJ6canw6pA1j6TvPp7BrpSeXi4QDfctuG2IrVoNMi00fVjdkk4Onp7vTIAOQM1xeUIFgmFCjqJuMiDRzsE2ELPgNY+yH1/u+o67rnfuOy32DbEdcu09zQ09A+05nZeOQq80IFpxmcLhZCBlJFXRViI2HBWMFKeDnFJOUQSP4f75fjityH2XfYitox23jb9doU2HjVJNNZ0v/T4dlg47Dva/8WD5kdXCpnMgk2fzRRLQQiUBTZBVb3N+st4W7ZfNRc0Z/Pe80Wy1TI+sWTxSbIHc8u293sLQMDHYI4elG5ZjB2lHzfeoZw5V4dSPIuuBUc/lrrJNyv0trNk8rpyeLIp8cXxgDE4cJqw3rHSs/e3I/tMP/7EjckzTExPFBAwz38Ntsrhx2bDzwBv/Kz55bexNVi0KrMz8dxxPbBfL/rvmLAWMSPzO/ZTesSAUEbYTXiTQBkrHNte8F62XIHY9JNOzeTHmUJ8vbp55neTdgs1EvQmM6fy3/IBcdYxTTHk8wH1VPhE/H0AHYPWB20JwosuSyxKd4h9RhoD3AF9/w89ZntzOZL4YXahtP8zRjImMPhwM/AXcO3yNvRQ94f758CFxjZL9RHwFx2bYJ5d318eXpvL17hSN0x4xgBA4zwWeCn1JHNs8c9w1nCO8GfwcLE3sdoz67a4OXa8wEEEhFIG/UkXClGKZUnfyFXGioTSwlhAHH5R/Cw5mHfSdZRzb7HWMKqv5jAWcL0xjnPy9e64cTuW/0aDo8h/De8TZNhr3E+fPR+nHi/awtV8DrOHlwB5Okt1x7JDcKrwjjEE8k00ArU9NeR28becOP961fzn/7zDfUXtyAyJxoo7yKmG3YRWQbX/R/0uO2B6ynnDuKy32HaS9IYzQHJI8XZxcvI0M0q17LgVuoB9oYDhQ+FHsoyh0WOV6JoznMdeKVz5mgLVP05Hx8sAJDrT9mKzV3J38nnziLRtNnI2hbb0Nqx2fPeDeXg7wv7YQvwF44fuyVIJGYdFRJeBzj+nvdz8uPvavH576vtsery427a7c9iyEnDJMMbxa3KEdSR3KPmCPHm+5gGghQqKAY+oFOIZ8J15Xy3eaFu8FoEP98iuARL747g8dW20rTTvtY02MzbFtvG15LVgNQ22Aji5+0F+rsKBBetHHQg7R6kFl8MIgNI+5T5R/nx98P6p/qL9V7w/uhX3XzSEMv3xkHIscwR0bDXLN+f4nDoYvCL+EMFaxlLMs1LPGUodkF/4X3/cB5cQ0AZJOAH9/Ko5u/ey9ve2//bHtk+1+zSQsyDyXvLhdH83nnwhP4tD5sblx2wHAcZXQ+ZBN//t/uS/TwCmwHvAroAlfdy60ng7dPZyNTEIMUpy9zT8Nvg4rznGOmw6DfsW/My//ITBDAvTEZmJ3j/f8F7h2sqVO01Qh0WBVv0g+yj5vzloOMU453Zm9I1zEjF4ccgy4zYi+h4/LsMIRc+H/Ya2hTzDBEFZf51+0f+5wGcBwgIiANP/EPvl+EI1WHNUMkhyi7Rl9mo4krmGOd64+Pe1tyO32DtYgESHpc9V1zadFZ/P3+EcjRdUETqKQUWBQhH/gH60fXU8Lro2t9u05DI18RtwtHLzdgl59r46AUJDnsPAw9mB/f/7vzR+an8GwDfA+0HZwkqBCL7HfJZ5tjeC9lm10PbIt805J7o+Oqv59PjOd5+2hfeleME8kkG2h3RN31Np13DYppfiFUqRgs3wCMcFlcMNAVpA0T9c/hi8UvsnuT63vbfv9615mrtofUt/2oEuQUCAqwBe/yT+KX2PPW09135R/yL/N/+zPxS9ibyq+2l7FPr3uqS6lrsHu4s7bzr2OVc35rXeNJk06zYzeT29HIL9iTVPV1RsFp8W75UykplPoIvByLHF4UQ+Q0GCvIEc/wt9ofu6uc057/i0eZI6nnvk/Qd+MX4JvRS83rvQe+c8OzxffZX+0QBNgU4BboDHf6A+in3CvVM81HxqvH973rwge0d6EPgUNmO0oPPu9Ag1GThyfLMCUsiQDitSFpRD1SuTQNIAj7cMWEqjyFwHlIZexMmCj4BV/of8d7sXObz5Bjm6OjD6wLthO6c7IDrBeev5DPkmeXD63jyVPt6AY4HJQpMCzYLxgYbBY4AHv5q++b37fRJ8OnryeRZ3XDUdszfyM/IBM5n2Tzpu/2+FDYqjzuGRkxKXUh8RLU/TDjeMkksmCdYJGEd2Ra8DFkFIP2z9qrwYunr5vDi4uL24ODeat1c2yLcv9tY3ynjaOr184j8RAUPCfEL+wsvC6oIYAUiAvv9rvw0+e/24fMb74Lq0+S93tLWhtKn0PfT092y6Zr5kApdGzMpsTF0M7Mvqit5KI8mWSXhItYhZSLaIo4j9iBLHkMc7xt7GqYUnAtD/1317usX43rbM9W2033VQdnZ21rdCd9p4jLpfO979SL6kv3SABQE7wUpBtkGCQe/CEEKZQlUBSkA2vlP85Lt9OdO5IHjSuXR57XqFe3e73vzWfeI+pL9vAAYBT0Kyw9ZFUEaJh97I/An0So5LEUrpSgFJekfexo7FJsNvwcDAw7/Nvs091HzkPCZ7+zuge8m8VjzefZK+TX7Mfya/Qf/pgAcAjsC6QGXAZAAFf5j+sj1WvFO7abpZua14wPi/eDw4A3i8eMN5/zqnu/W9Cv6eP/UA/UIMQ19EQsWrhnLHQsh8iP6JPckSCNBIFcd/Bi7FCoQcAs5BzUDbv8r+1T3BfQP8nbx2PEt8wr1Dvj1+jr9VP4Q/5b/jAB9AXcBTAFLABb/Ev3X+XH1BPFD7ejpQef45CjjZeKI4k/jnuSF5lLpkexz8Lv0VPk4/jQDHwglDRMSXxY6Gm0dNiAzIvAiQyK7IIceuxuDGJMUkxBuDKwIRQUkAh3/i/zj+sb5gPmI+eH5cvp3+4z8Ov3m/UH+uv4R/8j+Pf7D/Bn7Mfm+9vHzs/D57W/ri+nF517mkOUe5crlzuZ76Prq9O3F8dr18/nF/VEBEAXmCEkNPhHWFGUYlBtMHgsgcyBkHwEeLhwIGuEXQhWKEtUPbQ0tC4oIpgXKAlUAaf7v/Kv7xvpw+l76mfrP+rn6nPpO+rT5qPgX94b1yPNK8snwue5v7UrscesZ65DqJurC6SzquurU6wftQu6h8Arz9vWZ+Cj7Kv7FAS0GbwpxDssR6xSvF8cZ8Bo5G8oaiRp6GpkZpRgdF6kVPBRXEtkP4AxSCsoHCQZsBPICCwJrATMBZQA0/5/9z/tY+q740vbl9LfypPCh7ovsiOrL6Mjnd+d5557nGOim6BXpy+lq6iLrnOx07vDw8PMy98n6Vv7/AUgFzggmDNYOfRHIE1cWkRhPGksb2xumHPAc8BwFHIwanhhoFjcUbhGyDk0MXwqSCOIGJQU1A3QBg/9m/Uj7D/mH9kT0RPIf8E3un+w361bq4umZ6Z3p4eka6oPqzuoA6xfr3OrX6jPr9ute7UXvvPHS9Ej45ftc/5YCkwXdCPwL4A7QEWUUWxcQGjccrh1+HsEeYh7hHZAcQBtpGdgWXBSgER8PsAw6CgcHCgT+AUcAJ/+B/XD7mfkP+GD2yfOw8HntMusB6mXpQun46G/pj+oG7IXtvu1A7cnsqexC7AvsCewg7G3tVO8R8kr1R/gU+2r+KwKzBY8JJg24EFgUtBeWGvIczR7OH3AgeSAWIFIf8B0oHLkZ7hYOFMMQWw0OCtYG1AMMAcn+yvw7+5H5svfO9ULzGPEx73/tIuw76yfrWOs27Pnsxu3t7nvv8u//71vvTe5k7bbs6Our69rrweyo7hHx5fPo9u35Ef3EAO0EFwn0DOIQ7RTmGHIc/B70IC4i0CKjIuwhsSB3Hlcc1RnKFk8TiQ/JC1IIoAW1AvD/mf2N++j5/PeK9cXyhfC17jLtFOxn65friezv7UDvgPBp8dTx2fEy8a/vZ+1i663pmegz6BzoAem46jftK/C581T3+/qZ/14EeglaDq0SqhaBGiMeuiCYIoEj/yMhJIAjMiLCH7kcKhlwFZERkw3vCbgGVAQQAh4ALf4X/GD6QfjE9SHz2fD57hbuJ+5X7l3vufAu8m3z0PNY83byXfFo71TtBevV6HDnjuZi5ovmUOe06CzrUe6m8eT1VPpL/4EEjwnHDm0T1BeLG+oexSGQIwglNiXdJIgjQiGmHuoaRxcjE1QPBAzrCJUGKgQ3Aq7/eP1x+734sPb89PjzV/Np89HzgPTE9Yz2O/es93v3hvbS9KfySfAa7pnrtuhB5l7k9eIR4uDhS+Kf4zfm6emo7g30c/n9/scEPApmD0IUlBhWHLgfsSLZJD4mUCZRJZQj7yDKHf8ZUxaSEtwOaQsoCGwFnQITAFr93/q5+AL3JPaj9Yn1dfW69Sb2y/ZC9yv3AveR9hf2U/U49MPyFvF971ztzerr51nlY+Pv4T3hQOFX4rTkaOgE7Sfylfca/dgCoAggDkoTURjkHNkgRyRtJlUnZSeUJswkKCIAH10b/BfTFIQRLA6lClEHSgQxAUD+cPsH+U33QPbW9db1efbV9iP30/cI+NP3dPcP92n2V/UP9GnyuPDl7oPs6enc5iHkNeKy4P7fP+Df4ZLkbegf7efxc/fZ/BMCfQe9DNMRkhYQG7Ie8yGSJOolRSaAJe8j5SGPH74cYhn1FYgSRA+9C94H9wNFABf9E/rk92L2j/V79b/1HPZv9jX3o/e994H3FPcs9y/3nvZy9UD04/I/8Wbvyuzv6U3nO+We45vijuJQ40DlOOjz6yfwy/S4+a7+6wPXCHYNERJaFmEayh1kICYiZSPaIzojASINIKodyRqWFysUjxDhDPUINAWdAX7+D/wG+pz41Pfd91z41fhY+YT5wPnS+XH5zPjy90z3fPaX9Sv0bvLD8LzueOyu6fLmqeQf403iFeLI4mDkDueF6p/uLvMi+Bb9IgIoBxIM9RBtFaQZTh1ZIJYiLCQnJe4kxyPkIXsfoBwKGQ8VnBCNDOoIMgXvAdj+rfz7+sf5JPmf+HD4CPj49+/35/fj95n3rve09/T33Pce9wz2rPRU85Pxv++W7TXr9+jb5l/lYOQy5Jzk4eVG6Jnr++/m9FP6tv8JBWEKRA+TE/UW7hlLHI0ehiB4IeMhcyHpIIMfIx0XGjYWuBK2Ds8K2QZhA8wASf6//D/7jvr/+Yf5bfkO+RD51/i9+H/4QfgO+Kv3GPcr9t30VfO88eTv++336xTqFug/5urkB+S84yzkwuVl6Pjrb/CY9UT7vgALBh4Lrw/SEyQXCRqAHIIeUiA0IY0hKCEWIIoe1Ru6GNoUBxFwDdwJwAaEAxAB4f5w/RX8u/ox+sr54vnB+dr5DPoo+mP6Cvp0+a74u/eS9hf1T/N58ebvUu527G/qbuiM5jLlRuTF4wvkP+Ws59HqzO5988L4Xf7TAzIJ3w1fEkgWcBlNHE0eKiAMIYQhTiEmIBQfsRwJGtcWZRMyEJ4MgglbBvQD5QHu/1P+1vzU+xj7yvo++ur5+PnD+Yf53vgM+D73XfY99fHzhfIE8aDvH+6S7P7qTenI53LmWOWY5KbkmuU759npFe0J8Z/1YPov/90DjwjeDN8QPxQxFwkaNRwrHjkffx9LH1ce3hy2GmMYyRUgE2YQqg39CkUI+QWzA4ABjP++/XP8SfuK+uv5b/kl+bj4Tfhg94z2lvXE9MDzq/LU8Z7w0O+z7l/tAeyh6n3pYuix52fnp+em6Hbq2Ozg737zZveN+4//hQN4B28LHg9nEnoVXRj+Gt8cOB7GHqgeWB5kHc8bqhk+F8YUUxKVD58M7wlYBxIFvgKdAKX+7vzG+3z6fPma+MX36fbg9fT0+/Mm83DyoPHI8OTvH+827jDt5utx6mXpaui951fncudb6NzpIuzq7k3yDvb3+Q/+MAJhBl0KcA4LEkcVdxgiG2UdDR8fIC0gvR/+HocdthtSGcYW/BMUEQEO3gr3BxEFsgJtAJX++/ya+4n6iPmo+Ln38/b29RT1QvRZ84vy9/Fg8azw6+/T7tDtw+x56xzqzejK5wznsubF5mbnzujQ6n/t5/Df9Cb5bf2rAQcGRwp4DiQSTxUwGKAa1Rx4Hpof+x8IIKofXR6pHE4arBfFFJYRbg5lC4UInwUdA9wA0v4D/W/7HPrD+Jv3p/ay9cj08fMu83ry3fE78XDw5O8974nu8O0I7Q/s6Org6e3o3edq51fn1ec26T/rK+7p8XH2/fpw/wsEYgihDG4QwBOwFlMZFhwrHqwfrSD2IAQhQiDfHskcKRpSFyUUBhHIDeYKDwhCBaYCEwDW/a77CvqZ+Ef3H/Yr9av0+fMw81/yy/Fu8RXxkfCw7wPvLu5J7Sbstepk6UboeOfd5r3mAOcR6O3pTux47xTzA/c5+2L/aQOdB+AL5w+VE9QW9hnNHEYfDiELIkci3iEJIVgfEB0rGisXVhQ5ETEOJgtUCLcF7AI2AM/9wfvI+Rj4hvZM9dT0RvTj81Hzp/Jm8hzyyvEJ8SfwU+9a7kbt7euw6m3pSOhx57vme+aV5oTnSuma67PuLPIB9hj6GP5AAnAGkwrfDqQSDRZHGTMcwR6LILghFSIfImch/h8wHpcb9RjHFVwS7g5XCwgI+AQ0Anb/Jv04+3L5NvhD9232wvVc9fb0fvT/80Xzl/In8nvxgPCI74vufu0u7MTqf+k86ETnzua75hDn9+d06XHrF+428br0jfhe/GEAlwT7CFMNYxECFUoYVhvXHeUfJiGvIaUh8SDdH+4dlxuzGIYVbhIUDx0M6wj2BSQDkQBt/nD8QPvu+eD49/cW95H21/VF9Xf0rPPy8ivyUPE68F/vZO6K7ZTsdet+6m3phujL51rniudB6HTpVevO7QrxkPRj+KD82wBvBbUJIQ4UEpIVLBm+GycexR/2IJghTCHdIDMfWh3iGu0X7RRCESoOsgqaB8IE0wGp/1n9t/ss+tf4+fcC93L2r/UB9WD0tPMu83jy6fEJ8RLwUu9T7mrtTOwR6/Pp9+gP6CDnteaG5sTm4eeN6QHsGO+98qz2wfpM/wQEvghpDakRlRVeGYkcMx8+IX8iDyMAI0AigiBHHp0boRhdFesRvA5iC1IIlwXpAqEAlf7b/Gj7Jfoi+Sn4WPeE9sT1K/WG9PvzEfNI8pjxpvDW78Luje097MbqUunY54jmh+UN5fTkWOVr5jro3OoJ7tbxCPaM+jf/5QODCEENzRHCFZAZlxw/H0UhkyI0I+4icyLyIBMfsRzTGRYX2xO1EEcNTAqeB90ElgInACL+dvxB+0b6HPku+FT33vYf9jv1nfTn817zivKO8XrwRu8d7pvsIeuF6cvnZuY15YjkN+R/5Gnl+OZW6UXsEvAr9LX4nv1MAhsH1gt+EKwUUhjjG6we0yBpIh8jNiOVIo4hCyD6HYEbnRihFVASMg9eDF4JiAbHA08B8v4C/Xz7+fm1+Jn39fY/9or1B/Vc9MLzAfNO8onxk/Ci74nuZ+0/7Bzr4emn6I3np+YZ5tjlR+ZP5+LoI+sK7qLxu/U2+tz+cgP2B1kMkRBdFNgX9BpfHUMfmCBoIZAhWCGqIGof5R3WG14ZWRYxEwYQ0gzJCboG7gNbASn/N/1u+wn69Pj39xb3kPYY9pn1HPV89PLzafO18ubx1PB17xbuwuxx6wPqfOgs5yrmjOUz5V3lMOa65yXqU+1W8en12/rc//gEJAraDiwT1xbrGY8cwR51IGwh4iHMIVMhfSAeH1EdEhuFGMgVtxJuDxUMeQj+BIEBOP6Y+375DfjW9vb1f/WA9cT1lfUg9XP0zfPT8oTxL/CY7jLt5Ovf6vDp9egu6DHnLOZB5czku+RF5bzm4ujc66rvKfQK+er9pwIiB3kLrg9FE5cWwRmcHC0fWiE1I1ok3iS/JPwjaSL/HzUd4xlcFq4S1g4oC4QHHQTUALj9FvvK+PL2ZPUr9F3z0fKR8j3y2/FR8cPwTPCm7wbvLO5l7a/s1Osf6zDqS+lD6Pnm4+UK5bLk++QL5u/nteqK7iLzAPj9/NgBjwYgC1MPLxOOFtwZ0RyEHyEiNCQBJr8m8iZhJrckeSJJH7EbhBdPEz0PMwuKB+sDzwAX/o/7c/mf9yv26vTm8x/zbvIk8tLxK/GH8N7vVe/M7i/ufO2t7PbrFOsx6hPp2OfF5n7lhuQM5CnkBeWY5iLpf+zD8MD1+/oGANQEmQkhDlESABZQGWgcQx/iIQ0k3SUoJ7MnaidcJosk5CFtHhoaihX8EIQMUAg4BI0Akf0Q+wX5ffca9vH0BPQ284/y6vFl8f7wgvAs8OjvjO8u77fuG+5Y7XPsb+s/6uXofucm5v3kPuT240jkieW959fqw+5D8yD4IP32Ac8GYQuBD3UTKRfiGiQeCSHaIxEmwSeaKJkohSdiJZgiyh6SGiUWhRH0DI4IywQvAQT+ffsr+V/3r/Vr9Inzu/IK8m/xYPFJ8VfxZvE08QPxwvCi8DPwbO9p7jftGezX6lrpw+c95vPkKuQC5H7k2+UU6DfrZe849Gv50v4XBFMJRQ7RErUWHxpjHTsgBCNeJScnRSiyKIooRiduJZEiBR8CG5gWThLEDa8JuQUqAjr/k/xY+l340PZc9UL0VfNd8q/xS/EN8bHwcvAw8MfviO9G78XuD+4E7drrwep76RDocObJ5Hnj0eK/4mPj3uQn567qOe9N9K75Ev9WBHcJQA6KEmAW2BkgHQkgviJBJRsneCgKKeYoBygUJk0jqR+zG1gX0xJnDgsKSgbXAu3/iv1R+0n5c/f19Zf0e/Nt8njxBfHV8MjwmvA98OLvUe++7tTtpuyP60jqC+nE54fmReUm5HHj5uLI4jbjX+R65o7pku1Q8qP3WP33AoEIrw1GElwW1BkXHfYfrSL2JKcmKygLKX8pAymeJ1olOiKxHlUavRX3EBsMvgfUA34Ae/0I+wn5UvcD9t30BfQ381bylvEZ8a/wJ/B476zu/+2B7QLtdezZ6yHrauqt6eHo2OfE5qPld+Sc4zjji+Oy5LvmqOmb7YvyC/gG/scDHgk/DrQSpBbtGd0cpB8mInQkWSb4J/coXikBKaknniWvIgcfxho3FrwRSQ3hCOYEbAFs/uf7uPns92L2J/UX9DfzW/J78dLwQ/Dz72fv6+587gPu2O2D7SDtkOzf6y7raeqG6UnoGefn5ffkheRg5AvlkObs6Gns9PBX9hb88wGEB4wMLBEjFZ0Yehv7HU8gdSKpJDwmnSd0KHUoDCiEJiMk0CC5HCsYPBOBDsYJkQWeAVD+0fuX+f73dvY69Tf0JvM/8m/xvvAT8JnvLe+s7jTumO0b7cbsauzy6zTrhuqz6c/o2OeQ5mDlauS445rjNeSS5c3nUOvO7xj1IvssARkHhgxkEcAVfhmrHAsfBCHBIjgkoSW1JlQncifqJqYlgiOWIPcc0BhwFAEQtQu5B/0D6AB6/pH89vqL+Tf47Pa19WP0IvO08W7wVe9z7rXt4Owb7E7rkuq06dXo+ucV50XmeOXL5F3k+uP9423kGeU15sfn3umD7MzvrvNf+JD9uQLNB1MMMRCfE34WDRlHGx0drx5KINwhLiNMJJgkQiRrI/Uhqh/gHKoZDBa5EkIP7wuNCEQFYgKv/xP93Poh+WH3/fWe9GbzLfIS8TXw/u6r7UPs6uqb6Zrotec75zPnSeeP58Xn7OcY6EToTuiC6NDoXOln6gzsKO5C8T31d/k3/vUCtwcrDPgPBxO1FTYYRhoVHGYdYB51H3wgMyGbIZ4hTCF2ICMfZh0DGxYYuhQOEYgNCQqGBm8DngBH/nD8yPom+a33PPbe9H7zuPHg7yDuVuzg6ozp9+fE5gvmy+Xt5UrmqOar5sPm4+ZC5wDogOhn6a7q+esB7oTwMfMH9iL5yPzlACAFiQl4DYwQShPfFVcY1xmRGgYbTRvLG5Ecdh0rHswehh8mICAgJB85HV4a4BY4E7gP+gsdCHgEGwFo/un7y/ko+Jz2AvU789/woO7K7D3r3epd61PtLfF19j77Kv2x+qTzbOnl3jPVQ83Ix6vEqMbzyojQ8dYS3OjgKOZj7P/yEfwSCKcVxSQKNc1EzlFlWudev147WVtPp0ITNK8kIhekC1oCOfvU9eHxf+5E6yPnzuLR3lHaLNf51YPWrNnp3+PoxfLA/ScIzhACGOsb0xwzG+sW5BCrChQEyfxX9tHwo+uw5pjhQd0i2afUKNB3zDXKMchPx2vIecvh0A3Z0uTz8+UFnBpHMPVEYFZUY0VrE23baHVf5VJiRFw1yychHIkSyQoFBE39YvWL7Arjf9m60FPJVMW7xQXKeNGe2z3nxPJ+/SUGUQx/EEUSgxL9EfMQrw9vDhsNzgpiBzACP/tx8g/oNd0e03PKrsRnwufCWMbWy5LRMdZh2gLdTN+K4snnnfD4/QMQvSXCPVZUqWZ1ckN3RHM8Z9hVWUHsLNQaaQ3qA4L+WPyt+lr4F/Qr7fPjFdpB0UTK9sffynfSct4m7AT6TgW7Dc4RmhEuD8IKdwcOBvgFnAdPCl0MHAt/BzoAt/Ru6Mra9M70xjbDf8O2x/vO/dXZ3D7hVOIz4ZfeX9wN3Z3i6+yr/SgU/C3AR+NddW9XeAN5e3H5YuJQOD0/LGMc9xH7CiIE9f+O+YbxTecS3RTTZspFyL3InM6J2ZvkS/Ff/FUE8gZnB2YGWAIGACr+h/59AR8FTQkBDNILVQfL/0j2Oekf3EbRFsqBxtjHfM141Fzch+ND6C7qHuqy51nlduSp5fDqvPSEAEwPtSAzM11EmlLHXB5hVWHXW/lRHUQONUQntxkFEL4Guv7F+I/zIu0F5xDj0tzw2s3bHN1S4VjoVe5x9DD8kv/5ACsDpwK0AS8C8AGbAswEEQfTBqwGxQPM/T/3Du+A5l7e2diK1erUldfd2mfeKuKB5H/l7OWx5djkL+WP5o/oRO3H84X7MQYRE2khtDEtQgpQUlp4XwVfL1mUTspABDMEJvMZYhH7CbAD3v6G+THyDusI5endINp82TPaqd3d44TqSPF/+EX8Fv9oAlkD5gPCBVsHSQgECoMKaAhbBY3/Vfjb8W/rRuUP4ZHfW9+v4BHjruTz5UPntufd5kbm/OVD5c/lBedm6J7qXO4186r5uQK+Dogeri/fQKFQs1t+Ydphs1sCUANDwzScJigbORLIChoF+/+8+MXxBOkX4CHYTdILz/rOXdSy2qnjZO2R9Qb7U/6xAIcALAFiAuIDQQdNC2AOaRBjEKYMkAY8AFr4WvC/6p/mIOTK43XkqORY5CLjoeAz3QLaUdc+1sLWj9ip3PvhOOiX73n4awIMDjUebDB4QmFTQWDqZ3BpRmVvWp1LyjyfLEMfdhQCC8MDeP129jnsIOQO2h7PZskLxmfGTcsH1PLcyOdt8tL2GvsR/hH+DgCcAxUHWQt7ErwWIBnUGsMWcw/5B1L/fPXm7U/omuNx4tviD+IT4dvfCd2p2TrY9tUx1UfXMNp03QXi5ubP6T7vjfUh/H0H5hYIKbc8llCbX7lomW3waPld0E6nPCcrmxyUEeYHnQLK/qz4zPPw7MnjtdoN0xjOasvwzybVjN1i6CzxfvjS/NL/ff8lAX8DHwZhC/4QkBV5GYka0xb3D00Iyv7t9HPtoeeP4+zhHuJT4iXiP+F74Ofekd3h2u7YNtnX2YPbD94v4ZTjQOey7HrxN/muBKwTQCdjO4NOhl1rZ1FpcWOzWMZHGzeGJzMazRENC0kHFQMYAGP5rfDO57bcgdW+z63OvtDW1sfeC+i98SH4t/yr/5wAiQHhAlAFYwmsDXMSSRXjFckRZgxyBNf6cPKz6yvnWuUt5k3nMelY6ovptOds5Wrhw90y25zZPNlR2xrdhd4G4BTiXOOE5fvpu/CE/MsLmB8+My1GXFVXXt9hvF3qVXxJMT1wMkUnliBrGfgTTA3IBkL+HvJ86jLgJ9nI1VXVBdi93F3l1OpQ8rj4Xfo0/gYBHgTlBmsMKBGVEzAY2xfwFH4PwQdm/hj25O+g6cHmBean5GfjgeLh3+jbX9lx1tnTZNO+1E/XSds24BjiRuQH5ezjp+OB5OznWO7n+iMLrR3CM3lG/FaWYjZnMGbkXlBW2UiVPvwz6yizIM4WKA4rA0n5HO2Z4R/aldIp0CHRftRi2kThU+nn7lP1Mfnu+qr+ggG1BV4KhxDNFYQZGxz1GtEXWhGcCHT/pPUo7cHlWODw23fYM9UB0trPG82cy3XLSsybzqHT29hz3RXjwee46u3svO7h8Lv0i/p5AtwNvBsdK50880ztWR1iyWRrYmxbflAlQ6k2fir8HhoWEA2KBFn99/Vv7YTmeOHW20naQNv73A3hVufE7E7yNvnd/K7/IwRxB+MJGA5hEQoSeBOKE60PBAvoBG/8wPP87Fnl9d7K22LYpNV41PXTUtJp0uvT6NSs1+jbC+Bi5Hjpgu0G8A7zDPXX9Yv3xfmi+yf/FgVnDAUW4iK/MAw+okrEUtpWVVZwUZRIJj7RMzQoCB+zFowPbAkKA/D8VfXm7g/o4eK535zdGt+E4SLm+OqC8D71mvg6+1n83v3+/hQA0AEpBMkFZgfgB/YFsgGl/OX1ju5A6LriVd6p27baSNoV27LbVdxi3fnejuAa4/7mvuqp7mbywfSD9Wr1f/S68mby9vJS9e/6jQOUDrgb5SsyOr9HfFL5V69ZxFdRUrNIa0DiNnErpyJkGXkPLga7/YPzFOr841rc59e+1mHW69db3ODgYOTd6t7ucPHQ9cz5VPywAOYGAQq6DawQkg/kDLYIMQLt+W7z3Oy65lXkh+Kb4TDi9eJZ4hTh4OB+35ve6d8J4szkG+i267Ttsu6170Tvme637g3wnfJb9zf+4Ab/EhMhlzCdP0hNqFY9XN5dCVqdUtZHxjxfMM8lcRsSEkUJwgDo+Frvl+d039XZ0tU61QDXY9oo4YPnhO6+9Jn5d/yW/q4AXgHrApQFvwcnCkQMswzMCrUH2gJe/OD1yu8e6lHlweLK4OPfbd8b327eYN2Y3V3ddN7+4FzkM+j364LvfvGz8gTzifJn8mrzFvUh+Sn/lAYPEEYbXSg6NclBNUyQUv5V9lTkT6VHmjzmMSglYxrdD50F/f3S9ZvwMulu5Tnh9t1D3t7dwuAP42bpre288ub3Cvr8/Lf+HAHqAZ8EwgfUCfYM7w4qD5cNGQoQBcn9z/Zz76XonONz3y3djts427XaxtoL21nbNtyM3kHhVuS96Lvs6u8p8h/0uPQf9cP10fbP+NT8ZgEICHAQ7hnHJWAx7Dw5RV1LxU00S5hGAD4BNW8rtCF5GqISogxCBh4Bsvvt9AfxVevB51jljeTz5MDmDutp7iPzFPc8+rD8v/5SAMABAQTVBQMIGQr8Cl8K3wdLBBP/P/lV81ntyOjI5GfiW+BW38reHd7G3SvdCN0F3Ure9d/I4kzm2emM7cnwnvP69EX21fZw9pr3bfmA/CQBZgjKEQccUCmwNUFBjkrfT4pRTU5VSBA+jDODKHId7hTuDLUG/ACU/Bz3qPFk7Szo8eQo4+7ivuTD6BLuTfMt+fv84/6sAHkAif9j/ygADQFAA3cGCwgpCQMJUwaOAdv7sPRq7YznXeKM3gXd1Nzv3HreAOCF4FPh1eKx42flZ+gg60zuAfKA9U33FvkM+pr5gPko+Z35Avs4/jUDSgpTFJEf8ivbN4lB30d2SidJuEOBO5UxlCcnHm4WbBBHDD0JaQa7A3n/dvpd9YLw8usa6XLoCOl761Lvy/Jf9Vn32veg90H3+PZy96b5x/wmANcDowZxB3YGjwMq/vb3tfHz6w/nKeRX43fj6eSV5rvnJOjd51fnYeZE5q7mS+hS62PuyvHG9BX3kvdv92j2XPRe81jz+fS2+FH/dAi3E+og0y2XORRDW0gjSvRHiEKQOhIy2CmUIYgbhxaLEvgO7gvDB2wCuPzI9RDvv+gY5MHgSeCz4Y7kMuln7UHxDPQK9qT2Svdy+KH5Ffxx//8CTwbJCDkJ9QfJBLD/0Pks9MPuGOpJ523lxOQW5Z7l4uXF5YLlweSB5OXkCObp58fqPO5A8Tj0c/bD9x/4//eZ91f3PPh/+sr+jAUBD2kaXSdvNBJA20jrTR1PrktXRa88GjPGKVchwxoBFQoRVw0rCcQEMf/Z+KLxE+vb5BDgIN733UDgauRd6R7uR/J69bf2DfcB93X2ifbr92v6d/0AAfEDWAVLBUID7v75+KLy4+ve5bnhRN+u3sPf/OE25C/m0udu6HToaOiR6FTpA+vL7f7wnfQ/+CT7O/0n/gv+FP0t/Jz7Tfzu/4cGbhBEHbsrJTppRhNP6VKaUWZLJEFuNRkpbh2AFA8OOgp9COEHwQbFBLUBQPyt9VPuPOeT4c/dz9xO3hfi4uZo7K7xfPUV+E/5bfm/+CX47vd4+C/6dfz7/lwBtwJoAlIAQ/yh9lvwwenH443fTN0+3RffjuL25mXrFO/q8dTzd/Sj9IL0fPTb9NL1b/dG+Wz7bf3t/s//PQCjAM8BlQR1CSURYhsrJ1IzLj5qRtpK70qsRkA/YzXuKVIf9hVMDgwJHAZQBAoDMgIXAK/8xPdp8S/qC+PZ3N7XudX21XzYaN3S4wHr3vEw+EP9vgDCAigDbgIDAUb/f/0K/L36gPm3+LL3SfZN9PPxbe+O7CPqJOgD55vmBueu6OPq2+0S8Sb0NfeQ+T77LfxD/MH75foi+iz5k/i4+E35m/oG/QcBfgYRDp0X/SECLY03KkAmRihJ3kguRSE/DjedLTMkPRtWE7YMYAedApT+CPvn9nXyzO3D6JTjU9+l2wnZJ9iQ2I7aT95G47DoHu/L9ef7RAGpBakIEAolCrUIAgZPAlT+cfq/9nTzkfAP7jzsrOoy6ULodufb5rXmDOeJ557oaeqZ7ETvCvLo9K/3OfqR/Hj+3P8PAfsBUgJgAlICNQK9AkAEAweDC9cRiBn/IQorWDMhOh0/v0HnQXk/jzqMMygrBCKxGN0PlAfJ/0z58/NJ72LrYuh75jzlpuTQ5HnljOb354zpVusI7ZbuffCN8oP0p/bp+CX7Yf0w/4kATgFbAYcAMv9+/T77L/kl9zn13vPv8oTyg/K08iXzv/NY9Lv0BfVT9VH1OfUR9dT0h/Rh9FT0S/R59NL0lvV59nz34PiX+rT8DP+rAc0EUQgYDBAQKRQoGNwbTh9HItsk+CZJKAopMymKKG0niSWeIi0fGBuZFgsSaw38COsEEAGi/eT6c/gn9hL0APLw7+7t7usi6rbovOeG5x/oKemt6n3sau558FfyEPSP9bn2nPcj+Fj4Ufg5+Pf3pfda99P2V/bn9Vz15vRm9PLzmvM+8/fy7PIP81zzx/NP9OH0d/U69gD3yfet+Nf5YPtN/dD/8ALIBkMLFhAGFdcZXh5QIpUlJyjNKakq1ipBKh8pmidvJbkiiR/BG68XdRMPD5cKMQbUAej9bPoI9+HzCvGZ7lzshuoI6drnWudZ59Pnwuj46XnrOu347pzwCPI88yz0svT/9BH1+/Tv9PL03/TL9Nj04PTg9L70mfRv9CL03/PI8+Dz+PNG9L70OvXZ9Wb2A/ej9z349fja+fT6Z/xq/s0ApwMdBysL4g/uFPoZ2R45I+8myym3K6gsdixNK1wpyya6I0AgfBxgGDYUKxA4DFgIXgSZAED9IvpL97T0PfIR8DPuo+x+64vq/Onz6Tbqz+qo68jsA+4d7zbwOvEP8sTyY/Px83j09vSK9Sv2vfZQ97f37fcE+OD3m/df9x733Pa99r720fbv9hL3SveU9+33W/jU+Fz57/m3+q77svz9/aD/mAHgA3cGaAmrDFkQFhSsFxcb8R0wIPAhACNQI+ki3yFeIJYelBxMGtUXNxWbEhQQVg1lCkkHJQQbAQb++Pr89w31U/ID8Bbucew661Hqsuls6Wzpuekk6r3qmet17GHtfe6f78PwvPGW8oPzSfQK9d31nfZJ9wT41fiE+Q36wPpy+7H7yPu8+2T78vpL+q/5Gfl8+Cf4CvgY+Fb41fia+ZH6x/tX/U//twGbBPIHvwvGD6kTYBfLGp4dzB9EIeEhyiEgISogDx+kHfIbFBouGEAWHxSiEa0OVQvXB14E0gAy/bz5o/bf83jxie/s7ZnsgOuY6hTq6ekR6obqQOsW7CDtdu6279rwzPF+8iLzofP18zX0hPTl9F31EfYR9yz4Ovk5+vX6dvu6+6v7T/uV+qT5tPjV9xv3uvaS9ov2z/ZG9/D30/gO+qb7lf0LABMDugbdCjoPfBNYF8QaoR3dH2IhCyIBIoch2iAlIC4f0h0bHBIa0BcjFdkR+A3qCdkFxAH0/Uv6APcR9GrxU++R7SPsAus16snpyOlH6g7rIuxo7druRvBu8ZnyhvMb9Iv0z/QC9VL1xfVF9ub2pPeJ+Hr5Ofq8+tX6j/oX+kn5KvjJ9kj1/PPq8hbyk/Fn8aPxKvIJ8xj0XPUU9y35tfuy/kICVQapCkMPrBObFzMbNh6oIK0i1yMuJAIkfCPwIg8irCDkHsEceRrXF8sUSBFtDZsJxAX8AUz+vPqP99H0fvKW8Abv2u0l7cPsuez07GLtFu7b7qnve/A68fTxp/JS8+fzffQT9Zb1/vVO9qz2D/dp97z34Pfg96v3Evcw9hr10fN08j7xO/CJ70vvNu9u7x3wHPFq8t3zjvV/99j5wPz1/6sD6AdeDM4QARXXGD8cNh+NIUcjaST5JDIlLyXtJFgkWyPkIQsg5x1XGzAYWRQTELgLegdkA1D/UPvB97b0NfIi8FruEu047M3rw+vT6wjsiuyB7Z3ulu+o8NLx6vLb85r0N/Wr9QP2PPYu9gr27/Xi9en1vfVW9dn0O/RT81TycfGN8MnvRu/x7uHuNu+4723wVfFa8sTzkPXO93b6rf2YAfYFxAqHD/gTABh/G6EeMiE6I7wk1yXIJpEnOyiGKF4oqCdEJlIkrSFPHj0akxW2EL4L5gZCAsv9sfkX9hjzjvCB7uXstusM65LqWupM6mHqv+os67zrY+wd7RjuJe8a8BvxNvJT83r0g/VM9tf2LfdX90H34/Y09lH1SfQd8/jxA/FW8Onvu+/Q7x/wtPCL8XDyUfNd9OL1Lvgd+3j+aALUBqMLlxDqFLMYIhwJH6chiCOyJIclNyYXJ40nbifBJpslMCQmIngfAhz5F7ATJQ+TCv4FaAEi/VP56vUC84jwje457UHsaevB6jDqyOmr6bfpCeqL6irrL+xe7a7uDfA48W3yZvMO9J/05vQB9QL1+PTq9KT0PPTS81nz1vJr8vjxofGf8bPxAPJp8rbyR/ML9Bz12vYA+b37NP9IA+MHdAzIELIUIxg+G/AdCiC2IREjJCRXJVkmGCdxJxUnPiakJEkiTh+oG3YXJBPfDpUKSQYDAjD+vPqz9/b0SfLl7+rtg+xk62nqkunj6Jbor+j76FHp4OnQ6iPsee287unv+fAL8t/yh/PU8/bzQfSS9LL0dPQo9OnzzPON8y3z3PJq8inyK/Iz8iPyQPK98rbzVvV39zD6of3dAXYG/AoDD4cSzBWHGAob+RxvHsAfJSEQI60kBSbEJvQmqSZtJZsjoiDYHJUYQRQSEMALpAedAzkAPv17+uP3PvX68uPwDe9G7aXrP+oQ6XToFeji5yDoyujw6YTr8uwq7ljvf/B18TfyzfLo8g/zQvNh81/zKfMK8xnzdPOK84zzmPOh8+DzBfQb9AL0GvTC9O/1wPcW+u78dACBBI4IMQxEDzIS2xRQF4oZKhvfHMQe8CAGI5skxiUuJjImbSWlI/ggdB3TGf0VOhJ3Dq0KJAfJA+wA+f0q+6n4Mvb/86/xf+917aXrQ+r+6BfogOcs54LnJOj86AjqDesu7Ant2u2V7g3vie/4757wV/Eb8rHyGPOD88fz8vPl88fztvOv88TzRPQL9QP2mffc+b785P9WA8MGFQogDZAP/REWFA4WzxdvGS0b2BzpHsEgWiJEI3AjTiNXIpwg2B2rGkIX5RO0EEwNSwp5B/wE1ALFAJP+Mvzr+bj3pPVh8yjxOe/W7bvsxOs469jq3uox66DrP+zP7C3tfu267brtfu1x7WrtUe1/7YrtwO3/7TPurO727mnvAfCb8ITxnfIP9N/1Hvgq+6X+igKjBm8K4A2pEAsTJxX+FoQY1xkqG3sc9B1MH2Ug4SDPIEYgCh9PHcoayhebFHcRog69C+gIPAb/A0UCkQD2/mX95/uN+mT5LvjC9k314/Pg8uTx+/B28FDwj/DS8BXxSPFj8Tvx2vAj8BzvQ+6d7TDtw+wl7H/rEuv26ivrU+t26+Trdext7eTuFvEC9HH3hPsEAJYExwhFDDcPxRH0EwAW3ReJGQ0byRzgHtUgGCJuIiMiOyHFH2cdCxomFlAS1A6pC8kIAgbGAyoCKAFJACX/Bf7//P77tPpU+b73WfZz9cP0T/Ti89DzSvTl9BP15/Rt9MjzMfNU8j7xJfA873Xu3e1E7XTsieu96iLqfOn+6LrouOhH6YDqM+yb7rnxUfWG+fn9pwLeBjoKIg2XD9URuRNtFRAXlhhnGr0c4R6HIG4hiiHWIBcfWBy3GKUUuBBPDWIKJggdBoAEEgOuAUIAf/68/On6j/lq+H332vZR9j72ffb19ij3bvdo9zf3JPdY9s/1FvUc9KDzcfNL8xvz9fKN8u/x6PBJ74Dt0etK6jbp1ugs6U3qZuwo743yjPa1+pL+LwL8BDkHZwl7C/cNbRDBEhEVyhdkGnEcBh5/Hj8eeB35G24ZIRblEnEPhwzuCWgHZAV3A/wBpwCU/4H+U/3c+4v6lvlc+Lb3tPah9U31mvUS9zr5XPyNAD0FZgmdC/QKSQchARD6c/Lm6abhA9op1BzPaMrYxwPHksj6zIrUNN6O6jb6HwtXHHMs1DlKQ1lIqkiuRAw8cjCGJJgYXw12BDb+/vn696/25PW99e30avM38s/xe/Gc8oT1UPna/eUB3QXXCFMKwQpRCrIJMgmWCLYIkgmTCcQJwAlLCKgEpv8++Mnv2Of13+baidjs1/jYedty3fPdmd0L3NPaUdsm3lHkme4h/dEPfyauPc9RAGC+ZTliv1URQgsqvRC/+v7pkN873KndFONu6lTySfcI+5r8PPyR/Tj+AgCHAwMHigcDCIsGJAFV+2b1mvBX7v7uH/KN+Pz+/APCCEIK3gbjAHX59/Bs6YXjhuAr4JThV+Tj5tDo6+jR57Hmn+V/5fTnAO4I94sCtBDTIbQ0QkaUUxtb+FlCUBxAQCupFLz+We6n4/7f2+Jq59DuTvfA/dwBggaVByAHEAnuCN8HNgcjBFz++/pS9orwPO577PLr5++u9Pn4nv7zATQCFAJy/4T57/Pu7r7pMOZQ5Cvi1+FK4cvf5t513jzdW9wF3p3gJuXb7Ar3XwPIE0wmODomTvZcsWPUYS1XXUN9LAAU1fym7ZzjceEE5l/sFvPy+kMA+QEBBtMGLwf3CQ0LRQmKB48CnPrY9R7w9eqE6SnqyezF8w37XgBOBSAH+QW2Ay7/WPja8e3rDuYd4sTeSdsX2WjXQNax1ZvVONVV1lLa6eA76mP3LQc+GLgsh0CXUOFbmV5+V3hJ2TbZHykLIPps7R/n2OQN50jqD+/w9Jr6swC3B4AOihKWFvoV2hCXCtUAAPfF8b7umu3g8UL0qveT/eUAYgMOBiIGzwMpBNv/v/k+8yDr3+Q54YzeSNvs2ZTW4tQj1CvTM9OP1Xfb6ONY8eIA8hJyKHU/qlPBYfFm4V6uTiI5JiAiCSH2wOmm4/rjEejA64bwLPWf+Xj/eAQwCG8K3Qo/CbMG7QHj+9H38/JT8MXxlPLG9Wf8xAAXBQEKJQzZC1AM0wnPA97+l/cJ7yzoyeHs2t7W9NPX0c7Qis7+zRvPnNOY3Jzph/m9C3chRjimTZ9eIGfuYtJWb0N4K8oWkQPO9gLuIOoE64vrlexY8B71k/hLAycKOAxxD7gK9gCg+sDybOmp6afpFepm8Ar0fvX5+XX9sf84Bg4KNgpOCqkF+/xc9U/sReO83ivbktkU2l3Y6tRd0U/O4s3a0wLfhe/uBEod3TZ3Tq1f+GeuZX1ZR0lwNdojwBO0Bmv8pPPZ7iXqk+gb6hfx5vccAt8KMAtGCwYGQf1g9cjvJOnv53fq9+pB7wTy0vPr9pH8kwGKCLoOug84DyII1f1R8l7nxt4p2szXLtcr12PUydDKzKbJYct707jfB/IKB9cd4jTBSc9W41xhWVJOjkHVMZQlNxhZDpIGZgDa/ET7vfmM+o//oAEbBzUJjAV8AF379fIw7vfsuOg76mvsgu3R72D0qPTA9nb8B/+UBFgIewjWAib9p/SX7J3pbuXX47DgUN092IrTxM+JzwnT8Nk955r1XAa+GG4sVD32SgVTelCsSGI9QS/0I/YW0w0pBCr8sPoK94b4z/rz/+YCDgraDfgMKAwqBMj8NfQr70Xqzuq36uTspu9P8NrygPQY+JL8GQTQBkwJ9QWA/r72je9k6nbmGOS83VHYPNHfyynLxc191BXf2ev0+qINqSCGM61C4krHSkBFbjxKMZQotx1CFakM2wN3/3n6Bfiv+DL9XQDkCA8OTg03DSYIrv8f+j72BO3d6rHnNuNS4xvmKue97Lz1f/lhAkgH+wWiA6z/uvcE9Jvx8eu46H7kc93r2AXYS9aC2x3l0u34+c0I1hSII8EyZjoaPpw9zTUILCEk7BhEEMEL1QafAxsCcP97/G3+RADqAkAJzQtlC74JMwUE/sz6dvbR8ZnwN+2D6wjsWu7474v0EPg/+j/9IP14+jv2mvFk7EzqYujX5urkYeEH3Rba1Np53jPmkfCk+2UI4BYuJnAzSDxrP9Y6JzT0KkAivxmXEvoN0wfHBLIA7ft3+qf7iPvg/W8BGAFwAgYDl/8o+0P5LPZ59Xj3Hveo9lL2cPc49875Vvxt/eD+NP0r+aLyP+2y52/kfOJE4UzgEt/E3vzdPt8M4uDnDPCv+nAHGhWnIxYwqjflOYI3oDBwK6kl5h5AG+UUjw08Bmr+T/bb86L0f/VW+p/85P1x/V39f/rt9wn3hfXT9MDzzPMJ8k3zVPRx+HH7DgGYBR0HBwjlBKcAePr19UPvpurl5fXhP93i2r7ZU9rM3pTmevCG++wI1hPJHYglBivpK+8rginPJC8hQB3pGO4U1BCxCqcFpQDQ/K/7MvtB/Mj9Hf6m/RD9bfob+PD1QfOn8UvxxvDj8LjyJ/Mz9UD4jPrh/WcBWwOaBGsFpQSzA9ACwQAx/1f+X/x2+tz4EPUP80TyZ/FY8iz1dfej+q/+VABgAvkDVAXpBWYHjgdHBwQIygcpB7kGgwaDBR4GAQeDBy8IWwmHCR4J7whkB7UFCwRAAiYAb/5y/DP71/lR+Hf3f/Yh9jT2mfYu9034sPmP+zX9hf4p//P/UgBaALgAcQAiAK//of5w/V78PPvG+gT7QPsI/D79Gf6A/2UBswL/A2oFDgZdBgMH8QbuBjUHqgZ9BssGNgf5BzAJ7QmFCikLXgrdCKMHtAWkA7YBZv+E/AH6kvfm9ALzAfJ98d7xC/Mq9Hb1wvYd+Ej5yPrp+wv9yf4jAAcBBQJlAhYC4gFkAZ4ASQAgACkA4ABsATACcQK8Ak4DjANcBMIEPgW9BfIFYwX5BJQESwPRAtICDAO8A98EdgXHBQAGowXBBPUDBgOlATEA1f2R+6j5XPfp9d/0J/SA9HD1/PXd9gf4y/gX+hb72/uc/GT9B/58/uX+//6g/2YArgDlAEMBlwHOAdwB+QEBAuQBPAIzAl0CkAJ9ArICvgJuAisCDgKrAegBRAJSApsCAQNXA5YDHASvBAQFNwUPBX8EcANlAlUB+//9/jP+Jv1L/Kz7Gfuf+rL6Cvs7+937jPwb/Rf+yv5F/xcAvABTAesBTAKcAuQC+wIAA/MCxAKyAowCEwLYAcMBdwEQAbQA9f9K/wz/pf5Z/iT++/0w/jf+Af5N/on+uf65/3UA3gAqAvcCzQIdAwMD9gGOAbsAav/J/hn+Z/0P/ZT8Dvwz/Iv8tvwp/dn9lP5u/+3/HgC6AF8B2QH+ASwCXwKWAqICKgLrAbwBgwEvAeEAagDM/23/C/+n/qf+wf7O/gv/Sf9a/13/Xv9e/0b/Pf9O/4H/x//f//v/UwC6ANAADQEqAQYB4wCWAB8Ajv/3/iv+df0n/dX8kPzb/DT9tf13/vH+Y/8EAIMA0wBFAaMBDgJ5AvgCZgORA6oDnwNfA/cCYwJoAY8AEwBr/wb/9f7X/gT/Zv+b/8//QQBnAIEAiQBHABIA4v+q/3n/ZP9B/0L/UP9Y/3j/nP+5/+P/9P/o/+z/qP9M/+r+X/7p/Yf9IP3z/Db9jf0A/rn+Zf8aAMMALwGhAR0CbwKqAtUCygK9AnwC+QGnASgBaQDq/1b/uv56/l7+Yv69/k7/9P+3AFAB1gE0AggC0gF2AbwAMwC2/x7/1P7N/qr+y/5A/4j/0v8eAD4APQBLACwA1f+f/1r/4P6E/kL+C/4h/mn+ov72/pj/EABjAOcAaAHRAUYCagJUAlkCCwJoAcEALACR/x3/nv4w/hj+Ff4r/mz+1P5F/+L/WwCvAB8BUwFDAT0BDgGYAD0A4/+A/z3/8/7G/s7+4f73/jH/ev++/wgAQgB6AKoAugC0AKEAfABnAF4ANwAZABEABQAcADUAPgCLANkACgFJAWcBTgEnAecAdQDw/4P/J//F/ob+af58/rz+DP94//f/bgDWAB8BVQF0AV8BIAHDAF0A9/+j/13/A/+s/nX+R/4f/i/+U/58/uD+R/+m/xIAXwCKAKYAvwDHANoA6QDXANoA2QDIANgA1ADQAO0A8QD8AB0BGgHzAOEAtAB4AEwA6f+P/3X/Rf/+/uv+4v7l/iD/Vv95/87/MABuALkA7gD2AAMB5ACMAD4A3f9d/+z+f/4W/tT9vf20/cP95v0//qb+8P5Y/8P/JgB7ALUA2gADARkBCgENAf8A2gDAALcAuwDeAAQBFgEyAUkBTQE6ARYB2ACBACsA3v+s/4X/XP9M/0j/Tv9n/4j/qv/A/9z/AgA3AGwAkAClAJ0AkgBxACIAzP+S/0f/9f6x/mr+UP5W/m3+jv7E/hD/W/+w//v/OgBwAJIAjwCQAJsAhAB2AG4AZABvAHUAewCUALAAwgDaAO4A4gDGAJgAXAAhAOf/wf+X/3r/hf+e/8T/7v8GACwAbQB+AHsAigBwAFEAMQD5/83/qf+K/3P/X/9S/1b/W/9a/2z/fv+G/43/lf+q/73/yf/h/wAABwAWADYATABiAGwAggCkALIAtgCzALMAoQCOAIAAVgAoAAkA3/+f/3n/Xv87/yH/Gv8u/1r/hf+z//b/GgAtAFEAawBxAH0AhQBqAFoAMwADAPn/1v+x/6H/m/+Z/6T/uP/N/+j//P8LAA0ABAD5/97/w/+8/7r/wP/Q/+D/AgAnADgATQBuAHwAgwCUAJMAhQB2AGsAYQBUAD4ANQAmAAQA+P/t/+r/6v/o/+//6P/l/+X/3f/c/9//3P/a/9D/x//C/7v/yP/c/+T/6f/t//X/BQAJABEAFgAEAAEA///r/9n/yv+2/6v/rP+y/7T/x//l/wAAHwA4AFEAawBzAGoAaQBiAEoALgAVAP//7f/u/+j/5P/l/+f/9/8AAAAACwAbAB0AHgAiAB0ADAABAP7/9//t//L/8v/m/+n/6f/n/+z/7//u/+7/7v/w//j/9f/t/+3/8//u/+v/7P/f/8//0P/V/+L/7v/x/wgAFQAaADAAPQBBAEYAOgAlACMAFQD4/+X/3v/e/+T/7P/s//H/AAACAAkACwAGAAkABgAHAAcABAAFAAcAAwD5//L/7P/g/9z/6//x/+z/8P/1//n/9v/0//j/+f/8//z///8FAAoADQAMAAgACgARABAACQAJABAAGAAUABkAGgANAA4ABAD4//v/+P/5//n/+P/0/+7/8//0//X/9v/8/wcAAgACAAEA//8CAAQAAwADAAQAAAABAP7/8v/3//j/+v/7//f/AQAJAAYABQAEAAIAAgABAAIAAwABAAIAAgAFAAUAAwALABUAIAAlACIAIAAgABoACQAAAAkABQD9//f/9v/2//T/7f/n/+n/6P/p/+r/6//1//r/9//6//3///8AAAYADAAHAAMA//8KAAcA/P/+//z//P/v//T/7//z//r/8f/w/+7/AAD7//r/AAACAAYAAwAHAAYADAAQAA4AEAALAAcABAD5//7/AAD8/wAAAAAAAAAAAQAAAAQAAAD3//3//v/7//z/+//5//z//v/8/wAAAAAAAAkABgAKABQAEQAOABUAFQAGAP7/9v/x/+j/4//p/+f/5//o//H//f8GAAgAEAAfABsAIwAoABQADQANAP7/9v/7//j/9P/3//T/8f/0//n//f/9//z//P/+//7//P8AAAAA/f8AAP7/8v/r//T/8v/s//T//P8BAP////8HAA0AEwARAA0ABAAAAAAA///3/+3/6//g/97/5f/n/+//+/8NABMAGQAtADgAPABAADsAKgAgAAoA+f/3//T/9v/z/+7/7f/1//z/+f/4//j/9//4//z////6//r/AAD8//T/8P/x//L/6v/h/+//+f/9/wUAAQABAAkAEQAVABEADwANAAYAAQACAPr/9f/+////AAAEAAgADAAHAAMACwASAA8ACAAEAPz/9P/4//f/9v/7//n/AAD9////CwAIAAoA+//+/wIA+/8CAAMAAAD8/wEA/P8KAAEA/P8OAO//BgD+/+z/DwD2/wYACQDx/wkAAAD5//j/+//9//v/AAAJACEAHwBUAIsAtADYALcAVADJ/0D/2v6z/pj+wf7F/iX/qP/L/0EATQBiAJAAkwCTAHAAhQB7AFcAQQBTAFYAKwAhACsAHAD7//X/BQAEAPv///8MAAgA8v/4//7/AAD3//3/CAAFAAAABwATAAoADQATAA8ADAAFAPn/+v/3/+z//f8FAPr//P/9//T/7P/z/+j/4f/m/+z/9/8FAP3/BQAMAA4AHAAWABsAFQAZAAAABgD2//X/AQDo//z/5v/j/9L/2//d/+r/5f/b//z/8f8JAPf/IQD9/xMAFQD9/yIA4f8WAOv//f8IANz/BgAGAO3/FAD+/wcABgDt/0oAxv8zABIA5/8zAKn/WwDq/+P/MgC8/ykA4//7/xIAy/8IABgA2/8ZABQAw/87ANL/PQAFAN7/bwC2/yAA6P/m/wIA0f9CAPb/BgAxAB4A//8QABIAGADs/yMAKwDG/0gAwf9FAOT/5v9vAIX/OwDr//7/BQDv/yYA3v8PAAYALgDa/zIAGwDb/0gAzP9dANf/+f9XAIX/TAC4/8f/MwCC/wcA1f/K/93/pf/2/8f/FgDA/xUAHADj/0kA9v/+/0kA5P8BADcAXP9yAJD//P/v/9v/lAAt/9QA0f8ZAHAAhf8yAQP/xAB7ACL/EAFO/4UA+v+0/+UAXf+EAB4A6f/NAAn/uQDO/6H/LwCE/zwAuP/H/8L/YAAg/8kAIv8RACgALf//AND+RgEu/wMAvwDW/vEARP9LAGMAPv/cAGL/UQBgACn/GAEn/4oA9f+Y/wsB9/6YAIz/rv/tACX+wQABAAf/NQGF/qQAcQCP/ugAe/+x/8sAsv7BAFgAf/+oAM//CQAaAFT/FQDY/4X/eACn/9X/wf9lAcr+RACsAAj/RwEr/moBi//S//gA7f4KAdT/hP+IAC3/ewB1AAz/ywDc/wsBP/9pAPoAVf+qAJD/HgFH//H/9QDY/rQAAQADAIYAP/+IAZv/Ov8pAen/AACp/0EBD/+BAFoAXf+BAJb+WQFv/vL/SQCI/pAAZv/n/4IAZ/45AV4ACP7oAfj+vgB+/wAAjQCC/5T/TwBcALj+oAG6/toACQBv//QAk//YAOf/ZwCgADf/WAHa/jwAKgDb/ukAEf4jAcb+ZwAr/4sAhAAU/v8CKv4AAVcA+P4nAkv95AD+/67+VAAQ/y8BoP5AAHIA/P/R/wQAlgHy/osAKQC//y0A3v7XALX/Kv8tASz/GwCPAF//0gASANn/kACr/z0AgQBo/8n/tQBV/z0A/f8lALQAsf9PACQARwD//t8Anv94/9gA+/5WAWD/kQBfAHL/RAGc/gIBZ/+o/4kAQf4DAbf+vf+DAMn/RADm/6IAsQDu/3X/bwGV/3L/bgCE/1gAyv+I/34ACwC6/7n/lgBwAEj/jgAoANb/JADP/2wAZ//3/6v/rf+HAJ7/7P8+AGkAQ//G/3AAbv/t/wQAt/8NAcn+OQDqAPT+YQAP/+IASgDv/gkB9/+z/9UA9/5iABwAuv+wAHL/ygB2/4H/fQAEAKb/MwA2AXD/mQD4/4P/uAB//r0AEQBO/5oA2P9ZAM7/UgCb/8gAmP/N/3oAvP5bAV7+yv95AKj+RQFg/w0B4P8XANgA4P6hAGD/DwDh/4z/iQBw/9X/RwBx/zkAsv9PAJ0AQv/6ANf/FABjAH//2gDr/+D/ywBI/8IA7P95/6UAGP/GAHL/+/+YAEz/lQBvANz/AAApAPb/DwDC/0YAkf/h/0wALf/v/7r/y//Q/8r/KwCJ/3AAyP8CAL0Aa/93AAIA2f92AL3/XACn/7P/HQCR/yQAZP8FAGIAsf8nAPz/XACRAMD/fQC0ALr/NQAlAAkAuv/g/0oAhf+E/zcA0f/S/x4Awv/a/7r/EgAFAAwAUwDo/00AFQAdAB4Ayf9UAMz/v//s/47/CACn/9L/IACj/x0ALADx/yoAHwBKACcAFgAKAOT//f+z/y0A8v85ADgAPgApAKX/iwCi//v/NwABAC4A2v9bAJr/l//R/8v/DADv/24ALADa/5f/f/+2/13/xP8GANT/8v8FAPz/2f+i/w8A3P8kAMIAuv9UAAAAe/8EALj/KwCp/1MATQDV/0AAvP/k/+H/RAAoAL4AmAD7/2MArf/Q/yAAKgAgAFYARwD0/w0Atf/n/6z//f9SAPT/bwDq/xoAsf9h/xIArP8YADIAEADR/5D/nf+J/4n/s/8WADAAMABKAPf/xf/s//3/HwAAADwAOwAHAP7/GAAZAEEAnwBvAGgAJgDu/zEA/P8AACYA9/9HAPf/3P/T/9L/CwD3/2MAFAD4/8X/8//P/3n/VADO/zoAbwADAMv/i//c/zL/3f8KALL/0/8xALr/Zv/R/1z/7v/V/1AAKQDB/yUAwf8SAAAAYQCiAHgAEwGYAH4AcwBeALUAUgDoANoAkQDCAL8AiwBdAJYAoQBzAEkASwAVAA0A2v/B/7//jf9q/zP/Mf8q/wL/FP/t/hH/AP/I/hX/C/9J/zb/af+d/2T/fv9w/6n/Uv9E/4n/gv9y/2X/kf+K/6P/f//N/9H/1P8PADsAVgBeAI0AqgC+AJQAAgG4APEAzgB4AM0ASgBKAGMA0v/r/8f/f/9t/8H+SP/A/qP+o/5E/pj+hv7X/lD+wf6r/qz+Of+Y/iz/Gv8L/0X/6/4p//3+O//e/jb+eP5h/qv+Wv8w/8P/aQCHAGsBrwGbArADqARmBQ4FTwUpBcUF9gUfBnoG1gX5BesDQwOcAWUAFAGY/xsAof6S/RX9hfsW+0D6QPrR+tL6JPv7+nf6rvq/+gf7zPrq+pX6b/oO+nr5QflN+eP5HPoF++f6KvvN+4T8bf3W/ogAjQJEBYsH4wqaDfoQQRTPFsMYtRiQGL0WdRSYEaUNWwpPBXcBwfzZ9/z0bvGw8Dvv5e/z7/TvcfEb8SXzPvR89ub4U/s0/TL+TP7t/bX9CP0Q/SX8g/tz+vn43fa79G3ytfBB8KHwsfFP87H1zfkZALsI8BH/Gd4gMiViKA0priihJqAjOiEVHKkWUw+4BTf9SfYY8FDrc+mc5V/kleMV4kzjzOR96Vvub/WQ+j3/KQNaBYgItQrLDeYPyhGaEK0NHAntAo79SPj286XwAe226GvjPN8F3ADb8dw74KTlp+vA8638dQiwFgskUDDLOJw8Cj+3PFw5LTMGK9wjfhmAEF0C7vZ96qziHt+S2vTaJNkE3P/dwuLJ5s3sGvWy/B4GoAoiD6UQyhJ3E1wTPBJkEA4PRAqHBaH+h/c/8gTuaekn5jDjGOAG3zreUN7i33biAebh6rnvbfYn//UJGBe/JI0wVTkkPhU9ETtLNcsuLycbHu0UrwjT/sXy0OrZ4xDhWuE04XrlJ+eu69/u1PMi+Pb9PgRBB7gLGwxJDKcL2wqICRwICQaQA9AAavyz+GH0WvAU7S3qU+ev5eLk9OOe5XnmP+cS6XXpWeuj7XDyKvjiAGwL8Rb6JNguGzfkOaU5GTiaM5EuZCXIG9AQXAaJ/MLyFuwd5i7mteb153nqZexS8ML0xPr6/Y4DtgZ2CW0LWAmfBkcDOgLG/1z/wPsf+TP3ZvSn8yDxae+27a3tX+xt65nqj+nK6sHq4emU6bnoier07m3zL/k7AA8KbRa0JW8yjTsNQlhCGkBhOmwxkCZuG9cSxAdZ/jP0FOq45B7jTOWf5u7rD+4/8VP2+/cQ+qT8/P+3AZgEJQOX//L8J/r799n3c/YX9g33qfaw9vX0UPPI8ePxU/HN8RTyiPEv8Tfv4+vh6dbo/+oV7/TwqfTU+KoBSQ+RINUwaT14RdREZUHvOTQw+iY0HRAVMQobATb1SOlE4nLegOHO5F3sj+9L9ET4U/jU+rv7tv41AcgF5QTxAf39XPn09tP2FfYL9rr4Ivgj+Vz3K/S08WHx/fEv8kzyPvAy7zbtCuqk55/lx+a96gfuLPIe9yAAIQ91Irg0j0FhSR1JqUXRPl81xynHG2ASRAW5+wrwW+OX3d7bM+Gg5PPt4fJ++aQAnAFvAtYAoAGrAUEEnwHT/ev5JvZx85bxXfCQ8P70OvdB+j/6OPhd9qj1PvOl8VXxGPCP8OHtrukf5ePiROTM52vsmfGn+IsDjhKKJM010EN6TIRLYEZQPJUw5SMrFr8Lzv4h9+rswuJP3f3bUeCQ5ynze/jkAGwEBAX1BLsExAMFA4oFzQCc/sj3wPJs7rbu4e968hr4E/m2/Ej7F/mD9OnxWu/q7qfvmu637SrqPebD44fi6eN36ODsFvQW+ncEBBIxJO82PUVBTXlLzUYSPNIvCiDmD78FwvzP9jXuBeST3eDenuab7vn4VP2XAu0GngcPBikEIQMhAMsB2/xe9vHvB+3d6uXrx+7z7kf1BPpk/qf+D/2X9/3zuPNW8hvyFfBe7j7rb+k56OflZuXW5n7qm/CR+a0G/RSmKMU7bUe9SztHfz3TMYoo7RpnDSIEofgN8ArpWuKF3zLmK/Bg+k8DGgW6Bh8GIwg9CBoJJgeuA8r/pfZT8BrnT+Vq5o/qmO4q8wz2qfd4/O77xfut+zr7Xvk8+Tj1UPG37+Dswunl6CjmS+XW5/voNu2E8zkABhHZJ1k68kZ2TI1JM0OAOQMvUSBWFAILbf688sfo0uAi4FXoo/G29YT9sP88AtoE5gJYAaEAGgLY/Rf8k/NC7AXqduoE7gnyVPWI9+L9Nf8vACz/h/xQ+dX2BPPv7o7s5ei66ELnouVg5j/nJ+gT6onr9Oxb86f/WRFVKaU//k4iVitRTEXtNQQmRxisDOcEx/rm8Xvol98m4LTnB/Sr/nQJZQ7pDIEKXwNU+wH4HPf49Fbz8vBo7OPpoOze8J724/zEASMH9QqrCfwF6/8I+TPzy+0C6cDlOubt5TnmMuZm47/fpt1y3RDf0+UJ8jgB2hR9KoY9pUpKUQJPa0U3OtUrph4BEDIFcfle8dzsuOiz6xHyh/yRAz0MIwttCT4HDQBx+t33X/WH7/fxQe3V6OHoS+yl8XL67QGBBZgLsAzPCtkHxQQT/db3bfEQ6+3nTOWg443iDeEa3lTdJd2Q3YLf5eQ566n2aQaCGwE0lkjzVXtWZksRO4IquBu/DgEGfv8I9kXwgukc5Pboy/QsAqANexVjE5oLNgJ89hLwtO2t7eXwVfJH8vHxqfHi8+f5lwCeCe4QTxMTEH8K0AH49/jxHeur6c/pAeu66Rnm3uCJ3KXbSdrN3EjgB+XP6v7ziwA0Egsohz9DUeBYjlPgREcydx0TDfT/HfpS9Lbxbe9J6gzsufNd/OUFCxB7EaUQewxWAQn3fvLM7TnsovBc8C3yDPXU9vb6QgCmBQoL5g73DTQL7AVS/XD1y+5Q6AzmkOUq5hTn/eb95OzgTdzQ1wvX1tjp4C7sQvt8Dn4joTq2TZNYKVaVSj051CVVFAMDh/jx8xHwJu917efqZfAU+9ID2gw7FNwSJg++CV/9DfVE8B7sKuyW8ETxG/Mk+Cf60P1kAcwF2AhjDccM4AnuBRn8KPP36hbldOGc43vlC+eW6a7lkt+M2nXWcNXX28PnVPVRCe4cIy9OQWRM1E9/Sa4+0y8kIgcUWQSe+sjwZO3e6/vqSu93+eYEIwxaFMwSug+QCxwDYPoW9KfvjOs77RXslOtb7YHw9/Xw/UEFkgs+EFgQ5gtQBR79TvVw8JbrreiK5ujkxOIp42/hzN1c3KDczt2d4D7nH+6V+tgNxiErN2RJ8FIKUXpGaTWSH+EQTAOu+0r5pvf39TnyLPNn9QT+gwYID7UVNhYOE90HRPuT8PLqRel37ary7fOD9nj2BPap+Lf97wHWCRcP9gycCekDBfkf74Hp4+L74ezjg+We5prmguEX3G7Z2NdS2zniVeuP9kcGURdhLGA/ykogUKlJ1DvVKr4aPAtL/yT7a/YK9wr3XvaY+JP+lAcADMERWBEnDVoGLv6J9Gbuae2x7MfwxPT69tv4O/zK/OD+owJqBLsHUgnUBtkCCf1483nsrOiz5Drm5+lB69fqDeh54NnYIdVt027YGuJH7jj8PQ0OH+Ay1UTDTylRTkfrODAmWRXLBXD7Fvcn9An18fOW9mr6GgJACR0NdhIwEhwQAQkpAKT0Fu+26zbqPu2g74LzCvc+/FT9gwF5BNoGbwioB4IECQAA+4XzIe2E6EXnGOhD7GXu0u3+6MTgvtdd0uLSV9i54tDvVP/0EFYkjDcARyxQGFA3Rtc2TSVIFKMEM/vu9MfxUfNg9An2t/pGAgEIMg6WESMPFg1iB2/8RvMl7sHpmetD72vwqfSc+Vr85f44Ao8CkAWfB5IFIgRFAFL6z/We8LLq/OjP6X7qBewP6j3jj92p1//R4dMo2sjhiO8rAPQQpCTrOvlJJFITUUpDLjJxII0PHgCh+fr1pvNG9nv2ifbW+gsE7ghPEKoVuhIIEC4J7PtB8THtUeiL69bwa/HK9HH5B/p9+2v/MwClBP0HcgYGBXkBu/uj9uvwMuwr6wHsi+tC62rmb9/52b3TCdG/0zfZaeG27qX9exC1J+4+VU8sVpVRi0MWMvEfWRCbAmz7zPct9eP2PvcY91b72wJaBwgP2hVJFKgSEAqU+97xB+x75njpoe9n8kz5XP3x+y39of6G/f0AEAQbBDMGBgXx/qL5DfRj7u3tZu6H7Njr/OcG38LWqc4iyTzM/dNG3pXuKALPFbgtl0OpT9ZUr0+cQbcxlCGPEMACn/pb8pLvcPHe8hz33P7DBoYLQhMqFcQStA5kBez5MfPh72Lsk+/B8Tvzz/WI+Gf41Ppb/osAbAQOBl8GuwQGAl/89vXf8Ejt5eu76jbpc+WD30DZmdELzAzLpM+g2OHmMfeOCEYc7zCIROtSDVlAU+NEnzA2HNwIevpo9JzwWfE29Kn08/W6/F4DLwgRErIU9xO4EhQJ6/vh8lTqCeNu52PrSfGA+yMBWAGvAm8Ac/1oAOcBoQPZBiAH/wH0/CD1oOx86Gzm/uQ+5Dfh+9o81ITNUcj6ySzSZ+CW9WwM3CO1Oh5Ni1aAVztOzD33LJYc4AxcAK/4WvL676nxE/SB+CECpQulEOQW4xf+EkkNNgSv99LwZe5P6WPrv+7P7nvybPdv+Ar8sgHVASoEbQbOA4sCpAKN/Rj52PbB8HLs6eo/5xjjat+G19vPCMwlyifOoddS5Sv34wtGIZ41yUcTUjNU/kwHPaEqpBhICZH8/vfO9Gr0j/lW+x3+CgT8CaQLlREyE0IQSg7oBeP6M/Mp7hroR+rK7HTucvNx97H3Jfmx+/v7bgDOA54E3AUSBrcAVfsx9sTumuno5v7jzODR3ErWZNHwzWTMftD82GrmN/mfDRUj4TjNSY5RLlOXSjM7nivkGlEKK/5f+GPyg/Jd9iP55P4AB/sL1A7NE9USGhGCDyQI6P74+DLxDulg6KDnM+kp7xjzfPOI+F37JvznAfcE7gWjCIAJNgOr/875OPGV6+nmzuHZ3Rjb19Qk0oDRvdCl1NDbf+W/9PsHkxuWLwhDp02EURFNDD97LycgkBEKBB/+kPhX9O31gvU497j9EgayCkMS4RXuE24ScAnd/qj2pvGN60Ds2ez463XvoPBK88z2HPuE/aUDnQc3CLcJyAegApb81vbI8OHspenf5Tvie9031u3QPM6IzljV09+l6yP66QgUGF0p2DkCRUlLIErLP3Yy4iHpEO8AGvjp9Ir0ifln/Br/WgJTBigGEgndC4cK1gptBhwATfnC8z/scesX7VTuB/Ml9gT5I/xh/wsA+AJsBZsG3AjBCDoE1f6H+Lzx9es85/jj4uB73XzY5dT90Q3Qs9Iy2VvkkPNzBU4ZRC2qPwZLVU46SSU8gyx3HVwPNgKF+0b6Tvis+kj7mPoO/6sEbQhpDUYRmg1jDAAHPv0J93Dxves47Jju1e0Y8hf02/TG+RT+ogDSBbsJfQqzDQIMmAUuAJj45/FJ7aHnbeLg3+jbXteq1X3TKtMD2CPegeZb8wgBLRGCJLQ2eEMESyxJdj5IMhQj+RKyBQP9svkS+sH7b/y0/o4BhwQTB4II0QmiCd8H0gQ6AN759vRY8ELtpu2/7tLvxfNf+Er7GwDTA4cFfglGC+AJCAkqBL78Vvfr8XDrs+c+5HjgPN9s2wTY0Ne21r7ZAuAi6JzzLAIlEgEj8DSxP4ZFSUO5OMgs1x+HFDsJdQKa/+L93v5y/hP+ef8IBLAFcwjWC5oJTgicBAb9ova48y/u5+2L8LrwN/PA9br2ivma/sYAfQVrCWQK0wraCGgCefug9OLtxem85VviCOGn3+TbYtkt19jVQ9nj3j/njfRWAz4TnSQiNHQ+/0MSQuY4Ny4dIRwUJQk+ASX+cP1N/qb+6P7BAP4D2gYACdoLVwxmCw8JJQI4+272XvH97lDvqO9g8LvztvbR+dP+QAIHBlgKwQsiCnkH3wG6+mz0Du7f59LjfOAL3tbcx9lZ16/WStfT2rXgjOh38zwBhBDNIIMw8TttQlZCUjv+MFkkmRgXDkwH5gTZAlQDIgJDAOr+y//D//gA9QSyBeoIfwmcBisCoP0n9iDxLO+L7KTuoPIn9277DQDtAa4EnwbEBd8E5gIZ/2v6FPZV8FfrwuZl4nXfqt0n2+PZftlc2K/aBd8w5eju4PtWClkagSpfNrQ/UEKqPfg1diu/H+ITrwr3A68A9v9l/33/RACxAmcE0AarCOgImQkdCXYFWQBm+87zT+8T7GXp/umS7fvxxfe0/t0BpAZmCY0IRQa7Ah39uPiC9bLwkO5t7NfoqOVp4vncs9nM19LWDdqG3ybmM/Dw/NIJoRgNJ+8yeTtrP8887zWKK/4eZhLVCMEC7v79/8EBfQTcB24KMwlLCMgGmwLbAJ39r/rt+W35efYn9mf19PJQ81LzH/Ry93v7U/49A0cGrQZZBi4DeP1A+J/zwO4r7KrqHukW6KfmuuJK3x7cjtj/1lfYr9sf4/7uG/yWDAAetS1jOhpCwkKUPhc2Nyk4HAAQLAdfArMAUwFGBGQHuwlVCuMHPwW/AeT9KfsJ+VT32Pc7+ND3b/hi9w72MPYU9kD2D/nn+4D/rwSMB/MIdQnTBhICaP3q9r3wbezK5xPk5+E13+vcLdyt2hHah9tV3fLguecA8Df79QidFnUkNjHhOaI+qj8kO8kz1Sk7HrkT8gq3A0//cv1N/Lr96P7p//kA6gDM/wn+jfte+I72L/TR8qvyJ/O/9Cr3lvnT+57+bQAuAkkDCANiAl0Blf+V/V77p/jl9Q/zke8w7Ajp3+XZ48Ti4eKC5LDnR+sV8D71Kvqp/7AExwkhD0cUXhgnHK0esB/pH1MevhsEGaUVzBGjDrALEglaB0wF2QNTA3gCfAF2ACb/Z/31+0v65/h2+FP4EPmI+kH83v3J/zkB4AH/ARwBs/+d/Ub7jPj89RL0hfKj8ULxWfHR8bPyGvP78v7y0vJb8nTyj/Kt8v3zcfXu9iX5Jfst/VEA2ALrBJ0Hjwk8C3wNZQ8wEaoTThVwFvcXHRivFygXkxXYE14SNBD7DRoMqQmJB3UFYQO1AZQAsf8R/8H+E/6H/Yb8GftL+VD3bfWm8/XxlvDC7x3vS+/W75jwyfHx8hH02PQJ9av0FPQs88Tx5vB68D/wrfDW8ZzzOvYu+Sr8xv9BA1gGewk6DEoOThAYEk4ThhRpFawVMhYZFkEVpRRjE44R3w+sDToLVglPB3YFWQSCA84CoAICAhUBYQAj/539Cvwk+i34uPY89f3zCPNA8uvxxPHq8R/yoPJK86rzDvQq9PTzafOG8mXxRvBl77HuoO5W7+7wR/ND9pr5Yv2QAYEFKAlLDOUOLBHmEhcU1hRGFYMVgRVpFRAVfBS7E9kSzxGvEE4P/Q2cDCMLxAkPCIMG5QQrA3kByf/b/Qv8W/qW+D33MfZ+9Sn1H/UU9Xb12vXV9Rf2DPad9Sn1UfRS80/yCvGs74fuXe1W7K3rV+uX67fsr+5x8QL1Ifmo/TYCgAYSCu4MHw+vENgRqxI1E4kTEhRSFJUU+BT7FBsVARXAFEgUhxOJEuAQ+A6RDM0J5Qb6A8oADf7B+1z55fe09vL1yPXo9Q32ePbg9q72kPYV9kn1uPTX84XytPGy8FLve+4/7QXsduu86irqQ+q76r/rze2F8AL0O/i9/F4BxgWeCZsMIA8TEYASnxN/FDYV0RVtFtAWNheIF5oXsReFF/EW7RWCFHYS1Q8DDbsJUQYVA+//B/3G+sf4SffB9mD2cfb29mn36fc3+DX41vdM93P2LfUS9NDyf/Fi8FHvUe6A7b/s9OuB6z3rKOuC61vsoO2b7zDyFfWS+G/8NwDlA2cHQQqhDKQOOhC/EfQSBxQPFToWmhffGAUalxr0Gr4aqxnTF00VShK+Dj4LgAcVBEAB4P78/Kr7zfog+jP6JvoF+vn5nPke+WP4aPcb9uz0ovM58gHx7O8d753uUO4m7jnuTe6C7rLuuO7l7hbvXu8G8OXwGvIl9JL2d/n9/HkAAAR3B38KAg1DDz8RFRPUFCgWixfWGL0ZURpxGgkaMxnNF8AVcBPLEP8NSAu1CFMGXgSlAg4B3v+0/r/91/zU+9P61/np+Nz3n/Zu9XT0S/Mf8i/xYvDH75PvhO+O7+vvMfCR8AnxM/En8SHx6fCN8EnwDfBF8APxQ/Is9ND2HPrQ/cYBmQUlCVEMFg9XESYTqxSbFVgWvhbwFvwWsBZZFpkVzhTVE6QSURHyD4cOxAw7C1wJYAdaBSMD/gCm/m38U/qW+Mn2VvVO9E/zp/L58Y7xNfH28LnwwfAK8SnxhPHR8SPybPKV8o7yevJb8gbyu/Fp8VHxePEW8ibziPSP9j75T/yZ/xgDega3CXoMmw5NEHwRSBKEErES2hIQE5gTChTdFJ4VZBb5FgQXrxaKFRcU3BFLD18MKAkIBtQCEAAx/en6I/md93j2ovUx9ef00vSF9EP09fN48+PyOfKr8SbxrPBj8E/wePDh8FDx3PFg8svyIfM/8yfzFvMX80rz4PPJ9CX2JPij+mH9awBhAzIGwQj9CskMWg7KD/kQQBJeE7wUFhZ2F6IYZxnLGYcZxBghFxcVTBJDDxkMyQizBaUCMwDt/Rn8WPr4+Pr35fYz9nn1APWD9O7zVPO38hvyTPGs8DDwAPAp8JzwWfFP8m7zh/So9Xz21vbc9nT2mvWK9HDzavLm8d/xgvL78xX22Pgc/Jr/GgOYBq4JgAz3DugQrxIkFGcVeRZmFwEYSRhjGCcYmBeeFmsV7RNCEmgQaA5eDBoK2weOBSsD0AB9/kn8PPpt+NT2d/V69LHz+PJm8gXytfGM8XLxb/Gj8fvxcvL38qDzJPSa9PT0//TQ9ED0dfN68nPxW/B/7xzvLe/s71jxgPNe9s/5nv2pAYgFGAk8DMgO+BC7EgEU/BTsFbsWhhdPGO4YfxnqGQcaphnKGIYXtRV5E+cQ+A3jCrYHlwSGAaD+EfzW+Rf4oPaW9e30jPRp9E30TvQt9PTzqPNC88zyRvLZ8ZzxgfFc8Vrxh/HI8frx/vER8hXy5vGa8Sbxt/Bo8EjwYPDe8AvyxfMM9t/4J/y4/0IDuwbgCbgMWw+iEbgTlBUyF5cYwBmdGjsbkht8GxEbFxrKGB0XBxW2EgIQRw1rCqoH/ARjAv3/wP3s+zn65PjE99b2HvZ/9Q31gvT/82bz2/JK8r/xWvEs8VzxxvFf8gDz0/Os9Gj16vUS9g32vvUd9R704vKE8ULwUe+t7rPuke8/8cLz/va6+rz+9QLmBkEKTA2xD7ERThNwFIoVfRZtFy4YyxhVGa8Z0Bl7GcoYihfyFfwToBEcD1gMogn0BmQE6wGU/4n9r/si+rr4lPex9iT2vfU19ez0rPR59Fb0WfR29In0xvTo9Bn1LfUq9Sv1AvXv9LT0SPTi84DzBPNT8o7x2PBA8Nrv2u8h8NvwUPIn9Gr2R/mH/A4AtAMzB4wKzg3mEKgTBhb8F5cZChspHL4c+Rz9HLocIBwIG4YZwBeMFRUTWhBjDXsKigejBOQBW/8b/U379vnO+O33T/fE9mn29PVV9cL0BvRR87PyEfKs8ZPxvvEL8lXys/Is85Dz0vPj87vzePMf86zyCvJE8WLwj+/V7jzu+u0p7vruefCt8oH1Bfkq/X4BxAXtCdMNOBEUFGsWQBiLGa8anxsdHH8cpByjHHocAxwwG/0ZiRjCFs8UmRIhEJYNCQtmCKIF5gJcACT++fsI+lf47/YF9jX1hPT9853zUvMC88nyd/Ie8t/xoPFk8UzxUPFm8a3x1/Hf8RXyO/Ip8unxjfH68EnwkO+x7v7tk+157fbtOO8n8dnzV/do++//nAQ8CaMNvBFBFTEYuBrCHHIetB+5IHAh2SH4IYohuiBuH5YdHhtQGD8V2hFnDt0KhgdaBF8Btv47/CD6UvjR9q71yPQB9F3zBfPB8nXyP/IQ8vLxzPG68Z/xY/FK8SfxAPHQ8KDwefBM8B3wwu9T77Xu9O0u7UrsgOsC6+XqMusb7Kjtre9O8pv1b/m9/ZoC0wf0DAsS6BZSG0gftSJLJX0mlCZSJckinR/sGxQYahSbEVkPyA31DB0MKQvLCSUIxAUbA3IApf1Z+2n5EPg19+H29PZX9zr4cPkp+2D9+/8GA4YGlQk5C1UKSwb+/hv1JOrS3pvUssyJyNPIc83z1U/g7ur682L62fzU+lv1de3u5Izdcdml2c7eTulS+DEKzRxsLhM9G0dmSwVKrUOMOY8trSGPFx8QOAzhCysOqBHBFPwVQBQdD88GOvzI8BrmyN1c2SXZVN1K5YLvJPqTA/gKxg4AD3IMAwjFAgH+T/u9+mD8zP/5A4EHIQlQCGEEgP2W9M3qYOHF2RLVx9ON1Q7aTOCr5iDshe+j8EHvKexm6BLlfuMm5OvnbO4M9wsBZgs3Fb8d1SQ6KuYtLDAyMUkx8DD+L7IuvywgKp8m+CGfHFoW3A9nCUMDz/0N+U/1UPIr8H3uHu0/7Kjrzetq7JbtOe9Z8Rf0wvZ1+fX7Gv6n/5cA5QB8ALv/vP6H/TT84vo6+Vv3SvWv8tPv6uw96t7nL+Z+5WTlY+YJ6PHp/Ouq7fXueu+475vvWu+F71TwjvLe9aH6OAFTCcASqxy+JgYwYjdtPNc+Wz4SO9I1QC/xJ6cgBxo9FDoPDAtTB0oDsf6P+f3zdu5f6SPlZ+J/4VniqORV6IvsqPDa9Hz4Z/ur/Yf/WAHvAscEagaKB14IOAghByEFMwJW/h76+fWz8dntsepy6OPm9OXE5d/lT+Yf5yXoU+ms6lTsD+4B8N7xrfOO9Uv3XvnP+yz/awMXCW8QuhjcIZkq7jHvNjM5pDj0NP8uZyeUHyYYtRGiDOMIRAapA2ABAP4f+r/1VvHD7a/qUOlY6UjrQ+4B8sn1zPgL+2b8TP1o/aT9Wf5e/xUB+wKKBIQFHQVRAx0A6/vy9hryGO6t6pvo1ec/6F/pyOpy7KjtNO6A7qnuqu7j7r7v3vCI8sj02Pa4+GH66ftM/cz+wQBzA4kHEw24E94aPSLEKGstdjD4MGMvEyyGJ7kiKh1vGOgTpQ+HC/IGfgI//Zn43/Mj8KPtFOzo66Ls8+4j8dLzLPbK9+D4jPl5+k379fwk/60BdQTmBiQIBAh1BoQDXf/Z+pD2sPKW71Ptvutl6pDpxugJ6DjnY+Yw5njmROfO6Cvr9u358Az0rPbd+Ff6lPu9/LD9YP/RASAFdgkMD7wVFR1KJMoq/i8yM1Y0NDNOMKgrhiZCIa0b3BYqEgcO4QnSBb4BF/0l+Yf1sPKK8Fnv8O5n78TwDPLb81D1gPYq+P75sPus/UQArQKmBO4FAgb8BPMCGADF/EL5+PVC8xHxLe+a7e/rbur66F7nJOZ95VLlAebD57XpOuwX70/xdfNu9Z72ffeT+Hv5pvqX/PD+/QHWBYEKNxDWFqodeCSBKq0uoTE0Mpgwby3AKPsj0h4AGmsVoBESDnoKJAeuAnb+EPop9u/yj/BB79/u9+9l8Z/zlfU29934Jfog+4T8Yv5NAIcCiQTkBSkGZwVJA4EAEf1e+fv13PIk8K/tuOvJ6Tjo2+bo5Yflz+XH5kjofOr/7L7v9fEi9A/2P/dS+G35zfoc/ML9f/81ATEDiAViCBgMQxFRFxIeyCSNKlouNDDsL1otXimTJCkg2BubGJ4VpRKbD88LlwcdAjL9LPgm9Hbxxu+f7xrwkvGg8gP0q/S19Az1q/UP9wf5EfwT//QBJwT1BEUEPwJo/y78B/kU9nTzWPFn74HtgOsW6ermFOUA5LLjduQn5pXolutp7gPx0PLN82j0F/W59Zf2FPjG+bX76v05ANoCjAavCxESCRqcItoqwzFnNnQ4hzfFNM4vWSr0JDMgJBwfGI0UMxASDKcG2AC4+jv1t/BZ7fDrH+vX65TsMO7c7mfv2++C8ELyMvTF90P7Zv97AsUEywXtBNsC9P9e/Vz65ve39cDzgfEz73Psl+np5tXk7eP641vl7+Yt6RDrk+yk7SPu6+6T7+nwnfKr9Cj3vPlO/Hf+cAC8AsQFGwrKDwQXSR+GJ98u5jOFNrk2EzU5MnYu2CogJ5Ij5R87G1IVqA6UB+T/svjM8lbuYOtX6kDqzOph68rrJOwO7Ebsn+yO7jrxu/QL+Tv9LwHxA/oFXgaNBTQEvgIvAUX/P/2M+nn3APQG8MnrvOeb5I/iLOLf4lTkbeZz6JPqCuw57SbuD+9r8F/yr/QF95b5svuR/Vr/BgE2A9sGagwCFBQdzSYdL6s1MTmdOaw3ijM5Lw0qWya/InYfZRvzFfgPdwjeAW761fQb8Efttet86jvq6ujv6H3oOekD6sHroe718Vv2Nvpp/n4BSwTdBXMGPQZBBeUDRAKdAOr9L/t896vz6e8O7LDo/uWd5OXjKuQ55Z3mIOj46ZTrDu2h7nTwbfLD9Dz3P/lt+8b8Vv5+/+YArgI7BV0JmQ7NFY4dxiWsLPoxiDQlNUIzSjDhLEAoDyXjIF4dLxgLE7UM7gVNAJf55fQh8B/tIeqE6I/myOSg5F/k8eW05yDrIO6a8tT2sfqe/lYBPQSnBUgHZgcDB8YFAAT/AfP+Fvwy+Mz0GPGH7WPqpufE5XLkYuTy5Evm0+cp6o/swu728FXyr/PP9Fb2D/ji+QD8D/5LAKMC9wSVBy0LkBBHF2QfBSf5LBQxVzJNMtkvEC3WKKskUyFuHRkaxBSlDzAJHATJ/pr5fvU38djujuuv6Wfmj+Rd40zja+Uk59LqS+5E80f3XPsC/6EBegRbBhYIQwgNCOYGYwUuA1EAH/13+Tn2+PIn8IntO+s66QroJufm5ibnKOgz6nrsQO9M8fbyTPSU9cn24vfd+Ab6Bfw0/iUBGQS7BwcNrRO9G9gjmCpeL40xLzIAMVcuMStnJ2kkUyEmHnAZ5xOMDW4HNQJE/LX32fJF763rrujD5bLiWOGY4BjiKeR75+jqv++M9J34NP2MANoDeAbWCC0KWQp/CSIICwaaA8UAev1R+qT2afMr8KPsp+l/59flt+UB5rjm/OeV6Q7s9O2Q7/bwGfJi8xP1PPas92L5zfu+/nUB5AT4CC8PbheaIIkouC71MRQz+zLLMLstkCnDJkkkbCG6HQkYGhETCh0Ew/1k+DjzDu+668PoZOYO43LhpeBn4ZnjU+Zk6d/sH/H+9Gj5BP3sAF0Elwe6ChMMGAxbCh8IQQUSArf+cfv298H0pfHZ7ZTqWuc75a3k1OTc5YnnUen/6prs7e337nPwgPJ+9J32Z/mm+8X9VQCEAoIFmwlSELgY2iFKKmkwADQKNeU0JTLkLhwrGShYJfwhCB5fF6UQDwl+Avn7Uvam8Xftp+pG5+vko+HR3zvfE+BQ4rnkPeiR6yzwHfQp+GL8egCzBFwIqAsgDUEN8wvNCWcHhgSJAUj+rPrm9kHzje886xroXOa75QbmROYJ5/7nVumJ6urrIu1a7gzw+/HG82j1u/co+lP9DgFBBVgKchHDGf0iTys3MZU0JzU2NXAzvzAKLb0pkSb/Ir4eFBi5EHoIBgKu+2f2o/G77HPpK+bP4xnhhN/O3hfgH+NG5m/pc+yn8I/0vPjs/MkAqgReCCoLkQzUDPILbAqUCNoFsAJm/yL7t/cc9G7w3O3R6sbo+Ofa53XoGOl46fTpb+ok61vsuu2+74zxpvMf9qn4+fsm/3ACqAbTCx0TuxtuJL8rkTBKM4c0CDXZMvwvcy0qKiEnbiN2He0V8A3TBmEAK/lr803uFurx5tfkwuHi3THe795B4GPjIOek6WfsQfEX9QD6kf7xAWEGTgu2DosQTxDNDr4NHgx9CQwH4gIm/hT5HvWp8EXseOkd4u7xjgFe/PD9u/y2/EL+df67/ov+Pf6A/pv/9f4Z/3UAKALaAW0B5QGvAvgC3wKXA9kDtAKLAsgCzAK0AQYBxAF5AK//CwBH/y3/Dv+D/o7+J/5K/rP+n/5O/tL+aP86/03/XP+j/rL+Df8X/1r/mv+J/3//V/+I/7n/bv/B/8D/0P/y/zr/Qv9//3D/oP9L/xQA0ABcARYCJgIgAucBSQIAA7cCMgPAA8wD5QNdAzgDxQJiAqMCHALaARQCMAGYAD0AlP9//2f/Pf9N/1L/Uf9y/0z/YP+T/xIAPwBvAHEBtACRACQBEAGCACgAS/9Y/lP+pv7t/sv+D/8h/1H/Gv+7/rf+f/+4/2v/M/+z/tj+EP9P/iD+C/5R/xUApv/Y/w8AkwA0AAMAYgCSAAwB4wE4AnABbAHKAGABLAIMAEQDr/LS4Q3mbuQN5Wbm+eb75xLpdush7m/wC/Mp9vH5Kv/IA2oJlg9wFqsfVCmeMM80UzbZN582VTP5L+wrticCJPgfJxrQE3EMDAWp/qD4ffOw7tTqAegR5knkVuKB4a7hIeOZ5frnb+q17XDxn/W/+Tz9PwCVAzMHFgp/C8MLKAtFCowJXAjbBYsCVf8H/GX4wfRy8Cjsqek06Arn6OVJ5RrlueX75lzo2elx63Ttve+D8q/1BfkE/bkBEgd4DZIUUByoIxMq2i6LMSYzVTMtMnYvdyyVKTQmUCJQHZQX9BCdCioErP3l9zfyd+3X6S3nv+TW4j/hieAe4T/i5uML5ufoiOwP8YL1Xvmz/JX/SwKhBFAGKAexByUIVgj1B5cGNAQuASb+C/vB94L0pfFd77HtbOwM69jp3OhH6JLoOukI6jjrFe2O74ry0/WF+dH9iwIPCEQOsBTAGkEg3CQ3KFkq/CpnKsQocSYdJLYh3R6UG/kX2BOFD9oKqAVpAFD7qvbG8sXvTe1v6yDqdOll6YnpBurK6hXs7O1W8CXzE/bQ+Ez7vP1y/20AwgCYADkAz/9S/6P+3/0c/Xb8kvt3+hP5rfep9u/1lvWX9Qj25PYZ+Jz5RvvW/EP+hf+nAM0BwQKTA2oELwUGBt8GgQciCJ4I6AgYCe4IjwjqBxgHXwahBQwFqASKBMkEJwXFBZwGZAcACFYIiwi0CMYI4gjXCIkIQQjrB1gHjwaPBU8EEgPWAV8A3P5J/Y77w/kK+ID2//Sy85/yt/FN8TPxX/H58dLytfOW9KT1uvaa93P4QPkK+tn6kvtI/DD9TP5A/ygA/ACdAUQC4gJCA2YDdQN+A54DiANDA/UCjgIwAt8BoAF2AW8BbgGgAfMBNwKbAjgD/wPGBJUFWgYiB/4H5gjxCQoLAAzZDH4N+g1KDj4OCw6cDQ4NYgxvCx0KgAjuBh0F9QK6AFb+3vuY+Xz3q/Uj9NTy6vFT8R7xIvEw8W7x1vFj8ijzCfTz9BD2R/eJ+Ov5LftA/GX9Zf47//7/iwAMAV4BrQEVAloCngLfAgYDJAM7A0QDTQNNA2EDkQPRAxsEZgTKBCIFiQUDBl0GxAY2B48H8gdhCNkIWgnjCWcKsArfCvUK0wp/CucJCAn5B7oGRAW4AwUCMwBc/oT8qPrk+Ev3q/Un9NXywvEW8bXwk/Cy8AHxlfF48nLzX/Rb9Xj2k/es+Mv52vrZ+878xv3G/tT/4wDVAcoCzgO9BI4FMAbMBl0HxgcpCF0IeAiTCI8ImQiACFkIVggSCL8HkQdRBwMHrwZiBg4GrwVOBdkEYATmA2gDBgOoAjgC4QGjAVcBAgGXACwA0v9F/6b+Hv6D/eT8M/yS+yP7ffq++Tv5s/gV+Kb3b/dM9zH3K/dK93T3m/fL9/P3N/iJ+Mj4M/mv+SP6vfpw+1H8RP07/mn/rwDxASoDTQRpBYQGeAdACAMJqwlDCsUK9wokC0sLLgv2CpgKJAqbCeIIJAhMB2gGlgWcBJ4DvALKAeoAPQCX///+g/4N/rX9ZP0Q/eD8qvxv/EP8Jvwc/PD70vvU+6n7c/tK+x773fqM+lP6GPrc+bb5pPmV+Wv5XPlt+Wn5c/mQ+a/53/kq+ov6E/vS+6z8sP3O/tb/9wAiAj8DXQRLBRkG4gaYBzAIqAgtCakJ8AkmCjYKCgrHCWMJxggbCHEHrwbzBT8FZgSPA9kCFgI9AXYAw/8c/4L+2P04/bv8N/y6+3b7Rvsl+zz7TvtU+3L7f/uB+3v7cPt8+1/7L/sp+wX7y/qq+qD6o/qo+sf69voU+z/7fPul+9L7GPxX/Kz8H/2m/Wn+Nf8BAPMA2AHRAssDmQR4BTMG1AaUBywIrAgYCU4JfgmhCYsJTAkBCagINAigBwgHeQbXBTwFuwQpBI0D+wJlArwB/QAtAFL/k/7m/SL9efzw+4b7Svv7+rn6s/qm+p/6n/p/+mv6a/pn+lD6Mfo5+kD6Mvo++kL6RPpe+nH6kvrC+v/6e/sS/J/8R/0L/uP+xP+ZAGgBLQLzAsADZATjBGsF8QVsBtwGPgebB9kHCgg9CCgI4QeiBzkHpgYcBo0F7wRiBO0DeAMbA9UCbQIGAqEBEQF+AOn/L/+E/vj9Wv3R/Hj8Dfy1+4f7LPu/+m76FPqy+Vz5LfkU+fb49fgU+Sr5Rfls+Yn5t/n4+S76bfq6+hv7nvs7/P/80f2w/sf/6gD4AfwC+QPgBIgFEwahBhIHeQfVB/4HFggpCBwIBQjYB3gHEgeqBiMGjAXoBEwEtwMbA5cCGAKvAVcB8QCvAHEAGwDS/3n/D/+Y/in+z/14/TD96/y6/Jj8VvwJ/MD7a/sT+7/6bPol+vX5zfmW+XD5bflg+Vn5b/l++Z355vk8+qv6Rvv/+9f8q/2T/rL/sQCmAawCigNgBCoFzAV0BiMHxwdMCKsIDQlmCZwJxgmsCVEJ9ghtCMUHHwddBo4F0AQRBDwDewLLAQkBRwCI/8v+Bf5J/aX8+ft1+wn7hvpH+if6z/mV+ZD5ivl++Xr5ivmf+b353Pnt+QT6H/o++lX6aPqK+r76B/tM+6/7MPyt/Ev9/f3N/sr/vQCgAYYCbAM1BN4EegUPBqsGNgeiBxoIjQjPCAwJPQlOCUcJEwnJCGYI7gdmB84GRwamBfoEZQS9AwIDNQJYAWwAev+J/oP9hPyy++b6K/qm+Rr5nPhR+AX41PfK9773p/ed97338vcg+Fn4pvj0+E/5rvkL+nb63/pp+wD8kPxT/SL+Bf8dADIBRgJSAz0EJgUJBsQGcAcDCIEI6wglCVEJYwlkCV4JJgnmCJ0IOAi/By0HowYoBq0FAQUvBG4DqQLtAVMBowDz/2b/wv4S/oT9+Pxg/Nr7bvsD+6H6Ofqw+TH5wfhS+OH3bfcG96b2YvY89iz2QfZ49sv2Mve391b4Ffnq+dj6/Psj/U7+e/+dAOMBNgNxBIcFmgaaB3wIYgkgCrcKNQuKC8AL2wvYC60LSgvZClcKjwmwCKUHYgYxBeoDpAKhAc8A+P8Y/1L+kv3w/E78ovsj+8P6Y/oU+sr5jfmM+Yb5avli+WD5Zvlx+X35hvmM+Yr5ifl2+UX5HPkM+e/47fg3+X754/le+t76t/u//N79/P45AKgB+AJbBJ4FogaiB3wIRgkDCoQK8QpZC6gL3AvwC9wLkwtCC8UKFQpjCZQIyQfoBssFrASfA4kCWAEiAAD/6v3o/Pf7EPtQ+rf5/PhE+LX3O/fi9pj2UvYt9jz2R/ZX9nH2hPal9uz2QveP9/b3cfjx+Gr53flC+uD6rvtv/EL9SP5e/34AmAGIAnUDXwQzBfUF3gadB10IQQnPCT8KlQrGCu8KAwv7CtUKwQp/Ct0JRAl/CK0HBgccBhcFOgR7A8kCFgJKAUkAVf9Y/hv97vvS+rf5vvjC97n2yfUQ9Xz01PNe8wTzq/Kv8rPy3vJM87zzQfT29NT1ifaG98P4G/rL+2/9N/8QAc0CUwTDBQ8HAQgcCQ0KAgsQDOIMhA3YDR8Oaw72DroPqxDlEdwSHhNnEmcQaQ39CZAG/ANNAiUBEQBE/p37Lvh09H7wpezG6Rno1ud+6EnpAepi6m3qluoq6y7sl+1u73vxhPNn9en2/vf3+PT5OPvw/NP+CQGYA60GiAoVD9oTIBh7G0ceIiHQI/Ul6ibZJoYmWiY/JockayHsHB4YQxSiD5AKCwQ9/dz2RvFn7KzmvOEH3fHZCNhr1j/V89QX1gDYZdu03pLi7eaC6zLwsvT2+Fj8+//5AmcFQgfkB6MH6wb1BYUEZQNEAloBGQGFAUsDBgaGCW8Mjg6YECYTwBb3GSQc3BxLHboePCChIA8fCBwRGbsWQRQQENcKAgX6/uf57PQL8PLqluan4vXfJN4m3JLb2tv53MnevOHe5OnoZe0Z8bP0xPfw+hv+ZwEsA4YD4wO+A7YDHANwAZr/iv59/s7+lf/GAGIDUQfdC/kOFBEpFK8XKhy5Hp4fmx8GIWQjmCOJIrUeVRsqGW8WrRG+C9cFcf+C+ln1me9U6uTlheFp3tncoNpj2v/asduY3dHghuQM6MLs7++T83L3P/py/U0AxwHRAaUCJQK8AR0Bhv98/u79KP6A/kwArAIMBrwKwQ54EUUUBBhrHNwfzSFoIpIiuSTxJT0lDSOTH0IcBhrVFucQNwsDBYH+6fg28/zspecr4y/eatt92VvXPdcM2OvYF9u03j3i1+aP6xrvAvMp98/6W/7eAdoCfwJaAhwCqQGBAKf+W/xG/NT8df0d/4kBaAWvCoIPoREaFP0XohyGILsiYiIYI/Ml/ybdJuYjcCAFHU0bWRfXEJIL2ASv/xH6JvRN7WvoEOQ638DceNnz10jXNNjO2Pvamt7U4Vrmbunl7CHwQPRk9wD6mvzG/Av95fzo/Nr82fzY/J78YP00/wYCSga0CgEPUhP9Fn8aIx7BIgglRCZCJnwmbihgKGwngSN6H3MbLhj4EzsNlQfM/4X52vM47kvpseRT4E3bgtmZ1zzXWNi62DnaN93p4RPmA+ur7tPxP/Yi+sz9iQBZARkBQQHlALMAn//u/Wv9Bf5f/xsBoQOeBvQKVw+EEl4VDBiZG6EfLSILI9QiryP+JJskkSL+HjcbHhglFUEQSAofBGj9oveq8kHtYehV5HrfM9yt2hbZ0Nio2Vraqdz94B3llelY7QnwIPQO+ZX8dP+7APL/sv9f/73+WP6f/eH7nvuA/Er+IwK9BTEJQg2mEeEUmxhvHLsfIyIwJHskESVyJwMm5iSaIScdtBktF1UScApUBdH8xfff83Xsieak4ard+dlw2R3XAtb12CzaaNxN4X3l4Omm7w/yW/Rs+Q39BP8XANL+pfyG/fv9+PxE/Zb7h/rr/BL/bAJYB1oMaxC0E2QXxxooIJoknSbHJkYmISfVJyYofiQHH90Z1BUfEmMM4AX+/J/1n/B667jmFeLD3KTYqtdz10nYqtrt23/dOeIA5+jrZvHV9Db3LPvr/k4AjAEMADv9afzA+8T64flx+a/4kPmJ/AYB6gaQDPQQ7xOrF/IcBSL2JXko1ycTKGAqMCq+KBwlSB/oGYoWbBHrChIFA/td8zju+efx4lLePtnW1GjVH9Ug1mDZWtqO3TnjPuks7Z7yzPVu+Ob9j/+gAN0A4v86/kT9Ifxp+mT7r/ss/Oz+QgJiBhcNBhKOFP4XMRtlIHUloierJksl2ibcJ4EnZiRVHpgYCxXTEZ4KUwN7+4jz9+5k6Ynid92J2qbW6dX11fLUfNiE3BzgcuRX6cLsf/KT9zD5Pfzu/Q/+pv2C/WD7N/vB+5D6B/tw/EH+egGdBscKgxC6FEoY7hpFH8IkayejKsgopChJKZIpFiiZI1oeQBf9FPYNPgdOACP3u/GE6tjkr97+2qXWlNQV1GfSXdbS2GfdWeJo5anp0O9V9Xr4nPwx/X399/1U/ab8SfwQ++74QvlZ+n79DQAiA7wGEAyDEkwWwBlgHP8hXiYLKYcobSdAKYooVSfZIdsbWRfeFKoOWwUV/wL2GvJB7i7m+9+U3J7Zhdjm2TDXZ9kV3ijh3eXx6UfuFfOI+Ir6gf2g/+z+If6Z/OD7Efu++2X65Poz/W//rgOVB9sLtBANFlYYJhtZHyUjByeYJ+YkZSTqJLIi6B8zGb0SmQ71CP0Btfoy9Lru9emg4xLfyNwt23raVNnW2Pbb5eBd5B7oEetr7kz1avrp/Pz+Zf4b/qb+PP4g/uD9Afy2+mn8pf4yAnkGdwgsDB4SLhYyGnMdBCA5I5UmCycCJG0j7CGWH78bJBVqDqUJgwU1/Xz2DPCJ61ToAOTu4Mzdq91o3Vjd/N4m4hTmienx7M7ukPKk+Wj9Jf82/wH95P3C/kj+Bv2P/Fj7fvsf/Zf+lQJ1BrwK7A6hEtMV5hmRHoYicyV2JqgkliTII7ohRh8PGUIS3gpCBt3+bfl988Lraucg4pXeTdyP3JbaLtuK3O7eEuQf6ALsuu7c8iH3xvzb//3/cf6u/f/+uwByAR0BeQAmABUCOQTkB/4K8A3kEVkV0Bd1GiAdWiD8IvYi1iCiHggdZBpeF8cRCgsjBFn/ovmQ9NTve+mE5P3fPN1q2vDbRdtU20Xer9/M46nnj+uH74H28vrF/SP/5/7WATME6QURBecDjwMrBoUILwowDD8NpRG3FnYZbxrkG3QcDSCDIScgzx4zHIYbwRjIFG0OfgmzBE8A8vrM8p3t7egt5UjiYN9i223a9NnK2cHcod4K4ILjF+dd6l7vE/ML9/P5D/wH/d3+nAElAz4FHQckCYcKHQ0HD/YRshY3G6QdWh8SH40f+yMhJSwlcyLGHbQaBhmwFYYQQQvVA4z+LPrP8+XvOOz55pHjRuB03bLded413andT9153RLhleQq56fq0u1q79zyrfQD91j6ZP2Q/4cCAwbOCEoNZRDYE4sXGRyyIIEkfiZHJk0mWyh7KTMo4yOgHS8a4xb3EVoKAwMe/Jv3BvIE6yfmSuLS4O7dBdtt2B3ZUNvb3Grend+e4vLl8ulL7dHwtvRm95D5PftX/db/SQE/AjoDmQUUCIIJggunDS8R6hQXGAgbEB2aHpsfECEmIqgiNSJcHzIc6xgOFXMQvArjBGH/3Plp8y3ugepe5+fjPuD93ffcS9003Sjdkt0r37vhp+SU6Abs1e9k86T2rPlu/WYBJAVVCbYLkw0EEOQSoxV/F6YYdBk6GkIa6xkGGjgafhnXF/gVMhQREgIQkA0hCrgG8QHl/Y768/bK837wR+7B6+3oneYV5v7muue157bnIem667ju8/Go9OH2mPn8/A8BOAO/BJcGQgkpDakO6g2cDUsOExC8EEMOcQulCv4KGAqzB08GpQawBiUFvQF0ACwBfQCM/gX8R/su/Jj8+fv++xv9l/3K/BT8hPzW/HL7yvka+bn5D/q1+PT3pPha+YT54PkV+tz6A/zF/Kf9y/7G/7kAAwLrAlsDzgM+BJ0E0wSdBEsEKQQRBNYDcAMQA5ECxAEFAcIA0QDMAEYAav/5/h7/lf9R/yP/Mv8u/7T/hv9l/7//6P8bAJwAOAEWAQMBiQHIAXgCyAIwAl0CiQKDAvUCdwNmA30D0gPLAycEWwT3A5kDMAPLAlMCrQH1AEcAn//h/jP+y/1x/c78i/xx/D/8w/vC+wz8Mvxr/A78Rvy5/On8Jv1p/cn9PP6y/gr/If+5/3gAqgD/AB4ByAHQAjgDagNUA2YDvAPdA78DbwM3A/4C/wK0AhkC7wHxAXwB9AA7AHH/M//b/gn+Lv2g/EH81/tJ+676W/pc+mr6iPq9+vv6M/uz+xT8nPw0/b79Q/6d/uL+V/9RANgAMwF4AcwBagL+AmUDiQPjA4ME6wTqBPgE+AQDBRMFkgToA3gD7AJBArsBDAEmAJP/A/+G/kv+zP0l/RH94vx2/Ez8H/wX/HD8j/xq/ND8V/3B/Vj+yv4+/wkAnADhAEQBmAHnASwCFwIWAi0CJQIiAikCHwIWAiYCJAIcAgEC2QHCAa8BkwFeAUMBEwG+AH0APADy/7j/ef9D/xf/0P6M/nz+hf6P/pf+i/6I/q7+vv7P/ub+9f4r/0f/Mf8z/1//df+W/7j/vf/d/wwAPABwAIYAiQC0ANoAygC6AL4A7wANAecA1gDvAP0A9ADuAN0A1QDUAL0AswCXAHsAdwBpADIAEgD5/+j/2/+S/2r/bP9f/0n/Of8t/z7/U/9I/17/bf92/3z/af9a/1D/P/8h/xD/E/8Q/w3/G/88/2T/cf+V/9j/9P8LADkAUgBvAIcAkACbAKgAkwB9AH0AZwA2ACgAQwBKADYAMAA3ADsAQQA9AEMATwBNAFEANQAXAA4A/v/7/+v/x/+2/8D/uP+n/7X/rP+f/5H/af9n/2//X/9d/07/Tf+D/7P/yf/d/wYAOgBYAFwAaQB3AIEAfwBiAFgATwA2ABcA9//1//X/6v/e/9L/1v/z//n/9P8HABwAJQAtAEkAWABUAFQAWQBqAFoAPQAqACUAGQAAAAEA9//m/9f/xf/G/8n/tv+n/7P/t/+s/7v/1v/w/wIABgATACMAMwBDAD8ARgBGADkAKQAKAAkAAwDo/+7/9P/1//T/5f/f/+3/8f/q//P/9//0//v////9/wEACAATABYACgAJABQAEgAHAAAA/f/t/+D/1//E/9H/2f/V/+n/8v/9/xEAHAAXACUAKwArADEAGAAbACAADAAJAAkAAAD0//f/+/8AAP3/8f/s/+z/5v/q//f/6f/u//3/AwAMAAMAAwAGABIAJQAlACUALAAyACoAIgAcABEADgAHAPP/7f/s/+3/+f/z/+3/7v/u//P/9P/t/+//7f/i/+j/5f/b/9X/y//V/9v/2f/Z/9r/7f/8//r/CQAPAP//AAAKAA0ADgAIAAkAEAALAAoAEAAPABIAFwAfACQAKQApACkAIwAYACQAIwAdACYAJAAsAEAAVgBtAHUAWQAaANL/qf+h/5P/bv88/zX/V/+H/6n/n/+T/4v/kP+i/7T/zf/d/+r/BgA9AGUAeACMAIYAgAB8AHMAdABkAEcAHQABAAoAEAAGAPb/7v/q/93/2P/d/93/zP+//8v/6P8GAA8AEQAqADEALwA+ADoAJgAWAAUAAAACAPj/5f/d/9//6f/p/+P/6v/n/+n/8f/j/9n/1//V/+b//f8EAAwAFAAbACMAIQAeABwAFgAXABgAFAAeACQAJgAwACsAIQAWAAsADQAMAAYA+f/q/+n/7//u/+j/6P/p/+z/7v/r/+z/5P/n//P/8//x//H/9P/3//X/9v/5//j/9v/3//n/+//9//3/8P/p/+3/7f/q/+v/8P/u//L/+f8AAAkAAgACAAMAAQAKAAwACQATABoAEwAPABIAEAAOAAwACwADAPv//P/6//f/+v/8//v/9f/u/+z/5v/e/+D/4//j/+j/7P/t//D/+v8FAAwAEgAPAA4ADwAPABYAFQAQAA0ADQAOAAsACwAOAAkABQAFAAQABQAEAAAAAAACAAMABQADAAIAAwADAAUAAwADAAcABAAAAP//AgABAP3//v/9//v//f8AAAIAAgAAAAAAAwACAAAAAAACAAsAEwAOAA0AFwAWAAYABAALAAoAAQD6//r//P/6/+//5//s/+3/7P/u/+7/7P/v//D/8/8AAAIA//8CAAMADAAWABEADgAPAA0ACAAIAAkACgAIAAIAAAD7//r//f/9////+//6/////v/8//3//f////7//f/9/wAAAQD///7//f////7/8v/t//D/7v/t//D/8v/4//n/9v/6/wEABQAIAAgAAwACAAYABgAEAAUABwAGAAYABAACAAUACAAJAAkADgAXABYAEQAOAA0ABAAAAAYAAQD//wAA+//9//3/+P/7//r/+v/7//b/7P/p//D/7v/i/97/5//o/+j/7v/w//7/BgACAAEAAQAMABUAFAATAA8ADAANAAsADgAOAAsACgAIAAQACAALAAoAEQAUABEAEgAPAAwACgAJAAcAAAD7//3//P/8//z//P/8//n/+P/5//r/9//x/+z/7v/x//H/8//z//v/AgD+//3/AAD///7//v8AAAIAAgADAAIAAQABAAIAAwACAAAAAgAEAAUAAwADAAwAGQAdABQADwAWABwAFwAKAAMA///3//L/9f/z/+z/6v/s/+r/4v/f/+T/6P/w//n/9//+/wUA/////wEAAQAEAAQAAQACAAMAAwACAAAAAgAEAAIAAAD//wAAAgAAAP//AAABAAIAAAAEAAQAAgAGAAUAAgADAAMAAQAGAAYAAwACAAIAAwAAAAAAAAD+//v//f////7//f/9//3////+//7/AAD/////AAAAAAAAAQAAAAAAAAAAAAIAAAD+/wAAAAAAAAAAAAABAAEAAQABAAMAAgD//wMACAAEAAUACgABAPr//v/9//7////9/wAA///+/wAA///+////AAAAAAAA/////wAAAQADAAIAAQAAAAAAAQAAAAAAAQAHAA8ACgAAAAAABAACAAEAAgABAP///f///wAAAAACAAEA/f/+/wAAAAAAAAAA//8BAAAA/P/8//7///8AAAAA///+////AAD+//v/+//7//7//v/7//3//f/+////AAAAAPz//P//////AAABAAEABAADAP3///8EAAMA/v/6/wAABQD9//z/AgAEAAUABAADAAQAAgADAAQABQAEAAAAAgADAAIAAwACAAIABAABAP//AAACAAEAAQD//wAABAABAP////8BAAAA/f8AAAAAAAAAAP///v/8//3//P/7//3//P/5//3////9//3///8AAAAA/v/+/wAAAAAAAAAA///9//z////+//3//v/8//3/AAD+////AAAAAAAAAAAAAAMABQAFAAgABwAFAAYABAAAAAAAAgAAAPv//f8AAAAA/P/8/wAAAgD+////AwABAAAAAAADAAIAAwAFAAIABAAEAP//AAAAAP//AAD9//3/AAAAAP//AAAGAAgACwAPABEAEwAXABgAFAATABIADwAJAPz/9v/0//L/8//s/+T/5P/p/+z/7P/v//D/9v/7//7/AgAHAA4AEQAZACAAHAAeACQAJwAnACQAIQAdABsAFwAVABcAEQAIAAoADAAGAAUABQACAAMAAAAAAP3/9//z/+v/4P/Z/9H/x//D/73/uf++/7//wv/K/9T/2//j//X/AQAMABkAJwA1AEAASgBRAFgAXABfAFwAVwBjAF4AUwBcAF0AWwBXAFkAXwBhAGUAaQBxAHMAcgB2AHYAdgBzAG0AXgBNAD0AIAABAOP/wP+V/3D/Uv8o//7+2P61/pn+hP50/mD+Vv5a/mr+cP59/qT+vf7b/gX/L/9k/5T/z/8KAEIAgwC/AAUBRgF6AbUB8wEvAmACjgK1AtMC5gLpAuQC2AK7ApACbAI3Au8BrAFaAQgBtQBWAP//qP9E/+X+j/4v/t79k/06/fP8q/xp/D/8F/z0+9371fvR+9L76PsN/Dn8cPyy/AD9Xv3H/Ub+1v5r/xUAwwB4ATIC3gKUA0EE4gRmBcsFKwZpBoUGggZgBiIGxQVZBdAELwSGA+UCQgKRAegAQAC2/zv/uf5E/tD9ef03/e38n/xn/Eb8FPz0+8/7ofuS+4D7Zfs4+xT7/frZ+rr6mfqY+qT6s/ru+kD7wPtt/Dj9Fv4K/xwAMAFGAkkDOgQdBfIFtQZEB8oHMAhhCHMIWAgtCNEHTAe1BgMGTAWKBM4DFQNnAsUBJQGhAAwAkf82/9L+jP5U/in+EP4Q/gn+7/3Y/Yj9Hv2l/O77Lft3+tP5RPnL+HL4S/hP+GP4ifi3+Pj4Svme+RD6n/pj+1X8X/2Y/un/QQGhAgcEVgWJBqcHoQh+CRQKdAqvCqwKkApCCr4JFQlbCKoH3gb3BQkFIARBA04CXgF5AJn/2P4w/pX9I/3K/JP8Zvwx/Br8CPz2+9X7lftY+wj7r/o2+qv5NPmw+Cv4pfcq98v2i/Zp9mL2kvb+9rP3qPjh+Wz7Fv3d/q8AfwJQBBUGsAcMCVQKbwtLDPMMbA3HDdwNxg10DdcMFAwLC+EJkggYB58FLATVAn8BTgBE/03+lv3h/ET8y/ti+xH7rvpi+iL64fmf+Wz5RfkC+d/4tPiD+FX4Efjl95r3PvfY9nv2Pvb+9e31BvZp9hn3G/iH+S37Hf0p/zYBKgMBBc0GWwjUCRoLMQw3DQwOvw4+D5gPug+JDwEPKw4iDbYLBQpNCJIG0AQbA5EBKADx/uH9//xR/LP7MfvD+nj6P/oF+uj5tfl6+Vv5M/kT+e/4svh6+Fj4D/iu92b38/Z99hz2rfVW9Qz17vQR9Xz1QPZd98n4e/qh/Oz+KAFeA3kFdwcuCbsKGAxJDVkOKQ/PDzgQdxBvEC0Qqw+oDnsNBgxUCocIpQb2BFED0wGDAFL/Uv56/dj8Vvzr+2779vqm+k768/mu+Yv5XPkM+cj4iPg9+PH3pPc+99T2X/bb9Wf13PRF9NHzgfNR80Lzh/NI9Gj16/bp+Dn7uP1iAOcCOAVwB0gJ7wp0DJ8NuQ61D4kQMxGpEeURwRFTEYYQZw/8DUIMdwqBCKgG8gQ9A74BWwA2/zv+Wf2v/Bj8kfsY+6v6OfrS+YL5QvkH+az4WPgP+Kz3Uffv9nD2AvaG9e30ZvT084DzBfO/8oryWPJr8sjylvPT9JT2x/hF+wz+0wCFA/oFNAg/CvoLdQ3DDvgPARH9EdUSWxOeE4ETAhMBEqoQDA8hDToLLgk/B4gF1ANRAhUBBQDu/gf+Pv1m/Ln7Dftk+tL5W/kI+az4XPgQ+LH3TPfC9jb2ufU39av0G/Sv8z7z4PKU8jjy9/G88b3xCvKc8przHvVF98X5evxp/1oCEwWYB/UJ9gurDTsPjBCsEawSgBMhFJUUwhSGFOoT7xKtESQQTA5CDCsKKggjBkwEtAImAeH/2/7b/eL8Afwe+zf6WvmH+NP3P/ey9j728/WJ9R/1vvRZ9AT0lPMk88LydPI18gTy4/HX8dbxy/EB8mjyEfMj9K/10fdf+jL9AADMAnMF1gcKCuwLqw1FD48QvBHdEskTixQcFVUVRhXbFOgTlxLuEAAP7Qy3CpEIhAaJBKEC8QCY/0b+Dv0H/Bv7Rfpd+Yf42/cv96j2NPat9T31xPRg9Cf05POS807zJ/Pl8qHyXvIS8gDy/fHL8a/xvPHc8W7yV/Oe9JT28PjS+xP/LQIOBbgHKQpBDBoOqQ/yEDkSVxNhFGMVCBZqFsoWsBb4FdEUGhMoEdoOOgzBCXkHagWOAw0CrgBQ/xX+7fzq+/P6wvmG+I33pPbc9RP1WPTo83rzMvME89/ytfJi8iPyCPLc8bjxsPGz8b3xq/Gl8ZfxofES8ubyUfRB9pj4jPvI/vIBFgXTBzMKNwznDYQPsxDZEQ4THRRGFTsW9BZ4F3kX8hbmFVwUZBIJEJINBQuECE0GEATuAQYAOP7e/L/7sPrF+a34tffi9gD2OvWu9Ej06fOX8zTzCfPh8pvyefI/8g3y1/Gl8XnxMvEm8RvxI/GC8ezxwPLH8yL1pvfL+mP+PQLuBVcJAwwtDssPAhGpEVwRvRDLDwsPHw9GEGwSFBVvF50YRBhAFigTmA9fDPYJ2QiNCMoHlAZBBK4AcvzV95XzofAW737uCu9m8KfxQ/IQ8nvxxPAw8DTw5PAk8jzz5PO+9GT1DPUp9BPzRPJZ8ULw3e8F8KzwN/HG8iX2pPpPAEoGKAyVERUWeRqcHhciyiS+JRQmACY2Je4jjiGOHjcbnxd3E8wOywncBAEASfud9lryMe9W7HzqQOk96NDnIOhh6Trrt+3070PyWfVc+LD62fxa/gr/2P80AAQAH/9d/Xn77Pns9yb1RvJC79vsdepI6KTmAOXA5Mvlr+if7enz1/v/A3EL0xE4F6YdtyPRKNgsvC2XLrYvNzCqL9IsNCgHIyQf+xmyE/EMXAWf/uH4EfMB7avot+Th4azgl98J3wrgDOM75l7qTO4T8uP2Efsk/vH/lgGbAq4DywSABEUDXgGA/3392vor9ybzbO9t7L7pZeb944viQeLM42nmSutr8v36HQPdCbsQ/RajHtMlpyovLU0tMy8DMYoyXDGDLKcnFCPkH44akRP4CzsE1f3P9/7xzutO50Tj+t+q3nTdUd0M31ziMuVd6MjsNvFr9r/6S/2G/0wCUwSeBWcGKgXpA+UC+ADE/sD7vff08zTwSeyN6BrlhOL04JngQuG246fo2++p+fMCSwqWEQUY5iAPKv8uUzFgMRczEja4N4g1UC8WKdIjGSAgGq8RTwngAN351vOv7XjnnOLf3rLc69ta2wTc691q4d7kmuiE7Uvy+/a++gf+jgAPA/oEmgX7BQMFhQPbAfP/af2Y+lb35PNa8DrssugG5lvk0uKk4pfjieaW6x7yqvpAAm8JxhBPF1sf8iZ+K74uei9UMcozbzQ7MgwtOyiGI8Qg3BpmEi4LbwMi/br3TvGn6iHn8eNc4K3f9N4+32rhoeO15aXoZu1S8YH1//ji+rH9+gCFAnIDbARFA0wC0ABj/rz7Dfm79WPysO8l7JXpS+dv5Unk+uPO5CTnLOvW8Hf4fABtCOsPVBbFHJkltivHLxwx+y+HMmc0WzT2LsYomCM/IBwe0BXhDQAGDP/N+Y30A+7l59blL+Kc4CPh2d/P4BHjRuVs5wXsg/Bq8873Cvov/B//yAANARQCMAKHAIv/oP3Z+yj5vPak85Lw+e1q6z3qnufe5efkKeVq5yXqVe6681X7/QIeC48SsRZzHU8k8CkgLm4t/yxCLy4ypy+fKkEmoiCsH58bdxO+DAQG8f/A+nj3R/DO6/bp7uVU5UbkXuNQ4/vk4uWe5rLrn+4R8f3zkfUM+N/6x/y3/Jz9Nf1u/BL9R/yL+of44/ao9FTzQvGw7jjtF+u26cfpUOv07LfumvIV+E3/mAYWDOAQgBWTHGAj2CfqKcgoJithLscuGCwnJ+gjqSD1HhAaphPqDREHXQLs/IL4CvNf7lTq4uZh5mjkWuSd5Bzk0eRk5/Xrqe5l8FHxX/Mk96X5j/tg+9D7kvwi/rv+Of2j/K36wPkc+LL1BvOs8NjuP+y46rTpT+p17Cvu2PDa9fz85AOPCVkPqhJ/GUwhQSa6KIAnfyocLdAuqi08KWclBCI/IqAdABdlEEAJ2QRCADj7cvNx7ofqO+eM5r/jHeEQ4XPi1eIV5Zbocerf7MDvRPIN9Uf4xfqE+8L8Tv0f/zYA7P7H/k38lPqT+YT41fVB8nvvPOwK7Dnr8+n/6Vfq5O1R8y751P75AwsKgQ7DFQsdyiGAJDwkHShQK7QtKCyjKI0m4CRiJTMgCRpfE68OtgqdBDD/TPdh8l/uhOvX6NnkoOKl4TbjYON65Mrm2ujS60bu5PGm84P24fm0+x39ff1A/w3/jf8vAHb+6/tX+lT53vaI9fvxme0r7NfrKOse6+3rf+zn72/2a/y5AQAHtgpIEIsYZx5yIaYhYSOeJ70qZit0KLkloCPzJDQjRxwbF/ERsQ0cCSQFP/3X9QL0we9I7AXqFudE5dzl5uYb5nno2+ry64nuZvGz89X15fnm+pf7t/0W/93/nP/f/4D+C/0S/KH6OPc49LTyz+8i7RrrOumR6LLpjuo77NPvGvWe+6EBaQbdCcUQOBjmHNogpiBmI/wn/CpwKx0oUSbqJNEmoCIQHNwX5BBXDQcJFwS0+x/2oPNS7sXtsOrb5snl9eUc5/Tn1upF6uXrdO/58U71a/fS+Yn5F/wN/3H/x//k/ib+M/1H/fj76/ha9Z3yXPHj70jtEOpI6Hfo+Ona65ntse+39HD77ADyBXUJYQ+RFhQb8B2kHkUiUSVaJ8wn9CRdIyoj4yPHH/sa5xaIEXgOQgsbBs3+ifkV9/3zY/Lu7rzqXeoI6yTsiuzb7GLsb+548oT0ZvXk9Sn41fmQ+9n8GPyt+y781vzj+/X5GPla9yz15vNH8u3vxO1C7PbqKuvn61XsPu377430Gvqh/j0CvgU/C20SXhY5GTkadhyNIHQjDCU+Iv0gIiFSIXwgGhxwF+MRkA8/DcsIZgPg/DP6EfiP9h30f/DY7kvuF/B/8N3vK/Cr8GryefQU9hv28/Y9+L342PkR+uX5LflK+Rn5gvgE+A32IvTq8uXyRPE/78jtT+zH7HztYe6M7r3vJvPv9k/8pf8VAiAGpwolEK4TMBZwFnMY0ByMHhogbh4bHRMdYR7pHloayBbyEi0RChApDDsHnAGS/zz+y/yn+qT2/PTa9Kn1aPXJ8wHzcvIJ9BT1z/R49PPzRPXA9nP3/va39sz2Kfch+JL35/VH9W/1lvQL9ITzKfJZ8WPx+vCE8C3xhPHw8bfzs/Wi+Fv84v7xAAgEIgiCC3oOExCHEOYSVRZAGIMYIxhZGIYZthpGGpIXaBWsE5wSFRH2DaMK/gZ4BWwEagL2/xT9q/tc+uj5Bvm69vj1N/Vj9VL1A/W29Ofz7PRE9YD1EvVJ9LD02fQ09eD0XvT08/nzkPQ59KnzM/PL8ubyGPOb8kjy4fLF88v0ePZ5+Av6Tvwq/80BxgS8B84JswvsDbgQ4BKyFB0WvxYEGNwYOxrjGdEYCRjfFiMWbhS6ElkPZgy9Co0I/AXbAsn/I/3W+7P6U/hS9s/0tfPY86LzsvK08aPx+PGE8ufyQfII8sny3PNg9Fn0K/R59DP1s/Wu9RD1Y/RM9D70cfOM8gPyefG28X7yIvMH9LP16vdS+vb8iP9mAlMFWQjfCmsNGxAPE3cVHxc+GZUaNBxdHbEd5BwdHIkbuxkaGE0VwxEaD/EM8wloBkgDHQCW/Q38iPnF9if10/PB8g/ya/Eo8PfvjvCI8L7wB/Eu8b7x3fJ+86jzF/So9DD10/UF9oj1TvUi9Yv0qvO78pfxivAY8L7vBfDE8IXxE/My9YD3H/ow/UAANwO1BuoJCg2EEKQTTRbaGMQbgR0JH0UgFiC1H/gexx1oGxwZChZ8ErQPWgwTCYoFbAJd/4j8c/r99//1N/Te8j3yj/Hy8HbwrPDe8EHxLvKn8mzzYvQa9av1WPbi9vn25faX9vb1VvWk9F/z8vGR8FjvYe6g7dXsiOwl7QrugO+c8cLzbvbl+Xr98wCeBDsI5AsYEMgT3Rb5Gd4cFB/xIDkiKyLmITMhlR+QHSAbGxiXFE0Rvg0FCpkG8wKh/6X8Hvrv9wD2YPTk8i7yy/Gi8bTxrvHw8YLya/N/9DX1ufVX9kn3LfiG+Hb49veM9/n2J/bo9Djz0/FK8M7upe2L7IDrEutC673r4OyO7qbwWfOr9jL65f3QAdoFyQmwDZERDxWYGHgbwB3oH3AhSiJ6IvshcCDfHsgcxRnKFnUT2w81DAEJoQUsAkD/ePwc+k/47/Zg9Wb0AvSM86zz5/Mm9Hv0EvXP9Ur28/ZU94L3nPey98T3QPe39gT2OfU/9CXzIfLl8Orv6u4M7kDt1uzl7CTt0u3p7oHwnvJn9Uv4hPsH/5MCVgYRCpQNgRClE7UW9hgyG6Icah0IHjAevR1UHNkajRg6FtQTtxDADY0KqQfABDkCr/9N/Zj74PmG+Gb3ivbt9Z/1gvV69ab14/Ud9oj25vYX9zj3aPd891f3Svfj9kH2w/Uy9Uz0f/O18r/xEfFu8M7vRu/v7v3uP+/v7/TwCvLD8+f1i/iD+17+cwGXBLQHzwr6DaUQ+hJbFWIXBRk+GgkbRRszG4Iaahk1GEsWMRTAESMPiQy8CSkHnARYAgoAG/56/Of6CPoF+Tj4ivcj9wL30fYI9+D2z/bo9gP3Bffi9vf2wPaj9rH2fvYv9tX1XfXd9Ij09/Mo85XyD/J78QnxvvBT8Ezw6PBz8VTyqfNN9WH32flu/Pf+9gHsBH8HdwpIDbEPWRKfFGIW9BdgGVQatRq1GgYaFhnEFwkW8hNoEcYOBgxoCZ8G/QOoAUH/SP2a+0b6Gvka+Hz39Pa59oX2Z/Zp9oX2qPa+9uf25/Yf90n3UfdF9xX33fZ99ir2pPUk9af0HPSl8zDzxPJR8hHy8PH48S7ynPJR81r01fWZ96b56ftf/jEBAwTGBnYJ9QuJDiIRmROFFTMXhRhJGQMaOxrQGQQZ9xdwFsEU0hJ3EDAOpwsSCY0GPgT5AZL/jv3V+0H68/gA+CT3ffYp9vf17fX09QH2CfYy9j72MvZA9jL2OfYg9s/1YvUO9bv0NvTe82Hz7/KH8iryzvFo8VfxO/Fb8cvxT/Ii82f0B/YD+IH6Hv3//ycDRwZgCVoMDQ+3EW0UvxarGEAaORsAHGocSRydG1AawBilFlwUxBHfDv0LzQj5BTcDrgBM/vf7BPpo+Gb3XfaF9Rv13fT79Dn1ifXE9TH2s/YB92b3nvfE9wD4Cfjw96T3PPff9nj25PU89ar0F/Sh8y/zs/Jo8iDy8PEF8mbyHfMD9Dn12/YL+YX7FP7qAOoDBAcgCvAMdA/qEU4UaxY0GKMZhhonG4sbORuDGi4ZWxdlFRsThxDBDeUK5gcjBbECLgDH/X37g/n397/2sPXt9JP0bPSR9Nj0LPWU9QP2hPbz9mf3lPe099D32Pfk97X3evcT98T2Xfa29Sf1XvS68xLzbPLT8UvxAfGq8L/wPvEF8kHzsfSp9ib5Dvwq/3oCBgaACeMM1Q+dEj8VkReUGQUbMRzZHEYdLh2IHHEbiRlxF+IUMRI+D9ILgQgxBU0Cj//y/IH6T/i39mn1aPSR8/7yvfLh8kXzivMJ9J70S/Ub9q32Ffdf96X32vf39+b3s/eS91X3E/e09iv2rfUG9WH0pfPq8j3yePH08Lnws/Aw8QjyHvO99Nf2Wflx/Mf/OAPtBpUKFg5AEfITpBYlGS8bphx+HesdSR4eHiQdwRu3GU0XoRSLETAOcAq7Bi0D4v/6/Df6hfdS9arzYPKj8RbxqPCy8CDx4vHT8snzpfSe9bv20Per+Df5o/n4+T76bPo3+r/5Jvl1+ND3B/cE9gr1DfQg81XyePG68DvwAPAg8JvwgPHS8rD0H/cf+or9OQEpBRoJ6AxgEHQTPBbCGMsaRhxXHdMd8h3OHRwd3xsgGuIXQhVuEjEPjgvdBxoEcwAi/RT6RvfB9LbyQ/Fa8M7viu+Z7yzwMvFN8mvzi/Sg9cL23ffI+G/56vlK+qv66frn+sP6dvr3+V35nvi498n2uvWr9MTz0PLj8Sjxq/CE8L/wN/EZ8rLzz/Vb+HT7Ff8aA1AHlAufD1ATohZ6GeUb4h1AH+ofHSD7H4YfmB7yHLsaGRg2FQUSTw5AChIG6wEM/qD6VPdF9OjxM/AN70/u4O3D7SXu/u4T8DfxZPKn8wX1k/YE+Cb5MPoI+5H78vsE/Kj7N/ul+tz59/jt9+j2+/US9S70TPNP8mXxsvAO8J3vje/k79XwgvLB9KP3P/tD/6UDOAikDLIQNBRYFxgaZhxAHmwf9x8uIDgg3x/ZHh0d6BpSGEEVsRGeDSMJpQSBAJv89vi69efy3PCI76LuLu4D7kLu7O7d7x7xdfLA8yH1rvZS+Ln57foZ/O78hP3v/fL9w/1I/ZT8wPuV+mH5EPiL9iL1svNB8gTx3O/r7lzuIe5b7gjvSfA88r305/eR+3z/sAMECB8M4w9WE1EW6BgZG64cwx1xHrYeox4ZHt8cJhsAGU4WOBO1D9oL4gfNA9j/VPwi+Uz2CvRF8hXxZfAE8AnwaPAg8R3yP/OG9Mj1APdK+JL5wfrD+3n8Bv17/b39z/2d/Tf9nvy3+636hflN+Bn35fW19IvzbvJn8ZPwA/Cl74zvAPAD8ZDyt/Rs97H6bP5uAnEGSgrvDSQR3xMeFuMXNBkRGo8auxqvGmQavRmlGBgXJhW9EuUPrQwRCUMFiAEG/s366veG9dLzvvIs8gbyNfK98pLzkfSf9af2f/dJ+Ef5SPoo++b7nfxm/RP+hP6o/nb+8v0p/Tb8Ffu3+VL4IPf09dD0xfPJ8gfyXfHE8HHwYfC18HfxpvJ69PH2z/kA/X4AKATABy0LPQ7KEAgT6xRrFn4XIhihGOIY1BiJGMwXpRY4FW4TOBGXDp4LZwgTBdUBwf7q+3L5YPfO9cP0K/T/8yD0fPQZ9ez1xfaO9134GPm++W76JfvZ+2/88/xp/Z79mv1V/c38IPwx+x369/it9332XPU/9EfzV/J+8crwRfAH8A3wbvA68Y3ydPTb9rz5+PxyABEEkAfKCqUNKBBZEhQUaRVjFvkWRRdkF1AX8BZSFnMVNhSvEswQew7lCxIJEAYJAygAgv0n+z/52Pf89pz2m/bs9lv31/dm+OL4T/m6+Sv6pfoZ+6D7LPy2/Fn9vP2y/XX9+/wu/Br74Pma+Ef3Dfbs9N7z8PIb8n7xBfGV8GPwXPCU8DPxFvJc8zD1f/cl+hj9WgCwA9UGxwl7DMwOrRA4EnsTXhTxFEUVYBVpFUoV8RRdFGATIBKhELYOdwznCSsHXwSsAUf/If1k+x/6S/ny+N74D/lX+YX5w/n0+RH6I/ox+lj6kPrx+mX7uvvr+/L72/uP+xn7gvqt+cH4wvfG9vr1L/WB9AH0jvM28+nyyfLf8grzYfPg85H0lvXx9pv4jPrV/FD/1wF8BBsHiAmhC2QN3A70D9UQiBHrERsSKRIeEggS4xGTEQERLBD/Dm0NiAtlCS8HBgX9AjkByP+p/vv9r/2P/Zn9s/2m/YL9R/3p/Jf8PvzL+337PvsD+9r6mfpS+vj5lPkx+ZD42fcu94L26PVZ9dj0dvQr9Orzy/PS8+HzBPRA9JX0IfXc9aT2ife7+Bv6qPtm/Sv/JgE2AxgF/AbFCEEKiguyDJMNKQ61DicPYA+BD54Pow91DxAPhQ7JDdMMuAtjCuAIVgfhBacEjAOhAvoBbAERAdIAewAgAMX/UP+9/if+ev29/BX8dPva+jr6v/lo+RD50Ph2+BP4xPdq9x/30/aS9lP2B/bf9bz1rPW99eD1L/aa9hn3oPcn+MT4cvkf+u363fvA/Lz91P7x/ykBXwKXA9UE7gXmBsQHhggkCbwJQQqcCvYKQgt1C6ELtAunC4wLTAvSClgKtAneCCAITAdoBpQF0AQiBG0DxwIiAmUBrAD3/z3/ev6w/dz8Gvx7+8z6O/rj+Z/5VvkM+cf4dfhC+BD4zfex95b3cvdt94H3lfet9+/3RPiV+Nv4IfmH+fH5YPrQ+j/7zvt5/DD93v2Y/mr/NQAFAdUBoAJqAy8E5gSQBUIG5AZ5BxYIqAg8CbgJDApOCnwKoQqmCnIKLArZCWUJ4QhMCI4HwQb4BS0FVwR4A50CuQHpACUAWv+l/ur9Kv2Q/Bf8lPsS+6H6L/rU+Yr5LvnK+Hb4Nvj898b3vffE97j32/cT+Db4hvjZ+P74OfmH+c75H/p/+vT6afv4+7L8Xv0L/sj+eP86AP0AsAFxAiYD4AOXBDkF6gWIBiEHyAddCOcIVgmwCfMJBwoJCvsJwQlpCfQIYwjLBykHewakBb4E9ANBA3oCngHTABgAYv+n/vj9TP2u/Cf8pvsv+6/6T/r++ZX5Vfkb+dL4t/iu+Jv4l/iu+MP43vj/+B35Sfl6+b75DvpM+p36EPuI+xP8q/w6/eD9pP5G/+j/pgBSAf8BsAJPA+gDiQQYBYoFDQaJBuIGOQd9B7IH1AfjB+wH1ge6B3YHGAfIBlcG0gVJBbwELgSgA/8CawLnAVcBzQA7AKT/Kf+k/hz+vP1E/cb8Yfwa/NP7dfss++n6uvqR+lj6KPog+iH6CPr++Qr6Hvo++lr6evqs+un6MPtt+9P7Rvy6/D/9vf1Z/vf+jv8tAOAAdwEHAp4CJwOuAwwEZATBBDAFiwXRBRIGOQZhBnYGZAY1Bg0G0AV/BSsF7ASlBEQE8gOOAyIDrAIzAq4BGgGHAP3/mP9E/+3+nf5Z/gz+z/2e/Vn9DP3U/KP8Xvw5/DD8Ffzz+wL8Cfzu++/73PvE+7T7qPvC+9v7+Psw/HL8n/zN/AX9S/2m/Qv+hP7h/lb/yf8kALoALgGiAR8CcALFAhkDYwOyAxUEcgTPBCYFYgV1BYAFmgWKBV8FHQXWBIwEKQS+A0ID1AJWAtEBVQHSAGkA+f94//r+of5X/gT+0f2s/YP9Yf1h/WX9Z/1X/U79Rv0W/fn8vPxv/FX8WPyI/Lr8wfz0/AH95/z7/Mz8pPyL/IT8t/zg/CD9iv30/W/+5P40/5D/0f89AKAA2QBMAdYBTQKaAv8CUQOoAx4EgATrBD8FoAXiBdQFxAWUBTkF4gR1BP8DgAMqA90CZALYAUUBqQDt/zr/oP5E/vn9w/2f/WD9WP1O/Sj9JP0e/SX9Vf07/S79Kf3y/OX82Pzb/Pr8Fv0O/Q398fzE/Bj9WP2H/QL+JP5Q/p7+pf64/rb+wv7p/kH/3P+EAD4BqwHcASACRQJuAsoCAwMyA20DsQPqAx8EVARUBH8EtgS2BKsEogRtBA4EkQMhA9MCWQK8AQoBfgALAKn/YP8A/6/+Tf7r/V39xPxP/K37Xvs7+xj7UvuC+6L72vv5+wH8IvwV/Pf7A/z0+wr8VPy2/A79UP2H/ar92P39/TH+OP5F/qv+6f4r/5f/GQDTAHYBIALXAlIDtQM1BMUEQwXZBU0GrwYYBzkHOAcJB/AG6ga5BpMGYQYDBk0FZgSnA+QCBgI6AWUAo//h/vj9Vf3D/Db83ftm+xb7CPvs+sL6kfp6+pX6jPqO+sP63/oY+1b7lfva+yj8e/yy/PP89Pz7/Mn8c/yq/M78K/2Z/fT9ff7N/kb/kf+//wMASwDQAFkBGQIIAxkESwWKBooHNAjiCDEJagnNCfoJLgpfCn8KvgqdCgYKQwkdCMAGQgWsAwoCbQDv/l396PuR+kn5Ufh196X2IPaY9Un1WPVp9bD1Ffax9n73MvjZ+Jb5Yfoi++T7WvzK/DX9dv3N/e/94f3F/Zj9eP1+/Yv9p/33/VP+nP7n/gX/FP92/97/swDgARgD0gSPBjQI5wl9CwENSg4nD7UP7A+1D00P5Q5pDuUNUA1iDDQLqQnEB4oFNQPhAGj+BPyU+Uj3L/U584nxKvA+78/uw+4j7/Pv5fD78SjzcPSO9Zn24fcq+Xv60Psc/Sn+6/5P/43/zP+3/5L/R//d/pH+PP6//S79z/yb/JT8qPw8/UP+RP/RAKwCqwT6BooJUgwiD+sRRhQrFmMXAxgLGFgXKRa3FDcTWhGTD8QNqAuHCR4HMQTjAGr90fln9hjzRPAQ7n3spetT62rrpOsn7Mbske207lvwW/Kj9Fn33fkT/N79Sv9IAOoAdQHvAV4CRgLSAeYAjP9v/lH9J/wy+4X60vnU+OD34fbR9SH1F/WF9ZL2ivjr+hr+KgKmBpYLYxDuFP4YPByYHvcfSiCaH5UeVx3VGyEadRiyFn8ULhIHDwILVwYUAZn7w/VM8FTr9+ae45fh7uAi4XHiXORb5nPolOq17LvuFfHu8yX34vrb/uICTAbICIYKJQvLCmMJhgc2BZ4CgQBz/ov82fpT+af3APZa9GfykPCp7gTtJez+68DsBu/48pb4uf/rB4kQ2RgTIPglVyqYLEstfyy7KpoodCZpJFwidSAMHmQbchdKEvMLUgTw+yLzEet440XdtdgL1h3VntVb16TZgtxu37/iDuaE6VHtWvEO9hD7RACNBTYKLg5UEQITFBOUEf0OiAuzB8sDNwAR/Rv6r/dF9bry4u+37ILpHuY84zPhcOB04YjkBOqm8Xn7hAbuEd8cVCYGLhwzyDVvNnw1mzNaMTcvJC0+KxIpWybKIpUdzhYvDhQEQvl17qPk+dsj1a7QS872zRnP0dAv0/zVNdmP3DjgdOR06Z3vY/a6/SQFFQzkEZIWdBlnGrEZDhdtE9MO4gn1BEkA//s0+KD06/BN7WPpcuVC4TDd0NlI14vW89fU2+Ti5uyN+f0HIRdEJWwxizsAQm1FFEZwRJdBMj5SOzc4eDVgMsEu7CmHImEZmw3X/2PxVOOR1vbLRMTivwu/lsDHw+bHLsyX0PDU/dhf3U/icejD7zf4yQEoC/4TnxtaIawkcCV2I0cf7xmNE+YMlgbgAO37qfeH8zjvourD5YPg1tq51WnRkc4FzhrQYNXJ3VrphvdFByIXEybCMvI8AUSrRyVJ/EfHRSlD0kBfPtU78ziNNPwuvSZnHFIPbgDA8NPhsNQOyQjBAbxVuka7FL6ywZzFYMomz4vUeto34SvpYfKc/CMHQxEIGighOSauKK8oHSZxIdsbQxV+DvgHcwGz+172KfFZ643l0t992fDTDs9ly6DJH8qLzczTMt1R6Qb4owg6Gf4okzaxQbFJgE7AUItPeU19St1GGkPqPks62jOiLNMi4xZRCer5Eurk2vPN3sJdu5G3mLbduOm8uMEbx9jMvdL72NffHueL70z5nQMbDsgXECA4JvQpUyufKVMlYx8sGI8QSAlCArD70vVs8CPrkOX43y7am9S0z57LeckIyUrLKtDa147igO9G/5kPTSDHL+I88EcxTwdUAVaCVWVTHVAnTMxG3kBVOV0wOCbDGeULG/3j7SffS9Kwxxi/47l3t363wbl2vYvCNsgbz93Wi9+Q6Rz0gv9cC3kWISBXKCwu4jBiMUgvXCqkI5wb6hLRCb4A6feF7xroJ+HT2jLVCtDQy6rIjcZPxULFZMdly+LR/dqw5rD1rQZ5GWIr+zuoSV1Tl1prXB5cslg8UwdOo0ejQQM6ITIGKP4c8BAdAonzT+Ry1qnKQsKAvJm5crqlvO7AFcbqyj/QgNan3RHmC/D4+iYGwhFCHOck+iqwLYQtNyo2JUoeURYADvMFwv6P9yTxguqR40rdH9dn0QPNysk7yF7Jbcwo0BPVp9pz4DnnWO9U+Z8FHRVUJgE4Skm7VnRg6mWyZV9h1FieTp9DRjnOL78mxh56FccMjwGx9CHnXthoy1DAqbkatli3HryZwmvLm9P62qjhhuid7673iAH4CxoXgiLSK1EyLjU4NFsvCCjxHhgUEgqNACL41fBy6sLjCd3Q1j3QvcpVxgfEtMNyxpLLhNGO2IDfQ+Zz7HDzN/vUBPgRPSHGMlhE2FO0XuRk3mVXYJ1X/Uo6Pooyhyh+IPEYPxJxCZ8Az/Ra58rZE8wswtC7pbqMvJ/COcsK1Lnd5OTe6mHw3PWo/PcEBQ8oGf4j1S3lM7E2TDTKLWIkFxldDTACH/n58Obq8+W44Bbb8tTRzr/IocRUwoHC2cXgyzPUA92O5RTtjvMV+fn+mQUMDhgapiiGORZKLVj7YOJkzWLAWSRO4D6TMD4kExqqEsELPAZw/sr2e+xQ4KnV1cqexODBRMOcx6HOxNeo3/3noO3u8uP4sf65BuEP5xnxIjMrYTCHMYgvkCiPH7QVPAvLAeL5dvOr7ULpkOTk3orZtdMxzyXMnMu8ze/RYtg/3zXmgeur723yIfQj9837/QJyDk0dQS7iP6tO2VhpXNRalFJnRzg7sC2JJOIcdRi5E2oOIAdX/Bzyq+O614bNkMacxe3H6M5E1e7dTOXP6kDwuvIT97H78gIODI8V5R9FJ9wsgy0lKtMi9BeADfMCtPol9Ibvq+uk58njG94f2JDRfczGyfrJlc3l0jXaLuH250LtSPA+8qLysPRZ+J3+7QckE4whLDDlPjBKIVCWUX9NxUeBPq80mysGI4IdgxcaEmsKlAHz91bt7uMY2vrTqdBh0NjTftiR3Y7i1+f86w7wjvRr+En+ZwU+DNwTBRq3HbYevR0rGlkUQA5JB+wBxvwh+PTzTu4T6TjjI95A2VvV5dNH1LfXBNxd4b7mneoD7i3wp/Ht8RrzG/Wv98790gPRDHwYdyTjMWg9p0bNSeBKzkezPyI5Oy5lJcMdKxYREPAH3QGA95jwkOhn35PcANdt1+bYi9zx4K7kS+uR7Y7zpPbX+Gj+GAKvB7MM2xHsE7sUShTsDx4MogVh/8D6P/Yr8mzuC+sS5grjit/v2+raF9ru29neoOF75OjlRucx5+XnEulN6THsau+f9A/7qQHsCiQV3iFZL3U73EV4SgNMzEpDQwY7dS8wJLkafxEcC60BhvvP8ovrOea03SHaV9Yl14TZPt4k5GvoWe8J9G752v3lAAoF9gmSD9oTCBg3GY8XXhXTD+0IyQAY+VTzRu+J7HvpLucf5D7hNd+33A/bwNro22bfcuPv5jrqyewl7ozvmvAq8YryR/Xt+Hj+dgU6DO4WQiJyLy489ETtSthJBEg2QCE2sCyoH7wXdQ/bCCUCEPsR9Ibr9Oa+3xTc5tph2q/ewuNP6Z/uePPi9hb7of4xAE4DKgcgC6cQIRQlFZYU1xCvC3cGBQBS+Uz1SfKV7zXurOrB5lnk2eBg327eAt5338biZeaK6WzssO377qfuNO/f70DwBPOw9Rz50f1ZArEIixKEH6cuKT7hSVNPg0/zS+9ACDXDKLcZqhKxCgQEbP6Q9sDu5efY4zLdYtxN3WneXuW56kvur/IR9fT3AfxB/60AJgTMCMcLPBFFEygTPxExDRAIsAGL/GX2S/SX85/xA/EA7WzpAuZH40riAeEZ44/knecE6u7pA+qU6J/nquah57Do0uoW7+XxQPZE+4IA4AmVFU4l7DeASEdWK1oIWNVQVkEWNM0jfhW2DecFfQEM++L0Uuw65dPh3tt+3fXgaeU/7hT1KPlR+9P8U/uv/Cf/+P4NA80GWgn+C/0MQwoiBk8D0f3w+rz5cfcc+Nz4NffM9FvxDOzP5sfkGuMh477lLucL6aPpbOjk5b3kROMM4yvlbOfB6rztCPJ79UT6TwEjCoIWyCfCOfBKBlivWltXa0+8QU0znSZEFz8Q+gh4ARD8L/GZ6Rnhad5e23/diuNz56vw2fRA9zD5XfnW+Tj8Hf9AACoDTQYaBmoIZAcKBfEE+wK1AgkC6QHV/5n+Bv3/+Of0YPFm7MPoWeaX4irhdt9j3Vzc29yb2/rck95732TigeQJ6M3rd+8G9Hv52P9ZCFURjhzyKWc5sEiAVE9ZUVUCT7BC9TQoKMYXTg5aBYH+H/mI71LqeuPk4qPiCuQH6njtKvU7+Pf5GfqA+Pn42/oL/d/+5ADWAb8DowSIBOQDagTyBPoFoQZcBWsCYP99+5b3YfUb8Qrvout/56vk/t/x3f3a49gI21Lbx9504erhduUz5lzptez577D1L/tGA9MJxBC7GIAhfi/3PJNLFVR3Vc5R4kboPGkt3CBvExoIPwNZ+1r2Bu/W58PkAuUm5rjp9e6f8hD3IPv6+QD6SfrB+Er9Qv9wAOkBBQKHAjsDqwRKBBcGKQgiCGUJ3QZuA0cAs/sL+fjzfu+s6qrl/+GH3UXZrtZv1QPWo9n63LTgZOS45nnpneu+7Ujx+/TH+j0AhgYnDNcRohmNI18wGz/KSzBTVFV/TGlEOjZpKC8dbQ3CBUL9tPfx8b3rbea85ILmzec97YjxT/a9+gn9jPz9/Nn8Yv1IAUkCOgOaAxkDogNOBJIE1wRdBtoHOwiWBwcE6P6l+nb2QfNX78fqxuVH4iffKNuu2JXV5NWG2BncteCZ42XlcucL6brqI+5T8WL2Qf3RAnIIrQ1PEskZSSS4MGI+XUw/UoNSaUsEPiYySCQAGWMNdQZE/7j5pvQR66TnuuRB5y/sI/E992/7y/8IAWcAVv++/U//OALsBDwGlASvA+AB9gH6Ar0BEAOLBC0FYQYTAxH93Pe28mfut+r75ZjgKN172YXVkdMf0xnVutnO3mfj9OeS65Dtbe8E8cjxtPT0+E39rAM/CMsLiRCsFIgcpyd5NLdCGEzETvVHcTwlL94hJxt1D9MKLQc+AA0APfW27sHr+esz8tv3Zv1u/30D+AGj/sz8AvgS+c38Rf5dApkAdv1B+9X4MPub/JL/fAESAxQEtgG6/OX14fCx7R/ruunA5Inh1N6q2avZrdfv2DLeXuLB6JzukPDq8avyafKb9Gb39vlr/nIDeQaGCosNsRDCF3IhSS3xO1dGQ0oZRqo6rC4FJJ4fmRnrFeYRMwuWCI7/tPhs9MzzT/kE/H7/kv4i/qL9e/mr+HL29fjU/V7/pAD1/N35b/kY+eH8fgCOA00HHAjnBUwB5Prm9PPyRvJr8dXvuuqm5H7ea9ir1JTTPNZQ2hzfT+P35P3mWedM6WfsBPBY9VL52f38AJUCrARdBi0KEBAyF1ggbynqMrw34TeQMX4oNyFUHNwbuhgnF1cRyQzYCA4CXv8b+xb8af6vAKsCsQAA//n7gvmI+Kb3yvnM+8j9FP6o+436QPmV+rf8Mf+BAVoCNwK7/tL54vTY8M/vO/Bd8MLvW+7r6wTpyedj55Dp2u6l9Av6tf2f/nH+xf42//j/pgHyAicDWQIf/w37wPfJ9e301vTF9F30MfU+9Q31TPVQ9dr2+Pmt/VoCaweXC6gPaxK5FBgXUxmWG1EdjB7uHhgesByWGukXKxUjEQIO3gpXCHAGHwSAAg0Bqf/S/X37JflL9xf2fvVp9Pfzo/Oz8/TztPMG9DL0OfSD9GX0uPR89fD1gvYM9zr3fPeu+Nf4avm9+Yn5rfnx+EH4cffq9gL3evaT9Sj0FvLr8MfvfO8T8K/xLPRs9537hP97A70HuQvUD2ATzBVNGEYa7htbHSIeLx4XHp0dlRwIG+YYaxboE04Rew7NC0IJrAboA6cAqP17+5f5TPio9n/1w/Qw9Ifz4/LO8vnyEPSW9GP0fvRa9H30VvTT8/bzZvR09ar1a/Wa9H3zWfMd80HzgfPK84v05fTk9En0GPN98h3yQvJi8qvykPOK9Nv1VfdY+U783P+dA2oHvAqXDbUQ4BOZFnYZ4BuBHSsflyBpIc8h6yEaIfIfux4uHOsZOxfIE7QQKA3MCUIGbwO6AB7+a/xl+g75+Pfa9mX2c/XK9I30MvQ59N/zavMW8+jyj/L68fHx0/FY8jDzNfM98yTzAPOn8m/yVPJy8uTyH/Nu80Tz/vKN8jjyd/Ia877zRfTz9L/1GPfB+LD6Df0kALgDTweMCgMNEw9EEWcTTBVWF7cYYRrAG4Ec8hzSG+AaShkCGMsW6RQtE3sQew4rDMEJtQeLBVwEbANsAm0BJQAO/7v9Ffza+k35TPiK94b2TfXJ863ypfE28eHwxPDb8K3wuvCn8HHwMvDR75vvCvCg8BTxjvHN8Vry//Jd88vzIPTC9H71PPbR9lz3MPj++Fr69vvH/cr/qgHYA1EGhgiNCmkMdw7mEFMTYBWNFv4XBRnpGcUaSBoMGmMZiBhfF5EVwRNwEeIP3g1PDOwK8AjbB20GEwWnA9UB2/8Y/of8tfrW+Br3fvUZ9PPy1/Eu8bbwlfCc8K3wqvCs8CLxDfEK8Q3xvvAG8TXxXfGB8afx6vFV8vjyDfNC847z6fN+9L306/Q/9dP1hvZ39z74IPmp+nn8y/5RAacDDwaVCCoLBA63ENsS7BTeFkkYXhn2GcgZoRkvGTMYShfeFXkUKBOjERkQhA4RDXIL+wkLCDAGYwRAAloAN/4n/Ar6XfgH98P13/Ql9LLzp/Ox86LzkfNd80TzVPM387jyWvLZ8X7xV/EF8QLx+vAH8ULxiPGp8c/xBfI+8nnyjPKa8svyMvOf81P0HPUR9n/3Pflj+7f9RwD/AsUFqQhIC+ENhRDVEuwUyRZEGGoZXBq6GpUaUhq8GTsZhBgcF6EVFxRSEkgQNg7zC3cJLQe8BCoCpf9Q/Wn7tvll+HT3ofZJ9kD2LvYj9ir2LvZr9pb2ePaI9mP27vVM9ZP0xPML85HyJPKe8SbxsvA/8CHw6++n71fvP+9N73Lvs+/X703wIvFe8pHz6fSX9pj4AfuO/SsA6ALfBd0IpAsZDiUQNhJrFFMWDBhHGRwathoKG0UbBhtgGpwZohhrF70VcBP2EFkO0QtlCbIGDgTAAdj/Pf6q/EX7JPp5+TP5xfhk+Pb3uvew94n3QPfH9pb2Z/Yy9tz1CPVW9N3zOPOO8s7x/vB58Pzvbe/w7l7u/+0O7jXuV+6Q7vruoO9z8HDxgfLa85r1aPeS+dv7JP7eAJ4DfgZJCekLbw7SEBcTFhUGF5cY3RkBG7gbAhzoG1UbZBomGaQX8BXSE1QR0A5ODP0J0Qe3Be0DOALtAM3/nv6u/cD8Afxo++H6Tfq1+Ub54Phx+PX3d/cP98P2cfbq9Sn1XfR787zyAfIz8WDwpu8878Huau4V7tbtzO3H7ertLO6V7vXuoO+T8I7xxPII9Ir1cfd3+d/7g/5NAUEEOgdeCjMNzg9rEvEUYRdtGfEaARyrHOIcdBymG30aKRm8F7wVuxObEX8PpA2vC9QJHQiIBgoFugNZAugAY/8g/iT9HPwY+y36g/nZ+ET4oPf09kb2uvVD9bX0NfSO89XyJPJf8X3wxu8m76zuZe4U7uXt1O3P7dnt+u0J7lDut+4R78XvnPCH8aHy3fNw9V/3svlK/Az/CAIxBWUIhgt1DvkQbRPWFQoYtxm/Gl8bqRvaG24bvhrJGcMYwBc9FqgUyBL1EDMPgQ3KC+oJMQiGBgAFXAO3AUYA6f6q/W/8RPsV+gX5Jvg19072ePWf9NPzS/PJ8iLyofEK8ZrwL/DG73jvA++17qDutO6u7qnuzO7x7kPvfe+v7wTwTPCq8EfxFvIB8yX0sfWY99H5Q/zc/r0BxwTWB9wKnw0gEKAS/BQoF+8YIRoSG9UbVBx0HCMchRvJGvAZpxjzFvoU7BL0ENoOvgx1ChQIKAY9BEgCWgCS/gX9q/tC+sP4tfeK9oP1x/Ta8/ryQPKy8RTxpPAf8JTvO+/d7qPuW+7+7bLtiO2H7Yrtgu1i7VXtY+2f7eftA+5Q7uvuyu+28MTx+vJt9Gb2mfjq+lf9AAAEAycGGgnJCz8O8RDeE2MWjBg0Grkb9hzZHTQe2R17HcEc4xuoGrMYixY+FDES4w9+DRQLmwh+Bm4EdAJPAG3+svwW+8L5UPge9+/1HfVj9KjzHfOm8m/yOPIt8g7y4vHB8Zjxc/E88eTwiPBA8PLvx+9/7xDvqu597nTuYe5W7k7unO4+7x/w7vDi8Tjz1/TQ9uH4Tvvm/bcA/wMjBxcKwgyeD5MSTBUBGAganhsEHQwetB7AHnAerR29HJgb3xnOF4UVMhPZEJMOUQwCCrsHhAWIA5gBtv+w/f37lvow+fD3wfbC9dP0R/Ti84vzNfMH8xfzAfPc8ofySvIg8urxp/En8cvwi/Be8CPwy+937wPv1u7Q7uHu2O7J7g/vie8r8OTw8vEx8x/1Ufem+S/8FP9PApIF/gjxC9kOvBGLFDIXfBktG18cWh3nHTAelB2wHLkbjxodGQ0X/xS3EogQTA79C84JfQeGBYUDfgGD/7b9D/yH+kv5CfgY9132vfVN9Uf1TPU59Tj1OvVR9Wr1WfXO9FL08vOP8zPzqfIG8nnxPfHy8I3w+u+679Xv4e/779rv9e9H8OTwuPG98jj0HfbD+Kb7uf67AQgFawjmCygPmxEAFEUWexgKGusaEhv7Gr4aURqTGUYYAxeeFX8U9BIREekOvgwLC2AJkwdlBY0DDQLMAHf/0f1o/E/7bfqn+cf4GfjT99b3+vcH+AH43veg90f3h/aD9Xr0XPNF8hzxAvAS70Lume397GLs4+uY61zrMetA64rrHewX7WDu5+/H8Tb0HPel+lP+JgIwBvkJvA3GEHETrhWjF7oZOxvTHLEd3R1hHf4bmBptGBYWAhMwEOUNjQuRCcQGlAR4AgMBIwAi/6L+F/4O/vn9Kv6Z/gD/ZP+M/5T/mf/f/1oAjADYAFcByAHfARgAJ/3Z+Kr04PFN8BLwau/87dbpfuPN2wXWO9QF1UHXaddQ16zWfNcK2kfe9ubG8QX+vQeuD84WWh6JJ4UwijkUP/Q/FTwENewsFyQVHOAW0RLsDpQJywNM/7364PjJ9075F/tA/BT+/P0s/lv8TvxW/Uv/qQKzBK4H3Qh+CVkJ8wjHCWgK7AvwCx4KHgYAAMn5p/MC70frKuhs5fDhXt7g2ovYQNir2QndIeG15XjqBO5S8PDwFvF08dbyq/Wu+C/8Sf/0AboEjAeMDFIUix8bLfI4oEANQLE4WCwTH5UV8g48DdULYAuLCGEDpv5q+a36iP1RBNkJCgxrC0AFm/9099LyRfAk8Yr0A/cX+cH3pvZf9SD3aftuAZYHDwxlDTgLRQa0/5b6nfZr9cnzOfIf7s3nCuFN2tzWLtV22OHdhOV17YvyH/WD8+Dx/+/U7zfyGPVZ+QL9fgDnA9gILBIgH5Yw7kAoS/hL40EpM/UhoRURDXYHLwVSAFf9A/eJ8nfxtPTT/zIIbRB7EFUM8Qbl/uz66/RO9Lb0RPbh+IX2sPX68wv3Of18BEsNeBG9E+QQgwqUAhL6S/Uq8kfyYPFb7vTpeeN83lnartnE2znhzenP8Uj4IPoz+F30Z/Eo8ZPzvPhJ/rkCdwSkBBoFNQnuE4Ak2ziVSdRR+k3xPgwrihbCBxP+3PlS+av49vjg9Rfzh/Hg9MX99wZ8EC0TihFOC4MC0/nc8S/vgO9D8+L2a/f99VD0Q/XO+TQB/AlIELwTTBIlDMwD9/mb8nXtCOwb63jpHOdi44DgoN7a3t7gs+Xg6yTyu/ae+HX3nvTI8rzxs/Ie9Xr4Cfzp/kUB4wIdBmoMjRcjKCg6W0g7TAdFnDTaIMgPQwNE/b36E/ve+ij6Pfje9Zz3XvwBBkwOIBW8FSIRPArZ/tf1sOwb6n/qNu8r9Tv3F/rP+dn8VgDTBvQMbBB0ErgOoQgL/5P1lO1d6ZTo7+iT6SXpnOc05c3jHOPA5NznTeyp8Bf09fVa9Tf0tPKW8qrzbvak+bf8tv8vAeYCFgbSDBUZ0ynuO7hIQkxGRIoygR+wDfQB3/o8+Ab4jfew+Nz1yPXK9zv+lQh5EbsYGRexEgIJs/xC8iXo3+Ti5A7rYvG19SX6vfqE/jgCUwjYDWgR3hONEMYLWAJz+NzvZ+oc6WTpQut86mPoXeSN4PXe9uAw5wnvg/f++4D88/hf88juu+xu7ozxkvbw+v/+QwL0BZALYBVYJRg4F0pMU4ZRWEMXLwYZygRE9ivtVuzM7q301vhk+tn7Sv20AZYGwgy9EOcQRA5lBtn73vAk6BbkV+TI6UDwrPfw/pkDsQfwCcQLJgwNDEULJgiHA4r80PR97tLpI+cW5gbmUOa05UblZOTa5P7mqeqx76P0sfjv+cL4L/Wz8YfvkPCI8+73mvxvAP0EkAnEEUIdwi2KPyxN81JVTKk8tSaoEGn9kO/S6SXqpPCW+Nv+xAFJAgMDwAM5BwQLEQ5kDuUKrAP2+OnuU+au4ubjZeni8CT43v6OA58HTAozDPsMFg3UC+MHngFe+dnxCOzM6AfnXeZe5s/l8uWP5QHmqecf6/LvfPQn+Rz7N/vz+MH0kfBg7V3tue8+9Cf6Pf+fBHYK9hF/HiQuqEBITilUnU6YPQAprBDt/SnvUen66vjw9/qAAKkFBQYNB1QHXwhrC/ILEAzUB3cB4Pc/7wno9eN15FboDu9g9pf+/wN2CJ4KdAufCzsK2ghSBXEBMfxq9oDx8Osq6MrkpOK/4Q3hqeFG4tzkeufx6mHvePMw97r4qvhy9rLzcfHF8EXyO/ZY+zEBaQdVDvkXciWWNi5Hh1LgU+pJajdfINkIk/Wc5/zi2eXX7Y34lP9bBMUEmQSRA28E+QZ/BxwJQgcHA2f8l/T97I3nfuYj6HjtxPST/O4DbAmTDX4PgQ8mDuUKvAYWAUL7yvRZ7jToluLn3rHctdyK3kriFeev7JPxC/am+RT8Bv36+2z5WfUR8vzvivCX8pP2kvsUAewH5Q7gGBYlKjRKQ25NIVCTR3Q3WiE9CmP2d+fu4f3iRey393sC5goPDsQOnAucCWoGsQS9Ay4Bwf7P+XX1aPD07J/rVuyf76j0z/qBAGgGSQsgDtQO/Ax7CCID/vy/9pPxCu2A6CDlleJk4J3f997X36Pi1uYD7HjxVPYB+bj5JPj19FLxS+6Y7bbvpvQS+9sBTggZDp4UHx3RKIM2HUMMS3pKDELbMvgeAwtt+AjskObX54HvWPjzAdsH2ApaCikHzwQiAUQAVP/e/pr+bvy6+fX0QfFT7d/rpu0E8ub51AHICd8ORRGEEH4MtgYA/8r3ZfGx7b/rfOpu6efnT+ZI5LniqeFZ4p/knui47T7zafjt+/j87/py9zLzq/Ai8AnyS/bd+3QDXAvCFF0fmyssOWRE1ksTS/dCUTTXILcM6Pi66p7ix+Js6dzzZgC5CaQQNRLHD1IKUgNN/QX4jfVz9Lf0dfXn9dr1zfSw853z7PT698f8WQJCCMIMvg5+Df4IMwIH+gTyTeuW5jjkq+Mz5Arlk+XW5QTmfOaq56Ppz+y88Nn0xfi8+rv62fgV9qPzbvKh8//2YPziAl8KwRKTHMsnZjOcPRlE90RMP1Q0BSXyEyIDv/Qr69HmROhN7sT2Sv+bBp8LIg3zC1YIFAOo/SH5CPaD9Fv0HvVW9gD3Afdd9t/1+/Ul99H5d/3CAY4FWAjHCKEGIQKK+2r0Zu1Q56viT+D/3xDhPePh5ZnoHutw7fLvlvIm9cn33fk0+6f7j/si+9/6lfuq/Gj+AQFMBF4I4w03FfMdxSfZMFw36zneN04xhyeoG8sOYwNz+kP1xPOx9XH5wP3fATgEhQXDBPMC1//8+4H4wPX79Mz0m/V99pD3h/gY+dT5Gvpb+tL6BPw0/ZT+iv+c/7f+7vze+lr4zfWp8qrvL+1n67PqoupW64/sgO7t8Fzzf/Uq97P4qPkN+gb64/kr+jb79/zA/qUALgJoA0cE+wQyBlQIdAvxDpASUxXKFqEWFhWNEtgPdA1gC1EKzwlNCjUL5wsRDDQL8wkKCFMGbAQ8AoQArP6Y/dz8lvxV/Lr7T/t++jP65vnu+SP6TPrX+mz7Ufzn/Fr9X/1G/V79Of3J/Or72/pp+aT3Lfbf9P3z2/NV9JH17fZ8+Ib5Fvo1+mH5VPj19uz1WfU49XT1ufVR9hb3GPht+c/6Uvwi/hIAUwKFBJsGkAgcCrcLMg0hDzURIxMtFaMWMRh9GWQa1xpoGnsZMBi0FrUUUBKZD6gM3glbB34EqAG+/tP7pvnQ96H2rvVQ9TL1i/VT9sL2Kfft9pX2Vvbt9Sj1KfQO8y/yvfG48R/yzvLb8yf13PZh+Ij5J/pQ+gT6DfmR97f16PNo8rnx3PFe8mDzuvQU9rD3S/n5+tL8Bv92AfMDXwY1CA0K5wvDDbUPzBHQE7cV9RcQGhscrh10Howeyx1vHGYalxc6FN8QlQ1jCqMHtgSwAev+b/x3+sn4Zvc49pb1lfWZ9bz1rPVc9en08/MQ8xDyFPFU8PvvRvDM8OTxMPO/9Dn2m/er+C35Tvmx+MT3lPZo9Tr0afPc8sXyHvN18yr06fTS9d/2G/iz+Xn7pf02ANsCaAWUB3kJKgvFDIAOIhDlEeIT5hUjGGAaQxyzHUAe9B3uHFIb7BjnFZoSRA95DPYJ5AfoBdsDAgJNALb+af1V/Fz7jPq/+QD5yvdK9o301fI38c/v/u6V7sbuf++m8Cby9vNt9Xv2Jvc79+n2I/Yi9QP06/L18WTxPfFb8cLxYfIg8/Tz0PTL9cr2zvf8+D363Pu5/cr/AgI3BF0GNwj3CcELgA1fD2kRdhOoFQkYYRpjHKkd7R0/HeobJhrXFysVSRJlD/IM7QpWCeoHqAaaBcsECAQXA9cBJABV/lv8SvoN+OH16/NO8jDxj/B+8KHwRvEr8jPzWfQf9Wz1SvXz9GX0l/OZ8oLxjvDs72zvR+9R74XvLfD/8CzyXfNx9H/1dPZ293P4m/m6+hf8/f0kAHsCsgTTBuQIAAtLDZsP1xEGFD4WVBhnGgkc5RzUHBgc8xooGTwX1hReEgoQ8A1yDCsLPQo/CVgIVQcLBnsEZgIlAKv9QPsk+Sz3WfXf8/nylPJr8qDyEvOa8yv0vvQK9dn0ZfSd88Ty2fH68DXwk+8W79Hu/u5r7+3vdvAd8czxkfI787zzLfSs9E/1EvY/9674jPrS/Eb/7gF/BP4GOAkwCz8NPw9JEVATNRURF90YjxqmGwUc4hsTG9oZMxg+FiEU3RENEJgOrQ0JDSgMFQuZCdQHhgXSAuj/9Pxi+kf40/bH9SH11vTF9AL1UPWJ9Vn15vRD9Jrz1vK48bbw1O9q7yvvEO8O7/bu/+4Y72Tvle/N7wTwVvDM8Ezxz/Fe8hXz0PPD9AD2f/dH+Wr71f16AEgDOAYVCaoL+g0NEOERixMbFWcWoRenGJcZUxq2GpwaERo3GfsXsBYFFVMTqxHpD1gOvAzsCrsIZAbyA3oBDv/L/Pz6k/mF+PL3ufeD9233PvcB95H22PXs9M3z7fIJ8ibxW/C27yPvtO6D7k/uH+767fDtBO4z7lDubu6u7g/vkO828AnxDvIU8zT0ofUz9/H4+Ppc/eL/swKWBT8IswrrDN8OkxAfEpITFBV5FtcXHBlRGhsbdBtxG/AaHxrUGFIXbxV2E34RnQ/qDQsMHQr/B98FlwNcAVX/kP0y/AT7IPqL+ST5fvja9x73RfZ69XL0fPOe8uDxLvG48Ezw1++f737vqO+875XvbO8/7yDvAe/Q7qDuh+6R7tvub+8Y8Pfw8/ED84P0MPb/9/b5BPxL/t0AdQMgBqgIvgq8DJ8OcRApEuITjhUuF8UYRRp3GxMcJxylG7saZhmbF3YVORPsEM4O/gwjC1YJfwfQBWUE5AJGAc7/d/4g/d/7k/pY+T/4I/cp9mr1tPQQ9KjzcfNG8/7yvPKF8kPyzvFi8QjxkvAe8KnvhO9k7z7vCe/X7uvuBu8/73Hv1O9z8EfxYfJ588L0WPYC+OH5/vtJ/uoAqANLBsIINQutDfcPKxJVFHMWSxgQGvQbcx0/Hlse0x2qHC0bSRn1Fn4UERLlD/ANOQx/CsEIEwd3BesDPgKAAKr+4fw4+9n5gPhE90f2RvWp9DT02vOK81TzQfMG87byO/K08R/xrfBh8Crw9++z75Tvhu9q7x/v2+6e7nHueu6k7hzvx++b8Lnx/vJZ9Or1tveg+cn7U/4ZAQAE2QZsCbYLKA55EGwSXBQ1FgEYlBkvG2scLB17HQsdNxzKGiIZARe6FIoSWBB+DrQMFgtSCZ8H3QUhBHMCmwDz/jP9qvtD+gX52/es9rH1zvQx9JHz8fKI8ijyvPFB8b7wWfDq74zvae9A7zzvTO9X71jvT+9C7yHvE+8N7w7vQu/E737wTfEy8kXzqPRZ9jb4Lfp5/Bz/2QHQBK4HIAp1DLMO2BDJEokURBbXF2kZ7BoqHOscHR3LHP8b7RpnGZAXfRVLE1cRiw/GDdALzgn1B0UGrgTYAg4Bav/R/XT8D/ua+T/48vbP9cr04vME8yPycPHX8F7w2e9o7x3v0+687qvut+7S7tnuy+7s7hbvC+8R7/vuCe9M76fvMfDL8I3xefKG8730SfYH+Pv5Q/zO/n0BGQSXBucI8wrdDMoOshCbEoEUMhbkF6kZCRsGHIEcXBy+G6saMhlIFyAV5xLREOMOEw1jC8AJFQhdBqwE9wIrATD/T/2e+yP6rfg29wz23fT180TzifLx8WPx7/Cb8F3wIfDZ76zvn++K73HvQ+8l7wfvye6w7qDujO6L7rnuFO+i73DwYvFO8k7zePTK9Vz30fiO+rv8Gf++AV4E9gZPCY4L6A0zEEkSJBT1FcoXphlQG5EcKh05He8cPBwcG1QZHRfwFPUSKBFeD3sNhgubCdUHCAYeBCsCLQBh/qv8/Pps+dn3aPYX9eHz4/Ii8pPxGfG78H3wUfAf8PHvuu9y7zTv9+7S7qruh+537mrume7Y7g3vX+/Y72/wCvGx8WryCvPH88r05fU999f4zvoZ/bj/jAI+BcAH7An8C+kNyw/GEZ4TfxViF18ZLxuGHCkdEh2/HNEbdhqsGGoWRhQxEoYQ5Q4hDXYLuAkRCFAGaQRIAjEAUf5z/MP6MPmz9232TPVW9JXz7fJs8hnyz/Ft8QDxovA48Mbva+8Z7+7u+O767vnuF+8170/vgu+l77rv6O9V8Onwc/Eo8gfzB/Q59aL2Lvjk+fL7RP7MAHADCAZiCG8KkwyfDn4QbhIeFL8VcBc6GcMapxv8G9EbdBuQGjEZYRcmFf4SBxE7D1cNfwuzCfcHUgahBN8CCQEt/2D9s/sk+sP4e/dG9jn1b/TC8y7zxfJR8uXxtPGJ8Tbx+fDe8OrwFfFT8XTxj/HC8fHxEfL08cvxm/GQ8bvx3PEO8l7y4fKV8370l/XN9lL4IfoY/Fj+2ABsA+YFFwgpCk0MYw5lEEcS/xOUFT0X8RhEGjEbbRtOG+Ya+hm4GPgWCxUUE0cRjA/MDRQMNQpVCIUGugTwAjMBT/+d/S38xfqG+T/4Hfct9mL1nvTd8yrzhPL78Wfx6/CT8FDwKPAh8CnwJvAd8Afw9u/g79Lvt++p78Lv4u8x8KrwTPEJ8tzy3PMr9Z72Jvjx+dL7Bf5+ABIDiQXTBwQKFgwvDhAQ6BG9E3QVExfAGE8aVhvtG/kbthsJG9UZKRgVFgcUFRI/EFgOhQzLCiEJdgepBd0DDwJYALH+Gf2V+yb6vPh291b2LPUp9EHzh/IE8ojxBPGr8GPwDPDh78PvmO9P7xLv4u677rfus+6z7q/u2+5C77HvJ/C98HrxbvKS8+H0X/bu98r56Pss/oYA/QJ3Bb0H8wkEDAsO+A+9EXUTGhWnFh4YgxlsGtka3Rp4GpwZXBjvFhkVKRNgEakP/A1RDLgKGgmSBxEGdgSzAvMAgv8X/pj8JfvF+Y/4ivd59mT1nvTx82jz9vJq8v7xn/Ez8cDwb/AX8KXvW+8b7/3u9+707gLvFu8e70Pvke/b71jwAvHM8efyS/Td9aj3lPmk++39PACMAtkEJQdECUsLVQ09DzYRIBPgFG4W3hcPGdMZJhrbGTcZVxgQF3oVvBPmES4Qhg7VDFYL1glkCAcHlAUaBJwCFQGZ/zr+5fyV+1j6M/kn+Fn3ovbp9WL19/R49Ofza/Ph8l3y4fFd8ezwZvD174vvH+/b7qXuf+5i7lbubO6h7gvvqe958Hrxq/Ia9LH1g/eB+b37Qf7CAF8D5AU9CJAKtgy0DoAQPxIAFJAV/RZXGFoZ3BnkGYoZxhiUFxMWPxRVEoAQrQ7pDD8LnAn/B4sGCAV2A+0BTQDX/or9N/z7+uv5/fgj+F/3uvYc9o/1CPV39P7zX/OG8s3xE/FQ8LvvL+/X7q/ume6c7pbupO6a7pvuxu7j7hfvjO9a8FbxivIa9Oz1//c++o/89/50AeUDPAZjCHkKggxxDmEQJxLaE3YV8RZEGB8ZnRm6GWcZtxikFzMWhxTREggRPA+EDegLZwruCGUHyAUsBJoCHQF7/9b9dPw2+w/68fgJ+GH35PZs9gL2rPU/9dT0WfTQ8x/zW/K28RTxivAT8L3vhe9j71HvMu8y7zHvGe8k71Tvle/577vw2vEn88L0t/bW+C37p/0QAHgC3wQmBzQJNAszDQkPyhBwEvQTehXPFuUXqhjlGNUYahiEF1AW0BQeE1ERjA/bDTsMuApECckHSAbfBFgDqQEaAJ/+LP3M+5H6e/mR+M73G/eP9gz2fPX59JL0FvR689TyHPKW8SzxsfBZ8Avw0e+375/vie9773nvhe+47/jvM/Cg8HbxpvLr83T1c/eg+fz7lf4vAbEDEAZYCF4KNwwJDq4PWhH2Em4U4xUDF9YXTxhFGOIXFRfjFXkUzRL8EDMPfg3vC2oK7giPBzUG2gR9Ax0CzgCO/0X+Af3M+7L6yfns+BT4avfz9oP2F/av9Tb1qPTi8yDzePKz8e7wRfDc74bvP+8v7xjvAO/27u7u8O4E70Hvs++M8MHxS/Mw9Vb32fmG/Db/1gFEBIYGmQicCmoMBw6YDzMR3BJrFOsVChfTF1EYYRgOGCoX7hVvFNASHBFhD70NGAykCjEJ2QeSBiQFuwNTAgIBjf8Q/qL8MvsF+v34M/iJ9+j2f/Yn9tT1e/X99FD0lPMD833yz/Ey8bnwZPAn8Ovvu++A71PvNO8o7ynvK+927x/wF/Fr8hb0AvZH+Mf6Yf3q/zYCgQSGBmYISAr4C48NDQ+uEDwSrxP4FOUVhBavFpQWBxYFFcETTxLBEAIPZQ3cC08K0gh5B0UGAQXVA6sCZQEkAPD+0v22/J/7q/ro+T/5m/gJ+Jb3RPcJ9672P/bM9Tz1sPQG9Dnzg/Lf8UvxxvA68KnvRO//7sfuou6p7hTvxe+u8O3xi/OK9b/3HfqV/BT/hAG4A78FsAeQCWMLFg27DnUQQxIFFHAVbxYbF10XNxedFmwV3xMiEjgQUw6JDL0KAgljB/IFsARjAxAC0wCn/47+lP2V/In7tvoJ+nH5C/ms+Fz4MvgP+Nf3i/dC99v2Zvba9TX1s/Qk9ITz+/KR8hjygPH28IbwNPDq78Xv6e9X8BLxSvLj87L15fdV+vL8i//8ATEERQZVCDEKAQyKDR8P4RCNEjAUYxVEFsAW6Ra0FtgVjBTaEuwQ3Q68DKgKwggCB2MF+AO4ApsBfwBh/0n+Rv1Q/FH7bvqe+dz4ZfgU+Mb3s/ez95n3YPcN9532FvaQ9f30cfTV8z/z4vKQ8kLyEPLx8dDxoPF08Vbxa/G78VTyXPO/9Kn2Bvmd+0n+1gBeA4IFZQcbCYwK9QsyDYkO9Q+EETITnBTKFXwWxBauFvMVoRTQEtIQ1w6+DJkKpQj6BoIFSQQyAy8CQwFAAEz/Wv5d/Vv8Y/t++pH5//iW+Df4Jfgm+BT40/di98T2BvZL9ZP00PM+8/7y4fLW8uryF/Mr8zjzM/MD8+Ty+fI789Hz2fRN9lX4r/o//eX/aQLKBPcGCAnDCk8Myw06D8QQRRKtE8cUihUIFh0WnxXMFKoTBhJFEG4OfAylCsUI4wZABdoDfQI1AQcA0P60/bv8ufuz+pH5lfju90j3svZR9jr2WfZt9lX2W/ZX9in2Avaz9WT1C/W/9E702PN58wXzhPL58aHxqPHO8S7yDfNg9FP2ufiA+1/+awFrBA0HTQkkC8QMKQ5YD04QRBFkEo0T0RSsFT0WqhatFl8WcxUKFBQS5g+bDTcLAgk0ByUG0QUCBooGSQetBwEHxwT4AKf8N/iE8wHvM+ur6HjnaucE6ATpgupJ7Bruiu+/8BLyD/MJ9Pz0BPbx9nD3tPez93v3t/YF9pj1nfWt9vn43/xXAukISRDiF+cetCTBKKgqIiphJ/YiUB3BFlUQ1Qp0BjUDMQEjAMn/0f8u/839wfvP+JH1j/LP7xXuw+3L7l7xQfW/+Xv+DgOvBi0JcQo8CogI3QVmAqf+nvrH9lfzCfBr7RHrA+mS51bmhOVm5bflUOZv5+/ogupy7EzulvCG8xT3AfxnAjkKpROrHjwqXjVcPsNDrkWnQtg67y/4IbET1gYu/P/0cfEy8Rfzw/aX+Ub7+fsJ+h335vN28J7uFu9I8Yn1NPtmACUFHwlgCp0JSgeWA+P/r/zb+QP4R/eV9gH2/PR88iXv/+p/5n/iJd+53UvesOB95OLoGu2+8K3zV/VT9nX33Pjh/EsD5QsuFxAkmTEvPalFMEgBRaY8IS9eIEwQlwF492rx7++A8Yb1fvmo/cT/ef7s/B35jPU09O/zzPW7+ZH+HQPOBnAIvgaPBC0Agft6+Ez2e/bU9736C/1R/hv+SPu39nzwp+mT42rfA96f3vfhk+Yc6yHvGfFA8bfvce1k65LrPu6V8238aQc9FMMhWS5aOclAv0MgQos8QjOxJyocFBAnBtb+8Pgf9tH03/NP9Hj1XfW29Xj2dPYf+J35RvqK/CX+Rf8hAXgBCwEJAfr/DP+5/t/9J/1A/YX8hPvo+oL4y/aI9CXxde4c7ALqAenQ6GjoQ+nY6fPpdOpR6vXp6ukA6iXrPO698rP4KwEmCloUch+KKfIynTiGO7c5KDWhLa8ifxnoDTIF1P4F+Vr3GfbQ9lv4EPoW+yX8+f1d/rf/NQHBAYED4wOnA/cDUgKfAAz/cf1P+1b6TvmG+Kf4dPcK92D2ufRD81jxiO/S7TDsQeu06tDqDeu76zrsk+xe7LzrMeu86nzqEuzx7pzzpfvXBPgPbBxOKKgyITowPa466DVuLIUgpxZoCvACYf1m+SH5FPhg+YH4q/l++XH4cPpK+hv9EQBoAngFLAc6CLgHyQUVA1f/Df3N+lL5Mflq+ef54/nQ+eH36/Ws85Lwp+5F7R7sRuy+7FPscewA7IzqoukX6KrmRuYD5/3ox+y98d331P8fCcsTkx8YK4w1Ej2HQI8/sTlcL2Uj7BXNCBv/p/Yb8z7yo/LM9Aj3rfhn+Xf6Ffpl+nT75vtN/owBRgRVBxMJEQnGB2cF8wGH/hz89fn8+Kz4F/iJ91n23fOn8F/tkeqO6N/nwuiq6lDtw+/b8PPw4O6X64znqOS248rkiuqt8on+8wxiG44qBjemP2JEBkNBPgg1QSn6HVgRXQg/AIf6Jvfq80TzqvEU8rLx+fHn83v1R/jh+ob9xv8qApgD7ANlBMgDLgMoA68BEAHb/+f+iv0E+/T4SvVH8iLv+Otl6sLpxOnH6jfsLe107c7txOwk68zpSOdx5vbmfeiH64rx+PicAlAP+htcKqA3pEHURw5I8EMEOvYsuB9jD4IEv/pG833x0e6j8I7wcPLX8WbxPvNz8ez00PYW+uf+vQLHBoAIPQqXCJ0GQQWnAFj/Qv1U+3b7Uvqo+cn3fvXH8fvtvurx5qLkwuM04x7k0uXp5lTon+kw6froZ+mQ6efrv/BE9u//xwvgF+EnSDWbQEZJukmFR5Q/hTJJJi0XGgsTAif6ofW98rLxGvDX8O7uhu1W7+Du1vHe9Tv51f75AxsHYQmwCpcInQYrBaMBvQD0/1X+F/9t/gD8cPp89gPx2ux7577iQuFC3zPgneKg5PrmDem26XvoHeh25izmXOhT7Abz9f1ECloY7yhLNi9BWEmiSMdFFj6HMBwmeRduDN4EKv0w+Rn1FfOi70vuPesl6I3pSeky7WLynfeA/bYD8gcRCuwLCAvMCd0JbwimBw4IIga+BX4DQgDW+2P2U/Fw62bmpOG13rHcpdw53eLdsOC34VfjLeUH5dXmj+j/62HxTfkYA7EPWh7kLB86NESxSahIw0UbO1AvFCRbFXoNfwUH/3D7sfeo9N3wIO5b6ETm/eUL5hDqsO9k9bL8FQRVBzMLrgv/CdsIZwcuBV4FKQbNBcIHKQaYAycAbvla8+jsnObK4VDfkN3Z3X3fON964GPgTd9l343fPuBw5EbqOfKA/V4J/BZ3JXAzyT0ORthHEET9P3IzFim9HQYQFAp+AaP8VfhF9Tbyh++c7uXoWemp6Pzodu198Kn0NPrE/+gBrQV8BhAFUQcJBUgEsgT9Ao0D0gJxAG391fnr9Cvw7Osr5l/juOF24IPhSuGk4dDh3OGj4Djg6eCx4h/oY+9F+s0HphfrKIE4CEZ6TWJPc0pkQdU0BSU4GmcM0gXBAZ78X/zU+W/3tPNb8ZHqg+ij5x7mcOum7uHzkPmj/tgA5QK7AyoB2gJiAhIC/AQnBXwGigdBBGMAp/o/9L/t7+cg4wLgiODy4H/jqeTE5VnmCOXn48HhxeBF4sjm0OwL90EDQxHnIeMxyz7PSCpPPk2aSrxBfDQfKmsbXhFDBzwAVPlo9Jjyk+ww7bbniuYx5qTkROlE6UzvkfNL+Bj/AgHoBAYFYAXxBBkCFAJo/7//8v90/mX99/m29prwF+sZ5MDd7ttv2afafd3w3yrks+Y550rmDeXL5D3m+etV9HIB5RI1JZw4KEgLU7ZXR1UVTkdBLzO9JXQYVxA4CRUEhAAf/DP4lPLd7R3n0eOO4jjiBeeT65TxlfiA/e0A0QLWAtMBjwFNAdIAQgITA4sD9AO0AaD9Vfnv8o7sEOdX4XDeid2v3aXeneDf4KHhYeFj3/feH9624FXlN+3S+OEFxhYEKFQ4OUYcUDhU3FI3T7xC1Dc+K/0achONBzMAh/qv9ZHxpO1i7NTkLufu5Dbkwun16bvvc/TP+If7Iv+BAWoBWQU5BTkFKgiRBqYGtgUwAc78ufeG8Vvqz+Vs36zc9tuo2szcq90Q4LfgYuEF4U3fouAG4ozn7+/x+2YKHBvNLVc7eUiTT0dP102rRSg58S4nIj4WIhCLByABKv1C+K3yle+u6pPkJeY/5C3mk+yL74b25/xrATgECgYiBxUFJgeyBQEExgZzBEQFkwOg//f6cPSU7pDmKeEo3AXZ39is2XTaFtwD3SbdkNwR2yzaKtpH36rmRPJBA0MViClhPcxK0VRsV+VTFE2iP1oziSRCGvcR0gkjBmH+avup9M7tgei230vfWN1N4V/nXu1I+JH9LgbHB9cHJQnWBPUFiQTjBCQHAQkVC/0IhgdxAH/4bvHp5XbfSdl21cHVNNZ82M3YWdof2RrX4NX407XVj9oz5BrxYwLyFXUpQDzHSu1SjFXzU9NLSUJDN5YqwCE9Gc0RYgpiA6r7HfOA7a7jNt7q20vaK98p5GrrVPPf+zMBwgTjB4oGkAhUCc4J8wziDVsQvxD+DsIKrgOV/I/yp+om4pXb1Nj+1f3WE9cK2EHY2NYX1vfS3dIb1H3YPOMR8BsCIxZuKzk+dUwRV65WRFbGTUxBjzjaKJkgxRbSDtUHJP+z+sXvWOyd4y7ds9032X3f5uIh6ZXxLPdK/rQAXQR5BMEGlwgXCfYNig5/EQYTdg+DDEwFiPz88+TqROIo3J/ZeNZL197XrdYl2HfW/NQF1FTTZtXs2l3kIfH6Af0Uvin3Oz1LrFUrWAdYylCcRak6tCz4ISoYmw8MCDMA2/qn8XPrIOS622va59aC2YXeN+TQ7X70dv0gAuQF2wjZCDMLLgsqDWYOdRAYEicQLg+7CFQBr/jL7fDkx9uu1vfSANK300HTvtXZ1ZDUW9Q50yTV59lp5Bby2QNiGSouD0GOUDFYIVlWWNtNQUSwOUcs0yTsGyQViwzBBbz8N/Il6xzfi9gj1azSCNYT3Ejizeq985f4Nv2//0QA3QFCBJMG6QrGEDwUJRdOF2USfQtIArj2ZexG4+nbwdhc13XX+Nho2ePYO9fU01jRGdCW0YDZEeQh9ZAJhx62NJVEPVH+VJxUpE7VQ+c74y5xKH0iQByCGY8SGQwXA0f4FOwU4UjYWNL+0Y7U4drY477sXvWu++L+yAAoAYwByAL8BMMIIQ5uEmsVHhZrEt4M/gPs+Jju4ORg3eXZntd21+7Yi9iv2MXW1NJ70ZHQc9OY3AfoJfraDgkkcjfTRuVPJFF8UX1HDD+oNl0qWydNIRMd0Rm4E8cLAwKv99now9+314rRwtTi1qjdrOey7nD2Cvti/Xb91P4x/1gAQgUxCFwOXBLSE3UT7A6YCE//VvZy7IPlG+EU3bzcYdt32oXZkNbu0v7P+s7Bz+fXTOKE8SAGXhr3LqU/mUu/TmxRVEvWQbs7dy4oKTkjcx2YGNwSMAzlAfP6A+2347vdlNaJ1xvZE90P5HLrHfFC9br4Rvky+4X95f5NA3UI6w36Er8VWBWnEeULnQN7+abwjOgt4l/g3t2D3Z7diNsu2lrWStIjz3XO39KC20bpsPtbEPAmLTl5SPFPiFABUJxE+DykMtUm6SQjHg0bjRj3ErkMNQSe+nrsCOSQ28nT/tZw1sDbiuay64v0iPmu+yr94/6+/zoAfQXmB3YNcRJdEgISog1yB8P+kvUC7WPlQOJg3zfebN5+3brcPtoF18XS9tDD0h7YNuNU8ssEGBrlLXs9x0hOTGxM70brPf80CyvqJBUgxhzSF/oUCg8TB4UA+/KN6pji5tv32tDaVN7M45LrffDw9KT4wfjM+xH9Ev5CAtwF8gpwDyARMhAQDUAHY/+/9sfteOc543DhT+A54ALgvd4+3X/YE9Wg0ffQWtaa3f7rs/2iESso0DiMR9NNLU8HTfpBgjrVLekkoSDcGbAXBhO/DzEJSwLg+Ins5eU63f7YTdlx2rnflOfm7qTzQ/mV+yr8mf9s/tD/BgQTBigLDw5aDqYNLwoDBGn8hvNz67nlb+ES3/zd9N2U3aLdctuE2KzWQNVa2B/fbOmd+M8LkR9IMgFCqEqtTqlNeUVOPFcxLSaXHycaRBWxEmEPcglwBOH6ePDR52nf4doD2W/brN7K5obu2/NI+vP76v3g/gP/wP9cAXYFQAk3DbgP6A6EDFQHkv+39hLuceeX4t/gLOCs3yLgdeAe3unaWdiR1NfWdNyJ5Hf07wVCGrAuBD7bSKVMyUxCRkM8ZDLdJhggnhpGFkcSqw4eCgYDWfz88CDoieJ43CHcAd4R4eboZ+9c9D755fqq+5L8m/24/e4ASwVHCawObRDoD4ANuQeW//X2W+4u567jZuGs4JzhMeH74Qfga9zi2VXWAdhK3BPlPPPKA/UYnStrOz9H8knHSrZEaDkgMK4kex0LGasWaBMSEk0QDAhgA0P3pOvN5cLcc9pn2zje9+Qx7XbznPd6+zn75PoQ+235K/sM//cD+gnGDmIRBxEADr0GV/2H817qH+RB4Fjept7L3/ng0eGy31jdCNsJ2nvdAOT47ir/mRLbJZI3k0QQSu1LlUaoO9kxrySjG8MWaRIFEcIPCA5gCc0DV/oe7xfnXN/u2t/bFd4J5M7sbPPY+C78F/2m/Jb8cfvl+9L+HwPnCM8NiRDHEG0OIAgmAFv2Wu1n53LiDeE/4Snh1OJg4pvgEt6N2q3Zvtux4QnskvsGDsUhCzSOQdJItUp3RkA8gzEiJO0ZUxT7D68OUg7ADkwL3Ac4ADH08+x74xfdvdvf20jgBuiw70z15Pqc/e/9rP74/Tr9NP+8Av4GWwtODlwPLQ7yCeMCcvpM8qrr2OaO42DiF+IN4pjid+Bs3XHbvNk823jgV+k993EJ+hx+LuU90EWgSZhHYT3IMz4m6htCFTIQ7Q3dDfANags4CXAAAvdK7rjkp93u2rbaKd7D5gTt9fQh+1H9BAABALX+o/4z/9sBDQYhCvQMrA7ODZkJzwMf+6jyEuxp5j/j2eH14CjiJ+L94JLf3ts5277cw+C06Yz2+wdSG9ItSTxBRc9JeEdrPzM1IyiMHZgW8RGfD1AOKw9VDAwJTAK69h3utORR3frZ6tno3O/jQew68rT3A/vd+4P87ft8+1r9EAH4Bt0LSRCVEqgRMA7EBlX9FvTo7MXmGuRr41DjsOWI5qPllOMz4Gnd39314ILnEfUkBXcYHCvyOYxDmEZ9RXw7OTG4JN8YkBP/DiEOLQ6mD+cNHwoOBHb3Y+4T5Vjc49nP2dTdueWD7nn0dvqj/b78d/0p+5T52fu2/r4DRwnUDT4QXxAdDeYE6PxP8zLrLuby4bjhAOJO5Pjlt+To42bh596B4FzjK+pm9y4HIRnHKvo5FkIrR45GfTyGNNgniBwWF9EQNg8wDrkOOAwXCKkBV/aY7iblQ96224LbOuA85prtufNU+DT78fsd/N36bPsZ/bYAOgZ7CqkOwBCTD8ALmQTO+5rzTuzg5pjji+Ie43Tkl+X65Krj2+E34PTgduNB6iH1qgNDFaQkMTT6PTlCq0OEPPszmCl4H+sXbRLmD6UMKQ0xCm0FpgB59tPuiuYI4Pbcndzk4DTmgO4i9eL6Fv/1/wwB9/5w/o3+w//MA30GRgojDOALrQmuA5H8g/RZ7Zfnb+Op4SHhhOKr4yfkmOPP4uDhNeKd5UbqxPQzAtURviIlMd48kkIrRR1AoTd0Lhoibxo5E+4Oigw9CyYKIgZhAtD5KPIX6y/j1d9j3ojgquUz7P/yefha/SH/LACo/xr+rv4C/7kBRgQuBwQKuwnhCDIEe/1v9sfuRej54m/gzd793wPi9eIY5f7lFueD6U/tkPKe+18HrRQKI34vfTlwPpVAhDwZNO0rgCCJGDYSxQxVCgwJEQi1BBkB0vkv8gzsQeTv31resd/J5EzrufKq+G/+5gHVAg8D9QBKAEgARgHeAp0EkwYFB0IGswI//Qb3cPCA6iTlUeGN3+Pe8N8H4d3hw+PB5Y7oPe1888X89QgqFu8jQjClOfo+lkCbPD41XCzjIWAaohLMDboK4wfJBr8C2v7H96fwAurh4mLfM91G3//ji+og8tT45v4/AjYEGASTAvABcwE7AngDYAXsBq4HxAa4ApD9+/bx72npw+Nb36ndFd1s3VDfY+Cm4ujlDemO7g32Ff+cC+QYXSWrMTE6tj54QH88QTU7LYEjJRumFLgOgQo7CLUE4wBj/NT04+6U6Jfi0t+W3hvhIeZ07GPzVPlA/l8BwQK6AsMBgQELApkDTwUtB+kI/AiAB3IDfv3a9qLvguiB4ubdptvZ2sXbgN0e31fiWuWE6X/vgvY+AEcMQxkvJuExpjprP8JAND3zNVUthCOiGjoTBA1wCJYFkgIq/7X60/QJ7+/o++N54GzfbuGL5ZPr6PFK+Hf92AC/ArsCewIsAlACnwP+BM4G6wfXBxwG3wEY/HL1Zu7Q52viQ9523OHbmNwc3r/fFuJx5GDoQ+0q9Nv96AgbFiMj0i5WOLo9kj+iPLU2Ry4SJV0dhhVUEFIM3QiSBgYDIP7F+CfyWuve5RnhI98k4LTj6ujP70z28vs2ASYDjgReBEoDqgNVA8gDwARaBbgFeQRTAcv8xfeM8XrrV+YV4Yjev9wW3C/dA97G4BbkvOiT7uz1uv8OCm8WRiHAK+czwTeEOg43DTNTLEQkex7AFm4SBw1uCX4FkQB2/Ar1ZPCd6dXkWeKJ3xTiy+Tf6UfwtvUG+6X+jQHFATcCsAGkACYC+AEJAxcEBQSCAwgBSP3v9+Hyquw652TiQt6+3Ivbbdzx3XPgx+Ql6tnw0vjnAkQNCxn+IyMtBjVeOd46cTgsNPUs3CW5Hq4WZRE1C6oHUQOb/4H7FfbO8nzsdem45YvjeeSG5bvpiO2N8w34sPx/AGcBlQOFA4ADFgToA8YDrQPqAp0AWP5W+l/1CvGJ66XmE+PS37/dyt083h7gJ+RC6GjuLPYk/hkIPRM5HXQnUDDZNdQ5fToaN9Qypyx/JAwezhaxD/0KvQVGAGz8HPeC8R/u4+ha5ebjj+IM5DznqOpB7wr19fgR/ZEAsQHpA4cElQT9Bc4FHgYLBoMEXQJL//z6AfZm8THrgOai4l7eGN1m3O3cm9894/Xnte5u9mz+zQjVEpccWibKLTAzRTabNqUz8C/7KTAjSh1hFqkQdgvqBtgBnP3A+Jbzze8E6yDo9+WQ5cbmKukh7ffwrvVi+eH8TP/lAAIDWgPPBHMFXAUYBuAESANZAPz8ZfjA813v7unM5lfjdOEF4aLgSeJc5L7n7OsY8cn3Iv9ACPwQQRofI5spcy+hMTcy8y8VLC8nSiAhG0UUEg8jCgsF4wAR/Ab4z/I57z3rKehm56Pmi+hF6yLvrPPe9xv8NP/RAQkDAgRcBFkEmgQdBEIEwgOQAsoAUv7P+gL3qfKe7VDp++Sj4VXfW95V3lHg1ONN6PTuRfaz/mcIbhJYG00kSiuVL+ky0TJnMPAs7SeEIWEcmxY0EE8M2AbpAb79S/iB8yfv7uoR56LlZORA5SXomupj76nzwffC+2r+gABDAlwDxwPSBA8FYwW+BYkENwO8AAD9Rfkv9A/vnOod5tTi5OCw3zLgkOI85dvpGPBG9lX+UAeND9cYPSHFJ0YtITDJMFMvdCyIJwIiuxx+FkURFwwyB7EC5f1q+Ub00e9s64nnmuXw46vkweYc6qTuGPPx98f7pv/IAYEDygQABY0FcwVlBd4EeAQRA+0Adv65+o72C/Lr7PbnHuTE4N/ec95R3wzigeZa7HHzs/uYBAYOFBc+H5ImlCvfLjAwYC4kLOwnuiIKHlQYQxOPDu8JDgW7AIX7A/bi8XPsrOhJ5s/jo+TE5mfpQe4Y8zn34ftq/zABLQMfBAIE0gTeBIwEKAW1BJ0DRQJT//z7q/d48mTtJOjr47bgBN/R3lngeOPo5+vtVPTk+6wDfgusE6QaFiFyJngpiyu2Kz8ptia7IqkdZhl+FA4PPgsxBxQC6f7S+Q71DfIt7evpIeje5rXnq+q37ZzyV/h4/HsB5QRKBrMHegdWBq8FIgQnA9sC0AE/AQMAzP0x+wH3HvIv7X7n1OKo35Ldld0T4J7jJemF8MP3TQDhCLQQOxj0Hisk1Cf7KZMqDSnEJrQjkx6tGmwVBxClC5oGtwE2/Vb5ZPSZ8TzuT+vM6q7pfuqN7AbvK/I79nr5z/wUAOcB4wMSBe4FTAZSBt4F+gTbA9gBfv9B/Of4+fSY8M3s8eip5bvjteKP4pTke+e965/x2/cT/6MGQQ7zFFobryBKJOEmnyceJyQleiIMH+ca5BZIEooNSQmHBLX/jPsB9x/zBPAY7Vjrxurq6k3su+4+8aj0F/j5+gX+KQDMAWsDaQT9BGoFNwXDBOkDFwIsAFP90vk79ubx5u1d6vfms+Sp44bjGuX75+7rI/Ff9w7+CQURDH4SnRhXHXohIyQzJREmkyTmIq8gIx3WGasV5BDHCzkHhwF2/CP4BfN+8IftsuuY66LrV+2K72fy6/RL+NP6/fxw/0EA4wHPAjcDqANcAxMDUgICAR7/sPzU+bj2OfNw7wbsAumL5lHlyeRu5brnA+ub70L1lPurAvcJ0BAuF5Mc7SDSIx8lOyX7I+4hTR8kHL0YYxWZEcENwwn5BHgAuPvu9uvyjO+j7FHrPOuN6+3tJ/DO8k72vPhB+0j9qv6w//YArQFVAhwDDwNlA1YCwgCa/jf7+PfP873vKuwT6QTnROZV5p7nbeq17XDyWfet/MkCRQgGDnYT2hfhGx0fkSCmIUkhmR8vHnUbSRhHFdYR3w1/CoAGzQFN/u/58PVi83TwtO6x7rPuz+8p8hD0lPad+VP7RP0K/7H/5gBJAXcBjAEnAboAa/83/lD85/lO91r0R/GW7qHspupE6oPqcesa7gPxAfWS+Wn+jgOOCIENbBF3FbUY4hq0HAEdCx3dGz0a3hfEFOARKQ4uC4IHWAQjARv+1/ub+AT32fRW88Ly+vF28ivzsvQU9hf41flc+xD9u/2T/q7+yv5t/rb9Nv3m+836M/ln98715/Mj8s7wtu/c7u/uQO9p8GPyw/RG+Br8qgB9BScK9g4aE9cWxxmeG5UcixycGxcaLBikFRATehCjDQMLFgg3BTUC8f74+5P4Dfa485fx7vBz8NvwHvLU88P1CfgY+q37hf0s/q/+Ev/Q/sL+O/67/Q/9KfwS+5f5Dvgr9lf0x/KT8Q3xO/FU8jz0Hfei+lj+cgJkBgUKaw0xEIMSdhTyFRkXsxcdGBUYXBdRFkIUvRHNDigLSAeIA/v/n/wH+pH33/Wl9Fjz8fKL8nzy9vKq89n0Vfb598j5q/vy/Mz9PP4l/oH9fPy3+776+PmW+Tb5K/n++Lz4Q/il9xT3gPaS9in3ifjC+uX9rwG2BfQJVQ2mEEcTdRRIFQgVSBRrEyESyxCND1YO7AxeC3IJMgdpBHgBqP6P+wn5Xvcq9p311vVR9jj3N/jN+G35aPkv+d34WPgS+NL3Jvi7+KD5ofpy+x/8Ofzn+9b6i/kA+EP2IfUe9Nrzt/Qh9qL4yvsH/6ECCAbPCBcL6wzxDZ0OIQ9GD4gPxw9FEJsQsxB3EHQPBg7IC+8ItwV8Amr/qfyf+jv50vi4+AH5kPnu+Wb6kPqd+nT6ZPqZ+vH6kvsQ/J783/za/Jv8qfuX+nH5XfiC98f2c/Zz9sX2Pve990b4B/kH+i/7wPyF/qIAIwOeBesHGgr5C3INhQ4HD28PeA9IDxwPcg7CDd4MmgsLCjYI7AWBAz8B3P76/GT7ZPoN+vP5MPqn+jv7uvtH/Fr8aPx1/Dv8K/zY+5r7Wfsz+/36uPpt+iH6I/rH+ZP5Svnm+Kf4Uvgq+D34mvgv+Vj6rvtS/Vf/YgGuA6YFpQd2CdoKGAzVDB4NNQ3kDPULDAuPCfIHtwbuBLkD1wKOAUMB4QDq/9z/KP8R/rz9r/zU+777YPue+678Uv1q/pX/8v9rAAIA4f69/RX8bvo5+Vf4QviJ+Br5WvoW+6f7UvwR/MX7s/sh+xT75Pub/CP+gAAwAkMEQAZTB7MIoAnICS0KeQpNCl4KKwpXCcMIkAfzBXMElwJPAUcAbv9A/0L/aP+J/4f/Lf+n/uf99Pxm/BD8TPzh/Jn9k/6F/0sAsQBWAGD/Bf4v/HP6v/h29xL3PPf09xf5UfpR+yX8pfx9/B/80vu6+/T75fyb/rgAUgOtBdkHyQm2Cu0KaAo9CdoHbgZCBZ8EigS9BE8FsAXsBdAF1ARzA5MBbv+a/VL8e/uq+8L8Of4zAOgBRAPBA1EDXgKGAIj+kPwx+3v6W/rT+pj7uPw3/UT93vy1+5r6Tfn59133T/fB9wb5kPoE/Ln9B//6/7UAHwG7AYECIAPkA98E3gWkBh4HOQfmBl4GWQUyBAoDBgJCAaUAZQBXAK4ACQFKAcUB+gEIAiMC7wGgAX8BOgH3APEAvgCoANwAzwDTALwAPgDY/yf/Jf5G/Uf8Nfug+kT6Kfp5+vr6q/ti/Oj8Uf2J/aH9j/1i/Yv91v1U/iz/YACKAbECqANVBNQE6QS1BEME1wNHA8YCdgL/AcMBigFiAXMBXgFYAWwBUwE5ARcB1ADZALIAjAC5AMkAGQFyAaUB9QEzAjECCQKyAesAUABw/3L++v1I/b38j/xS/BH8EfzT+5L7cPsO+/L6C/tA+8z7p/yG/YH+l/9HAPUAaQFvAZgBoAHAAfYBKgKgAugCFAM4Ax8D5QJ1AgYCgAEaAd8AmgCmALAAzgDwAPUA9gDhAN4AxwDmAAsBEAFHAU0BQwEZAaUANgDY/2z/P/8o//D+9v7i/qD+eP4v/qP9L/3f/H78efyk/P38tf1j/h//uP8eAFEATAA2APP/wf+8/7j/AwCFAP0AjAHmAQECFQICApcBFwGrAEkANABGAFkAtAA1AasBEAI/Ai0C/wG/AVIB/gDXAMMA2wAOATUBaQF2ASQB1QBGAH3/2f4y/sr9o/2V/aH92P0J/hf+Ff7Z/a/9pf10/Xz9yv0f/rT+YP/e/1YAvQDiAMQAggAvAOf/rv+O/7D/6P9UALAA4QAvATIBCwHVAJMAVAAYAAoAJgBsALkAIgGgAQUCRwJgAkIC5wF/AQUBiAA6ABYA+/8YAFIAbQCaAIAAPAAEAJn/LP/S/mP+CP79/RH+Pv6C/r/+Jv9w/3b/hv93/0n/Tv81/x7/Vf+N/8X/BgBGAHAAjQCSAIMAcAA+ADcANwAoACcANQB7AKYAzQAJARwBOAFQATYBFQH8AMYAnwCMAEMAFAAEAOP/8P/0/+//BQAEAPT/4P/Q/6L/cP88//3+5f7R/s7+6P4Q/0H/cP+h/7n/xf+1/5n/iP9m/1v/Xf9s/5//zf8IAFEAgACQAIsAdgBcAEgAHgASACYAKgBFAGgAiwCiAKgArgCfAIAAZgBMACgAIAAfABsAMwBDAFMAZABnAGgAZgBnAGIAVgBGADkALQAOAPD/yf+t/7b/qv+R/5T/r/+9/8j/3v/N/8//2P/L/83/xP+5/7T/w//Q/9//7v/l//T/9//w/+r/3//n/+z/7v/0//7//f/+/wgAAgD//wAA/f8AAAcACwARABsAKAAyADgAPAAzACQAHwANAPX/7//l/9z/2v/S/83/1P/Y/9X/4P/s/+7/7v/v//b/8v/a/8n/xP+7/8j/6v8FACEAOQBOAFQASQAyABYABQDs/9f/2v/j//z/HwAtADgARAA7ACoACgDn/87/vv+5/8//+P8SACoARgBZAFwAVwBEACUADgD1/+r/8P/v//b/BQAQABAAEgAKAPf/7//U/7n/sf+r/7f/y//h/+//+v8JAAsAAgD0//D/6//m/+7/9f8DABoAJwAvAC8AIQAaABoADQAEAAAA/f8AAAAAAwAMAA0AEQAWABIACgANAAsAAgABAAEADAAgACcALwA5ACoAHAAXAAQA+f/x//D/8f/t//X/8//u//L/8//q/+D/4v/g/+H/5f/h/+f/7v/m/+z/7f/r//T/AAAJAAgAFAAhACkALwAlACEAEgADAAAA9//z//f/+f8FABIABwAHAAAA7P/x//D/7P/z//j//P8BAAoAEQANAP3/8P/r/+b/4P/d/+//AwAIABoAMQAyABwA/v/t/9j/u/+v/7v/yv/m/w0AIwA7AEgAPQAtAA8A9v/l/87/w//V//b/DQAlAEMAUQBNAD8AJgABAOD/yf+w/67/wP/U//v/EgAYABsAFAAOAAQA5P/G/77/wv/Y//H/DQAqADUAQQA+AC4AGQD9//n/9f/v//r/+//8/wcACgAFAAEA+P/u//T/9v/5/wcAEgAWABgAGAAUAA8AAgD0/+z/8P/8/wUAFAAyAEoASgBDADcAGQDz/9n/x/+z/7j/yP/W//j/CQARABsAEgAKAP7/8f/s/9j/2P/u/wAACQAOACUAKQAdABUABQD9//f/7//r//T/+//6/wQADQANAAEA9f/4//j/+f/+//3//v8JABoAHgAYAAwAAwAAAPf/+f/7//b/+P/0//j/BgALAAcAAQD7////+P/q/+7/7f/o/+z/8f/3//j///8AAP//BgAGAAIAAQAAAPv/8//q/+3/9v/3//7/AgABAAoADQAKAAYABAACAAAAAgADAAgADAAJAAkABgACAAMAAQACAAwABwD9/wAAAwAEAAcABwAGAAIABAADAP///v/+/wAAAAAFAAgABAAFAAYABQAFAAYAAgD+////AAD8//r/AAAAAPz/AAABAAAAAAAAAPz/+f/+/wAA///+////AQAMABMADwAEAPv//P/6//f/+//4//r///8EABEADgAKAAwACQD+//X/9//4//n/+v/7/wEAAgAFAAQAAQD///r/+f/6//r/+f/3//r/+//8//7//f/9//7//P/9/wAAAQAAAAAAAAD//wAA///7//v/+v/+/////v8AAAAAAwAFAAMAAgD9/wAA/v/9/wEAAAAAAAAAAgACAAEABQACAAQABQABAAEA/v/+//3///8AAP//AQADAAIAAAAAAAEA/////wAA/v///wAAAAADAAIAAQAEAAEA+v/2//f/+P8AAAcAAQD+/wAAAQAAAAAAAAD6//f/AAAEAAEAAQAJAAsABgAGAAAA+//+//7//v///wAAAAABAAEAAgACAAAAAAD//wAAAAD//wAAAAAAAAEAAAAAAAAAAAAAAAAA/v/+/////v/9//7///8AAAAAAAAAAAAAAAAAAAAAAAABAAEAAQAAAAAA//8AAAEAAQAAAAAAAAABAAEAAAAAAAAAAAAAAAEAAAAAAAAAAAAAAAAAAAAAAAAAAAD//wAAAAAFAAoABQAAAPv//f////7/AAAAAP//AAAAAAAAAAAAAAAAAAAAAAAAAAAAAAAAAAAAAAAAAAAAAAAAAAAAAAAAAAAAAP7//v/+/wMABwAEAAIAAAD8/////////wAAAAAAAAAAAQAAAAAAAAAAAAAAAAD///////8AAAAAAAAAAAAAAAAAAAAAAAAAAAAAAAAAAAAAAAAAAAAAAAD//wAAAAAAAAAAAAAAAAAAAAAAAAAAAAAAAAAAAAAAAAAAAAAAAAAAAAAAAAAAAAAAAAAAAAAAAAAAAAAAAAAAAAAAAAAAAAAAAAAAAAAAAAAAAAAAAAAAAAABAAAAAAAAAAAAAAAAAAAAAAAAAAAAAAAAAAAAAAAAAAAAAAAAAAAAAAAAAAAAAAAAAAAAAAAAAAAAAAABAAAAAAAAAAAAAAAAAAAAAAAAAAEAAAAAAAAAAAAAAAAAAAAAAAAAAAAAAAAAAQAAAAAAAAAAAAAAAAAAAAAAAAAAAAAAAAAAAAAA//8AAAAAAAAAAAAAAAAAAAAAAAAAAAAAAAAAAAAAAAAAAAAAAAAAAAAAAAAAAAAAAAAAAAAAAAAAAAAAAAAAAAAAAAAAAAAAAAAAAAAAAAAAAAAAAAAAAAAAAAAAAAAAAAAAAAAAAAAAAAAAAAAAAAAAAAAAAAAAAAAAAAAAAAAAAAAAAAAAAAAAAAAAAAAAAAAAAAAAAAAAAAAAAAAAAAAAAAAAAAAAAAAAAAAAAAAAAAAAAAAAAAAAAAAAAAAAAAAAAAAAAAAAAAAAAAAAAAAAAAAAAAAAAAAAAAAAAAAAAAAAAAAAAAAAAAAAAAAAAAAAAAAAAAAAAAAAAAAAAAAAAAAAAAAAAAAAAAAAAAAAAAAAAAAAAAAAAAAAAAAAAAAAAAAAAAAAAAAAAAAAAAAAAAAAAAAAAAAAAAAAAAAAAAAAAAAAAAAAAAAAAAAAAAAAAAAAAAAAAAAAAAAAAAAAAAAAAAAAAAAAAAAAAAAAAAAAAAAAAAAAAAAAAAAAAAAAAAAAAAAAAAAAAAAAAAAAAAAAAAAAAAAAAAAAAAAAAAAAAAAAAAAAAAAAAAAAAAAAAAAAAAAAAAAAAAAAAAAAAAAAAAAAAAAAAAAAAAAAAAAAAAAAAAAAAAAAAAAAAAAAAAAAAAAAAAAAAAAAAAAAAAAAAAAAAAAAAAAAAAAAAAAAAAAAAAAAAAAAAAAAAAAAAAAAAAAAAAAAAAAAAAAAAAAAAAAAAAAAAAAAAAAAAAAAAAAAAAAAAAAAAAAAAAAAAAAAAAAAAAAAAAAAAAAAAAAAAAAAAAAAAAAAAAAAAAAAAAAAAAAAAAAAAAAAAAAAAAAAAAAAAAAAAAAAAAAAAAAAAAAAAAAAAAAAAAAAAAAAAAAAAAAAAAAAAAAAAAAAAAAAAAAAAAAAAAAAAAAAAAAAAAAAAAAAAAAAAAAAAAAAAAAAAAAAAAAAAAAAAAAAAAAAAAAAAAAAAAAAAAAAAAAAAAAAAAAAAAAAAAAAAAAAAAAAAAAAAAAAAAAAAAAAAAAAAAAAAAAAAAAAAAAAAAAAAAAAAAAAAAAAAAAAAAAAAAAAAAAAAAAAAAAAAAAAAAAAAAAAAAAAAAAAAAAAAAAAAAAAAAAAAAAAAAAAAAAAAAAAAAAAAAAAAAAAAAAAAAAAAAAAAAAAAAAAAAAAAAAAAAAAAAAAAAAAAAAAAAAAAAAAAAAAAAAAAAAAAAAAAAAAAAAAAAAAAAAAAAAAAAAAAAAAAAAAAAAAAAAAAAAAAAAAAAAAAAAAAAAAAAAAAAAAAAAAAAAAAAAAAAAAAAAAAAAAAAAAAAAAAAAAAAAAAAAAAAAAAAAAAAAAAAAAAAAAAAAAAAAAAAAAAAAAAAAAAAAAAAAAAAAAAAAAAAAAAAAAAAAAAAAAAAAAAAAAAAAAAAAAAAAAAAAAAAAAAAAAAAAAAAAAAAAAAAAAAAAAAAAAAAAAAAAAAAAAAAAAAAAAAAAAAAAAAAAAAAAAAAAAAAAAAAAAAAAAAAAAAAAAAAAAAAAAAAAAAAAAAAAAAAAAAAAAAAAAAAAAAAAAAAAAAAAAAAAAAAAAAAAAAAAAAAAAAAAAAAAAAAAAAAAAAAAAAAAAAAAAAAAAAAAAAAAAAAAAAAAAAAAAAAAAAAAAAAAAAAAAAAAAAAAAAAAAAAAAAAAAAAAAAAAAAAAAAAAAAAAAAAAAAAAAAAAAAAAAAAAAAAAAAAAAAAAAAAAAAAAAAAAAAAAAAAAAAAAAAAAAAAAAAAAAAAAAAAAAAAAAAAAAAAAAAAAAAAAAAAAAAAAAAAAAAAAAAAAAAAAAAAAAAAAAAAAAAAAAAAAAAAAAAAAAAAAAAAAAAAAAAAAAAAAAAAAAAAAAAAAAAAAAAAAAAAAAAAAAAAAAAAAAAAAAAAAAAAAAAAAAAAAAAAAAAAAAAAAAAAAAAAAAAAAAAAAAAAAAAAAAAAAAAAAAAAAAAAAAAAAAAAAAAAAAAAAAAAAAAAAAAAAAAAAAAAAAAAAAAAAAAAAAAAAAAAAAAAAAAAAAAAAAAAAAAAAAAAAAAAAAAAAAAAAAAAAAAAAAAAAAAAAAAAAAAAAAAAAAAAAAAAAAAAAAAAAAAAAAAAAAAAAAAAAAAAAAAAAAAAAAAAAAAAAAAAAAAAAAAAAAAAAAAAAAAAAAAAAAAAAAAAAAAAAAAAAAAAAAAAAAAAAAAAAAAAAAAAAAAAAAAAAAAAAAAAAAAAAAAAAAAAAAAAAAAAAAAAAAAAAAAAAAAAAAAAAAAAAAAAAAAAAAAAAAAAAAAAAAAAAAAAAAAAAAAAAAAAAAAAAAAAAAAAAAAAAAAAAAAAAAAAAAAAAAAAAAAAAAAAAAAAAAAAAAAAAAAAAAAAAAAAAAAAAAAAAAAAAAAAAAAAAAAAAAAAAAAAAAAAAAAAAAAAAAAAAAAAAAAAAAAAAAAAAAAAAAAAAAAAAAAAAAAAAAAAAAAAAAAAAAAAAAAAAAAAAAAAAAAAAAAAAAAAAAAAAAAAAAAAAAAAAAAAAAAAAAAAAAAAAAAAAAAAAAAAAAAAAAAAAAAAAAAAAAAAAAAAAAAAAAAAAAAAAAAAAAAAAAAAAAAAAAAAAAAAAAAAAAAAAAAAAAAAAAAAAAAAAAAAAAAAAAAAAAAAAAAAAAAAAAAAAAAAAAAAAAAAAAAAAAAAAAAAAAAAAAAAAAAAAAAAAAAAAAAAAAAAAAAAAAAAAAAAAAAAAAAAAAAAAAAAAAAAAAAAAAAAAAAAAAAAAAAAAAAAAAAAAAAAAAAAAAAAAAAAAAAAAAAAAAAAAAAAAAAAAAAAAAAAAAAAAAAAAAAAAAAAAAAAAAAAAAAAAAAAAAAAAAAAAAAAAAAAAAAAAAAAAAAAAAAAAAAAAAAAAAAAAAAAAAAAAAAAAAAAAAAAAAAAAAAAAAAAAAAAAAAAAAAAAAAAAAAAAAAAAAAAAAAAAAAAAAAAAAAAAAAAAAAAAAAAAAAAAAAAAAAAAAAAAAAAAAAAAAAAAAAAAAAAAAAAAAAAAAAAAAAAAAAAAAAAAAAAAAAAAAAAAAAAAAAAAAAAAAAAAAAAAAAAAAAAAAAAAAAAAAAAAAAAAAAAAAAAAAAAAAAAAAAAAAAAAAAAAAAAAAAAAAAAAAAAAAAAAAAAAAAAAAAAAAAAAAAAAAAAAAAAAAAAAAAAAAAAAAAAAAAAAAAAAAAAAAAAAAAAAAAAAAAAAAAAAAAAAAAAAAAAAAAAAAAAAAAAAAAAAAAAAAAAAAAAAAAAAAAAAAAAAAAAAAAAAAAAAAAAAAAAAAAAAAAAAAAAAAAAAAAAAAAAAAAAAAAAAAAAAAAAAAAAAAAAAAAAAAAAAAAAAAAAAAAAAAAAAAAAAAAAAAAAAAAAAAAAAAAAAAAAAAAAAAAAAAAAAAAAAAAAAAAAAAAAAAAAAAAAAAAAAAAAAAAAAAAAAAAAAAAAAAAAAAAAAAAAAAAAAAAAAAAAAAAAAAAAAAAAAAAAAAAAAAAAAAAAAAAAAAAAAAAAAAAAAAAAAAAAAAAAAAAAAAAAAAAAAAAAAAAAAAAAAAAAAAAAAAAAAAAAAAAAAAAAAAAAAAAAAAAAAAAAAAAAAAAAAAAAAAAAAAAAAAAAAAAAAAAAAAAAAAAAAAAAAAAAAAAAAAAAAAAAAAAAAAAAAAAAAAAAAAAAAAAAAAAAAAAAAAAAAAAAAAAAAAAAAAAAAAAAAAAAAAAAAAAAAAAAAAAAAAAAAAAAAAAAAAAAAAAAAAAAAAAAAAAAAAAAAAAAAAAAAAAAAAAAAAAAAAAAAAAAAAAAAAAAAAAAAAAAAAAAAAAAAAAAAAAAAAAAAAAAAAAAAAAAAAAAAAAAAAAAAAAAAAAAAAAAAAAAAAAAAAAAAAAAAAAAAAAAAAAAAAAAAAAAAAAAAAAAAAAAAAAAAAAAAAAAAAAAAAAAAAAAAAAAAAAAAAAAAAAAAAAAAAAAAAAAAAAAAAAAAAAAAAAAAAAAAAAAAAAAAAAAAAAAAAAAAAAAAAAAAAAAAAAAAAAAAAAAAAAAAAAAAAAAAAAAAAAAAAAAAAAAAAAAAAAAAAAAAAAAAAAAAAAAAAAAAAAAAAAAAAAAAAAAAAAAAAAAAAAAAAAAAAAAAAAAAAAAAAAAAAAAAAAAAAAAAAAAAAAAAAAAAAAAAAAAAAAAAAAAAAAAAAAAAAAAAAAAAAAAAAAAAAAAAAAAAAAAAAAAAAAAAAAAAAAAAAAAAAAAAAAAAAAAAAAAAAAAAAAAAAAAAAAAAAAAAAAAAAAAAAAAAAAAAAAAAAAAAAAAAAAAAAAAAAAAAAAAAAAAAAAAAAAAAAAAAAAAAAAAAAAAAAAAAAAAAAAAAAAAAAAAAAAAAAAAAAAAAAAAAAAAAAAAAAAAAAAAAAAAAAAAAAAAAAAAAAAAAAAAAAAAAAAAAAAAAAAAAAAAAAAAAAAAAAAAAAAAAAAAAAAAAAAAAAAAAAAAAAAAAAAAAAAAAAAAAAAAAAAAAAAAAAAAAAAAAAAAAAAAAAAAAAAAAAAAAAAAAAAAAAAAAAAAAAAAAAAAAAAAAAAAAAAAAAAAAAAAAAAAAAAAAAAAAAAAAAAAAAAAAAAAAAAAAAAAAAAAAAAAAAAAAAAAAAAAAAAAAAAAAAAAAAAAAAAAAAAAAAAAAAAAAAAAAAAAAAAAAAAAAAAAAAAAAAAAAAAAAAAAAAAAAAAAAAAAAAAAAAAAAAAAAAAAAAAAAAAAAAAAAAAAAAAAAAAAAAAAAAAAAAAAAAAAAAAAAAAAAAAAAAAAAAAAAAAAAAAAAAAAAAAAAAAAAAAAAAAAAAAAAAAAAAAAAAAAAAAAAAAAAAAAAAAAAAAAAAAAAAAAAAAAAAAAAAAAAAAAAAAAAAAAAAAAAAAAAAAAAAAAAAAAAAAAAAAAAAAAAAAAAAAAAAAAAAAAAAAAAAAAAAAAAAAAAAAAAAAAAAAAAAAAAAAAAAAAAAAAAAAAAAAAAAAAAAAAAAAAAAAAAAAAAAAAAAAAAAAAAAAAAAAAAAAAAAAAAAAAAAAAAAAAAAAAAAAAAAAAAAAAAAAAAAAAAAAAAAAAAAAAAAAAAAAAAAAAAAAAAAAAAAAAAAAAAAAAAAAAAAAAAAAAAAAAAAAAAAAAAAAAAAAAAAAAAAAAAAAAAAAAAAAAAAAAAAAAAAAAAAAAAAAAAAAAAAAAAAAAAAAAAAAAAAAAAAAAAAAAAAAAAAAAAAAAAAAAAAAAAAAAAAAAAAAAAAAAAAAAAAAAAAAAAAAAAAAAAAAAAAAAAAAAAAAAAAAAAAAAAAAAAAAAAAAAAAAAAAAAAAAAAAAAAAAAAAAAAAAAAAAAAAAAAAAAAAAAAAAAAAAAAAAAAAAAAAAAAAAAAAAAAAAAAAAAAAAAAAAAAAAAAAAAAAAAAAAAAAAAAAAAAAAAAAAAAAAAAAAAAAAAAAAAAAAAAAAAAAAAAAAAAAAAAAAAAAAAAAAAAAAAAAAAAAAAAAAAAAAAAAAAAAAAAAAAAAAAAAAAAAAAAAAAAAAAAAAAAAAAAAAAAAAAAAAAAAAAAAAAAAAAAAAAAAAAAAAAAAAAAAAAAAAAAAAAAAAAAAAAAAAAAAAAAAAAAAAAAAAAAAAAAAAAAAAAAAAAAAAAAAAAAAAAAAAAAAAAAAAAAAAAAAAAAAAAAAAAAAAAAAAAAAAAAAAAAAAAAAAAAAAAAAAAAAAAAAAAAAAAAAAAAAAAAAAAAAAAAAAAAAAAAAAAAAAAAAAAAAAAAAAAAAAAAAAAAAAAAAAAAAAAAAAAAAAAAAAAAAAAAAAAAAAAAAAAAAAAAAAAAAAAAAAAAAAAAAAAAAAAAAAAAAAAAAAAAAAAAAAAAAAAAAAAAAAAAAAAAAAAAAAAAAAAAAAAAAAAAAAAAAAAAAAAAAAAAAAAAAAAAAAAAAAAAAAAAAAAAAAAAAAAAAAAAAAAAAAAAAAAAAAAAAAAAAAAAAAAAAAAAAAAAAAAAAAAAAAAAAAAAAAAAAAAAAAAAAAAAAAAAAAAAAAAAAAAAAAAAAAAAAAAAAAAAAAAAAAAAAAAAAAAAAAAAAAAAAAAAAAAAAAAAAAAAAAAAAAAAAAAAAAAAAAAAAAAAAAAAAAAAAAAAAAAAAAAAAAAAAAAAAAAAAAAAAAAAAAAAAAAAAAAAAAAAAAAAAAAAAAAAAAAAAAAAAAAAAAAAAAAAAAAAAAAAAAAAAAAAAAAAAAAAAAAAAAAAAAAAAAAAAAAAAAAAAAAAAAAAAAAAAAAAAAAAAAAAAAAAAAAAAAAAAAAAAAAAAAAAAAAAAAAAAAAAAAAAAAAAAAAAAAAAAAAAAAAAAAAAAAAAAAAAAAAAAAAAAAAAAAAAAAAAAAAAAAAAAAAAAAAAAAAAAAAAAAAAAAAAAAAAAAAAAAAAAAAAAAAAAAAAAAAAAAAAAAAAAAAAAAAAAAAAAAAAAAAAAAAAAAAAAAAAAAAAAAAAAAAAAAAAAAAAAAAAAAAAAAAAAAAAAAAAAAAAAAAAAAAAAAAAAAAAAAAAAAAAAAAAAAAAAAAAAAAAAAAAAAAAAAAAAAAAAAAAAAAAAAAAAAAAAAAAAAAAAAAAAAAAAAAAAAAAAAAAAAAAAAAAAAAAAAAAAAAAAAAAAAAAAAAAAAAAAAAAAAAAAAAAAAAAAAAAAAAAAAAAAAAAAAAAAAAAAAAAAAAAAAAAAAAAAAAAAAAAAAAAAAAAAAAAAAAAAAAAAAAAAAAAAAAAAAAAAAAAAAAAAAAAAAAAAAAAAAAAAAAAAAAAAAAAAAAAAAAAAAAAAAAAAAAAAAAAAAAAAAAAAAAAAAAAAAAAAAAAAAAAAAAAAAAAAAAAAAAAAAAAAAAAAAAAAAAAAAAAAAAAAAAAAAAAAAAAAAAAAAAAAAAAAAAAAAAAAAAAAAAAAAAAAAAAAAAAAAAAAAAAAAAAAAAAAAAAAAAAAAAAAAAAAAAAAAAAAAAAAAAAAAAAAAAAAAAAAAAAAAAAAAAAAAAAAAAAAAAAAAAAAAAAAAAAAAAAAAAAAAAAAAAAAAAAAAAAAAAAAAAAAAAAAAAAAAAAAAAAAAAAAAAAAAAAAAAAAAAAAAAAAAAAAAAAAAAAAAAAAAAAAAAAAAAAAAAAAAAAAAAAAAAAAAAAAAAAAAAAAAAAAAAAAAAAAAAAAAAAAAAAAAAAAAAAAAAAAAAAAAAAAAAAAAAAAAAAAAAAAAAAAAAAAAAAAAAAAAAAAAAAAAAAAAAAAAAAAAAAAAAAAAAAAAAAAAAAAAAAAAAAAAAAAAAAAAAAAAAAAAAAAAAAAAAAAAAAAAAAAAAAAAAAAAAAAAAAAAAAAAAAAAAAAAAAAAAAAAAAAAAAAAAAAAAAAAAAAAAAAAAAAAAAAAAAAAAAAAAAAAAAAAAAAAAAAAAAAAAAAAAAAAAAAAAAAAAAAAAAAAAAAAAAAAAAAAAAAAAAAAAAAAAAAAAAAAAAAAAAAAAAAAAAAAAAAAAAAAAAAAAAAAAAAAAAAAAAAAAAAAAAAAAAAAAAAAAAAAAAAAAAAAAAAAAAAAAAAAAAAAAAAAAAAAAAAAAAAAAAAAAAAAAAAAAAAAAAAAAAAAAAAAAAAAAAAAAAAAAAAAAAAAAAAAAAAAAAAAAAAAAAAAAAAAAAAAAAAAAAAAAAAAAAAAAAAAAAAAAAAAAAAAAAAAAAAAAAAAAAAAAAAAAAAAAAAAAAAAAAAAAAAAAAAAAAAAAAAAAAAAAAAAAAAAAAAAAAAAAAAAAAAAAAAAAAAAAAAAAAAAAAAAAAAAAAAAAAAAAAAAAAAAAAAAAAAAAAAAAAAAAAAAAAAAAAAAAAAAAAAAAAAAAAAAAAAAAAAAAAAAAAAAAAAAAAAAAAAAAAAAAAAAAAAAAAAAAAAAAAAAAAAAAAAAAAAAAAAAAAAAAAAAAAAAAAAAAAAAAAAAAAAAAAAAAAAAAAAAAAAAAAAAAAAAAAAAAAAAAAAAAAAAAAAAAAAAAAAAAAAAAAAAAAAAAAAAAAAAAAAAAAAAAAAAAAAAAAAAAAAAAAAAAAAAAAAAAAAAAAAAAAAAAAAAAAAAAAAAAAAAAAAAAAAAAAAAAAAAAAAAAAAAAAAAAAAAAAAAAAAAAAAAAAAAAAAAAAAAAAAAAAAAAAAAAAAAAAAAAAAAAAAAAAAAAAAAAAAAAAAAAAAAAAAAAAAAAAAAAAAAAAAAAAAAAAAAAAAAAAAAAAAAAAAAAAAAAAAAAAAAAAAAAAAAAAAAAAAAAAAAAAAAAAAAAAAAAAAAAAAAAAAAAAAAAAAAAAAAAAAAAAAAAAAAAAAAAAAAAAAAAAAAAAAAAAAAAAAAAAAAAAAAAAAAAAAAAAAAAAAAAAAAAAAAAAAAAAAAAAAAAAAAAAAAAAAAAAAAAAAAAAAAAAAAAAAAAAAAAAAAAAAAAAAAAAAAAAAAAAAAAAAAAAAAAAAAAAAAAAAAAAAAAAAAAAAAAAAAAAAAAAAAAAAAAAAAAAAAAAAAAAAAAAAAAAAAAAAAAAAAAAAAAAAAAAAAAAAAAAAAAAAAAAAAAAAAAAAAAAAAAAAAAAAAAAAAAAAAAAAAAAAAAAAAAAAAAAAAAAAAAAAAAAAAAAAAAAAAAAAAAAAAAAAAAAAAAAAAAAAAAAAAAAAAAAAAAAAAAAAAAAAAAAAAAAAAAAAAAAAAAAAAAAAAAAAAAAAAAAAAAAAAAAAAAAAAAAAAAAAAAAAAAAAAAAAAAAAAAAAAAAAAAAAAAAAAAAAAAAAAAAAAAAAAAAAAAAAAAAAAAAAAAAAAAAAAAAAAAAAAAAAAAAAAAAAAAAAAAAAAAAAAAAAAAAAAAAAAAAAAAAAAAAAAAAAAAAAAAAAAAAAAAAAAAAAAAAAAAAAAAAAAAAAAAAAAAAAAAAAAAAAAAAAAAAAAAAAAAAAAAAAAAAAAAAAAAAAAAAAAAAAAAAAAAAAAAAAAAAAAAAAAAAAAAAAAAAAAAAAAAAAAAAAAAAAAAAAAAAAAAAAAAAAAAAAAAAAAAAAAAAAAAAAAAAAAAAAAAAAAAAAAAAAAAAAAAAAAAAAAAAAAAAAAAAAAAAAAAAAAAAAAAAAAAAAAAAAAAAAAAAAAAAAAAAAAAAAAAAAAAAAAAAAAAAAAAAAAAAAAAAAAAAAAAAAAAAAAAAAAAAAAAAAAAAAAAAAAAAAAAAAAAAAAAAAAAAAAAAAAAAAAAAAAAAAAAAAAAAAAAAAAAAAAAAAAAAAAAAAAAAAAAAAAAAAAAAAAAAAAAAAAAAAAAAAAAAAAAAAAAAAAAAAAAAAAAAAAAAAAAAAAAAAAAAAAAAAAAAAAAAAAAAAAAAAAAAAAAAAAAAAAAAAAAAAAAAAAAAAAAAAAAAAAAAAAAAAAAAAAAAAAAAAAAAAAAAAAAAAAAAAAAAAAAAAAAAAAAAAAAAAAAAAAAAAAAAAAAAAAAAAAAAAAAAAAAAAAAAAAAAAAAAAAAAAAAAAAAAAAAAAAAAAAAAAAAAAAAAAAAAAAAAAAAAAAAAAAAAAAAAAAAAAAAAAAAAAAAAAAAAAAAAAAAAAAAAAAAAAAAAAAAAAAAAAAAAAAAAAAAAAAAAAAAAAAAAAAAAAAAAAAAAAAAAAAAAAAAAAAAAAAAAAAAAAAAAAAAAAAAAAAAAAAAAAAAAAAAAAAAAAAAAAAAAAAAAAAAAAAAAAAAAAAAAAAAAAAAAAAAAAAAAAAAAAAAAAAAAAAAAAAAAAAAAAAAAAAAAAAAAAAAAAAAAAAAAAAAAAAAAAAAAAAAAAAAAAAAAAAAAAAAAAAAAAAAAAAAAAAAAAAAAAAAAAAAAAAAAAAAAAAAAAAAAAAAAAAAAAAAAAAAAAAAAAAAAAAAAAAAAAAAAAAAAAAAAAAAAAAAAAAAAAAAAAAAAAAAAAAAAAAAAAAAAAAAAAAAAAAAAAAAAAAAAAAAAAAAAAAAAAAAAAAAAAAAAAAAAAAAAAAAAAAAAAAAAAAAAAAAAAAAAAAAAAAAAAAAAAAAAAAAAAAAAAAAAAAAAAAAAAAAAAAAAAAAAAAAAAAAAAAAAAAAAAAAAAAAAAAAAAAAAAAAAAAAAAAAAAAAAAAAAAAAAAAAAAAAAAAAAAAAAAAAAAAAAAAAAAAAAAAAAAAAAAAAAAAAAAAAAAAAAAAAAAAAAAAAAAAAAAAAAAAAAAAAAAAAAAAAAAAAAAAAAAAAAAAAAAAAAAAAAAAAAAAAAAAAAAAAAAAAAAAAAAAAAAAAAAAAAAAAAAAAAAAAAAAAAAAAAAAAAAAAAAAAAAAAAAAAAAAAAAAAAAAAAAAAAAAAAAAAAAAAAAAAAAAAAAAAAAAAAAAAAAAAAAAAAAAAAAAAAAAAAAAAAAAAAAAAAAAAAAAAAAAAAAAAAAAAAAAAAAAAAAAAAAAAAAAAAAAAAAAAAAAAAAAAAAAAAAAAAAAAAAAAAAAAAAAAAAAAAAAAAAAAAAAAAAAAAAAAAAAAAAAAAAAAAAAAAAAAAAAAAAAAAAAAAAAAAAAAAAAAAAAAAAAAAAAAAAAAAAAAAAAAAAAAAAAAAAAAAAAAAAAAAAAAAAAAAAAAAAAAAAAAAAAAAAAAAAAAAAAAAAAAAAAAAAAAAAAAAAAAAAAAAAAAAAAAAAAAAAAAAAAAAAAAAAAAAAAAAAAAAAAAAAAAAAAAAAAAAAAAAAAAAAAAAAAAAAAAAAAAAAAAAAAAAAAAAAAAAAAAAAAAAAAAAAAAAAAAAAAAAAAAAAAAAAAAAAAAAAAAAAAAAAAAAAAAAAAAAAAAAAAAAAAAAAAAAAAAAAAAAAAAAAAAAAAAAAAAAAAAAAAAAAAAAAAAAAAAAAAAAAAAAAAAAAAAAAAAAAAAAAAAAAAAAAAAAAAAAAAAAAAAAAAAAAAAAAAAAAAAAAAAAAAAAAAAAAAAAAAAAAAAAAAAAAAAAAAAAAAAAAAAAAAAAAAAAAAAAAAAAAAAAAAAAAAAAAAAAAAAAAAAAAAAAAAAAAAAAAAAAAAAAAAAAAAAAAAAAAAAAAAAAAAAAAAAAAAAAAAAAAAAAAAAAAAAAAAAAAAAAAAAAAAAAAAAAAAAAAAAAAAAAAAAAAAAAAAAAAAAAAAAAAAAAAAAAAAAAAAAAAAAAAAAAAAAAAAAAAAAAAAAAAAAAAAAAAAAAAAAAAAAAAAAAAAAAAAAAAAAAAAAAAAAAAAAAAAAAAAAAAAAAAAAAAAAAAAAAAAAAAAAAAAAAAAAAAAAAAAAAAAAAAAAAAAAAAAAAAAAAAAAAAAAAAAAAAAAAAAAAAAAAAAAAAAAAAAAAAAAAAAAAAAAAAAAAAAAAAAAAAAAAAAAAAAAAAAAAAAAAAAAAAAAAAAAAAAAAAAAAAAAAAAAAAAAAAAAAAAAAAAAAAAAAAAAAAAAAAAAAAAAAAAAAAAAAAAAAAAAAAAAAAAAAAAAAAAAAAAAAAAAAAAAAAAAAAAAAAAAAAAAAAAAAAAAAAAAAAAAAAAAAAAAAAAAAAAAAAAAAAAAAAAAAAAAAAAAAAAAAAAAAAAAAAAAAAAAAAAAAAAAAAAAAAAAAAAAAAAAAAAAAAAAAAAAAAAAAAAAAAAAAAAAAAAAAAAAAAAAAAAAAAAAAAAAAAAAAAAAAAAAAAAAAAAAAAAAAAAAAAAAAAAAAAAAAAAAAAAAAAAAAAAAAAAAAAAAAAAAAAAAAAAAAAAAAAAAAAAAAAAAAAAAAAAAAAAAAAAAAAAAAAAAAAAAAAAAAAAAAAAAAAAAAAAAAAAAAAAAAAAAAAAAAAAAAAAAAAAAAAAAAAAAAAAAAAAAAAAAAAAAAAAAAAAAAAAAAAAAAAAAAAAAAAAAAAAAAAAAAAAAAAAAAAAAAAAAAAAAAAAAAAAAAAAAAAAAAAAAAAAAAAAAAAAAAAAAAAAAAAAAAAAAAAAAAAAAAAAAAAAAAAAAAAAAAAAAAAAAAAAAAAAAAAAAAAAAAAAAAAAAAAAAAAAAAAAAAAAAAAAAAAAAAAAAAAAAAAAAAAAAAAAAAAAAAAAAAAAAAAAAAAAAAAAAAAAAAAAAAAAAAAAAAAAAAAAAAAAAAAAAAAAAAAAAAAAAAAAAAAAAAAAAAAAAAAAAAAAAAAAAAAAAAAAAAAAAAAAAAAAAAAAAAAAAAAAAAAAAAAAAAAAAAAAAAAAAAAAAAAAAAAAAAAAAAAAAAAAAAAAAAAAAAAAAAAAAAAAAAAAAAAAAAAAAAAAAAAAAAAAAAAAAAAAAAAAAAAAAAAAAAAAAAAAAAAAAAAAAAAAAAAAAAAAAAAAAAAAAAAAAAAAAAAAAAAAAAAAAAAAAAAAAAAAAAAAAAAAAAAAAAAAAAAAAAAAAAAAAAAAAAAAAAAAAAAAAAAAAAAAAAAAAAAAAAAAAAAAAAAAAAAAAAAAAAAAAAAAAAAAAAAAAAAAAAAAAAAAAAAAAAAAAAAAAAAAAAAAAAAAAAAAAAAAAAAAAAAAAAAAAAAAAAAAAAAAAAAAAAAAAAAAAAAAAAAAAAAAAAAAAAAAAAAAAAAAAAAAAAAAAAAAAAAAAAAAAAAAAAAAAAAAAAAAAAAAAAAAAAAAAAAAAAAAAAAAAAAAAAAAAAAAAAAAAAAAAAAAAAAAAAAAAAAAAAAAAAAAAAAAAAAAAAAAAAAAAAAAAAAAAAAAAAAAAAAAAAAAAAAAAAAAAAAAAAAAAAAAAAAAAAAAAAAAAAAAAAAAAAAAAAAAAAAAAAAAAAAAAAAAAAAAAAAAAAAAAAAAAAAAAAAAAAAAAAAAAAAAAAAAAAAAAAAAAAAAAAAAAAAAAAAAAAAAAAAAAAAAAAAAAAAAAAAAAAAAAAAAAAAAAAAAAAAAAAAAAAAAAAAAAAAAAAAAAAAAAAAAAAAAAAAAAAAAAAAAAAAAAAAAAAAAAAAAAAAAAAAAAAAAAAAAAAAAAAAAAAAAAAAAAAAAAAAAAAAAAAAAAAAAAAAAAAAAAAAAAAAAAAAAAAAAAAAAAAAAAAAAAAAAAAAAAAAAAAAAAAAAAAAAAAAAAAAAAAAAAAAAAAAAAAAAAAAAAAAAAAAAAAAAAAAAAAAAAAAAAAAAAAAAAAAAAAAAAAAAAAAAAAAAAAAAAAAAAAAAAAAAAAAAAAAAAAAAAAAAAAAAAAAAAAAAAAAAAAAAAAAAAAAAAAAAAAAAAAAAAAAAAAAAAAAAAAAAAAAAAAAAAAAAAAAAAAAAAAAAAAAAAAAAAAAAAAAAAAAAAAAAAAAAAAAAAAAAAAAAAAAAAAAAAAAAAAAAAAAAAAAAAAAAAAAAAAAAAAAAAAAAAAAAAAAAAAAAAAAAAAAAAAAAAAAAAAAAAAAAAAAAAAAAAAAAAAAAAAAAAAAAAAAAAAAAAAAAAAAAAAAAAAAAAAAAAAAAAAAAAAAAAAAAAAAAAAAAAAAAAAAAAAAAAAAAAAAAAAAAAAAAAAAAAAAAAAAAAAAAAAAAAAAAAAAAAAAAAAAAAAAAAAAAAAAAAAAAAAAAAAAAAAAAAAAAAAAAAAAAAAAAAAAAAAAAAAAAAAAAAAAAAAAAAAAAAAAAAAAAAAAAAAAAAAAAAAAAAAAAAAAAAAAAAAAAAAAAAAAAAAAAAAAAAAAAAAAAAAAAAAAAAAAAAAAAAAAAAAAAAAAAAAAAAAAAAAAAAAAAAAAAAAAAAAAAAAAAAAAAAAAAAAAAAAAAAAAAAAAAAAAAAAAAAAAAAAAAAAAAAAAAAAAAAAAAAAAAAAAAAAAAAAAAAAAAAAAAAAAAAAAAAAAAAAAAAAAAAAAAAAAAAAAAAAAAAAAAAAAAAAAAAAAAAAAAAAAAAAAAAAAAAAAAAAAAAAAAAAAAAAAAAAAAAAAAAAAAAAAAAAAAAAAAAAAAAAAAAAAAAAAAAAAAAAAAAAAAAAAAAAAAAAAAAAAAAAAAAAAAAAAAAAAAAAAAAAAAAAAAAAAAAAAAAAAAAAAAAAAAAAAAAAAAAAAAAAAAAAAAAAAAAAAAAAAAAAAAAAAAAAAAAAAAAAAAAAAAAAAAAAAAAAAAAAAAAAAAAAAAAAAAAAAAAAAAAAAAAAAAAAAAAAAAAAAAAAAAAAAAAAAAAAAAAAAAAAAAAAAAAAAAAAAAAAAAAAAAAAAAAAAAAAAAAAAAAAAAAAAAAAAAAAAAAAAAAAAAAAAAAAAAAAAAAAAAAAAAAAAAAAAAAAAAAAAAAAAAAAAAAAAAAAAAAAAAAAAAAAAAAAAAAAAAAAAAAAAAAAAAAAAAAAAAAAAAAAAAAAAAAAAAAAAAAAAAAAAAAAAAAAAAAAAAAAAAAAAAAAAAAAAAAAAAAAAAAAAAAAAAAAAAAAAAAAAAAAAAAAAAAAAAAAAAAAAAAAAAAAAAAAAAAAAAAAAAAAAAAAAAAAAAAAAAAAAAAAAAAAAAAAAAAAAAAAAAAAAAAAAAAAAAAAAAAAAAAAAAAAAAAAAAAAAAAAAAAAAAAAAAAAAAAAAAAAAAAAAAAAAAAAAAAAAAAAAAAAAAAAAAAAAAAAAAAAAAAAAAAAAAAAAAAAAAAAAAAAAAAAAAAAAAAAAAAAAAAAAAAAAAAAAAAAAAAAAAAAAAAAAAAAAAAAAAAAAAAAAAAAAAAAAAAAAAAAAAAAAAAAAAAAAAAAAAAAAAAAAAAAAAAAAAAAAAAAAAAAAAAAAAAAAAAAAAAAAAAAAAAAAAAAAAAAAAAAAAAAAAAAAAAAAAAAAAAAAAAAAAAAAAAAAAAAAAAAAAAAAAAAAAAAAAAAAAAAAAAAAAAAAAAAAAAAAAAAAAAAAAAAAAAAAAAAAAAAAAAAAAAAAAAAAAAAAAAAAAAAAAAAAAAAAAAAAAAAAAAAAAAAAAAAAAAAAAAAAAAAAAAAAAAAAAAAAAAAAAAAAAAAAAAAAAAAAAAAAAAAAAAAAAAAAAAAAAAAAAAAAAAAAAAAAAAAAAAAAAAAAAAAAAAAAAAAAAAAAAAAAAAAAAAAAAAAAAAAAAAAAAAAAAAAAAAAAAAAAAAAAAAAAAAAAAAAAAAAAAAAAAAAAAAAAAAAAAAAAAAAAAAAAAAAAAAAAAAAAAAAAAAAAAAAAAAAAAAAAAAAAAAAAAAAAAAAAAAAAAAAAAAAAAAAAAAAAAAAAAAAAAAAAAAAAAAAAAAAAAAAAAAAAAAAAAAAAAAAAAAAAAAAAAAAAAAAAAAAAAAAAAAAAAAAAAAAAAAAAAAAAAAAAAAAAAAAAAAAAAAAAAAAAAAAAAAAAAAAAAAAAAAAAAAAAAAAAAAAAAAAAAAAAAAAAAAAAAAAAAAAAAAAAAAAAAAAAAAAAAAAAAAAAAAAAAAAAAAAAAAAAAAAAAAAAAAAAAAAAAAAAAAAAAAAAAAAAAAAAAAAAAAAAAAAAAAAAAAAAAAAAAAAAAAAAAAAAAAAAAAAAAAAAAAAAAAAAAAAAAAAAAAAAAAAAAAAAAAAAAAAAAAAAAAAAAAAAAAAAAAAAAAAAAAAAAAAAAAAAAAAAAAAAAAAAAAAAAAAAAAAAAAAAAAAAAAAAAAAAAAAAAAAAAAAAAAAAAAAAAAAAAAAAAAAAAAAAAAAAAAAAAAAAAAAAAAAAAAAAAAAAAAAAAAAAAAAAAAAAAAAAAAAAAAAAAAAAAAAAAAAAAAAAAAAAAAAAAAAAAAAAAAAAAAAAAAAAAAAAAAAAAAAAAAAAAAAAAAAAAAAAAAAAAAAAAAAAAAAAAAAAAAAAAAAAAAAAAAAAAAAAAAAAAAAAAAAAAAAAAAAAAAAAAAAAAAAAAAAAAAAAAAAAAAAAAAAAAAAAAAAAAAAAAAAAAAAAAAAAAAAAAAAAAAAAAAAAAAAAAAAAAAAAAAAAAAAAAAAAAAAAAAAAAAAAAAAAAAAAAAAAAAAAAAAAAAAAAAAAAAAAAAAAAAAAAAAAAAAAAAAAAAAAAAAAAAAAAAAAAAAAAAAAAAAAAAAAAAAAAAAAAAAAAAAAAAAAAAAAAAAAAAAAAAAAAAAAAAAAAAAAAAAAAAAAAAAAAAAAAAAAAAAAAAAAAAAAAAAAAAAAAAAAAAAAAAAAAAAAAAAAAAAAAAAAAAAAAAAAAAAAAAAAAAAAAAAAAAAAAAAAAAAAAAAAAAAAAAAAAAAAAAAAAAAAAAAAAAAAAAAAAAAAAAAAAAAAAAAAAAAAAAAAAAAAAAAAAAAAAAAAAAAAAAAAAAAAAAAAAAAAAAAAAAAAAAAAAAAAAAAAAAAAAAAAAAAAAAAAAAAAAAAAAAAAAAAAAAAAAAAAAAAAAAAAAAAAAAAAAAAAAAAAAAAAAAAAAAAAAAAAAAAAAAAAAAAAAAAAAAAAAAAAAAAAAAAAAAAAAAAAAAAAAAAAAAAAAAAAAAAAAAAAAAAAAAAAAAAAAAAAAAAAAAAAAAAAAAAAAAAAAAAAAAAAAAAAAAAAAAAAAAAAAAAAAAAAAAAAAAAAAAAAAAAAAAAAAAAAAAAAAAAAAAAAAAAAAAAAAAAAAAAAAAAAAAAAAAAAAAAAAAAAAAAAAAAAAAAAAAAAAAAAAAAAAAAAAAAAAAAAAAAAAAAAAAAAAAAAAAAAAAAAAAAAAAAAAAAAAAAAAAAAAAAAAAAAAAAAAAAAAAAAAAAAAAAAAAAAAAAAAAAAAAAAAAAAAAAAAAAAAAAAAAAAAAAAAAAAAAAAAAAAAAAAAAAAAAAAAAAAAAAAAAAAAAAAAAAAAAAAAAAAAAAAAAAAAAAAAAAAAAAAAAAAAAAAAAAAAAAAAAAAAAAAAAAAAAAAAAAAAAAAAAAAAAAAAAAAAAAAAAAAAAAAAAAAAAAAAAAAAAAAAAAAAAAAAAAAAAAAAAAAAAAAAAAAAAAAAAAAAAAAAAAAAAAAAAAAAAAAAAAAAAAAAAAAAAAAAAAAAAAAAAAAAAAAAAAAAAAAAAAAAAAAAAAAAAAAAAAAAAAAAAAAAAAAAAAAAAAAAAAAAAAAAAAAAAAAAAAAAAAAAAAAAAAAAAAAAAAAAAAAAAAAAAAAAAAAAAAAAAAAAAAAAAAAAAAAAAAAAAAAAAAAAAAAAAAAAAAAAAAAAAAAAAAAAAAAAAAAAAAAAAAAAAAAAAAAAAAAAAAAAAAAAAAAAAAAAAAAAAAAAAAAAAAAAAAAAAAAAAAAAAAAAAAAAAAAAAAAAAAAAAAAAAAAAAAAAAAAAAAAAAAAAAAAAAAAAAAAAAAAAAAAAAAAAAAAAAAAAAAAAAAAAAAAAAAAAAAAAAAAAAAAAAAAAAAAAAAAAAAAAAAAAAAAAAAAAAAAAAAAAAAAAAAAAAAAAAAAAAAAAAAAAAAAAAAAAAAAAAAAAAAAAAAAAAAAAAAAAAAAAAAAAAAAAAAAAAAAAAAAAAAAAAAAAAAAAAAAAAAAAAAAAAAAAAAAAAAAAAAAAAAAAAAAAAAAAAAAAAAAAAAAAAAAAAAAAAAAAAAAAAAAAAAAAAAAAAAAAAAAAAAAAAAAAAAAAAAAAAAAAAAAAAAAAAAAAAAAAAAAAAAAAAAAAAAAAAAAAAAAAAAAAAAAAAAAAAAAAAAAAAAAAAAAAAAAAAAAAAAAAAAAAAAAAAAAAAAAAAAAAAAAAAAAAAAAAAAAAAAAAAAAAAAAAAAAAAAAAAAAAAAAAAAAAAAAAAAAAAAAAAAAAAAAAAAAAAAAAAAAAAAAAAAAAAAAAAAAAAAAAAAAAAAAAAAAAAAAAAAAAAAAAAAAAAAAAAAAAAAAAAAAAAAAAAAAAAAAAAAAAAAAAAAAAAAAAAAAAAAAAAAAAAAAAAAAAAAAAAAAAAAAAAAAAAAAAAAAAAAAAAAAAAAAAAAAAAAAAAAAAAAAAAAAAAAAAAAAAAAAAAAAAAAAAAAAAAAAAAAAAAAAAAAAAAAAAAAAAAAAAAAAAAAAAAAAAAAAAAAAAAAAAAAAAAAAAAAAAAAAAAAAAAAAAAAAAAAAAAAAAAAAAAAAAAAAAAAAAAAAAAAAAAAAAAAAAAAAAAAAAAAAAAAAAAAAAAAAAAAAAAAAAAAAAAAAAAAAAAAAAAAAAAAAAAAAAAAAAAAAAAAAAAAAAAAAAAAAAAAAAAAAAAAAAAAAAAAAAAAAAAAAAAAAAAAAAAAAAAAAAAAAAAAAAAAAAAAAAAAAAAAAAAAAAAAAAAAAAAAAAAAAAAAAAAAAAAAAAAAAAAAAAAAAAAAAAAAAAAAAAAAAAAAAAAAAAAAAAAAAAAAAAAAAAAAAAAAAAAAAAAAAAAAAAAAAAAAAAAAAAAAAAAAAAAAAAAAAAAAAAAAAAAAAAAAAAAAAAAAAAAAAAAAAAAAAAAAAAAAAAAAAAAAAAAAAAAAAAAAAAAAAAAAAAAAAAAAAAAAAAAAAAAAAAAAAAAAAAAAAAAAAAAAAAAAAAAAAAAAAAAAAAAAAAAAAAAAAAAAAAAAAAAAAAAAAAAAAAAAAAAAAAAAAAAAAAAAAAAAAAAAAAAAAAAAAAAAAAAAAAAAAAAAAAAAAAAAAAAAAAAAAAAAAAAAAAAAAAAAAAAAAAAAAAAAAAAAAAAAAAAAAAAAAAAAAAAAAAAAAAAAAAAAAAAAAAAAAAAAAAAAAAAAAAAAAAAAAAAAAAAAAAAAAAAAAAAAAAAAAAAAAAAAAAAAAAAAAAAAAAAAAAAAAAAAAAAAAAAAAAAAAAAAAAAAAAAAAAAAAAAAAAAAAAAAAAAAAAAAAAAAAAAAAAAAAAAAAAAAAAAAAAAAAAAAAAAAAAAAAAAAAAAAAAAAAAAAAAAAAAAAAAAAAAAAAAAAAAAAAAAAAAAAAAAAAAAAAAAAAAAAAAAAAAAAAAAAAAAAAAAAAAAAAAAAAAAAAAAAAAAAAAAAAAAAAAAAAAAAAAAAAAAAAAAAAAAAAAAAAAAAAAAAAAAAAAAAAAAAAAAAAAAAAAAAAAAAAAAAAAAAAAAAAAAAAAAAAAAAAAAAAAAAAAAAAAAAAAAAAAAAAAAAAAAAAAAAAAAAAAAAAAAAAAAAAAAAAAAAAAAAAAAAAAAAAAAAAAAAAAAAAAAAAAAAAAAAAAAAAAAAAAAAAAAAAAAAAAAAAAAAAAAAAAAAAAAAAAAAAAAAAAAAAAAAAAAAAAAAAAAAAAAAAAAAAAAAAAAAAAAAAAAAAAAAAAAAAAAAAAAAAAAAAAAAAAAAAAAAAAAAAAAAAAAAAAAAAAAAAAAAAAAAAAAAAAAAAAAAAAAAAAAAAAAAAAAAAAAAAAAAAAAAAAAAAAAAAAAAAAAAAAAAAAAAAAAAAAAAAAAAAAAAAAAAAAAAAAAAAAAAAAAAAAAAAAAAAAAAAAAAAAAAAAAAAAAAAAAAAAAAAAAAAAAAAAAAAAAAAAAAAAAAAAAAAAAAAAAAAAAAAAAAAAAAAAAAAAAAAAAAAAAAAAAAAAAAAAAAAAAAAAAAAAAAAAAAAAAAAAAAAAAAAAAAAAAAAAAAAAAAAAAAAAAAAAAAAAAAAAAAAAAAAAAAAAAAAAAAAAAAAAAAAAAAAAAAAAAAAAAAAAAAAAAAAAAAAAAAAAAAAAAAAAAAAAAAAAAAAAAAAAAAAAAAAAAAAAAAAAAAAAAAAAAAAAAAAAAAAAAAAAAAAAAAAAAAAAAAAAAAAAAAAAAAAAAAAAAAAAAAAAAAAAAAAAAAAAAAAAAAAAAAAAAAAAAAAAAAAAAAAAAAAAAAAAAAAAAAAAAAAAAAAAAAAAAAAAAAAAAAAAAAAAAAAAAAAAAAAAAAAAAAAAAAAAAAAAAAAAAAAAAAAAAAAAAAAAAAAAAAAAAAAAAAAAAAAAAAAAAAAAAAAAAAAAAAAAAAAAAAAAAAAAAAAAAAAAAAAAAAAAAAAAAAAAAAAAAAAAAAAAAAAAAAAAAAAAAAAAAAAAAAAAAAAAAAAAAAAAAAAAAAAAAAAAAAAAAAAAAAAAAAAAAAAAAAAAAAAAAAAAAAAAAAAAAAAAAAAAAAAAAAAAAAAAAAAAAAAAAAAAAAAAAAAAAAAAAAAAAAAAAAAAAAAAAAAAAAAAAAAAAAAAAAAAAAAAAAAAAAAAAAAAAAAAAAAAAAAAAAAAAAAAAAAAAAAAAAAAAAAAAAAAAAAAAAAAAAAAAAAAAAAAAAAAAAAAAAAAAAAAAAAAAAAAAAAAAAAAAAAAAAAAAAAAAAAAAAAAAAAAAAAAAAAAAAAAAAAAAAAAAAAAAAAAAAAAAAAAAAAAAAAAAAAAAAAAAAAAAAAAAAAAAAAAAAAAAAAAAAAAAAAAAAAAAAAAAAAAAAAAAAAAAAAAAAAAAAAAAAAAAAAAAAAAAAAAAAAAAAAAAAAAAAAAAAAAAAAAAAAAAAAAAAAAAAAAAAAAAAAAAAAAAAAAAAAAAAAAAAAAAAAAAAAAAAAAAAAAAAAAAAAAAAAAAAAAAAAAAAAAAAAAAAAAAAAAAAAAAAAAAAAAAAAAAAAAAAAAAAAAAAAAAAAAAAAAAAAAAAAAAAAAAAAAAAAAAAAAAAAAAAAAAAAAAAAAAAAAAAAAAAAAAAAAAAAAAAAAAAAAAAAAAAAAAAAAAAAAAAAAAAAAAAAAAAAAAAAAAAAAAAAAAAAAAAAAAAAAAAAAAAAAAAAAAAAAAAAAAAAAAAAAAAAAAAAAAAAAAAAAAAAAAAAAAAAAAAAAAAAAAAAAAAAAAAAAAAAAAAAAAAAAAAAAAAAAAAAAAAAAAAAAAAAAAAAAAAAAAAAAAAAAAAAAAAAAAAAAAAAAAAAAAAAAAAAAAAAAAAAAAAAAAAAAAAAAAAAAAAAAAAAAAAAAAAAAAAAAAAAAAAAAAAAAAAAAAAAAAAAAAAAAAAAAAAAAAAAAAAAAAAAAAAAAAAAAAAAAAAAAAAAAAAAAAAAAAAAAAAAAAAAAAAAAAAAAAAAAAAAAAAAAAAAAAAAAAAAAAAAAAAAAAAAAAAAAAAAAAAAAAAAAAAAAAAAAAAAAAAAAAAAAAAAAAAAAAAAAAAAAAAAAAAAAAAAAAAAAAAAAAAAAAAAAAAAAAAAAAAAAAAAAAAAAAAAAAAAAAAAAAAAAAAAAAAAAAAAAAAAAAAAAAAAAAAAAAAAAAAAAAAAAAAAAAAAAAAAAAAAAAAAAAAAAAAAAAAAAAAAAAAAAAAAAAAAAAAAAAAAAAAAAAAAAAAAAAAAAAAAAAAAAAAAAAAAAAAAAAAAAAAAAAAAAAAAAAAAAAAAAAAAAAAAAAAAAAAAAAAAAAAAAAAAAAAAAAAAAAAAAAAAAAAAAAAAAAAAAAAAAAAAAAAAAAAAAAAAAAAAAAAAAAAAAAAAAAAAAAAAAAAAAAAAAAAAAAAAAAAAAAAAAAAAAAAAAAAAAAAAAAAAAAAAAAAAAAAAAAAAAAAAAAAAAAAAAAAAAAAAAAAAAAAAAAAAAAAAAAAAAAAAAAAAAAAAAAAAAAAAAAAAAAAAAAAAAAAAAAAAAAAAAAAAAAAAAAAAAAAAAAAAAAAAAAAAAAAAAAAAAAAAAAAAAAAAAAAAAAAAAAAAAAAAAAAAAAAAAAAAAAAAAAAAAAAAAAAAAAAAAAAAAAAAAAAAAAAAAAAAAAAAAAAAAAAAAAAAAAAAAAAAAAAAAAAAAAAAAAAAAAAAAAAAAAAAAAAAAAAAAAAAAAAAAAAAAAAAAAAAAAAAAAAAAAAAAAAAAAAAAAAAAAAAAAAAAAAAAAAAAAAAAAAAAAAAAAAAAAAAAAAAAAAAAAAAAAAAAAAAAAAAAAAAAAAAAAAAAAAAAAAAAAAAAAAAAAAAAAAAAAAAAAAAAAAAAAAAAAAAAAAAAAAAAAAAAAAAAAAAAAAAAAAAAAAAAAAAAAAAAAAAAAAAAAAAAAAAAAAAAAAAAAAAAAAAAAAAAAAAAAAAAAAAAAAAAAAAAAAAAAAAAAAAAAAAAAAAAAAAAAAAAAAAAAAAAAAAAAAAAAAAAAAAAAAAAAAAAAAAAAAAAAAAAAAAAAAAAAAAAAAAAAAAAAAAAAAAAAAAAAAAAAAAAAAAAAAAAAAAAAAAAAAAAAAAAAAAAAAAAAAAAAAAAAAAAAAAAAAAAAAAAAAAAAAAAAAAAAAAAAAAAAAAAAAAAAAAAAAAAAAAAAAAAAAAAAAAAAAAAAAAAAAAAAAAAAAAAAAAAAAAAAAAAAAAAAAAAAAAAAAAAAAAAAAAAAAAAAAAAAAAAAAAAAAAAAAAAAAAAAAAAAAAAAAAAAAAAAAAAAAAAAAAAAAAAAAAAAAAAAAAAAAAAAAAAAAAAAAAAAAAAAAAAAAAAAAAAAAAAAAAAAAAAAAAAAAAAAAAAAAAAAAAAAAAAAAAAAAAAAAAAAAAAAAAAAAAAAAAAAAAAAAAAAAAAAAAAAAAAAAAAAAAAAAAAAAAAAAAAAAAAAAAAAAAAAAAAAAAAAAAAAAAAAAAAAAAAAAAAAAAAAAAAAAAAAAAAAAAAAAAAAAAAAAAAAAAAAAAAAAAAAAAAAAAAAAAAAAAAAAAAAAAAAAAAAAAAAAAAAAAAAAAAAAAAAAAAAAAAAAAAAAAAAAAAAAAAAAAAAAAAAAAAAAAAAAAAAAAAAAAAAAAAAAAAAAAAAAAAAAAAAAAAAAAAAAAAAAAAAAAAAAAAAAAAAAAAAAAAAAAAAAAAAAAAAAAAAAAAAAAAAAAAAAAAAAAAAAAAAAAAAAAAAAAAAAAAAAAAAAAAAAAAAAAAAAAAAAAAAAAAAAAAAAAAAAAAAAAAAAAAAAAAAAAAAAAAAAAAAAAAAAAAAAAAAAAAAAAAAAAAAAAAAAAAAAAAAAAAAAAAAAAAAAAAAAAAAAAAAAAAAAAAAAAAAAAAAAAAAAAAAAAAAAAAAAAAAAAAAAAAAAAAAAAAAAAAAAAAAAAAAAAAAAAAAAAAAAAAAAAAAAAAAAAAAAAAAAAAAAAAAAAAAAAAAAAAAAAAAAAAAAAAAAAAAAAAAAAAAAAAAAAAAAAAAAAAAAAAAAAAAAAAAAAAAAAAAAAAAAAAAAAAAAAAAAAAAAAAAAAAAAAAAAAAAAAAAAAAAAAAAAAAAAAAAAAAAAAAAAAAAAAAAAAAAAAAAAAAAAAAAAAAAAAAAAAAAAAAAAAAAAAAAAAAAAAAAAAAAAAAAAAAAAAAAAAAAAAAAAAAAAAAAAAAAAAAAAAAAAAAAAAAAAAAAAAAAAAAAAAAAAAAAAAAAAAAAAAAAAAAAAAAAAAAAAAAAAAAAAAAAAAAAAAAAAAAAAAAAAAAAAAAAAAAAAAAAAAAAAAAAAAAAAAAAAAAAAAAAAAAAAAAAAAAAAAAAAAAAAAAAAAAAAAAAAAAAAAAAAAAAAAAAAAAAAAAAAAAAAAAAAAAAAAAAAAAAAAAAAAAAAAAAAAAAAAAAAAAAAAAAAAAAAAAAAAAAAAAAAAAAAAAAAAAAAAAAAAAAAAAAAAAAAAAAAAAAAAAAAAAAAAAAAAAAAAAAAAAAAAAAAAAAAAAAAAAAAAAAAAAAAAAAAAAAAAAAAAAAAAAAAAAAAAAAAAAAAAAAAAAAAAAAAAAAAAAAAAAAAAAAAAAAAAAAAAAAAAAAAAAAAAAAAAAAAAAAAAAAAAAAAAAAAAAAAAAAAAAAAAAAAAAAAAAAAAAAAAAAAAAAAAAAAAAAAAAAAAAAAAAAAAAAAAAAAAAAAAAAAAAAAAAAAAAAAAAAAAAAAAAAAAAAAAAAAAAAAAAAAAAAAAAAAAAAAAAAAAAAAAAAAAAAAAAAAAAAAAAAAAAAAAAAAAAAAAAAAAAAAAAAAAAAAAAAAAAAAAAAAAAAAAAAAAAAAAAAAAAAAAAAAAAAAAAAAAAAAAAAAAAAAAAAAAAAAAAAAAAAAAAAAAAAAAAAAAAAAAAAAAAAAAAAAAAAAAAAAAAAAAAAAAAAAAAAAAAAAAAAAAAAAAAAAAAAAAAAAAAAAAAAAAAAAAAAAAAAAAAAAAAAAAAAAAAAAAAAAAAAAAAAAAAAAAAAAAAAAAAAAAAAAAAAAAAAAAAAAAAAAAAAAAAAAAAAAAAAAAAAAAAAAAAAAAAAAAAAAAAAAAAAAAAAAAAAAAAAAAAAAAAAAAAAAAAAAAAAAAAAAAAAAAAAAAAAAAAAAAAAAAAAAAAAAAAAAAAAAAAAAAAAAAAAAAAAAAAAAAAAAAAAAAAAAAAAAAAAAAAAAAAAAAAAAAAAAAAAAAAAAAAAAAAAAAAAAAAAAAAAAAAAAAAAAAAAAAAAAAAAAAAAAAAAAAAAAAAAAAAAAAAAAAAAAAAAAAAAAAAAAAAAAAAAAAAAAAAAAAAAAAAAAAAAAAAAAAAAAAAAAAAAAAAAAAAAAAAAAAAAAAAAAAAAAAAAAAAAAAAAAAAAAAAAAAAAAAAAAAAAAAAAAAAAAAAAAAAAAAAAAAAAAAAAAAAAAAAAAAAAAAAAAAAAAAAAAAAAAAAAAAAAAAAAAAAAAAAAAAAAAAAAAAAAAAAAAAAAAAAAAAAAAAAAAAAAAAAAAAAAAAAAAAAAAAAAAAAAAAAAAAAAAAAAAAAAAAAAAAAAAAAAAAAAAAAAAAAAAAAAAAAAAAAAAAAAAAAAAAAAAAAAAAAAAAAAAAAAAAAAAAAAAAAAAAAAAAAAAAAAAAAAAAAAAAAAAAAAAAAAAAAAAAAAAAAAAAAAAAAAAAAAAAAAAAAAAAAAAAAAAAAAAAAAAAAAAAAAAAAAAAAAAAAAAAAAAAAAAAAAAAAAAAAAAAAAAAAAAAAAAAAAAAAAAAAAAAAAAAAAAAAAAAAAAAAAAAAAAAAAAAAAAAAAAAAAAAAAAAAAAAAAAAAAAAAAAAAAAAAAAAAAAAAAAAAAAAAAAAAAAAAAAAAAAAAAAAAAAAAAAAAAAAAAAAAAAAAAAAAAAAAAAAAAAAAAAAAAAAAAAAAAAAAAAAAAAAAAAAAAAAAAAAAAAAAAAAAAAAAAAAAAAAAAAAAAAAAAAAAAAAAAAAAAAAAAAAAAAAAAAAAAAAAAAAAAAAAAAAAAAAAAAAAAAAAAAAAAAAAAAAAAAAAAAAAAAAAAAAAAAAAAAAAAAAAAAAAAAAAAAAAAAAAAAAAAAAAAAAAAAAAAAAAAAAAAAAAAAAAAAAAAAAAAAAAAAAAAAAAAAAAAAAAAAAAAAAAAAAAAAAAAAAAAAAAAAAAAAAAAAAAAAAAAAAAAAAAAAAAAAAAAAAAAAAAAAAAAAAAAAAAAAAAAAAAAAAAAAAAAAAAAAAAAAAAAAAAAAAAAAAAAAAAAAAAAAAAAAAAAAAAAAAAAAAAAAAAAAAAAAAAAAAAAAAAAAAAAAAAAAAAAAAAAAAAAAAAAAAAAAAAAAAAAAAAAAAAAAAAAAAAAAAAAAAAAAAAAAAAAAAAAAAAAAAAAAAAAAAAAAAAAAAAAAAAAAAAAAAAAAAAAAAAAAAAAAAAAAAAAAAAAAAAAAAAAAAAAAAAAAAAAAAAAAAAAAAAAAAAAAAAAAAAAAAAAAAAAAAAAAAAAAAAAAAAAAAAAAAAAAAAAAAAAAAAAAAAAAAAAAAAAAAAAAAAAAAAAAAAAAAAAAAAAAAAAAAAAAAAAAAAAAAAAAAAAAAAAAAAAAAAAAAAAAAAAAAAAA=\" type=\"audio/wav\" />\n",
       "                    Your browser does not support the audio element.\n",
       "                </audio>\n",
       "              "
      ],
      "text/plain": [
       "<IPython.lib.display.Audio object>"
      ]
     },
     "execution_count": 15,
     "metadata": {},
     "output_type": "execute_result"
    }
   ],
   "source": [
    "waveform, sample_rate = torchaudio.load(speech_file)\n",
    "waveform = waveform.to(device)\n",
    "\n",
    "if sample_rate != model_sample_rate :\n",
    "    waveform = torchaudio.functional.resample(waveform, sample_rate, model_sample_rate)\n",
    "ipd.Audio(data=waveform[0].tolist(), rate=model_sample_rate)"
   ]
  },
  {
   "cell_type": "markdown",
   "metadata": {},
   "source": [
    "### Preprocessing"
   ]
  },
  {
   "cell_type": "code",
   "execution_count": 16,
   "metadata": {},
   "outputs": [],
   "source": [
    "def prepare_dataset(batch):\n",
    "    # Get path to audio file\n",
    "    audio_path = batch[\"path\"]\n",
    "\n",
    "    # Convert audio to waveform\n",
    "    waveform, sample_rate = torchaudio.load(audio_path)\n",
    "\n",
    "    # Resample audio to match model's\n",
    "    if sample_rate != model_sample_rate :\n",
    "        waveform = torchaudio.functional.resample(waveform, sample_rate, model_sample_rate)\n",
    "   \n",
    "    # Pass audio data to preprocessor\n",
    "    batch[\"input_values\"] = processor(waveform[0].tolist(), sampling_rate=model_sample_rate).input_values[0]\n",
    "    \n",
    "    with processor.as_target_processor():\n",
    "        batch[\"labels\"] = processor(batch[\"sentence\"]).input_ids\n",
    "    return batch"
   ]
  },
  {
   "cell_type": "code",
   "execution_count": 17,
   "metadata": {},
   "outputs": [
    {
     "data": {
      "application/vnd.jupyter.widget-view+json": {
       "model_id": "994a3c930375405d8f54fd41d50dc30e",
       "version_major": 2,
       "version_minor": 0
      },
      "text/plain": [
       "Map:   0%|          | 0/4108 [00:00<?, ? examples/s]"
      ]
     },
     "metadata": {},
     "output_type": "display_data"
    },
    {
     "name": "stderr",
     "output_type": "stream",
     "text": [
      "/home/zelinix_window/anaconda3/envs/vocalopy/lib/python3.12/site-packages/transformers/models/wav2vec2/processing_wav2vec2.py:156: UserWarning: `as_target_processor` is deprecated and will be removed in v5 of Transformers. You can process your labels by using the argument `text` of the regular `__call__` method (either in the same call as your audio inputs, or in a separate call.\n",
      "  warnings.warn(\n"
     ]
    },
    {
     "data": {
      "application/vnd.jupyter.widget-view+json": {
       "model_id": "7db1e06e22ae42eab29202fc884f3325",
       "version_major": 2,
       "version_minor": 0
      },
      "text/plain": [
       "Map:   0%|          | 0/1027 [00:00<?, ? examples/s]"
      ]
     },
     "metadata": {},
     "output_type": "display_data"
    }
   ],
   "source": [
    "ds_train_test = ds_train_test.map(prepare_dataset, remove_columns=ds_train_test.column_names[\"train\"])"
   ]
  },
  {
   "cell_type": "markdown",
   "metadata": {},
   "source": [
    "### Train the model"
   ]
  },
  {
   "cell_type": "markdown",
   "metadata": {},
   "source": [
    "#### Data Collator CTC"
   ]
  },
  {
   "cell_type": "code",
   "execution_count": 18,
   "metadata": {},
   "outputs": [],
   "source": [
    "from dataclasses import dataclass\n",
    "from typing import Dict, List, Optional, Union\n",
    "\n",
    "@dataclass\n",
    "class DataCollatorCTCWithPadding:\n",
    "    processor: Wav2Vec2Processor\n",
    "    padding: Union[bool, str] = True\n",
    "    max_length: Optional[int] = None\n",
    "    max_length_labels: Optional[int] = None\n",
    "    pad_to_multiple_of: Optional[int] = None\n",
    "    pad_to_multiple_of_labels: Optional[int] = None\n",
    "\n",
    "    def __call__(self, features: List[Dict[str, Union[List[int], torch.Tensor]]]) -> Dict[str, torch.Tensor]:\n",
    "        # split inputs and labels since they have to be of different lengths and need\n",
    "        # different padding methods\n",
    "        input_features = [{\"input_values\": feature[\"input_values\"]} for feature in features]\n",
    "        label_features = [{\"input_ids\": feature[\"labels\"]} for feature in features]\n",
    "\n",
    "        batch = self.processor.pad(\n",
    "            input_features,\n",
    "            padding=self.padding,\n",
    "            max_length=self.max_length,\n",
    "            pad_to_multiple_of=self.pad_to_multiple_of,\n",
    "            return_tensors=\"pt\",\n",
    "        )\n",
    "        with self.processor.as_target_processor():\n",
    "            labels_batch = self.processor.pad(\n",
    "                label_features,\n",
    "                padding=self.padding,\n",
    "                max_length=self.max_length_labels,\n",
    "                pad_to_multiple_of=self.pad_to_multiple_of_labels,\n",
    "                return_tensors=\"pt\",\n",
    "            )\n",
    "\n",
    "        # replace padding with -100 to ignore loss correctly\n",
    "        labels = labels_batch[\"input_ids\"].masked_fill(labels_batch.attention_mask.ne(1), -100)\n",
    "\n",
    "        batch[\"labels\"] = labels\n",
    "\n",
    "        return batch"
   ]
  },
  {
   "cell_type": "code",
   "execution_count": 19,
   "metadata": {},
   "outputs": [],
   "source": [
    "data_collator = DataCollatorCTCWithPadding(processor=processor, padding=True)"
   ]
  },
  {
   "cell_type": "markdown",
   "metadata": {},
   "source": [
    "#### Word Error Rate metric"
   ]
  },
  {
   "cell_type": "code",
   "execution_count": 20,
   "metadata": {},
   "outputs": [],
   "source": [
    "import numpy as np\n",
    "import evaluate\n",
    "\n",
    "wer_metric = evaluate.load(\"wer\", trust_remote_code=True)\n",
    "\n",
    "def compute_metrics(pred):\n",
    "    pred_logits = pred.predictions\n",
    "    pred_ids = np.argmax(pred_logits, axis=-1)\n",
    "    pred.label_ids[pred.label_ids == -100] = processor.tokenizer.pad_token_id\n",
    "    pred_str = processor.batch_decode(pred_ids)\n",
    "\n",
    "    # we do not want to group tokens when computing the metrics\n",
    "    label_str = processor.batch_decode(pred.label_ids, group_tokens=False)\n",
    "    wer = wer_metric.compute(predictions=pred_str, references=label_str)\n",
    "    return {\"wer\": wer}"
   ]
  },
  {
   "cell_type": "markdown",
   "metadata": {},
   "source": [
    "#### Import pretrained model"
   ]
  },
  {
   "cell_type": "code",
   "execution_count": 21,
   "metadata": {},
   "outputs": [
    {
     "name": "stderr",
     "output_type": "stream",
     "text": [
      "/home/zelinix_window/anaconda3/envs/vocalopy/lib/python3.12/site-packages/transformers/configuration_utils.py:364: UserWarning: Passing `gradient_checkpointing` to a config initialization is deprecated and will be removed in v5 Transformers. Using `model.gradient_checkpointing_enable()` instead, or if you are using the `Trainer` API, pass `gradient_checkpointing=True` in your `TrainingArguments`.\n",
      "  warnings.warn(\n",
      "Some weights of Wav2Vec2ForCTC were not initialized from the model checkpoint at facebook/wav2vec2-base and are newly initialized: ['lm_head.bias', 'lm_head.weight', 'wav2vec2.encoder.pos_conv_embed.conv.parametrizations.weight.original0', 'wav2vec2.encoder.pos_conv_embed.conv.parametrizations.weight.original1']\n",
      "You should probably TRAIN this model on a down-stream task to be able to use it for predictions and inference.\n"
     ]
    }
   ],
   "source": [
    "from transformers import Wav2Vec2ForCTC\n",
    "\n",
    "model = Wav2Vec2ForCTC.from_pretrained(\n",
    "    \"facebook/wav2vec2-base\", \n",
    "    ctc_loss_reduction=\"mean\",\n",
    "    vocab_size=processor.tokenizer.vocab_size,\n",
    "    pad_token_id=processor.tokenizer.pad_token_id,\n",
    ")\n",
    "model.freeze_feature_encoder()"
   ]
  },
  {
   "cell_type": "markdown",
   "metadata": {},
   "source": [
    "#### Setting up Trainer"
   ]
  },
  {
   "cell_type": "code",
   "execution_count": 22,
   "metadata": {},
   "outputs": [],
   "source": [
    "from transformers import TrainingArguments\n",
    "\n",
    "training_args = TrainingArguments(\n",
    "    output_dir=\"../models\",\n",
    "    group_by_length=True,\n",
    "    per_device_train_batch_size=16,\n",
    "    eval_strategy=\"steps\",\n",
    "    num_train_epochs=60,\n",
    "    fp16=True,\n",
    "    gradient_checkpointing=True, \n",
    "    save_steps=500,\n",
    "    eval_steps=500,\n",
    "    logging_steps=500,\n",
    "    learning_rate=1e-4,\n",
    "    weight_decay=0.005,\n",
    "    warmup_steps=1000,\n",
    "    save_total_limit=2,\n",
    ")"
   ]
  },
  {
   "cell_type": "code",
   "execution_count": 23,
   "metadata": {},
   "outputs": [],
   "source": [
    "from transformers import Trainer\n",
    "\n",
    "trainer = Trainer(\n",
    "    model=model,\n",
    "    data_collator=data_collator,\n",
    "    args=training_args,\n",
    "    compute_metrics=compute_metrics,\n",
    "    train_dataset=ds_train_test[\"train\"],\n",
    "    eval_dataset=ds_train_test[\"test\"],\n",
    "    tokenizer=processor.feature_extractor,\n",
    ")"
   ]
  },
  {
   "cell_type": "code",
   "execution_count": 24,
   "metadata": {},
   "outputs": [
    {
     "name": "stderr",
     "output_type": "stream",
     "text": [
      "/home/zelinix_window/anaconda3/envs/vocalopy/lib/python3.12/site-packages/transformers/models/wav2vec2/processing_wav2vec2.py:156: UserWarning: `as_target_processor` is deprecated and will be removed in v5 of Transformers. You can process your labels by using the argument `text` of the regular `__call__` method (either in the same call as your audio inputs, or in a separate call.\n",
      "  warnings.warn(\n",
      "/home/zelinix_window/anaconda3/envs/vocalopy/lib/python3.12/site-packages/torch/utils/checkpoint.py:460: UserWarning: torch.utils.checkpoint: please pass in use_reentrant=True or use_reentrant=False explicitly. The default value of use_reentrant will be updated to be False in the future. To maintain current behavior, pass use_reentrant=True. It is recommended that you use use_reentrant=False. Refer to docs for more details on the differences between the two variants.\n",
      "  warnings.warn(\n"
     ]
    },
    {
     "data": {
      "text/html": [
       "\n",
       "    <div>\n",
       "      \n",
       "      <progress value='15420' max='15420' style='width:300px; height:20px; vertical-align: middle;'></progress>\n",
       "      [15420/15420 5:40:27, Epoch 60/60]\n",
       "    </div>\n",
       "    <table border=\"1\" class=\"dataframe\">\n",
       "  <thead>\n",
       " <tr style=\"text-align: left;\">\n",
       "      <th>Step</th>\n",
       "      <th>Training Loss</th>\n",
       "      <th>Validation Loss</th>\n",
       "      <th>Wer</th>\n",
       "    </tr>\n",
       "  </thead>\n",
       "  <tbody>\n",
       "    <tr>\n",
       "      <td>500</td>\n",
       "      <td>7.926500</td>\n",
       "      <td>3.547183</td>\n",
       "      <td>1.000000</td>\n",
       "    </tr>\n",
       "    <tr>\n",
       "      <td>1000</td>\n",
       "      <td>2.180600</td>\n",
       "      <td>0.937570</td>\n",
       "      <td>0.634318</td>\n",
       "    </tr>\n",
       "    <tr>\n",
       "      <td>1500</td>\n",
       "      <td>0.774300</td>\n",
       "      <td>0.551285</td>\n",
       "      <td>0.373269</td>\n",
       "    </tr>\n",
       "    <tr>\n",
       "      <td>2000</td>\n",
       "      <td>0.508600</td>\n",
       "      <td>0.474308</td>\n",
       "      <td>0.318024</td>\n",
       "    </tr>\n",
       "    <tr>\n",
       "      <td>2500</td>\n",
       "      <td>0.385600</td>\n",
       "      <td>0.433668</td>\n",
       "      <td>0.281550</td>\n",
       "    </tr>\n",
       "    <tr>\n",
       "      <td>3000</td>\n",
       "      <td>0.309100</td>\n",
       "      <td>0.442124</td>\n",
       "      <td>0.266241</td>\n",
       "    </tr>\n",
       "    <tr>\n",
       "      <td>3500</td>\n",
       "      <td>0.260200</td>\n",
       "      <td>0.465825</td>\n",
       "      <td>0.261049</td>\n",
       "    </tr>\n",
       "    <tr>\n",
       "      <td>4000</td>\n",
       "      <td>0.232600</td>\n",
       "      <td>0.452850</td>\n",
       "      <td>0.239483</td>\n",
       "    </tr>\n",
       "    <tr>\n",
       "      <td>4500</td>\n",
       "      <td>0.204000</td>\n",
       "      <td>0.434571</td>\n",
       "      <td>0.228435</td>\n",
       "    </tr>\n",
       "    <tr>\n",
       "      <td>5000</td>\n",
       "      <td>0.184900</td>\n",
       "      <td>0.447168</td>\n",
       "      <td>0.227636</td>\n",
       "    </tr>\n",
       "    <tr>\n",
       "      <td>5500</td>\n",
       "      <td>0.166100</td>\n",
       "      <td>0.434794</td>\n",
       "      <td>0.221113</td>\n",
       "    </tr>\n",
       "    <tr>\n",
       "      <td>6000</td>\n",
       "      <td>0.149600</td>\n",
       "      <td>0.456253</td>\n",
       "      <td>0.219382</td>\n",
       "    </tr>\n",
       "    <tr>\n",
       "      <td>6500</td>\n",
       "      <td>0.142100</td>\n",
       "      <td>0.466389</td>\n",
       "      <td>0.216454</td>\n",
       "    </tr>\n",
       "    <tr>\n",
       "      <td>7000</td>\n",
       "      <td>0.132600</td>\n",
       "      <td>0.453043</td>\n",
       "      <td>0.210996</td>\n",
       "    </tr>\n",
       "    <tr>\n",
       "      <td>7500</td>\n",
       "      <td>0.125500</td>\n",
       "      <td>0.444247</td>\n",
       "      <td>0.214590</td>\n",
       "    </tr>\n",
       "    <tr>\n",
       "      <td>8000</td>\n",
       "      <td>0.116200</td>\n",
       "      <td>0.458967</td>\n",
       "      <td>0.207401</td>\n",
       "    </tr>\n",
       "    <tr>\n",
       "      <td>8500</td>\n",
       "      <td>0.112000</td>\n",
       "      <td>0.496446</td>\n",
       "      <td>0.205804</td>\n",
       "    </tr>\n",
       "    <tr>\n",
       "      <td>9000</td>\n",
       "      <td>0.101400</td>\n",
       "      <td>0.491969</td>\n",
       "      <td>0.200213</td>\n",
       "    </tr>\n",
       "    <tr>\n",
       "      <td>9500</td>\n",
       "      <td>0.100800</td>\n",
       "      <td>0.473320</td>\n",
       "      <td>0.198349</td>\n",
       "    </tr>\n",
       "    <tr>\n",
       "      <td>10000</td>\n",
       "      <td>0.090400</td>\n",
       "      <td>0.470655</td>\n",
       "      <td>0.197151</td>\n",
       "    </tr>\n",
       "    <tr>\n",
       "      <td>10500</td>\n",
       "      <td>0.087700</td>\n",
       "      <td>0.457461</td>\n",
       "      <td>0.196752</td>\n",
       "    </tr>\n",
       "    <tr>\n",
       "      <td>11000</td>\n",
       "      <td>0.082100</td>\n",
       "      <td>0.461312</td>\n",
       "      <td>0.193024</td>\n",
       "    </tr>\n",
       "    <tr>\n",
       "      <td>11500</td>\n",
       "      <td>0.079200</td>\n",
       "      <td>0.445985</td>\n",
       "      <td>0.188099</td>\n",
       "    </tr>\n",
       "    <tr>\n",
       "      <td>12000</td>\n",
       "      <td>0.074200</td>\n",
       "      <td>0.462263</td>\n",
       "      <td>0.192226</td>\n",
       "    </tr>\n",
       "    <tr>\n",
       "      <td>12500</td>\n",
       "      <td>0.069800</td>\n",
       "      <td>0.456727</td>\n",
       "      <td>0.187700</td>\n",
       "    </tr>\n",
       "    <tr>\n",
       "      <td>13000</td>\n",
       "      <td>0.064800</td>\n",
       "      <td>0.486121</td>\n",
       "      <td>0.186768</td>\n",
       "    </tr>\n",
       "    <tr>\n",
       "      <td>13500</td>\n",
       "      <td>0.061900</td>\n",
       "      <td>0.471068</td>\n",
       "      <td>0.187833</td>\n",
       "    </tr>\n",
       "    <tr>\n",
       "      <td>14000</td>\n",
       "      <td>0.057800</td>\n",
       "      <td>0.487589</td>\n",
       "      <td>0.185969</td>\n",
       "    </tr>\n",
       "    <tr>\n",
       "      <td>14500</td>\n",
       "      <td>0.057100</td>\n",
       "      <td>0.482328</td>\n",
       "      <td>0.184771</td>\n",
       "    </tr>\n",
       "    <tr>\n",
       "      <td>15000</td>\n",
       "      <td>0.057300</td>\n",
       "      <td>0.467350</td>\n",
       "      <td>0.183440</td>\n",
       "    </tr>\n",
       "  </tbody>\n",
       "</table><p>"
      ],
      "text/plain": [
       "<IPython.core.display.HTML object>"
      ]
     },
     "metadata": {},
     "output_type": "display_data"
    },
    {
     "name": "stderr",
     "output_type": "stream",
     "text": [
      "/home/zelinix_window/anaconda3/envs/vocalopy/lib/python3.12/site-packages/transformers/models/wav2vec2/processing_wav2vec2.py:156: UserWarning: `as_target_processor` is deprecated and will be removed in v5 of Transformers. You can process your labels by using the argument `text` of the regular `__call__` method (either in the same call as your audio inputs, or in a separate call.\n",
      "  warnings.warn(\n",
      "/home/zelinix_window/anaconda3/envs/vocalopy/lib/python3.12/site-packages/torch/utils/checkpoint.py:460: UserWarning: torch.utils.checkpoint: please pass in use_reentrant=True or use_reentrant=False explicitly. The default value of use_reentrant will be updated to be False in the future. To maintain current behavior, pass use_reentrant=True. It is recommended that you use use_reentrant=False. Refer to docs for more details on the differences between the two variants.\n",
      "  warnings.warn(\n",
      "/home/zelinix_window/anaconda3/envs/vocalopy/lib/python3.12/site-packages/transformers/models/wav2vec2/processing_wav2vec2.py:156: UserWarning: `as_target_processor` is deprecated and will be removed in v5 of Transformers. You can process your labels by using the argument `text` of the regular `__call__` method (either in the same call as your audio inputs, or in a separate call.\n",
      "  warnings.warn(\n",
      "/home/zelinix_window/anaconda3/envs/vocalopy/lib/python3.12/site-packages/torch/utils/checkpoint.py:460: UserWarning: torch.utils.checkpoint: please pass in use_reentrant=True or use_reentrant=False explicitly. The default value of use_reentrant will be updated to be False in the future. To maintain current behavior, pass use_reentrant=True. It is recommended that you use use_reentrant=False. Refer to docs for more details on the differences between the two variants.\n",
      "  warnings.warn(\n",
      "/home/zelinix_window/anaconda3/envs/vocalopy/lib/python3.12/site-packages/transformers/models/wav2vec2/processing_wav2vec2.py:156: UserWarning: `as_target_processor` is deprecated and will be removed in v5 of Transformers. You can process your labels by using the argument `text` of the regular `__call__` method (either in the same call as your audio inputs, or in a separate call.\n",
      "  warnings.warn(\n",
      "/home/zelinix_window/anaconda3/envs/vocalopy/lib/python3.12/site-packages/torch/utils/checkpoint.py:460: UserWarning: torch.utils.checkpoint: please pass in use_reentrant=True or use_reentrant=False explicitly. The default value of use_reentrant will be updated to be False in the future. To maintain current behavior, pass use_reentrant=True. It is recommended that you use use_reentrant=False. Refer to docs for more details on the differences between the two variants.\n",
      "  warnings.warn(\n",
      "/home/zelinix_window/anaconda3/envs/vocalopy/lib/python3.12/site-packages/transformers/models/wav2vec2/processing_wav2vec2.py:156: UserWarning: `as_target_processor` is deprecated and will be removed in v5 of Transformers. You can process your labels by using the argument `text` of the regular `__call__` method (either in the same call as your audio inputs, or in a separate call.\n",
      "  warnings.warn(\n",
      "/home/zelinix_window/anaconda3/envs/vocalopy/lib/python3.12/site-packages/torch/utils/checkpoint.py:460: UserWarning: torch.utils.checkpoint: please pass in use_reentrant=True or use_reentrant=False explicitly. The default value of use_reentrant will be updated to be False in the future. To maintain current behavior, pass use_reentrant=True. It is recommended that you use use_reentrant=False. Refer to docs for more details on the differences between the two variants.\n",
      "  warnings.warn(\n",
      "/home/zelinix_window/anaconda3/envs/vocalopy/lib/python3.12/site-packages/transformers/models/wav2vec2/processing_wav2vec2.py:156: UserWarning: `as_target_processor` is deprecated and will be removed in v5 of Transformers. You can process your labels by using the argument `text` of the regular `__call__` method (either in the same call as your audio inputs, or in a separate call.\n",
      "  warnings.warn(\n",
      "/home/zelinix_window/anaconda3/envs/vocalopy/lib/python3.12/site-packages/torch/utils/checkpoint.py:460: UserWarning: torch.utils.checkpoint: please pass in use_reentrant=True or use_reentrant=False explicitly. The default value of use_reentrant will be updated to be False in the future. To maintain current behavior, pass use_reentrant=True. It is recommended that you use use_reentrant=False. Refer to docs for more details on the differences between the two variants.\n",
      "  warnings.warn(\n",
      "/home/zelinix_window/anaconda3/envs/vocalopy/lib/python3.12/site-packages/transformers/models/wav2vec2/processing_wav2vec2.py:156: UserWarning: `as_target_processor` is deprecated and will be removed in v5 of Transformers. You can process your labels by using the argument `text` of the regular `__call__` method (either in the same call as your audio inputs, or in a separate call.\n",
      "  warnings.warn(\n",
      "/home/zelinix_window/anaconda3/envs/vocalopy/lib/python3.12/site-packages/torch/utils/checkpoint.py:460: UserWarning: torch.utils.checkpoint: please pass in use_reentrant=True or use_reentrant=False explicitly. The default value of use_reentrant will be updated to be False in the future. To maintain current behavior, pass use_reentrant=True. It is recommended that you use use_reentrant=False. Refer to docs for more details on the differences between the two variants.\n",
      "  warnings.warn(\n",
      "/home/zelinix_window/anaconda3/envs/vocalopy/lib/python3.12/site-packages/transformers/models/wav2vec2/processing_wav2vec2.py:156: UserWarning: `as_target_processor` is deprecated and will be removed in v5 of Transformers. You can process your labels by using the argument `text` of the regular `__call__` method (either in the same call as your audio inputs, or in a separate call.\n",
      "  warnings.warn(\n",
      "/home/zelinix_window/anaconda3/envs/vocalopy/lib/python3.12/site-packages/torch/utils/checkpoint.py:460: UserWarning: torch.utils.checkpoint: please pass in use_reentrant=True or use_reentrant=False explicitly. The default value of use_reentrant will be updated to be False in the future. To maintain current behavior, pass use_reentrant=True. It is recommended that you use use_reentrant=False. Refer to docs for more details on the differences between the two variants.\n",
      "  warnings.warn(\n",
      "/home/zelinix_window/anaconda3/envs/vocalopy/lib/python3.12/site-packages/transformers/models/wav2vec2/processing_wav2vec2.py:156: UserWarning: `as_target_processor` is deprecated and will be removed in v5 of Transformers. You can process your labels by using the argument `text` of the regular `__call__` method (either in the same call as your audio inputs, or in a separate call.\n",
      "  warnings.warn(\n",
      "/home/zelinix_window/anaconda3/envs/vocalopy/lib/python3.12/site-packages/torch/utils/checkpoint.py:460: UserWarning: torch.utils.checkpoint: please pass in use_reentrant=True or use_reentrant=False explicitly. The default value of use_reentrant will be updated to be False in the future. To maintain current behavior, pass use_reentrant=True. It is recommended that you use use_reentrant=False. Refer to docs for more details on the differences between the two variants.\n",
      "  warnings.warn(\n",
      "/home/zelinix_window/anaconda3/envs/vocalopy/lib/python3.12/site-packages/transformers/models/wav2vec2/processing_wav2vec2.py:156: UserWarning: `as_target_processor` is deprecated and will be removed in v5 of Transformers. You can process your labels by using the argument `text` of the regular `__call__` method (either in the same call as your audio inputs, or in a separate call.\n",
      "  warnings.warn(\n",
      "/home/zelinix_window/anaconda3/envs/vocalopy/lib/python3.12/site-packages/torch/utils/checkpoint.py:460: UserWarning: torch.utils.checkpoint: please pass in use_reentrant=True or use_reentrant=False explicitly. The default value of use_reentrant will be updated to be False in the future. To maintain current behavior, pass use_reentrant=True. It is recommended that you use use_reentrant=False. Refer to docs for more details on the differences between the two variants.\n",
      "  warnings.warn(\n",
      "/home/zelinix_window/anaconda3/envs/vocalopy/lib/python3.12/site-packages/transformers/models/wav2vec2/processing_wav2vec2.py:156: UserWarning: `as_target_processor` is deprecated and will be removed in v5 of Transformers. You can process your labels by using the argument `text` of the regular `__call__` method (either in the same call as your audio inputs, or in a separate call.\n",
      "  warnings.warn(\n",
      "/home/zelinix_window/anaconda3/envs/vocalopy/lib/python3.12/site-packages/torch/utils/checkpoint.py:460: UserWarning: torch.utils.checkpoint: please pass in use_reentrant=True or use_reentrant=False explicitly. The default value of use_reentrant will be updated to be False in the future. To maintain current behavior, pass use_reentrant=True. It is recommended that you use use_reentrant=False. Refer to docs for more details on the differences between the two variants.\n",
      "  warnings.warn(\n",
      "/home/zelinix_window/anaconda3/envs/vocalopy/lib/python3.12/site-packages/transformers/models/wav2vec2/processing_wav2vec2.py:156: UserWarning: `as_target_processor` is deprecated and will be removed in v5 of Transformers. You can process your labels by using the argument `text` of the regular `__call__` method (either in the same call as your audio inputs, or in a separate call.\n",
      "  warnings.warn(\n",
      "/home/zelinix_window/anaconda3/envs/vocalopy/lib/python3.12/site-packages/torch/utils/checkpoint.py:460: UserWarning: torch.utils.checkpoint: please pass in use_reentrant=True or use_reentrant=False explicitly. The default value of use_reentrant will be updated to be False in the future. To maintain current behavior, pass use_reentrant=True. It is recommended that you use use_reentrant=False. Refer to docs for more details on the differences between the two variants.\n",
      "  warnings.warn(\n",
      "/home/zelinix_window/anaconda3/envs/vocalopy/lib/python3.12/site-packages/transformers/models/wav2vec2/processing_wav2vec2.py:156: UserWarning: `as_target_processor` is deprecated and will be removed in v5 of Transformers. You can process your labels by using the argument `text` of the regular `__call__` method (either in the same call as your audio inputs, or in a separate call.\n",
      "  warnings.warn(\n",
      "/home/zelinix_window/anaconda3/envs/vocalopy/lib/python3.12/site-packages/torch/utils/checkpoint.py:460: UserWarning: torch.utils.checkpoint: please pass in use_reentrant=True or use_reentrant=False explicitly. The default value of use_reentrant will be updated to be False in the future. To maintain current behavior, pass use_reentrant=True. It is recommended that you use use_reentrant=False. Refer to docs for more details on the differences between the two variants.\n",
      "  warnings.warn(\n",
      "/home/zelinix_window/anaconda3/envs/vocalopy/lib/python3.12/site-packages/transformers/models/wav2vec2/processing_wav2vec2.py:156: UserWarning: `as_target_processor` is deprecated and will be removed in v5 of Transformers. You can process your labels by using the argument `text` of the regular `__call__` method (either in the same call as your audio inputs, or in a separate call.\n",
      "  warnings.warn(\n",
      "/home/zelinix_window/anaconda3/envs/vocalopy/lib/python3.12/site-packages/torch/utils/checkpoint.py:460: UserWarning: torch.utils.checkpoint: please pass in use_reentrant=True or use_reentrant=False explicitly. The default value of use_reentrant will be updated to be False in the future. To maintain current behavior, pass use_reentrant=True. It is recommended that you use use_reentrant=False. Refer to docs for more details on the differences between the two variants.\n",
      "  warnings.warn(\n",
      "/home/zelinix_window/anaconda3/envs/vocalopy/lib/python3.12/site-packages/transformers/models/wav2vec2/processing_wav2vec2.py:156: UserWarning: `as_target_processor` is deprecated and will be removed in v5 of Transformers. You can process your labels by using the argument `text` of the regular `__call__` method (either in the same call as your audio inputs, or in a separate call.\n",
      "  warnings.warn(\n",
      "/home/zelinix_window/anaconda3/envs/vocalopy/lib/python3.12/site-packages/torch/utils/checkpoint.py:460: UserWarning: torch.utils.checkpoint: please pass in use_reentrant=True or use_reentrant=False explicitly. The default value of use_reentrant will be updated to be False in the future. To maintain current behavior, pass use_reentrant=True. It is recommended that you use use_reentrant=False. Refer to docs for more details on the differences between the two variants.\n",
      "  warnings.warn(\n",
      "/home/zelinix_window/anaconda3/envs/vocalopy/lib/python3.12/site-packages/transformers/models/wav2vec2/processing_wav2vec2.py:156: UserWarning: `as_target_processor` is deprecated and will be removed in v5 of Transformers. You can process your labels by using the argument `text` of the regular `__call__` method (either in the same call as your audio inputs, or in a separate call.\n",
      "  warnings.warn(\n",
      "/home/zelinix_window/anaconda3/envs/vocalopy/lib/python3.12/site-packages/torch/utils/checkpoint.py:460: UserWarning: torch.utils.checkpoint: please pass in use_reentrant=True or use_reentrant=False explicitly. The default value of use_reentrant will be updated to be False in the future. To maintain current behavior, pass use_reentrant=True. It is recommended that you use use_reentrant=False. Refer to docs for more details on the differences between the two variants.\n",
      "  warnings.warn(\n",
      "/home/zelinix_window/anaconda3/envs/vocalopy/lib/python3.12/site-packages/transformers/models/wav2vec2/processing_wav2vec2.py:156: UserWarning: `as_target_processor` is deprecated and will be removed in v5 of Transformers. You can process your labels by using the argument `text` of the regular `__call__` method (either in the same call as your audio inputs, or in a separate call.\n",
      "  warnings.warn(\n",
      "/home/zelinix_window/anaconda3/envs/vocalopy/lib/python3.12/site-packages/torch/utils/checkpoint.py:460: UserWarning: torch.utils.checkpoint: please pass in use_reentrant=True or use_reentrant=False explicitly. The default value of use_reentrant will be updated to be False in the future. To maintain current behavior, pass use_reentrant=True. It is recommended that you use use_reentrant=False. Refer to docs for more details on the differences between the two variants.\n",
      "  warnings.warn(\n",
      "/home/zelinix_window/anaconda3/envs/vocalopy/lib/python3.12/site-packages/transformers/models/wav2vec2/processing_wav2vec2.py:156: UserWarning: `as_target_processor` is deprecated and will be removed in v5 of Transformers. You can process your labels by using the argument `text` of the regular `__call__` method (either in the same call as your audio inputs, or in a separate call.\n",
      "  warnings.warn(\n",
      "/home/zelinix_window/anaconda3/envs/vocalopy/lib/python3.12/site-packages/torch/utils/checkpoint.py:460: UserWarning: torch.utils.checkpoint: please pass in use_reentrant=True or use_reentrant=False explicitly. The default value of use_reentrant will be updated to be False in the future. To maintain current behavior, pass use_reentrant=True. It is recommended that you use use_reentrant=False. Refer to docs for more details on the differences between the two variants.\n",
      "  warnings.warn(\n",
      "/home/zelinix_window/anaconda3/envs/vocalopy/lib/python3.12/site-packages/transformers/models/wav2vec2/processing_wav2vec2.py:156: UserWarning: `as_target_processor` is deprecated and will be removed in v5 of Transformers. You can process your labels by using the argument `text` of the regular `__call__` method (either in the same call as your audio inputs, or in a separate call.\n",
      "  warnings.warn(\n",
      "/home/zelinix_window/anaconda3/envs/vocalopy/lib/python3.12/site-packages/torch/utils/checkpoint.py:460: UserWarning: torch.utils.checkpoint: please pass in use_reentrant=True or use_reentrant=False explicitly. The default value of use_reentrant will be updated to be False in the future. To maintain current behavior, pass use_reentrant=True. It is recommended that you use use_reentrant=False. Refer to docs for more details on the differences between the two variants.\n",
      "  warnings.warn(\n",
      "/home/zelinix_window/anaconda3/envs/vocalopy/lib/python3.12/site-packages/transformers/models/wav2vec2/processing_wav2vec2.py:156: UserWarning: `as_target_processor` is deprecated and will be removed in v5 of Transformers. You can process your labels by using the argument `text` of the regular `__call__` method (either in the same call as your audio inputs, or in a separate call.\n",
      "  warnings.warn(\n",
      "/home/zelinix_window/anaconda3/envs/vocalopy/lib/python3.12/site-packages/torch/utils/checkpoint.py:460: UserWarning: torch.utils.checkpoint: please pass in use_reentrant=True or use_reentrant=False explicitly. The default value of use_reentrant will be updated to be False in the future. To maintain current behavior, pass use_reentrant=True. It is recommended that you use use_reentrant=False. Refer to docs for more details on the differences between the two variants.\n",
      "  warnings.warn(\n",
      "/home/zelinix_window/anaconda3/envs/vocalopy/lib/python3.12/site-packages/transformers/models/wav2vec2/processing_wav2vec2.py:156: UserWarning: `as_target_processor` is deprecated and will be removed in v5 of Transformers. You can process your labels by using the argument `text` of the regular `__call__` method (either in the same call as your audio inputs, or in a separate call.\n",
      "  warnings.warn(\n",
      "/home/zelinix_window/anaconda3/envs/vocalopy/lib/python3.12/site-packages/torch/utils/checkpoint.py:460: UserWarning: torch.utils.checkpoint: please pass in use_reentrant=True or use_reentrant=False explicitly. The default value of use_reentrant will be updated to be False in the future. To maintain current behavior, pass use_reentrant=True. It is recommended that you use use_reentrant=False. Refer to docs for more details on the differences between the two variants.\n",
      "  warnings.warn(\n",
      "/home/zelinix_window/anaconda3/envs/vocalopy/lib/python3.12/site-packages/transformers/models/wav2vec2/processing_wav2vec2.py:156: UserWarning: `as_target_processor` is deprecated and will be removed in v5 of Transformers. You can process your labels by using the argument `text` of the regular `__call__` method (either in the same call as your audio inputs, or in a separate call.\n",
      "  warnings.warn(\n",
      "/home/zelinix_window/anaconda3/envs/vocalopy/lib/python3.12/site-packages/torch/utils/checkpoint.py:460: UserWarning: torch.utils.checkpoint: please pass in use_reentrant=True or use_reentrant=False explicitly. The default value of use_reentrant will be updated to be False in the future. To maintain current behavior, pass use_reentrant=True. It is recommended that you use use_reentrant=False. Refer to docs for more details on the differences between the two variants.\n",
      "  warnings.warn(\n",
      "/home/zelinix_window/anaconda3/envs/vocalopy/lib/python3.12/site-packages/transformers/models/wav2vec2/processing_wav2vec2.py:156: UserWarning: `as_target_processor` is deprecated and will be removed in v5 of Transformers. You can process your labels by using the argument `text` of the regular `__call__` method (either in the same call as your audio inputs, or in a separate call.\n",
      "  warnings.warn(\n",
      "/home/zelinix_window/anaconda3/envs/vocalopy/lib/python3.12/site-packages/torch/utils/checkpoint.py:460: UserWarning: torch.utils.checkpoint: please pass in use_reentrant=True or use_reentrant=False explicitly. The default value of use_reentrant will be updated to be False in the future. To maintain current behavior, pass use_reentrant=True. It is recommended that you use use_reentrant=False. Refer to docs for more details on the differences between the two variants.\n",
      "  warnings.warn(\n",
      "/home/zelinix_window/anaconda3/envs/vocalopy/lib/python3.12/site-packages/transformers/models/wav2vec2/processing_wav2vec2.py:156: UserWarning: `as_target_processor` is deprecated and will be removed in v5 of Transformers. You can process your labels by using the argument `text` of the regular `__call__` method (either in the same call as your audio inputs, or in a separate call.\n",
      "  warnings.warn(\n",
      "/home/zelinix_window/anaconda3/envs/vocalopy/lib/python3.12/site-packages/torch/utils/checkpoint.py:460: UserWarning: torch.utils.checkpoint: please pass in use_reentrant=True or use_reentrant=False explicitly. The default value of use_reentrant will be updated to be False in the future. To maintain current behavior, pass use_reentrant=True. It is recommended that you use use_reentrant=False. Refer to docs for more details on the differences between the two variants.\n",
      "  warnings.warn(\n",
      "/home/zelinix_window/anaconda3/envs/vocalopy/lib/python3.12/site-packages/transformers/models/wav2vec2/processing_wav2vec2.py:156: UserWarning: `as_target_processor` is deprecated and will be removed in v5 of Transformers. You can process your labels by using the argument `text` of the regular `__call__` method (either in the same call as your audio inputs, or in a separate call.\n",
      "  warnings.warn(\n",
      "/home/zelinix_window/anaconda3/envs/vocalopy/lib/python3.12/site-packages/torch/utils/checkpoint.py:460: UserWarning: torch.utils.checkpoint: please pass in use_reentrant=True or use_reentrant=False explicitly. The default value of use_reentrant will be updated to be False in the future. To maintain current behavior, pass use_reentrant=True. It is recommended that you use use_reentrant=False. Refer to docs for more details on the differences between the two variants.\n",
      "  warnings.warn(\n",
      "/home/zelinix_window/anaconda3/envs/vocalopy/lib/python3.12/site-packages/transformers/models/wav2vec2/processing_wav2vec2.py:156: UserWarning: `as_target_processor` is deprecated and will be removed in v5 of Transformers. You can process your labels by using the argument `text` of the regular `__call__` method (either in the same call as your audio inputs, or in a separate call.\n",
      "  warnings.warn(\n",
      "/home/zelinix_window/anaconda3/envs/vocalopy/lib/python3.12/site-packages/torch/utils/checkpoint.py:460: UserWarning: torch.utils.checkpoint: please pass in use_reentrant=True or use_reentrant=False explicitly. The default value of use_reentrant will be updated to be False in the future. To maintain current behavior, pass use_reentrant=True. It is recommended that you use use_reentrant=False. Refer to docs for more details on the differences between the two variants.\n",
      "  warnings.warn(\n",
      "/home/zelinix_window/anaconda3/envs/vocalopy/lib/python3.12/site-packages/transformers/models/wav2vec2/processing_wav2vec2.py:156: UserWarning: `as_target_processor` is deprecated and will be removed in v5 of Transformers. You can process your labels by using the argument `text` of the regular `__call__` method (either in the same call as your audio inputs, or in a separate call.\n",
      "  warnings.warn(\n",
      "/home/zelinix_window/anaconda3/envs/vocalopy/lib/python3.12/site-packages/torch/utils/checkpoint.py:460: UserWarning: torch.utils.checkpoint: please pass in use_reentrant=True or use_reentrant=False explicitly. The default value of use_reentrant will be updated to be False in the future. To maintain current behavior, pass use_reentrant=True. It is recommended that you use use_reentrant=False. Refer to docs for more details on the differences between the two variants.\n",
      "  warnings.warn(\n",
      "/home/zelinix_window/anaconda3/envs/vocalopy/lib/python3.12/site-packages/transformers/models/wav2vec2/processing_wav2vec2.py:156: UserWarning: `as_target_processor` is deprecated and will be removed in v5 of Transformers. You can process your labels by using the argument `text` of the regular `__call__` method (either in the same call as your audio inputs, or in a separate call.\n",
      "  warnings.warn(\n",
      "/home/zelinix_window/anaconda3/envs/vocalopy/lib/python3.12/site-packages/torch/utils/checkpoint.py:460: UserWarning: torch.utils.checkpoint: please pass in use_reentrant=True or use_reentrant=False explicitly. The default value of use_reentrant will be updated to be False in the future. To maintain current behavior, pass use_reentrant=True. It is recommended that you use use_reentrant=False. Refer to docs for more details on the differences between the two variants.\n",
      "  warnings.warn(\n",
      "/home/zelinix_window/anaconda3/envs/vocalopy/lib/python3.12/site-packages/transformers/models/wav2vec2/processing_wav2vec2.py:156: UserWarning: `as_target_processor` is deprecated and will be removed in v5 of Transformers. You can process your labels by using the argument `text` of the regular `__call__` method (either in the same call as your audio inputs, or in a separate call.\n",
      "  warnings.warn(\n",
      "/home/zelinix_window/anaconda3/envs/vocalopy/lib/python3.12/site-packages/torch/utils/checkpoint.py:460: UserWarning: torch.utils.checkpoint: please pass in use_reentrant=True or use_reentrant=False explicitly. The default value of use_reentrant will be updated to be False in the future. To maintain current behavior, pass use_reentrant=True. It is recommended that you use use_reentrant=False. Refer to docs for more details on the differences between the two variants.\n",
      "  warnings.warn(\n",
      "/home/zelinix_window/anaconda3/envs/vocalopy/lib/python3.12/site-packages/transformers/models/wav2vec2/processing_wav2vec2.py:156: UserWarning: `as_target_processor` is deprecated and will be removed in v5 of Transformers. You can process your labels by using the argument `text` of the regular `__call__` method (either in the same call as your audio inputs, or in a separate call.\n",
      "  warnings.warn(\n",
      "/home/zelinix_window/anaconda3/envs/vocalopy/lib/python3.12/site-packages/torch/utils/checkpoint.py:460: UserWarning: torch.utils.checkpoint: please pass in use_reentrant=True or use_reentrant=False explicitly. The default value of use_reentrant will be updated to be False in the future. To maintain current behavior, pass use_reentrant=True. It is recommended that you use use_reentrant=False. Refer to docs for more details on the differences between the two variants.\n",
      "  warnings.warn(\n",
      "/home/zelinix_window/anaconda3/envs/vocalopy/lib/python3.12/site-packages/transformers/models/wav2vec2/processing_wav2vec2.py:156: UserWarning: `as_target_processor` is deprecated and will be removed in v5 of Transformers. You can process your labels by using the argument `text` of the regular `__call__` method (either in the same call as your audio inputs, or in a separate call.\n",
      "  warnings.warn(\n",
      "/home/zelinix_window/anaconda3/envs/vocalopy/lib/python3.12/site-packages/torch/utils/checkpoint.py:460: UserWarning: torch.utils.checkpoint: please pass in use_reentrant=True or use_reentrant=False explicitly. The default value of use_reentrant will be updated to be False in the future. To maintain current behavior, pass use_reentrant=True. It is recommended that you use use_reentrant=False. Refer to docs for more details on the differences between the two variants.\n",
      "  warnings.warn(\n"
     ]
    },
    {
     "data": {
      "text/plain": [
       "TrainOutput(global_step=15420, training_loss=0.48444980171094765, metrics={'train_runtime': 20432.0223, 'train_samples_per_second': 12.063, 'train_steps_per_second': 0.755, 'total_flos': 9.60312690107315e+18, 'train_loss': 0.48444980171094765, 'epoch': 60.0})"
      ]
     },
     "execution_count": 24,
     "metadata": {},
     "output_type": "execute_result"
    }
   ],
   "source": [
    "trainer.train()"
   ]
  },
  {
   "cell_type": "code",
   "execution_count": 25,
   "metadata": {},
   "outputs": [
    {
     "data": {
      "text/html": [
       "<div>\n",
       "<style scoped>\n",
       "    .dataframe tbody tr th:only-of-type {\n",
       "        vertical-align: middle;\n",
       "    }\n",
       "\n",
       "    .dataframe tbody tr th {\n",
       "        vertical-align: top;\n",
       "    }\n",
       "\n",
       "    .dataframe thead th {\n",
       "        text-align: right;\n",
       "    }\n",
       "</style>\n",
       "<table border=\"1\" class=\"dataframe\">\n",
       "  <thead>\n",
       "    <tr style=\"text-align: right;\">\n",
       "      <th></th>\n",
       "      <th>loss</th>\n",
       "      <th>grad_norm</th>\n",
       "      <th>learning_rate</th>\n",
       "      <th>epoch</th>\n",
       "      <th>step</th>\n",
       "      <th>eval_loss</th>\n",
       "      <th>eval_wer</th>\n",
       "      <th>eval_runtime</th>\n",
       "      <th>eval_samples_per_second</th>\n",
       "      <th>eval_steps_per_second</th>\n",
       "      <th>train_runtime</th>\n",
       "      <th>train_samples_per_second</th>\n",
       "      <th>train_steps_per_second</th>\n",
       "      <th>total_flos</th>\n",
       "      <th>train_loss</th>\n",
       "    </tr>\n",
       "  </thead>\n",
       "  <tbody>\n",
       "    <tr>\n",
       "      <th>0</th>\n",
       "      <td>7.9265</td>\n",
       "      <td>1.937705</td>\n",
       "      <td>0.000050</td>\n",
       "      <td>1.945525</td>\n",
       "      <td>500</td>\n",
       "      <td>NaN</td>\n",
       "      <td>NaN</td>\n",
       "      <td>NaN</td>\n",
       "      <td>NaN</td>\n",
       "      <td>NaN</td>\n",
       "      <td>NaN</td>\n",
       "      <td>NaN</td>\n",
       "      <td>NaN</td>\n",
       "      <td>NaN</td>\n",
       "      <td>NaN</td>\n",
       "    </tr>\n",
       "    <tr>\n",
       "      <th>1</th>\n",
       "      <td>NaN</td>\n",
       "      <td>NaN</td>\n",
       "      <td>NaN</td>\n",
       "      <td>1.945525</td>\n",
       "      <td>500</td>\n",
       "      <td>3.547183</td>\n",
       "      <td>1.000000</td>\n",
       "      <td>45.6644</td>\n",
       "      <td>22.490</td>\n",
       "      <td>2.825</td>\n",
       "      <td>NaN</td>\n",
       "      <td>NaN</td>\n",
       "      <td>NaN</td>\n",
       "      <td>NaN</td>\n",
       "      <td>NaN</td>\n",
       "    </tr>\n",
       "    <tr>\n",
       "      <th>2</th>\n",
       "      <td>2.1806</td>\n",
       "      <td>3.166314</td>\n",
       "      <td>0.000100</td>\n",
       "      <td>3.891051</td>\n",
       "      <td>1000</td>\n",
       "      <td>NaN</td>\n",
       "      <td>NaN</td>\n",
       "      <td>NaN</td>\n",
       "      <td>NaN</td>\n",
       "      <td>NaN</td>\n",
       "      <td>NaN</td>\n",
       "      <td>NaN</td>\n",
       "      <td>NaN</td>\n",
       "      <td>NaN</td>\n",
       "      <td>NaN</td>\n",
       "    </tr>\n",
       "    <tr>\n",
       "      <th>3</th>\n",
       "      <td>NaN</td>\n",
       "      <td>NaN</td>\n",
       "      <td>NaN</td>\n",
       "      <td>3.891051</td>\n",
       "      <td>1000</td>\n",
       "      <td>0.937570</td>\n",
       "      <td>0.634318</td>\n",
       "      <td>45.0076</td>\n",
       "      <td>22.818</td>\n",
       "      <td>2.866</td>\n",
       "      <td>NaN</td>\n",
       "      <td>NaN</td>\n",
       "      <td>NaN</td>\n",
       "      <td>NaN</td>\n",
       "      <td>NaN</td>\n",
       "    </tr>\n",
       "    <tr>\n",
       "      <th>4</th>\n",
       "      <td>0.7743</td>\n",
       "      <td>1.794879</td>\n",
       "      <td>0.000097</td>\n",
       "      <td>5.836576</td>\n",
       "      <td>1500</td>\n",
       "      <td>NaN</td>\n",
       "      <td>NaN</td>\n",
       "      <td>NaN</td>\n",
       "      <td>NaN</td>\n",
       "      <td>NaN</td>\n",
       "      <td>NaN</td>\n",
       "      <td>NaN</td>\n",
       "      <td>NaN</td>\n",
       "      <td>NaN</td>\n",
       "      <td>NaN</td>\n",
       "    </tr>\n",
       "    <tr>\n",
       "      <th>...</th>\n",
       "      <td>...</td>\n",
       "      <td>...</td>\n",
       "      <td>...</td>\n",
       "      <td>...</td>\n",
       "      <td>...</td>\n",
       "      <td>...</td>\n",
       "      <td>...</td>\n",
       "      <td>...</td>\n",
       "      <td>...</td>\n",
       "      <td>...</td>\n",
       "      <td>...</td>\n",
       "      <td>...</td>\n",
       "      <td>...</td>\n",
       "      <td>...</td>\n",
       "      <td>...</td>\n",
       "    </tr>\n",
       "    <tr>\n",
       "      <th>56</th>\n",
       "      <td>0.0571</td>\n",
       "      <td>1.270281</td>\n",
       "      <td>0.000006</td>\n",
       "      <td>56.420233</td>\n",
       "      <td>14500</td>\n",
       "      <td>NaN</td>\n",
       "      <td>NaN</td>\n",
       "      <td>NaN</td>\n",
       "      <td>NaN</td>\n",
       "      <td>NaN</td>\n",
       "      <td>NaN</td>\n",
       "      <td>NaN</td>\n",
       "      <td>NaN</td>\n",
       "      <td>NaN</td>\n",
       "      <td>NaN</td>\n",
       "    </tr>\n",
       "    <tr>\n",
       "      <th>57</th>\n",
       "      <td>NaN</td>\n",
       "      <td>NaN</td>\n",
       "      <td>NaN</td>\n",
       "      <td>56.420233</td>\n",
       "      <td>14500</td>\n",
       "      <td>0.482328</td>\n",
       "      <td>0.184771</td>\n",
       "      <td>61.9935</td>\n",
       "      <td>16.566</td>\n",
       "      <td>2.081</td>\n",
       "      <td>NaN</td>\n",
       "      <td>NaN</td>\n",
       "      <td>NaN</td>\n",
       "      <td>NaN</td>\n",
       "      <td>NaN</td>\n",
       "    </tr>\n",
       "    <tr>\n",
       "      <th>58</th>\n",
       "      <td>0.0573</td>\n",
       "      <td>1.830534</td>\n",
       "      <td>0.000003</td>\n",
       "      <td>58.365759</td>\n",
       "      <td>15000</td>\n",
       "      <td>NaN</td>\n",
       "      <td>NaN</td>\n",
       "      <td>NaN</td>\n",
       "      <td>NaN</td>\n",
       "      <td>NaN</td>\n",
       "      <td>NaN</td>\n",
       "      <td>NaN</td>\n",
       "      <td>NaN</td>\n",
       "      <td>NaN</td>\n",
       "      <td>NaN</td>\n",
       "    </tr>\n",
       "    <tr>\n",
       "      <th>59</th>\n",
       "      <td>NaN</td>\n",
       "      <td>NaN</td>\n",
       "      <td>NaN</td>\n",
       "      <td>58.365759</td>\n",
       "      <td>15000</td>\n",
       "      <td>0.467350</td>\n",
       "      <td>0.183440</td>\n",
       "      <td>277.4892</td>\n",
       "      <td>3.701</td>\n",
       "      <td>0.465</td>\n",
       "      <td>NaN</td>\n",
       "      <td>NaN</td>\n",
       "      <td>NaN</td>\n",
       "      <td>NaN</td>\n",
       "      <td>NaN</td>\n",
       "    </tr>\n",
       "    <tr>\n",
       "      <th>60</th>\n",
       "      <td>NaN</td>\n",
       "      <td>NaN</td>\n",
       "      <td>NaN</td>\n",
       "      <td>60.000000</td>\n",
       "      <td>15420</td>\n",
       "      <td>NaN</td>\n",
       "      <td>NaN</td>\n",
       "      <td>NaN</td>\n",
       "      <td>NaN</td>\n",
       "      <td>NaN</td>\n",
       "      <td>20432.0223</td>\n",
       "      <td>12.063</td>\n",
       "      <td>0.755</td>\n",
       "      <td>9.603127e+18</td>\n",
       "      <td>0.48445</td>\n",
       "    </tr>\n",
       "  </tbody>\n",
       "</table>\n",
       "<p>61 rows × 15 columns</p>\n",
       "</div>"
      ],
      "text/plain": [
       "      loss  grad_norm  learning_rate      epoch   step  eval_loss  eval_wer  \\\n",
       "0   7.9265   1.937705       0.000050   1.945525    500        NaN       NaN   \n",
       "1      NaN        NaN            NaN   1.945525    500   3.547183  1.000000   \n",
       "2   2.1806   3.166314       0.000100   3.891051   1000        NaN       NaN   \n",
       "3      NaN        NaN            NaN   3.891051   1000   0.937570  0.634318   \n",
       "4   0.7743   1.794879       0.000097   5.836576   1500        NaN       NaN   \n",
       "..     ...        ...            ...        ...    ...        ...       ...   \n",
       "56  0.0571   1.270281       0.000006  56.420233  14500        NaN       NaN   \n",
       "57     NaN        NaN            NaN  56.420233  14500   0.482328  0.184771   \n",
       "58  0.0573   1.830534       0.000003  58.365759  15000        NaN       NaN   \n",
       "59     NaN        NaN            NaN  58.365759  15000   0.467350  0.183440   \n",
       "60     NaN        NaN            NaN  60.000000  15420        NaN       NaN   \n",
       "\n",
       "    eval_runtime  eval_samples_per_second  eval_steps_per_second  \\\n",
       "0            NaN                      NaN                    NaN   \n",
       "1        45.6644                   22.490                  2.825   \n",
       "2            NaN                      NaN                    NaN   \n",
       "3        45.0076                   22.818                  2.866   \n",
       "4            NaN                      NaN                    NaN   \n",
       "..           ...                      ...                    ...   \n",
       "56           NaN                      NaN                    NaN   \n",
       "57       61.9935                   16.566                  2.081   \n",
       "58           NaN                      NaN                    NaN   \n",
       "59      277.4892                    3.701                  0.465   \n",
       "60           NaN                      NaN                    NaN   \n",
       "\n",
       "    train_runtime  train_samples_per_second  train_steps_per_second  \\\n",
       "0             NaN                       NaN                     NaN   \n",
       "1             NaN                       NaN                     NaN   \n",
       "2             NaN                       NaN                     NaN   \n",
       "3             NaN                       NaN                     NaN   \n",
       "4             NaN                       NaN                     NaN   \n",
       "..            ...                       ...                     ...   \n",
       "56            NaN                       NaN                     NaN   \n",
       "57            NaN                       NaN                     NaN   \n",
       "58            NaN                       NaN                     NaN   \n",
       "59            NaN                       NaN                     NaN   \n",
       "60     20432.0223                    12.063                   0.755   \n",
       "\n",
       "      total_flos  train_loss  \n",
       "0            NaN         NaN  \n",
       "1            NaN         NaN  \n",
       "2            NaN         NaN  \n",
       "3            NaN         NaN  \n",
       "4            NaN         NaN  \n",
       "..           ...         ...  \n",
       "56           NaN         NaN  \n",
       "57           NaN         NaN  \n",
       "58           NaN         NaN  \n",
       "59           NaN         NaN  \n",
       "60  9.603127e+18     0.48445  \n",
       "\n",
       "[61 rows x 15 columns]"
      ]
     },
     "execution_count": 25,
     "metadata": {},
     "output_type": "execute_result"
    }
   ],
   "source": [
    "pd.DataFrame(trainer.state.log_history)"
   ]
  },
  {
   "cell_type": "markdown",
   "metadata": {},
   "source": [
    "#### Save model"
   ]
  },
  {
   "cell_type": "code",
   "execution_count": 26,
   "metadata": {},
   "outputs": [
    {
     "data": {
      "text/plain": [
       "[]"
      ]
     },
     "execution_count": 26,
     "metadata": {},
     "output_type": "execute_result"
    }
   ],
   "source": [
    "model_dir_path = \"../models/wav2vec_cvcorpus_vn\"\n",
    "if not os.path.isdir(model_dir_path):\n",
    "    os.mkdir(model_dir_path)\n",
    "trainer.save_model(model_dir_path)\n",
    "processor.save_pretrained(model_dir_path)"
   ]
  },
  {
   "cell_type": "markdown",
   "metadata": {},
   "source": [
    "### Load trained model"
   ]
  },
  {
   "cell_type": "code",
   "execution_count": 27,
   "metadata": {},
   "outputs": [
    {
     "name": "stderr",
     "output_type": "stream",
     "text": [
      "Special tokens have been added in the vocabulary, make sure the associated word embeddings are fine-tuned or trained.\n"
     ]
    }
   ],
   "source": [
    "from transformers import AutoModelForCTC, Wav2Vec2Processor\n",
    "\n",
    "model = AutoModelForCTC.from_pretrained(\"../models/wav2vec_cvcorpus_vn\").to(device)\n",
    "processor = Wav2Vec2Processor.from_pretrained(\"../models/wav2vec_cvcorpus_vn\")"
   ]
  },
  {
   "cell_type": "code",
   "execution_count": 28,
   "metadata": {},
   "outputs": [
    {
     "name": "stderr",
     "output_type": "stream",
     "text": [
      "Parameter 'function'=<function map_to_result at 0x7f0cbdd9dbc0> of the transform datasets.arrow_dataset.Dataset._map_single couldn't be hashed properly, a random hash was used instead. Make sure your transforms and parameters are serializable with pickle or dill for the dataset fingerprinting and caching to work. If you reuse this transform, the caching mechanism will consider it to be different from the previous calls and recompute everything. This warning is only showed once. Subsequent hashing failures won't be showed.\n"
     ]
    },
    {
     "data": {
      "application/vnd.jupyter.widget-view+json": {
       "model_id": "033165550b1743928369faaf6f5c0cd4",
       "version_major": 2,
       "version_minor": 0
      },
      "text/plain": [
       "Map:   0%|          | 0/1027 [00:00<?, ? examples/s]"
      ]
     },
     "metadata": {},
     "output_type": "display_data"
    }
   ],
   "source": [
    "def map_to_result(batch):\n",
    "    with torch.no_grad():\n",
    "        input_values = torch.tensor(batch[\"input_values\"], device=\"cuda\").unsqueeze(0)\n",
    "        logits = model(input_values).logits\n",
    "        pred_ids = torch.argmax(logits, dim=-1)\n",
    "        batch[\"pred_str\"] = processor.batch_decode(pred_ids)[0]\n",
    "        batch[\"text\"] = processor.decode(batch[\"labels\"], group_tokens=False)\n",
    "    \n",
    "    return batch\n",
    "\n",
    "results = ds_train_test[\"test\"].map(map_to_result, remove_columns=ds_train_test[\"test\"].column_names)"
   ]
  },
  {
   "cell_type": "code",
   "execution_count": 29,
   "metadata": {},
   "outputs": [
    {
     "name": "stdout",
     "output_type": "stream",
     "text": [
      "Test WER: 0.175\n"
     ]
    }
   ],
   "source": [
    "print(f\"Test WER: {wer_metric.compute(predictions=results[\"pred_str\"], references=results[\"text\"]):.3f}\")"
   ]
  },
  {
   "cell_type": "code",
   "execution_count": 30,
   "metadata": {},
   "outputs": [
    {
     "data": {
      "text/html": [
       "<table border=\"1\" class=\"dataframe\">\n",
       "  <thead>\n",
       "    <tr style=\"text-align: right;\">\n",
       "      <th></th>\n",
       "      <th>pred_str</th>\n",
       "      <th>text</th>\n",
       "    </tr>\n",
       "  </thead>\n",
       "  <tbody>\n",
       "    <tr>\n",
       "      <th>0</th>\n",
       "      <td>thì hại chấc nhận anh ta và chăm sóc quận thận</td>\n",
       "      <td>thì hãy chấp nhận anh ta và chăm sóc cẩn thận</td>\n",
       "    </tr>\n",
       "    <tr>\n",
       "      <th>1</th>\n",
       "      <td>về nhà tời đó mẹ có kể lại công chuyện cho bố nghe</td>\n",
       "      <td>về nhà tối đó mẹ có kể lại câu chuyện cho bố nghe</td>\n",
       "    </tr>\n",
       "    <tr>\n",
       "      <th>2</th>\n",
       "      <td>đã ên ngày thác lú</td>\n",
       "      <td>đã yên ngày thác lũ</td>\n",
       "    </tr>\n",
       "    <tr>\n",
       "      <th>3</th>\n",
       "      <td>và tình ái là sợi dây vấn viết</td>\n",
       "      <td>và tình ái là sợi dây vấn vít</td>\n",
       "    </tr>\n",
       "    <tr>\n",
       "      <th>4</th>\n",
       "      <td>bà dã quỳ ngẩn ngơ một lúc</td>\n",
       "      <td>bà dã quỳ ngẩn ngơ một lúc</td>\n",
       "    </tr>\n",
       "    <tr>\n",
       "      <th>5</th>\n",
       "      <td>mày đừng về tìm tao nữa có được</td>\n",
       "      <td>mày đừng về tìm tao nữa có được</td>\n",
       "    </tr>\n",
       "    <tr>\n",
       "      <th>6</th>\n",
       "      <td>mồa hôi của a hội nhễ nhại ước đẫm cả áo</td>\n",
       "      <td>mồ hôi của a hội nhễ nhại ướt đẫm cả áo</td>\n",
       "    </tr>\n",
       "    <tr>\n",
       "      <th>7</th>\n",
       "      <td>hai thuốc rồi nhặt bong giúp gười ta</td>\n",
       "      <td>hái thuốc rồi nhặt bông giúp người ta</td>\n",
       "    </tr>\n",
       "    <tr>\n",
       "      <th>8</th>\n",
       "      <td>có hai chăng là con bẻ đó gây ra không</td>\n",
       "      <td>có hay chăng là con bé đó gây ra không</td>\n",
       "    </tr>\n",
       "    <tr>\n",
       "      <th>9</th>\n",
       "      <td>thì là cô ấy</td>\n",
       "      <td>thì là cô ấy</td>\n",
       "    </tr>\n",
       "  </tbody>\n",
       "</table>"
      ],
      "text/plain": [
       "<IPython.core.display.HTML object>"
      ]
     },
     "metadata": {},
     "output_type": "display_data"
    }
   ],
   "source": [
    "show_random_elements(results)"
   ]
  }
 ],
 "metadata": {
  "kernelspec": {
   "display_name": "vocalopy",
   "language": "python",
   "name": "python3"
  },
  "language_info": {
   "codemirror_mode": {
    "name": "ipython",
    "version": 3
   },
   "file_extension": ".py",
   "mimetype": "text/x-python",
   "name": "python",
   "nbconvert_exporter": "python",
   "pygments_lexer": "ipython3",
   "version": "3.12.2"
  }
 },
 "nbformat": 4,
 "nbformat_minor": 2
}
